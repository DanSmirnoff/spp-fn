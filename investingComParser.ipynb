{
 "cells": [
  {
   "cell_type": "code",
   "execution_count": 37,
   "id": "initial_id",
   "metadata": {
    "collapsed": true,
    "ExecuteTime": {
     "end_time": "2024-04-08T12:33:18.757752Z",
     "start_time": "2024-04-08T12:33:18.750914Z"
    }
   },
   "outputs": [],
   "source": [
    "import re\n",
    "import requests\n",
    "from bs4 import BeautifulSoup\n",
    "from fake_useragent import UserAgent\n",
    "\n",
    "\n",
    "class InvestingComParser:\n",
    "    def __init__(self):\n",
    "        self.link_types = {\n",
    "            'stock': 'equities',\n",
    "            'index': 'indices'\n",
    "        }\n",
    "        self.brackets_pattern = re.compile(r'\\((.*?)\\)')\n",
    "    \n",
    "    def _get_url(self, ticker_type: str, ticker: str) -> str:\n",
    "        return f'https://ru.investing.com/{self.link_types[ticker_type]}/{ticker}'\n",
    "    \n",
    "    def _get_ticker(self, soup) -> str:\n",
    "        ticker = soup.find('h1', {\n",
    "            'class': 'mb-2.5 text-left text-xl font-bold leading-7 text-[#232526] md:mb-2 md:text-3xl md:leading-8 rtl:soft-ltr'\n",
    "        }).text\n",
    "        ticker = re.findall(self.brackets_pattern, ticker)[0]\n",
    "        return ticker\n",
    "    \n",
    "    def _get_time(self, soup) -> str:\n",
    "        time = soup.find('time').text\n",
    "        return time\n",
    "    \n",
    "    def _get_soup(self, ticker_type: str, ticker: str):\n",
    "        url = self._get_url(ticker_type, ticker)\n",
    "        \n",
    "        response = requests.get(url, headers={'User-Agent': UserAgent().random})\n",
    "        if response.status_code != 200:\n",
    "            print(\"Status code:\", response.status_code)\n",
    "            return None     \n",
    "        \n",
    "        return BeautifulSoup(response.text, 'html.parser')\n",
    "    \n",
    "    def get_info(self, ticker_type: str, ticker: str) -> tuple | None:\n",
    "        soup = self._get_soup(ticker_type, ticker)\n",
    "        \n",
    "        try:\n",
    "            price = soup.find('div', {\n",
    "                'class': 'text-5xl/9 font-bold text-[#232526] md:text-[42px] md:leading-[60px]'}).text\n",
    "        except AttributeError:\n",
    "            try:\n",
    "                price = soup.find('div', {\n",
    "                    'class': 'text-5xl/9 font-bold text-[#232526] md:text-[42px] md:leading-[60px] bg-negative-light'}).text\n",
    "            except AttributeError:\n",
    "                try:\n",
    "                    price = soup.find('div', {\n",
    "                        'class': 'text-5xl/9 font-bold text-[#232526] md:text-[42px] md:leading-[60px] bg-negative-light'}).text\n",
    "                except AttributeError:\n",
    "                    print(\"\")\n",
    "                    return None\n",
    "        \n",
    "        ticker = self._get_ticker(soup)\n",
    "        time = self._get_time(soup)\n",
    "\n",
    "        return ticker, price, time"
   ]
  },
  {
   "cell_type": "code",
   "outputs": [],
   "source": [
    "parser = InvestingComParser()"
   ],
   "metadata": {
    "collapsed": false,
    "ExecuteTime": {
     "end_time": "2024-04-08T12:33:19.205882Z",
     "start_time": "2024-04-08T12:33:19.197970Z"
    }
   },
   "id": "b2e65a73ddf1438c",
   "execution_count": 38
  },
  {
   "cell_type": "code",
   "outputs": [],
   "source": [
    "securities = [\n",
    "    ('index', 'mcx'),\n",
    "    ('stock', 'afk-sistema_rts')\n",
    "]"
   ],
   "metadata": {
    "collapsed": false,
    "ExecuteTime": {
     "end_time": "2024-04-08T12:33:19.615196Z",
     "start_time": "2024-04-08T12:33:19.611773Z"
    }
   },
   "id": "37cea72ccf8c1192",
   "execution_count": 39
  },
  {
   "cell_type": "code",
   "outputs": [
    {
     "name": "stdout",
     "output_type": "stream",
     "text": [
      "('IMOEX', '3.418,34', '15:31:02')\n",
      "('AFKS', '24,98', '15:29:22')\n"
     ]
    }
   ],
   "source": [
    "for stock_type, name in securities:\n",
    "    print(parser.get_info(stock_type, name))"
   ],
   "metadata": {
    "collapsed": false,
    "ExecuteTime": {
     "end_time": "2024-04-08T12:33:23.084672Z",
     "start_time": "2024-04-08T12:33:20.045672Z"
    }
   },
   "id": "582a1540f3e47ae5",
   "execution_count": 40
  },
  {
   "cell_type": "code",
   "outputs": [],
   "source": [],
   "metadata": {
    "collapsed": false
   },
   "id": "e6e07dc732f5d122"
  }
 ],
 "metadata": {
  "kernelspec": {
   "display_name": "Python 3",
   "language": "python",
   "name": "python3"
  },
  "language_info": {
   "codemirror_mode": {
    "name": "ipython",
    "version": 2
   },
   "file_extension": ".py",
   "mimetype": "text/x-python",
   "name": "python",
   "nbconvert_exporter": "python",
   "pygments_lexer": "ipython2",
   "version": "2.7.6"
  }
 },
 "nbformat": 4,
 "nbformat_minor": 5
}
