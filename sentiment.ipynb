{
 "cells": [
  {
   "cell_type": "markdown",
   "metadata": {},
   "source": [
    "# Предобработка"
   ]
  },
  {
   "cell_type": "code",
   "execution_count": 1,
   "metadata": {},
   "outputs": [],
   "source": [
    "import pandas as pd\n",
    "from tqdm import tqdm"
   ]
  },
  {
   "cell_type": "code",
   "execution_count": 2,
   "metadata": {},
   "outputs": [],
   "source": [
    "with open('keywords.txt', 'r', encoding='utf-8') as f:\n",
    "    companies = f.readlines()[1].split(', ')"
   ]
  },
  {
   "cell_type": "code",
   "execution_count": 3,
   "metadata": {},
   "outputs": [
    {
     "data": {
      "text/html": [
       "<div>\n",
       "<style scoped>\n",
       "    .dataframe tbody tr th:only-of-type {\n",
       "        vertical-align: middle;\n",
       "    }\n",
       "\n",
       "    .dataframe tbody tr th {\n",
       "        vertical-align: top;\n",
       "    }\n",
       "\n",
       "    .dataframe thead th {\n",
       "        text-align: right;\n",
       "    }\n",
       "</style>\n",
       "<table border=\"1\" class=\"dataframe\">\n",
       "  <thead>\n",
       "    <tr style=\"text-align: right;\">\n",
       "      <th></th>\n",
       "      <th>Unnamed: 0.1</th>\n",
       "      <th>Unnamed: 0</th>\n",
       "      <th>docid</th>\n",
       "      <th>url</th>\n",
       "      <th>title</th>\n",
       "      <th>modified</th>\n",
       "      <th>lastmodtime</th>\n",
       "      <th>type</th>\n",
       "      <th>domain</th>\n",
       "      <th>status</th>\n",
       "      <th>part</th>\n",
       "      <th>bloc</th>\n",
       "      <th>tags</th>\n",
       "      <th>image_url</th>\n",
       "      <th>pubdate</th>\n",
       "      <th>text</th>\n",
       "      <th>rightcol</th>\n",
       "      <th>snippet</th>\n",
       "    </tr>\n",
       "  </thead>\n",
       "  <tbody>\n",
       "    <tr>\n",
       "      <th>0</th>\n",
       "      <td>0</td>\n",
       "      <td>0</td>\n",
       "      <td>1067960</td>\n",
       "      <td>https://lenta.ru/news/2021/04/01/sahar/</td>\n",
       "      <td>В российские магазины перестали поставлять сахар</td>\n",
       "      <td>1617236100</td>\n",
       "      <td>1617279786</td>\n",
       "      <td>1</td>\n",
       "      <td>1</td>\n",
       "      <td>0</td>\n",
       "      <td>0</td>\n",
       "      <td>4</td>\n",
       "      <td>[198]</td>\n",
       "      <td>https://icdn.lenta.ru/images/2021/04/01/03/202...</td>\n",
       "      <td>1617236100</td>\n",
       "      <td>Фото: Виталий Аньков / РИА Новости Илья Соболе...</td>\n",
       "      <td>Заводы приостановили продажи продукта торговым...</td>\n",
       "      <td>Фото: Виталий Аньков / РИА Новости Илья ... им...</td>\n",
       "    </tr>\n",
       "    <tr>\n",
       "      <th>1</th>\n",
       "      <td>1</td>\n",
       "      <td>1</td>\n",
       "      <td>1067977</td>\n",
       "      <td>https://lenta.ru/news/2021/04/01/trillion/</td>\n",
       "      <td>Байден представил план по спасению экономики н...</td>\n",
       "      <td>1617246403</td>\n",
       "      <td>1617246403</td>\n",
       "      <td>1</td>\n",
       "      <td>1</td>\n",
       "      <td>0</td>\n",
       "      <td>0</td>\n",
       "      <td>4</td>\n",
       "      <td>[7]</td>\n",
       "      <td>https://icdn.lenta.ru/images/2021/04/01/06/202...</td>\n",
       "      <td>1617246403</td>\n",
       "      <td>Фото: Reuters Милана Микаилова Президент США Д...</td>\n",
       "      <td>Президент США отметил, что это крупнейшее влож...</td>\n",
       "      <td>Фото: Reuters Милана Микаилова Президент ... э...</td>\n",
       "    </tr>\n",
       "    <tr>\n",
       "      <th>2</th>\n",
       "      <td>2</td>\n",
       "      <td>2</td>\n",
       "      <td>1067979</td>\n",
       "      <td>https://lenta.ru/news/2021/04/01/business/</td>\n",
       "      <td>Бизнес в России увеличил прибыль</td>\n",
       "      <td>1617248460</td>\n",
       "      <td>1617252223</td>\n",
       "      <td>1</td>\n",
       "      <td>1</td>\n",
       "      <td>0</td>\n",
       "      <td>0</td>\n",
       "      <td>4</td>\n",
       "      <td>[9]</td>\n",
       "      <td>https://icdn.lenta.ru/images/2021/04/01/06/202...</td>\n",
       "      <td>1617248460</td>\n",
       "      <td>Фото: Евгений Биятов / РИА Новости Милана Мика...</td>\n",
       "      <td>В январе 2021 года обороты российских предприя...</td>\n",
       "      <td>Фото: Евгений Биятов / РИА Новости ... больше,...</td>\n",
       "    </tr>\n",
       "    <tr>\n",
       "      <th>3</th>\n",
       "      <td>3</td>\n",
       "      <td>3</td>\n",
       "      <td>1067984</td>\n",
       "      <td>https://lenta.ru/news/2021/04/01/kredit/</td>\n",
       "      <td>Россиянам назвали способ исправить плохую кред...</td>\n",
       "      <td>1617253029</td>\n",
       "      <td>1617253029</td>\n",
       "      <td>1</td>\n",
       "      <td>1</td>\n",
       "      <td>0</td>\n",
       "      <td>0</td>\n",
       "      <td>4</td>\n",
       "      <td>[10, 11]</td>\n",
       "      <td>https://icdn.lenta.ru/images/2021/04/01/07/202...</td>\n",
       "      <td>1617253029</td>\n",
       "      <td>Фото: Владимир Трефилов / РИА Новости Илья Соб...</td>\n",
       "      <td>Для этого следует завести новую кредитную карту</td>\n",
       "      <td>Фото: Владимир Трефилов / РИА Новости ... испр...</td>\n",
       "    </tr>\n",
       "    <tr>\n",
       "      <th>4</th>\n",
       "      <td>4</td>\n",
       "      <td>4</td>\n",
       "      <td>1067989</td>\n",
       "      <td>https://lenta.ru/news/2021/04/01/finansist/</td>\n",
       "      <td>Финансист предостерег россиян от покупки подде...</td>\n",
       "      <td>1617255774</td>\n",
       "      <td>1617255775</td>\n",
       "      <td>1</td>\n",
       "      <td>1</td>\n",
       "      <td>0</td>\n",
       "      <td>0</td>\n",
       "      <td>4</td>\n",
       "      <td>[]</td>\n",
       "      <td>https://icdn.lenta.ru/images/2021/04/01/08/202...</td>\n",
       "      <td>1617255774</td>\n",
       "      <td>Фото: Globallookpress.com Лика Миргородская Фи...</td>\n",
       "      <td>Он призвал конвертировать валюту безналичным с...</td>\n",
       "      <td>Фото: Globallookpress.com Лика ... россиян от ...</td>\n",
       "    </tr>\n",
       "  </tbody>\n",
       "</table>\n",
       "</div>"
      ],
      "text/plain": [
       "   Unnamed: 0.1  Unnamed: 0    docid  \\\n",
       "0             0           0  1067960   \n",
       "1             1           1  1067977   \n",
       "2             2           2  1067979   \n",
       "3             3           3  1067984   \n",
       "4             4           4  1067989   \n",
       "\n",
       "                                           url  \\\n",
       "0      https://lenta.ru/news/2021/04/01/sahar/   \n",
       "1   https://lenta.ru/news/2021/04/01/trillion/   \n",
       "2   https://lenta.ru/news/2021/04/01/business/   \n",
       "3     https://lenta.ru/news/2021/04/01/kredit/   \n",
       "4  https://lenta.ru/news/2021/04/01/finansist/   \n",
       "\n",
       "                                               title    modified  lastmodtime  \\\n",
       "0   В российские магазины перестали поставлять сахар  1617236100   1617279786   \n",
       "1  Байден представил план по спасению экономики н...  1617246403   1617246403   \n",
       "2                   Бизнес в России увеличил прибыль  1617248460   1617252223   \n",
       "3  Россиянам назвали способ исправить плохую кред...  1617253029   1617253029   \n",
       "4  Финансист предостерег россиян от покупки подде...  1617255774   1617255775   \n",
       "\n",
       "   type  domain  status  part  bloc      tags  \\\n",
       "0     1       1       0     0     4     [198]   \n",
       "1     1       1       0     0     4       [7]   \n",
       "2     1       1       0     0     4       [9]   \n",
       "3     1       1       0     0     4  [10, 11]   \n",
       "4     1       1       0     0     4        []   \n",
       "\n",
       "                                           image_url     pubdate  \\\n",
       "0  https://icdn.lenta.ru/images/2021/04/01/03/202...  1617236100   \n",
       "1  https://icdn.lenta.ru/images/2021/04/01/06/202...  1617246403   \n",
       "2  https://icdn.lenta.ru/images/2021/04/01/06/202...  1617248460   \n",
       "3  https://icdn.lenta.ru/images/2021/04/01/07/202...  1617253029   \n",
       "4  https://icdn.lenta.ru/images/2021/04/01/08/202...  1617255774   \n",
       "\n",
       "                                                text  \\\n",
       "0  Фото: Виталий Аньков / РИА Новости Илья Соболе...   \n",
       "1  Фото: Reuters Милана Микаилова Президент США Д...   \n",
       "2  Фото: Евгений Биятов / РИА Новости Милана Мика...   \n",
       "3  Фото: Владимир Трефилов / РИА Новости Илья Соб...   \n",
       "4  Фото: Globallookpress.com Лика Миргородская Фи...   \n",
       "\n",
       "                                            rightcol  \\\n",
       "0  Заводы приостановили продажи продукта торговым...   \n",
       "1  Президент США отметил, что это крупнейшее влож...   \n",
       "2  В январе 2021 года обороты российских предприя...   \n",
       "3    Для этого следует завести новую кредитную карту   \n",
       "4  Он призвал конвертировать валюту безналичным с...   \n",
       "\n",
       "                                             snippet  \n",
       "0  Фото: Виталий Аньков / РИА Новости Илья ... им...  \n",
       "1  Фото: Reuters Милана Микаилова Президент ... э...  \n",
       "2  Фото: Евгений Биятов / РИА Новости ... больше,...  \n",
       "3  Фото: Владимир Трефилов / РИА Новости ... испр...  \n",
       "4  Фото: Globallookpress.com Лика ... россиян от ...  "
      ]
     },
     "execution_count": 3,
     "metadata": {},
     "output_type": "execute_result"
    }
   ],
   "source": [
    "df = pd.read_csv('lenta_2021_2024.csv')\n",
    "df.head()"
   ]
  },
  {
   "cell_type": "code",
   "execution_count": 4,
   "metadata": {},
   "outputs": [],
   "source": [
    "df_cleared = pd.DataFrame({'pubdate': [], 'label': [], 'score': [], 'text': []})"
   ]
  },
  {
   "cell_type": "code",
   "execution_count": 5,
   "metadata": {},
   "outputs": [
    {
     "name": "stderr",
     "output_type": "stream",
     "text": [
      "0it [00:00, ?it/s]"
     ]
    },
    {
     "name": "stderr",
     "output_type": "stream",
     "text": [
      "39948it [00:56, 713.24it/s] \n"
     ]
    }
   ],
   "source": [
    "for index, row in tqdm(df.iterrows()):\n",
    "    for company_name in companies:\n",
    "        try:\n",
    "            if company_name in row['text']:\n",
    "                row = [row['pubdate'], None, None, row['text']]\n",
    "                df_cleared.loc[len(df_cleared)] = row\n",
    "                continue\n",
    "        except Exception:\n",
    "            ..."
   ]
  },
  {
   "cell_type": "markdown",
   "metadata": {},
   "source": [
    "# Берт"
   ]
  },
  {
   "cell_type": "code",
   "execution_count": 6,
   "metadata": {},
   "outputs": [],
   "source": [
    "import os\n",
    "import torch\n",
    "import transformers\n",
    "from transformers import pipeline, AutoTokenizer, AutoModelForSequenceClassification"
   ]
  },
  {
   "cell_type": "code",
   "execution_count": 7,
   "metadata": {},
   "outputs": [],
   "source": [
    "pipe = pipeline(\"text-classification\", model=\"MonoHime/rubert-base-cased-sentiment-new\")\n",
    "tokenizer = AutoTokenizer.from_pretrained(\"MonoHime/rubert-base-cased-sentiment-new\")\n",
    "model = AutoModelForSequenceClassification.from_pretrained(\"MonoHime/rubert-base-cased-sentiment-new\")"
   ]
  },
  {
   "cell_type": "code",
   "execution_count": 8,
   "metadata": {},
   "outputs": [
    {
     "name": "stderr",
     "output_type": "stream",
     "text": [
      "7607it [15:07,  8.38it/s]\n"
     ]
    }
   ],
   "source": [
    "for index, row in tqdm(df_cleared.iterrows()):\n",
    "    text = row['text'][:512]\n",
    "    output = pipe(text)\n",
    "    df_cleared.at[index, 'label'] = output[0]['label']\n",
    "    df_cleared.at[index, 'score'] = output[0]['score']"
   ]
  },
  {
   "cell_type": "code",
   "execution_count": 9,
   "metadata": {},
   "outputs": [],
   "source": [
    "df_cleared.to_csv('cleared_lenta.csv')"
   ]
  },
  {
   "cell_type": "code",
   "execution_count": 12,
   "metadata": {},
   "outputs": [],
   "source": [
    "import matplotlib.pyplot as plt"
   ]
  },
  {
   "cell_type": "code",
   "execution_count": 13,
   "metadata": {},
   "outputs": [
    {
     "data": {
      "text/plain": [
       "(array([5467.,    0.,    0.,    0.,    0., 2028.,    0.,    0.,    0.,\n",
       "         112.]),\n",
       " array([0. , 0.2, 0.4, 0.6, 0.8, 1. , 1.2, 1.4, 1.6, 1.8, 2. ]),\n",
       " <BarContainer object of 10 artists>)"
      ]
     },
     "execution_count": 13,
     "metadata": {},
     "output_type": "execute_result"
    },
    {
     "data": {
      "image/png": "[encoded data removed]",
      "text/plain": [
       "<Figure size 640x480 with 1 Axes>"
      ]
     },
     "metadata": {},
     "output_type": "display_data"
    }
   ],
   "source": [
    "plt.hist(df_cleared['label'])"
   ]
  }
 ],
 "metadata": {
  "kernelspec": {
   "display_name": "Python 3",
   "language": "python",
   "name": "python3"
  },
  "language_info": {
   "codemirror_mode": {
    "name": "ipython",
    "version": 3
   },
   "file_extension": ".py",
   "mimetype": "text/x-python",
   "name": "python",
   "nbconvert_exporter": "python",
   "pygments_lexer": "ipython3",
   "version": "3.10.7"
  }
 },
 "nbformat": 4,
 "nbformat_minor": 2
}
