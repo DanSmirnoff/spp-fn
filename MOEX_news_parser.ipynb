{
 "cells": [
  {
   "cell_type": "code",
   "execution_count": 1,
   "id": "781ba21b-2e68-41c2-84ae-9f408d331ab9",
   "metadata": {
    "execution": {
     "iopub.execute_input": "2024-04-06T06:31:24.938019Z",
     "iopub.status.busy": "2024-04-06T06:31:24.937030Z",
     "iopub.status.idle": "2024-04-06T06:31:30.853134Z",
     "shell.execute_reply": "2024-04-06T06:31:30.852232Z",
     "shell.execute_reply.started": "2024-04-06T06:31:24.937974Z"
    },
    "tags": []
   },
   "outputs": [
    {
     "name": "stdout",
     "output_type": "stream",
     "text": [
      "Defaulting to user installation because normal site-packages is not writeable\n",
      "Requirement already satisfied: fake_useragent in /home/jupyter/.local/lib/python3.10/site-packages (1.5.1)\n",
      "\n",
      "\u001b[1m[\u001b[0m\u001b[34;49mnotice\u001b[0m\u001b[1;39;49m]\u001b[0m\u001b[39;49m A new release of pip is available: \u001b[0m\u001b[31;49m23.0.1\u001b[0m\u001b[39;49m -> \u001b[0m\u001b[32;49m24.0\u001b[0m\n",
      "\u001b[1m[\u001b[0m\u001b[34;49mnotice\u001b[0m\u001b[1;39;49m]\u001b[0m\u001b[39;49m To update, run: \u001b[0m\u001b[32;49mpython3 -m pip install --upgrade pip\u001b[0m\n"
     ]
    }
   ],
   "source": [
    "%pip install fake_useragent"
   ]
  },
  {
   "cell_type": "code",
   "execution_count": 2,
   "id": "initial_id",
   "metadata": {
    "ExecuteTime": {
     "end_time": "2024-04-05T19:29:17.116384Z",
     "start_time": "2024-04-05T19:29:17.110173Z"
    },
    "execution": {
     "iopub.execute_input": "2024-04-06T06:31:30.855639Z",
     "iopub.status.busy": "2024-04-06T06:31:30.854689Z",
     "iopub.status.idle": "2024-04-06T06:31:31.274404Z",
     "shell.execute_reply": "2024-04-06T06:31:31.273497Z",
     "shell.execute_reply.started": "2024-04-06T06:31:30.855598Z"
    },
    "tags": []
   },
   "outputs": [],
   "source": [
    "import requests\n",
    "import random\n",
    "import time\n",
    "import pandas as pd\n",
    "from bs4 import BeautifulSoup\n",
    "from fake_useragent import UserAgent\n",
    "from tqdm import tqdm"
   ]
  },
  {
   "cell_type": "code",
   "execution_count": 3,
   "id": "86347dd00eebd993",
   "metadata": {
    "ExecuteTime": {
     "end_time": "2024-04-05T19:28:50.363190Z",
     "start_time": "2024-04-05T19:28:50.355239Z"
    },
    "collapsed": false,
    "execution": {
     "iopub.execute_input": "2024-04-05T19:56:47.458626Z",
     "iopub.status.busy": "2024-04-05T19:56:47.457634Z",
     "iopub.status.idle": "2024-04-05T19:56:47.475996Z",
     "shell.execute_reply": "2024-04-05T19:56:47.474923Z",
     "shell.execute_reply.started": "2024-04-05T19:56:47.458579Z"
    },
    "jupyter": {
     "outputs_hidden": false
    },
    "tags": []
   },
   "outputs": [],
   "source": [
    "ua = UserAgent()"
   ]
  },
  {
   "cell_type": "code",
   "execution_count": 4,
   "id": "54100511396a7bc0",
   "metadata": {
    "ExecuteTime": {
     "end_time": "2024-04-05T19:28:51.025551Z",
     "start_time": "2024-04-05T19:28:51.022081Z"
    },
    "collapsed": false,
    "execution": {
     "iopub.execute_input": "2024-04-05T19:56:56.412679Z",
     "iopub.status.busy": "2024-04-05T19:56:56.411856Z",
     "iopub.status.idle": "2024-04-05T19:56:56.425066Z",
     "shell.execute_reply": "2024-04-05T19:56:56.424428Z",
     "shell.execute_reply.started": "2024-04-05T19:56:56.412637Z"
    },
    "jupyter": {
     "outputs_hidden": false
    },
    "tags": []
   },
   "outputs": [],
   "source": [
    "def get_news(num: int) -> dict | None:\n",
    "    url = f'https://www.moex.com/n{num}?nt=0?print=1'\n",
    "    response = requests.get(url, headers={'User-Agent': ua.random})\n",
    "    \n",
    "    if response.status_code != 200:\n",
    "        return None\n",
    "    \n",
    "    result = {}\n",
    "    soup = BeautifulSoup(response.content, 'html.parser')\n",
    "    \n",
    "    # date time\n",
    "    div_datetime = soup.find('div', class_='news_date')\n",
    "    if div_datetime:\n",
    "        result['datetime'] = div_datetime.text\n",
    "    \n",
    "    # title\n",
    "    h_title = soup.find('h1', class_='news_title')\n",
    "    if h_title:\n",
    "        result['title'] = h_title.text\n",
    "    \n",
    "    # text\n",
    "    div_news_text = soup.find('div', class_='news_text')\n",
    "    if div_news_text:\n",
    "        # paragraphs = div_news_text.find_all('p')\n",
    "        # merged_text = \"\"\n",
    "        # for paragraph in paragraphs:\n",
    "        #     merged_text += paragraph.text + ' '\n",
    "        #     \n",
    "        # result['text'] = merged_text\n",
    "        result['text'] = div_news_text.text\n",
    "    \n",
    "    return result"
   ]
  },
  {
   "cell_type": "code",
   "execution_count": null,
   "id": "ae80a940c1ed76b6",
   "metadata": {
    "ExecuteTime": {
     "end_time": "2024-04-05T19:48:19.176566Z",
     "start_time": "2024-04-05T19:32:53.060545Z"
    },
    "collapsed": false,
    "execution": {
     "iopub.execute_input": "2024-04-05T19:57:09.089591Z",
     "iopub.status.busy": "2024-04-05T19:57:09.088846Z"
    },
    "jupyter": {
     "outputs_hidden": false
    },
    "scrolled": true,
    "tags": []
   },
   "outputs": [
    {
     "name": "stderr",
     "output_type": "stream",
     "text": [
      "  3%|▎         | 1056/35358 [04:54<2:37:32,  3.63it/s]"
     ]
    },
    {
     "name": "stdout",
     "output_type": "stream",
     "text": [
      "saved checkpoint: 1\n"
     ]
    },
    {
     "name": "stderr",
     "output_type": "stream",
     "text": [
      "  6%|▌         | 2119/35358 [10:07<3:22:17,  2.74it/s]"
     ]
    },
    {
     "name": "stdout",
     "output_type": "stream",
     "text": [
      "saved checkpoint: 2\n"
     ]
    },
    {
     "name": "stderr",
     "output_type": "stream",
     "text": [
      "  9%|▉         | 3157/35358 [15:09<2:28:42,  3.61it/s]"
     ]
    },
    {
     "name": "stdout",
     "output_type": "stream",
     "text": [
      "saved checkpoint: 3\n"
     ]
    },
    {
     "name": "stderr",
     "output_type": "stream",
     "text": [
      " 12%|█▏        | 4171/35358 [20:16<2:29:05,  3.49it/s]"
     ]
    },
    {
     "name": "stdout",
     "output_type": "stream",
     "text": [
      "saved checkpoint: 4\n"
     ]
    },
    {
     "name": "stderr",
     "output_type": "stream",
     "text": [
      " 15%|█▍        | 5201/35358 [25:11<2:26:14,  3.44it/s]"
     ]
    },
    {
     "name": "stdout",
     "output_type": "stream",
     "text": [
      "saved checkpoint: 5\n"
     ]
    },
    {
     "name": "stderr",
     "output_type": "stream",
     "text": [
      " 18%|█▊        | 6218/35358 [30:06<2:34:12,  3.15it/s]"
     ]
    },
    {
     "name": "stdout",
     "output_type": "stream",
     "text": [
      "saved checkpoint: 6\n"
     ]
    },
    {
     "name": "stderr",
     "output_type": "stream",
     "text": [
      " 35%|███▍      | 12340/35358 [56:32<1:43:53,  3.69it/s]"
     ]
    },
    {
     "name": "stdout",
     "output_type": "stream",
     "text": [
      "saved checkpoint: 7\n"
     ]
    },
    {
     "name": "stderr",
     "output_type": "stream",
     "text": [
      " 38%|███▊      | 13357/35358 [1:01:14<1:40:48,  3.64it/s]"
     ]
    },
    {
     "name": "stdout",
     "output_type": "stream",
     "text": [
      "saved checkpoint: 8\n"
     ]
    },
    {
     "name": "stderr",
     "output_type": "stream",
     "text": [
      " 41%|████      | 14482/35358 [1:06:33<1:47:36,  3.23it/s]"
     ]
    },
    {
     "name": "stdout",
     "output_type": "stream",
     "text": [
      "saved checkpoint: 9\n"
     ]
    },
    {
     "name": "stderr",
     "output_type": "stream",
     "text": [
      " 44%|████▍     | 15559/35358 [1:11:47<1:25:37,  3.85it/s]"
     ]
    },
    {
     "name": "stdout",
     "output_type": "stream",
     "text": [
      "saved checkpoint: 10\n"
     ]
    },
    {
     "name": "stderr",
     "output_type": "stream",
     "text": [
      " 47%|████▋     | 16681/35358 [1:17:16<1:22:29,  3.77it/s]"
     ]
    },
    {
     "name": "stdout",
     "output_type": "stream",
     "text": [
      "saved checkpoint: 11\n"
     ]
    },
    {
     "name": "stderr",
     "output_type": "stream",
     "text": [
      " 50%|█████     | 17748/35358 [1:22:16<1:28:25,  3.32it/s]"
     ]
    },
    {
     "name": "stdout",
     "output_type": "stream",
     "text": [
      "saved checkpoint: 12\n"
     ]
    },
    {
     "name": "stderr",
     "output_type": "stream",
     "text": [
      " 53%|█████▎    | 18806/35358 [1:27:08<1:32:46,  2.97it/s]"
     ]
    },
    {
     "name": "stdout",
     "output_type": "stream",
     "text": [
      "saved checkpoint: 13\n"
     ]
    },
    {
     "name": "stderr",
     "output_type": "stream",
     "text": [
      " 56%|█████▌    | 19818/35358 [1:31:54<2:02:18,  2.12it/s]"
     ]
    },
    {
     "name": "stdout",
     "output_type": "stream",
     "text": [
      "saved checkpoint: 14\n"
     ]
    },
    {
     "name": "stderr",
     "output_type": "stream",
     "text": [
      " 59%|█████▉    | 20838/35358 [1:36:56<1:11:44,  3.37it/s]"
     ]
    },
    {
     "name": "stdout",
     "output_type": "stream",
     "text": [
      "saved checkpoint: 15\n"
     ]
    },
    {
     "name": "stderr",
     "output_type": "stream",
     "text": [
      " 62%|██████▏   | 21870/35358 [1:41:51<1:04:14,  3.50it/s]"
     ]
    },
    {
     "name": "stdout",
     "output_type": "stream",
     "text": [
      "saved checkpoint: 16\n"
     ]
    },
    {
     "name": "stderr",
     "output_type": "stream",
     "text": [
      " 65%|██████▍   | 22892/35358 [1:46:52<1:02:56,  3.30it/s]"
     ]
    },
    {
     "name": "stdout",
     "output_type": "stream",
     "text": [
      "saved checkpoint: 17\n"
     ]
    },
    {
     "name": "stderr",
     "output_type": "stream",
     "text": [
      " 68%|██████▊   | 23896/35358 [1:51:46<56:20,  3.39it/s]  "
     ]
    },
    {
     "name": "stdout",
     "output_type": "stream",
     "text": [
      "saved checkpoint: 18\n"
     ]
    },
    {
     "name": "stderr",
     "output_type": "stream",
     "text": [
      " 70%|███████   | 24907/35358 [1:56:36<57:39,  3.02it/s]  "
     ]
    },
    {
     "name": "stdout",
     "output_type": "stream",
     "text": [
      "saved checkpoint: 19\n"
     ]
    },
    {
     "name": "stderr",
     "output_type": "stream",
     "text": [
      " 74%|███████▎  | 26052/35358 [2:02:06<53:41,  2.89it/s]  "
     ]
    },
    {
     "name": "stdout",
     "output_type": "stream",
     "text": [
      "saved checkpoint: 20\n"
     ]
    },
    {
     "name": "stderr",
     "output_type": "stream",
     "text": [
      " 77%|███████▋  | 27153/35358 [2:07:36<41:56,  3.26it/s]  "
     ]
    },
    {
     "name": "stdout",
     "output_type": "stream",
     "text": [
      "saved checkpoint: 21\n"
     ]
    },
    {
     "name": "stderr",
     "output_type": "stream",
     "text": [
      " 80%|███████▉  | 28209/35358 [2:12:29<32:39,  3.65it/s]  "
     ]
    },
    {
     "name": "stdout",
     "output_type": "stream",
     "text": [
      "saved checkpoint: 22\n"
     ]
    },
    {
     "name": "stderr",
     "output_type": "stream",
     "text": [
      " 83%|████████▎ | 29245/35358 [2:17:26<26:08,  3.90it/s]  "
     ]
    },
    {
     "name": "stdout",
     "output_type": "stream",
     "text": [
      "saved checkpoint: 23\n"
     ]
    },
    {
     "name": "stderr",
     "output_type": "stream",
     "text": [
      " 98%|█████████▊| 34489/35358 [2:43:05<04:05,  3.53it/s]"
     ]
    },
    {
     "name": "stdout",
     "output_type": "stream",
     "text": [
      "saved checkpoint: 28\n"
     ]
    },
    {
     "name": "stderr",
     "output_type": "stream",
     "text": [
      " 98%|█████████▊| 34498/35358 [2:43:08<03:39,  3.92it/s]"
     ]
    }
   ],
   "source": [
    "current = []\n",
    "checkpoint = 0\n",
    "for num in tqdm(range(68822, 33464, -1)):\n",
    "    res = get_news(num)\n",
    "    if not res:\n",
    "        continue\n",
    "    \n",
    "    current.append([res['datetime'], res['title'], res['text']])\n",
    "    if len(current) == 1000:\n",
    "        checkpoint += 1\n",
    "        df = pd.DataFrame(current, columns=['datetime', 'title', 'text'])\n",
    "        df.to_csv(f'moex_data/part{checkpoint}.csv', index=False)\n",
    "        current.clear()\n",
    "        print(f'saved checkpoint: {checkpoint}')\n",
    "    \n",
    "    # time.sleep(random.randint(2, 5))"
   ]
  },
  {
   "cell_type": "code",
   "execution_count": 4,
   "id": "baba55529d955a14",
   "metadata": {
    "collapsed": false,
    "execution": {
     "iopub.execute_input": "2024-04-06T06:33:12.725529Z",
     "iopub.status.busy": "2024-04-06T06:33:12.724682Z",
     "iopub.status.idle": "2024-04-06T06:33:15.221196Z",
     "shell.execute_reply": "2024-04-06T06:33:15.220311Z",
     "shell.execute_reply.started": "2024-04-06T06:33:12.725492Z"
    },
    "jupyter": {
     "outputs_hidden": false
    },
    "tags": []
   },
   "outputs": [
    {
     "name": "stderr",
     "output_type": "stream",
     "text": [
      "100%|██████████| 28/28 [00:02<00:00, 11.53it/s]\n"
     ]
    },
    {
     "data": {
      "text/html": [
       "<div>\n",
       "<style scoped>\n",
       "    .dataframe tbody tr th:only-of-type {\n",
       "        vertical-align: middle;\n",
       "    }\n",
       "\n",
       "    .dataframe tbody tr th {\n",
       "        vertical-align: top;\n",
       "    }\n",
       "\n",
       "    .dataframe thead th {\n",
       "        text-align: right;\n",
       "    }\n",
       "</style>\n",
       "<table border=\"1\" class=\"dataframe\">\n",
       "  <thead>\n",
       "    <tr style=\"text-align: right;\">\n",
       "      <th></th>\n",
       "      <th>datetime</th>\n",
       "      <th>title</th>\n",
       "      <th>text</th>\n",
       "    </tr>\n",
       "  </thead>\n",
       "  <tbody>\n",
       "    <tr>\n",
       "      <th>0</th>\n",
       "      <td>05.04.2024 17:45</td>\n",
       "      <td>О значениях индикативных ставок риска на фондо...</td>\n",
       "      <td>\\nИнформируем о значении Индикативных ставок р...</td>\n",
       "    </tr>\n",
       "    <tr>\n",
       "      <th>1</th>\n",
       "      <td>05.04.2024 17:32</td>\n",
       "      <td>О допуске ценных бумаг к операциям РЕПО с ЦК с...</td>\n",
       "      <td>\\nУчастникам торгов\\nИнформируем Вас о том, чт...</td>\n",
       "    </tr>\n",
       "    <tr>\n",
       "      <th>2</th>\n",
       "      <td>05.04.2024 17:16</td>\n",
       "      <td>Maintenance on T1 securities and FX test envir...</td>\n",
       "      <td>\\nFrom 8 to 10 April 2024 we will be updating ...</td>\n",
       "    </tr>\n",
       "    <tr>\n",
       "      <th>3</th>\n",
       "      <td>05.04.2024 17:16</td>\n",
       "      <td>Технические работы на тестовом контуре T1 фонд...</td>\n",
       "      <td>\\nС 8 по 10 апреля 2024 года на выделенном тес...</td>\n",
       "    </tr>\n",
       "    <tr>\n",
       "      <th>4</th>\n",
       "      <td>05.04.2024 17:13</td>\n",
       "      <td>Risk parameters change for the security RU000A...</td>\n",
       "      <td>\\r\\n            As per the Securities market r...</td>\n",
       "    </tr>\n",
       "  </tbody>\n",
       "</table>\n",
       "</div>"
      ],
      "text/plain": [
       "           datetime  ...                                               text\n",
       "0  05.04.2024 17:45  ...  \\nИнформируем о значении Индикативных ставок р...\n",
       "1  05.04.2024 17:32  ...  \\nУчастникам торгов\\nИнформируем Вас о том, чт...\n",
       "2  05.04.2024 17:16  ...  \\nFrom 8 to 10 April 2024 we will be updating ...\n",
       "3  05.04.2024 17:16  ...  \\nС 8 по 10 апреля 2024 года на выделенном тес...\n",
       "4  05.04.2024 17:13  ...  \\r\\n            As per the Securities market r...\n",
       "\n",
       "[5 rows x 3 columns]"
      ]
     },
     "execution_count": 4,
     "metadata": {},
     "output_type": "execute_result"
    }
   ],
   "source": [
    "df = pd.DataFrame()\n",
    "for i in tqdm(range(1, 29)):\n",
    "    df = pd.concat([df, pd.read_csv(f'moex_data/part{i}.csv')], ignore_index=True)\n",
    "df.head()"
   ]
  },
  {
   "cell_type": "code",
   "execution_count": 5,
   "id": "08e5d4e8-324a-499d-919f-d890181470e8",
   "metadata": {
    "execution": {
     "iopub.execute_input": "2024-04-06T06:33:26.711469Z",
     "iopub.status.busy": "2024-04-06T06:33:26.710558Z",
     "iopub.status.idle": "2024-04-06T06:33:26.751592Z",
     "shell.execute_reply": "2024-04-06T06:33:26.750748Z",
     "shell.execute_reply.started": "2024-04-06T06:33:26.711424Z"
    }
   },
   "outputs": [
    {
     "name": "stdout",
     "output_type": "stream",
     "text": [
      "<class 'pandas.core.frame.DataFrame'>\n",
      "RangeIndex: 28000 entries, 0 to 27999\n",
      "Data columns (total 3 columns):\n",
      " #   Column    Non-Null Count  Dtype \n",
      "---  ------    --------------  ----- \n",
      " 0   datetime  28000 non-null  object\n",
      " 1   title     28000 non-null  object\n",
      " 2   text      28000 non-null  object\n",
      "dtypes: object(3)\n",
      "memory usage: 656.4+ KB\n"
     ]
    }
   ],
   "source": [
    "df.info()"
   ]
  },
  {
   "cell_type": "code",
   "execution_count": null,
   "id": "9be8493b-316e-4c64-a3e7-7bb88b292f57",
   "metadata": {},
   "outputs": [],
   "source": []
  }
 ],
 "metadata": {
  "kernelspec": {
   "display_name": "DataSphere Kernel",
   "language": "python",
   "name": "python3"
  },
  "language_info": {
   "codemirror_mode": {
    "name": "ipython",
    "version": 3
   },
   "file_extension": ".py",
   "mimetype": "text/x-python",
   "name": "python",
   "nbconvert_exporter": "python",
   "pygments_lexer": "ipython3",
   "version": "3.10.12"
  }
 },
 "nbformat": 4,
 "nbformat_minor": 5
}
