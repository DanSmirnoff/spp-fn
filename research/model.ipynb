{
 "cells": [
  {
   "cell_type": "code",
   "execution_count": 8,
   "id": "2024d65c-fd0b-4fdb-b2c8-7f7fcfbf5efc",
   "metadata": {
    "execution": {
     "iopub.execute_input": "2024-04-10T08:31:58.857127Z",
     "iopub.status.busy": "2024-04-10T08:31:58.856264Z",
     "iopub.status.idle": "2024-04-10T08:32:17.049753Z",
     "shell.execute_reply": "2024-04-10T08:32:17.048862Z",
     "shell.execute_reply.started": "2024-04-10T08:31:58.857078Z"
    },
    "scrolled": true,
    "tags": []
   },
   "outputs": [
    {
     "name": "stdout",
     "output_type": "stream",
     "text": [
      "Defaulting to user installation because normal site-packages is not writeable\n",
      "Requirement already satisfied: catboost in /home/jupyter/.local/lib/python3.10/site-packages (1.2.3)\n",
      "Requirement already satisfied: graphviz in /usr/local/lib/python3.10/dist-packages (from catboost) (0.20.1)\n",
      "Requirement already satisfied: matplotlib in /usr/local/lib/python3.10/dist-packages (from catboost) (3.7.1)\n",
      "Requirement already satisfied: numpy>=1.16.0 in /home/jupyter/.local/lib/python3.10/site-packages (from catboost) (1.23.5)\n",
      "Requirement already satisfied: pandas>=0.24 in /home/jupyter/.local/lib/python3.10/site-packages (from catboost) (2.2.1)\n",
      "Requirement already satisfied: scipy in /usr/local/lib/python3.10/dist-packages (from catboost) (1.10.1)\n",
      "Requirement already satisfied: plotly in /usr/local/lib/python3.10/dist-packages (from catboost) (5.13.1)\n",
      "Requirement already satisfied: six in /kernel/lib/python3.10/site-packages (from catboost) (1.16.0)\n",
      "Requirement already satisfied: python-dateutil>=2.8.2 in /kernel/lib/python3.10/site-packages (from pandas>=0.24->catboost) (2.9.0.post0)\n",
      "Requirement already satisfied: pytz>=2020.1 in /usr/local/lib/python3.10/dist-packages (from pandas>=0.24->catboost) (2022.7.1)\n",
      "Requirement already satisfied: tzdata>=2022.7 in /usr/local/lib/python3.10/dist-packages (from pandas>=0.24->catboost) (2023.3)\n",
      "Requirement already satisfied: contourpy>=1.0.1 in /usr/local/lib/python3.10/dist-packages (from matplotlib->catboost) (1.1.0)\n",
      "Requirement already satisfied: cycler>=0.10 in /usr/local/lib/python3.10/dist-packages (from matplotlib->catboost) (0.11.0)\n",
      "Requirement already satisfied: fonttools>=4.22.0 in /usr/local/lib/python3.10/dist-packages (from matplotlib->catboost) (4.41.1)\n",
      "Requirement already satisfied: kiwisolver>=1.0.1 in /usr/local/lib/python3.10/dist-packages (from matplotlib->catboost) (1.4.4)\n",
      "Requirement already satisfied: packaging>=20.0 in /kernel/lib/python3.10/site-packages (from matplotlib->catboost) (24.0)\n",
      "Requirement already satisfied: pillow>=6.2.0 in /usr/local/lib/python3.10/dist-packages (from matplotlib->catboost) (9.4.0)\n",
      "Requirement already satisfied: pyparsing>=2.3.1 in /kernel/lib/python3.10/site-packages (from matplotlib->catboost) (2.4.7)\n",
      "Requirement already satisfied: tenacity>=6.2.0 in /usr/local/lib/python3.10/dist-packages (from plotly->catboost) (8.2.2)\n",
      "\n",
      "\u001b[1m[\u001b[0m\u001b[34;49mnotice\u001b[0m\u001b[1;39;49m]\u001b[0m\u001b[39;49m A new release of pip is available: \u001b[0m\u001b[31;49m23.0.1\u001b[0m\u001b[39;49m -> \u001b[0m\u001b[32;49m24.0\u001b[0m\n",
      "\u001b[1m[\u001b[0m\u001b[34;49mnotice\u001b[0m\u001b[1;39;49m]\u001b[0m\u001b[39;49m To update, run: \u001b[0m\u001b[32;49mpython3 -m pip install --upgrade pip\u001b[0m\n",
      "Defaulting to user installation because normal site-packages is not writeable\n",
      "Collecting mlflow\n",
      "  Downloading mlflow-2.11.3-py3-none-any.whl.metadata (15 kB)\n",
      "Requirement already satisfied: click<9,>=7.0 in /usr/local/lib/python3.10/dist-packages (from mlflow) (8.1.6)\n",
      "Requirement already satisfied: cloudpickle<4 in /kernel/lib/python3.10/site-packages (from mlflow) (3.0.0)\n",
      "Requirement already satisfied: entrypoints<1 in /usr/local/lib/python3.10/dist-packages (from mlflow) (0.4)\n",
      "Requirement already satisfied: gitpython<4,>=3.1.9 in /usr/local/lib/python3.10/dist-packages (from mlflow) (3.1.32)\n",
      "Requirement already satisfied: pyyaml<7,>=5.1 in /usr/local/lib/python3.10/dist-packages (from mlflow) (6.0.1)\n",
      "Requirement already satisfied: protobuf<5,>=3.12.0 in /usr/local/lib/python3.10/dist-packages (from mlflow) (3.20.3)\n",
      "Requirement already satisfied: pytz<2025 in /usr/local/lib/python3.10/dist-packages (from mlflow) (2022.7.1)\n",
      "Requirement already satisfied: requests<3,>=2.17.3 in /kernel/lib/python3.10/site-packages (from mlflow) (2.31.0)\n",
      "Collecting packaging<24 (from mlflow)\n",
      "  Using cached packaging-23.2-py3-none-any.whl.metadata (3.2 kB)\n",
      "Requirement already satisfied: importlib-metadata!=4.7.0,<8,>=3.7.0 in /kernel/lib/python3.10/site-packages (from mlflow) (7.1.0)\n",
      "Requirement already satisfied: sqlparse<1,>=0.4.0 in /usr/local/lib/python3.10/dist-packages (from mlflow) (0.4.4)\n",
      "Requirement already satisfied: alembic!=1.10.0,<2 in /home/jupyter/.local/lib/python3.10/site-packages (from mlflow) (1.13.1)\n",
      "Requirement already satisfied: docker<8,>=4.0.0 in /home/jupyter/.local/lib/python3.10/site-packages (from mlflow) (7.0.0)\n",
      "Requirement already satisfied: Flask<4 in /usr/local/lib/python3.10/dist-packages (from mlflow) (2.2.5)\n",
      "Requirement already satisfied: numpy<2 in /home/jupyter/.local/lib/python3.10/site-packages (from mlflow) (1.23.5)\n",
      "Requirement already satisfied: scipy<2 in /usr/local/lib/python3.10/dist-packages (from mlflow) (1.10.1)\n",
      "Requirement already satisfied: pandas<3 in /home/jupyter/.local/lib/python3.10/site-packages (from mlflow) (2.2.1)\n",
      "Requirement already satisfied: querystring-parser<2 in /home/jupyter/.local/lib/python3.10/site-packages (from mlflow) (1.2.4)\n",
      "Requirement already satisfied: sqlalchemy<3,>=1.4.0 in /usr/local/lib/python3.10/dist-packages (from mlflow) (2.0.19)\n",
      "Requirement already satisfied: scikit-learn<2 in /usr/local/lib/python3.10/dist-packages (from mlflow) (1.2.2)\n",
      "Requirement already satisfied: pyarrow<16,>=4.0.0 in /usr/local/lib/python3.10/dist-packages (from mlflow) (9.0.0)\n",
      "Requirement already satisfied: markdown<4,>=3.3 in /usr/local/lib/python3.10/dist-packages (from mlflow) (3.4.4)\n",
      "Requirement already satisfied: matplotlib<4 in /usr/local/lib/python3.10/dist-packages (from mlflow) (3.7.1)\n",
      "Requirement already satisfied: graphene<4 in /home/jupyter/.local/lib/python3.10/site-packages (from mlflow) (3.3)\n",
      "Requirement already satisfied: gunicorn<22 in /home/jupyter/.local/lib/python3.10/site-packages (from mlflow) (21.2.0)\n",
      "Requirement already satisfied: Jinja2<4,>=2.11 in /kernel/lib/python3.10/site-packages (from mlflow) (3.1.3)\n",
      "Requirement already satisfied: Mako in /home/jupyter/.local/lib/python3.10/site-packages (from alembic!=1.10.0,<2->mlflow) (1.3.2)\n",
      "Requirement already satisfied: typing-extensions>=4 in /kernel/lib/python3.10/site-packages (from alembic!=1.10.0,<2->mlflow) (4.10.0)\n",
      "Collecting urllib3>=1.26.0 (from docker<8,>=4.0.0->mlflow)\n",
      "  Using cached urllib3-2.2.1-py3-none-any.whl.metadata (6.4 kB)\n",
      "Requirement already satisfied: Werkzeug>=2.2.2 in /usr/local/lib/python3.10/dist-packages (from Flask<4->mlflow) (2.3.6)\n",
      "Requirement already satisfied: itsdangerous>=2.0 in /usr/local/lib/python3.10/dist-packages (from Flask<4->mlflow) (2.1.2)\n",
      "Requirement already satisfied: gitdb<5,>=4.0.1 in /usr/local/lib/python3.10/dist-packages (from gitpython<4,>=3.1.9->mlflow) (4.0.10)\n",
      "Requirement already satisfied: graphql-core<3.3,>=3.1 in /home/jupyter/.local/lib/python3.10/site-packages (from graphene<4->mlflow) (3.2.3)\n",
      "Requirement already satisfied: graphql-relay<3.3,>=3.1 in /home/jupyter/.local/lib/python3.10/site-packages (from graphene<4->mlflow) (3.2.0)\n",
      "Requirement already satisfied: aniso8601<10,>=8 in /home/jupyter/.local/lib/python3.10/site-packages (from graphene<4->mlflow) (9.0.1)\n",
      "Requirement already satisfied: zipp>=0.5 in /kernel/lib/python3.10/site-packages (from importlib-metadata!=4.7.0,<8,>=3.7.0->mlflow) (3.18.1)\n",
      "Requirement already satisfied: MarkupSafe>=2.0 in /kernel/lib/python3.10/site-packages (from Jinja2<4,>=2.11->mlflow) (2.1.5)\n",
      "Requirement already satisfied: contourpy>=1.0.1 in /usr/local/lib/python3.10/dist-packages (from matplotlib<4->mlflow) (1.1.0)\n",
      "Requirement already satisfied: cycler>=0.10 in /usr/local/lib/python3.10/dist-packages (from matplotlib<4->mlflow) (0.11.0)\n",
      "Requirement already satisfied: fonttools>=4.22.0 in /usr/local/lib/python3.10/dist-packages (from matplotlib<4->mlflow) (4.41.1)\n",
      "Requirement already satisfied: kiwisolver>=1.0.1 in /usr/local/lib/python3.10/dist-packages (from matplotlib<4->mlflow) (1.4.4)\n",
      "Requirement already satisfied: pillow>=6.2.0 in /usr/local/lib/python3.10/dist-packages (from matplotlib<4->mlflow) (9.4.0)\n",
      "Requirement already satisfied: pyparsing>=2.3.1 in /kernel/lib/python3.10/site-packages (from matplotlib<4->mlflow) (2.4.7)\n",
      "Requirement already satisfied: python-dateutil>=2.7 in /kernel/lib/python3.10/site-packages (from matplotlib<4->mlflow) (2.9.0.post0)\n",
      "Requirement already satisfied: tzdata>=2022.7 in /usr/local/lib/python3.10/dist-packages (from pandas<3->mlflow) (2023.3)\n",
      "Requirement already satisfied: six in /kernel/lib/python3.10/site-packages (from querystring-parser<2->mlflow) (1.16.0)\n",
      "Requirement already satisfied: charset-normalizer<4,>=2 in /kernel/lib/python3.10/site-packages (from requests<3,>=2.17.3->mlflow) (3.3.2)\n",
      "Requirement already satisfied: idna<4,>=2.5 in /kernel/lib/python3.10/site-packages (from requests<3,>=2.17.3->mlflow) (3.6)\n",
      "Requirement already satisfied: certifi>=2017.4.17 in /kernel/lib/python3.10/site-packages (from requests<3,>=2.17.3->mlflow) (2024.2.2)\n",
      "Requirement already satisfied: joblib>=1.1.1 in /usr/local/lib/python3.10/dist-packages (from scikit-learn<2->mlflow) (1.3.1)\n",
      "Requirement already satisfied: threadpoolctl>=2.0.0 in /usr/local/lib/python3.10/dist-packages (from scikit-learn<2->mlflow) (3.2.0)\n",
      "Requirement already satisfied: greenlet!=0.4.17 in /usr/local/lib/python3.10/dist-packages (from sqlalchemy<3,>=1.4.0->mlflow) (2.0.2)\n",
      "Requirement already satisfied: smmap<6,>=3.0.1 in /usr/local/lib/python3.10/dist-packages (from gitdb<5,>=4.0.1->gitpython<4,>=3.1.9->mlflow) (5.0.0)\n",
      "Downloading mlflow-2.11.3-py3-none-any.whl (19.7 MB)\n",
      "\u001b[2K   \u001b[90m━━━━━━━━━━━━━━━━━━━━━━━━━━━━━━━━━━━━━━━━\u001b[0m \u001b[32m19.7/19.7 MB\u001b[0m \u001b[31m65.0 MB/s\u001b[0m eta \u001b[36m0:00:00\u001b[0m:00:01\u001b[0m00:01\u001b[0m\n",
      "\u001b[?25hUsing cached packaging-23.2-py3-none-any.whl (53 kB)\n",
      "Using cached urllib3-2.2.1-py3-none-any.whl (121 kB)\n",
      "Installing collected packages: urllib3, packaging, mlflow\n",
      "\u001b[33m  WARNING: The script mlflow is installed in '/home/jupyter/.local/bin' which is not on PATH.\n",
      "  Consider adding this directory to PATH or, if you prefer to suppress this warning, use --no-warn-script-location.\u001b[0m\u001b[33m\n",
      "\u001b[0m\u001b[31mERROR: pip's dependency resolver does not currently take into account all the packages that are installed. This behaviour is the source of the following dependency conflicts.\n",
      "ml-kernel 0.0.1 requires urllib3==1.25.11, but you have urllib3 2.2.1 which is incompatible.\n",
      "botocore 1.23.24 requires urllib3<1.27,>=1.25.4, but you have urllib3 2.2.1 which is incompatible.\n",
      "cloud-ml 0.0.1 requires requests<=2.28.1,>=2.22.0, but you have requests 2.31.0 which is incompatible.\n",
      "dvc 2.58.2 requires platformdirs<4,>=3.1.1, but you have platformdirs 4.2.0 which is incompatible.\n",
      "dvc 2.58.2 requires psutil>=5.8, but you have psutil 5.7.3 which is incompatible.\n",
      "moviepy 1.0.3 requires decorator<5.0,>=4.0.2, but you have decorator 5.1.1 which is incompatible.\n",
      "spacy 3.5.4 requires pydantic!=1.8,!=1.8.1,<1.11.0,>=1.7.4, but you have pydantic 2.6.4 which is incompatible.\n",
      "thinc 8.1.10 requires pydantic!=1.8,!=1.8.1,<1.11.0,>=1.7.4, but you have pydantic 2.6.4 which is incompatible.\u001b[0m\u001b[31m\n",
      "\u001b[0mSuccessfully installed mlflow-2.11.3 packaging-23.2 urllib3-2.2.1\n",
      "\n",
      "\u001b[1m[\u001b[0m\u001b[34;49mnotice\u001b[0m\u001b[1;39;49m]\u001b[0m\u001b[39;49m A new release of pip is available: \u001b[0m\u001b[31;49m23.0.1\u001b[0m\u001b[39;49m -> \u001b[0m\u001b[32;49m24.0\u001b[0m\n",
      "\u001b[1m[\u001b[0m\u001b[34;49mnotice\u001b[0m\u001b[1;39;49m]\u001b[0m\u001b[39;49m To update, run: \u001b[0m\u001b[32;49mpython3 -m pip install --upgrade pip\u001b[0m\n",
      "Defaulting to user installation because normal site-packages is not writeable\n",
      "Requirement already satisfied: optuna in /home/jupyter/.local/lib/python3.10/site-packages (3.6.1)\n",
      "Requirement already satisfied: alembic>=1.5.0 in /home/jupyter/.local/lib/python3.10/site-packages (from optuna) (1.13.1)\n",
      "Requirement already satisfied: colorlog in /home/jupyter/.local/lib/python3.10/site-packages (from optuna) (6.8.2)\n",
      "Requirement already satisfied: numpy in /home/jupyter/.local/lib/python3.10/site-packages (from optuna) (1.23.5)\n",
      "Requirement already satisfied: packaging>=20.0 in /kernel/lib/python3.10/site-packages (from optuna) (24.0)\n",
      "Requirement already satisfied: sqlalchemy>=1.3.0 in /usr/local/lib/python3.10/dist-packages (from optuna) (2.0.19)\n",
      "Requirement already satisfied: tqdm in /usr/local/lib/python3.10/dist-packages (from optuna) (4.65.0)\n",
      "Requirement already satisfied: PyYAML in /usr/local/lib/python3.10/dist-packages (from optuna) (6.0.1)\n",
      "Requirement already satisfied: Mako in /home/jupyter/.local/lib/python3.10/site-packages (from alembic>=1.5.0->optuna) (1.3.2)\n",
      "Requirement already satisfied: typing-extensions>=4 in /kernel/lib/python3.10/site-packages (from alembic>=1.5.0->optuna) (4.10.0)\n",
      "Requirement already satisfied: greenlet!=0.4.17 in /usr/local/lib/python3.10/dist-packages (from sqlalchemy>=1.3.0->optuna) (2.0.2)\n",
      "Requirement already satisfied: MarkupSafe>=0.9.2 in /kernel/lib/python3.10/site-packages (from Mako->alembic>=1.5.0->optuna) (2.1.5)\n",
      "\n",
      "\u001b[1m[\u001b[0m\u001b[34;49mnotice\u001b[0m\u001b[1;39;49m]\u001b[0m\u001b[39;49m A new release of pip is available: \u001b[0m\u001b[31;49m23.0.1\u001b[0m\u001b[39;49m -> \u001b[0m\u001b[32;49m24.0\u001b[0m\n",
      "\u001b[1m[\u001b[0m\u001b[34;49mnotice\u001b[0m\u001b[1;39;49m]\u001b[0m\u001b[39;49m To update, run: \u001b[0m\u001b[32;49mpython3 -m pip install --upgrade pip\u001b[0m\n"
     ]
    }
   ],
   "source": [
    "%pip install catboost\n",
    "%pip install mlflow\n",
    "%pip install optuna"
   ]
  },
  {
   "cell_type": "code",
   "execution_count": 15,
   "id": "dd10b647-6c32-43f3-9ad8-8be29b8763ad",
   "metadata": {
    "execution": {
     "iopub.execute_input": "2024-04-10T19:04:09.240070Z",
     "iopub.status.busy": "2024-04-10T19:04:09.239510Z",
     "iopub.status.idle": "2024-04-10T19:04:09.390711Z",
     "shell.execute_reply": "2024-04-10T19:04:09.390121Z",
     "shell.execute_reply.started": "2024-04-10T19:04:09.240046Z"
    },
    "tags": []
   },
   "outputs": [],
   "source": [
    "import mlflow\n",
    "\n",
    "import tqdm\n",
    "import pandas as pd\n",
    "import numpy as np\n",
    "import matplotlib.pyplot as plt\n",
    "import seaborn as sns\n",
    "\n",
    "import optuna\n",
    "from catboost import CatBoostRegressor\n",
    "from sklearn.model_selection import train_test_split\n",
    "from sklearn.metrics import mean_absolute_error, r2_score, mean_squared_error"
   ]
  },
  {
   "cell_type": "code",
   "execution_count": 2,
   "id": "5715f3cb-8241-4855-8c0a-4bc5458baa73",
   "metadata": {
    "execution": {
     "iopub.execute_input": "2024-04-10T19:01:19.320033Z",
     "iopub.status.busy": "2024-04-10T19:01:19.319572Z",
     "iopub.status.idle": "2024-04-10T19:01:19.361153Z",
     "shell.execute_reply": "2024-04-10T19:01:19.360511Z",
     "shell.execute_reply.started": "2024-04-10T19:01:19.320011Z"
    },
    "tags": []
   },
   "outputs": [],
   "source": [
    "def mape(y_true, y_pred): \n",
    "    y_true, y_pred = np.array(y_true), np.array(y_pred)\n",
    "    return np.mean(np.abs((y_true - y_pred) / y_true)) * 100"
   ]
  },
  {
   "cell_type": "markdown",
   "id": "5646c43a-0553-4140-9e6c-6a1102319dd8",
   "metadata": {
    "execution": {
     "iopub.execute_input": "2024-04-09T11:10:08.264686Z",
     "iopub.status.busy": "2024-04-09T11:10:08.264112Z",
     "iopub.status.idle": "2024-04-09T11:10:08.272994Z",
     "shell.execute_reply": "2024-04-09T11:10:08.272432Z",
     "shell.execute_reply.started": "2024-04-09T11:10:08.264660Z"
    },
    "tags": []
   },
   "source": [
    "## Train | Test split"
   ]
  },
  {
   "cell_type": "code",
   "execution_count": 3,
   "id": "9f1ffbec-d110-4169-a54c-e96b5676a463",
   "metadata": {
    "execution": {
     "iopub.execute_input": "2024-04-10T19:01:19.362725Z",
     "iopub.status.busy": "2024-04-10T19:01:19.362313Z",
     "iopub.status.idle": "2024-04-10T19:01:19.433323Z",
     "shell.execute_reply": "2024-04-10T19:01:19.432726Z",
     "shell.execute_reply.started": "2024-04-10T19:01:19.362703Z"
    },
    "tags": []
   },
   "outputs": [
    {
     "data": {
      "text/plain": [
       "((968, 98), (243, 98))"
      ]
     },
     "execution_count": 3,
     "metadata": {},
     "output_type": "execute_result"
    }
   ],
   "source": [
    "df = pd.read_csv('dataset_v4_open.csv')\n",
    "# df['embed_sum'] = df.loc[:, 'embed_0':'embed_49'].sum(axis=1)\n",
    "# df.drop(columns=['embed_' + str(i) for i in range(50)], inplace=True)\n",
    "\n",
    "train_df = df.iloc[:int(len(df) * 0.8)].reset_index(drop=True)\n",
    "test_df = df.iloc[int(len(df) * 0.8):].reset_index(drop=True)\n",
    "train_df.shape, test_df.shape"
   ]
  },
  {
   "cell_type": "code",
   "execution_count": 4,
   "id": "09ba173e-6c40-42b9-8398-4788d687c44a",
   "metadata": {
    "execution": {
     "iopub.execute_input": "2024-04-10T19:01:19.434553Z",
     "iopub.status.busy": "2024-04-10T19:01:19.434204Z",
     "iopub.status.idle": "2024-04-10T19:01:19.472389Z",
     "shell.execute_reply": "2024-04-10T19:01:19.471811Z",
     "shell.execute_reply.started": "2024-04-10T19:01:19.434533Z"
    },
    "tags": []
   },
   "outputs": [],
   "source": [
    "X_train, X_test = train_df.drop(columns=['target', 'date']), test_df.drop(columns=['target', 'date'])\n",
    "y_train, y_test = train_df['target'], test_df['target']"
   ]
  },
  {
   "cell_type": "code",
   "execution_count": 5,
   "id": "14b15905-e36c-4e8f-9952-c9aa62f045e5",
   "metadata": {
    "execution": {
     "iopub.execute_input": "2024-04-10T19:01:19.473479Z",
     "iopub.status.busy": "2024-04-10T19:01:19.473135Z",
     "iopub.status.idle": "2024-04-10T19:01:19.560642Z",
     "shell.execute_reply": "2024-04-10T19:01:19.560034Z",
     "shell.execute_reply.started": "2024-04-10T19:01:19.473459Z"
    },
    "tags": []
   },
   "outputs": [
    {
     "data": {
      "text/html": [
       "<div>\n",
       "<style scoped>\n",
       "    .dataframe tbody tr th:only-of-type {\n",
       "        vertical-align: middle;\n",
       "    }\n",
       "\n",
       "    .dataframe tbody tr th {\n",
       "        vertical-align: top;\n",
       "    }\n",
       "\n",
       "    .dataframe thead th {\n",
       "        text-align: right;\n",
       "    }\n",
       "</style>\n",
       "<table border=\"1\" class=\"dataframe\">\n",
       "  <thead>\n",
       "    <tr style=\"text-align: right;\">\n",
       "      <th></th>\n",
       "      <th>open</th>\n",
       "      <th>close</th>\n",
       "      <th>average</th>\n",
       "      <th>median</th>\n",
       "      <th>min</th>\n",
       "      <th>max</th>\n",
       "      <th>standard_deviation</th>\n",
       "      <th>price_range_average</th>\n",
       "      <th>exponential_smoothing</th>\n",
       "      <th>double_exponential_smoothing</th>\n",
       "      <th>average_window2</th>\n",
       "      <th>average_window3</th>\n",
       "      <th>average_window5</th>\n",
       "      <th>average_window7</th>\n",
       "      <th>median_window2</th>\n",
       "      <th>median_window3</th>\n",
       "      <th>median_window5</th>\n",
       "      <th>median_window7</th>\n",
       "      <th>min_window2</th>\n",
       "      <th>min_window3</th>\n",
       "      <th>min_window5</th>\n",
       "      <th>min_window7</th>\n",
       "      <th>max_window2</th>\n",
       "      <th>max_window3</th>\n",
       "      <th>max_window5</th>\n",
       "      <th>max_window7</th>\n",
       "      <th>standard_deviation_window2</th>\n",
       "      <th>standard_deviation_window3</th>\n",
       "      <th>standard_deviation_window5</th>\n",
       "      <th>standard_deviation_window7</th>\n",
       "      <th>price_range_average_window2</th>\n",
       "      <th>price_range_average_window3</th>\n",
       "      <th>price_range_average_window5</th>\n",
       "      <th>price_range_average_window7</th>\n",
       "      <th>exponential_smoothing_window2</th>\n",
       "      <th>exponential_smoothing_window3</th>\n",
       "      <th>exponential_smoothing_window5</th>\n",
       "      <th>exponential_smoothing_window7</th>\n",
       "      <th>double_exponential_smoothing_window2</th>\n",
       "      <th>double_exponential_smoothing_window3</th>\n",
       "      <th>...</th>\n",
       "      <th>embed_10</th>\n",
       "      <th>embed_11</th>\n",
       "      <th>embed_12</th>\n",
       "      <th>embed_13</th>\n",
       "      <th>embed_14</th>\n",
       "      <th>embed_15</th>\n",
       "      <th>embed_16</th>\n",
       "      <th>embed_17</th>\n",
       "      <th>embed_18</th>\n",
       "      <th>embed_19</th>\n",
       "      <th>embed_20</th>\n",
       "      <th>embed_21</th>\n",
       "      <th>embed_22</th>\n",
       "      <th>embed_23</th>\n",
       "      <th>embed_24</th>\n",
       "      <th>embed_25</th>\n",
       "      <th>embed_26</th>\n",
       "      <th>embed_27</th>\n",
       "      <th>embed_28</th>\n",
       "      <th>embed_29</th>\n",
       "      <th>embed_30</th>\n",
       "      <th>embed_31</th>\n",
       "      <th>embed_32</th>\n",
       "      <th>embed_33</th>\n",
       "      <th>embed_34</th>\n",
       "      <th>embed_35</th>\n",
       "      <th>embed_36</th>\n",
       "      <th>embed_37</th>\n",
       "      <th>embed_38</th>\n",
       "      <th>embed_39</th>\n",
       "      <th>embed_40</th>\n",
       "      <th>embed_41</th>\n",
       "      <th>embed_42</th>\n",
       "      <th>embed_43</th>\n",
       "      <th>embed_44</th>\n",
       "      <th>embed_45</th>\n",
       "      <th>embed_46</th>\n",
       "      <th>embed_47</th>\n",
       "      <th>embed_48</th>\n",
       "      <th>embed_49</th>\n",
       "    </tr>\n",
       "  </thead>\n",
       "  <tbody>\n",
       "    <tr>\n",
       "      <th>0</th>\n",
       "      <td>2571.70</td>\n",
       "      <td>2578.58</td>\n",
       "      <td>2580.589074</td>\n",
       "      <td>2581.880</td>\n",
       "      <td>2568.20</td>\n",
       "      <td>2591.32</td>\n",
       "      <td>5.707423</td>\n",
       "      <td>2.792593</td>\n",
       "      <td>2579.358027</td>\n",
       "      <td>2579.163860</td>\n",
       "      <td>2558.655093</td>\n",
       "      <td>2552.469753</td>\n",
       "      <td>2545.920556</td>\n",
       "      <td>2538.743492</td>\n",
       "      <td>2558.085</td>\n",
       "      <td>2551.370</td>\n",
       "      <td>2542.905</td>\n",
       "      <td>2538.240</td>\n",
       "      <td>2542.61</td>\n",
       "      <td>2535.02</td>\n",
       "      <td>2524.94</td>\n",
       "      <td>2498.73</td>\n",
       "      <td>2573.48</td>\n",
       "      <td>2573.48</td>\n",
       "      <td>2573.48</td>\n",
       "      <td>2573.48</td>\n",
       "      <td>7.245471</td>\n",
       "      <td>10.748313</td>\n",
       "      <td>12.262226</td>\n",
       "      <td>15.808983</td>\n",
       "      <td>2.413056</td>\n",
       "      <td>2.305185</td>\n",
       "      <td>2.403407</td>\n",
       "      <td>2.396693</td>\n",
       "      <td>2566.950416</td>\n",
       "      <td>2567.013219</td>\n",
       "      <td>2566.982171</td>\n",
       "      <td>2567.045733</td>\n",
       "      <td>2567.221763</td>\n",
       "      <td>2567.232961</td>\n",
       "      <td>...</td>\n",
       "      <td>-0.009145</td>\n",
       "      <td>-0.017099</td>\n",
       "      <td>0.053937</td>\n",
       "      <td>-0.021382</td>\n",
       "      <td>0.002379</td>\n",
       "      <td>-0.044615</td>\n",
       "      <td>0.030344</td>\n",
       "      <td>-0.031999</td>\n",
       "      <td>-0.026558</td>\n",
       "      <td>0.031940</td>\n",
       "      <td>0.006469</td>\n",
       "      <td>-0.097522</td>\n",
       "      <td>-0.025495</td>\n",
       "      <td>0.013765</td>\n",
       "      <td>0.017531</td>\n",
       "      <td>0.049443</td>\n",
       "      <td>-0.037943</td>\n",
       "      <td>0.018642</td>\n",
       "      <td>-0.015990</td>\n",
       "      <td>0.008725</td>\n",
       "      <td>0.025315</td>\n",
       "      <td>-0.047518</td>\n",
       "      <td>-0.022412</td>\n",
       "      <td>0.008870</td>\n",
       "      <td>0.057152</td>\n",
       "      <td>0.001072</td>\n",
       "      <td>0.066918</td>\n",
       "      <td>0.021410</td>\n",
       "      <td>0.016063</td>\n",
       "      <td>0.000087</td>\n",
       "      <td>0.001680</td>\n",
       "      <td>-0.008341</td>\n",
       "      <td>0.025299</td>\n",
       "      <td>-0.047279</td>\n",
       "      <td>0.011749</td>\n",
       "      <td>0.018427</td>\n",
       "      <td>-0.063661</td>\n",
       "      <td>0.020965</td>\n",
       "      <td>-0.020759</td>\n",
       "      <td>-0.022067</td>\n",
       "    </tr>\n",
       "    <tr>\n",
       "      <th>1</th>\n",
       "      <td>2578.37</td>\n",
       "      <td>2551.45</td>\n",
       "      <td>2567.153333</td>\n",
       "      <td>2567.385</td>\n",
       "      <td>2551.45</td>\n",
       "      <td>2585.16</td>\n",
       "      <td>8.121339</td>\n",
       "      <td>3.456481</td>\n",
       "      <td>2555.642652</td>\n",
       "      <td>2555.138077</td>\n",
       "      <td>2572.974352</td>\n",
       "      <td>2565.966420</td>\n",
       "      <td>2553.732556</td>\n",
       "      <td>2547.913016</td>\n",
       "      <td>2569.255</td>\n",
       "      <td>2565.520</td>\n",
       "      <td>2551.370</td>\n",
       "      <td>2542.905</td>\n",
       "      <td>2556.82</td>\n",
       "      <td>2542.61</td>\n",
       "      <td>2524.94</td>\n",
       "      <td>2514.99</td>\n",
       "      <td>2591.32</td>\n",
       "      <td>2591.32</td>\n",
       "      <td>2591.32</td>\n",
       "      <td>2591.32</td>\n",
       "      <td>8.853463</td>\n",
       "      <td>12.376898</td>\n",
       "      <td>18.177365</td>\n",
       "      <td>18.542792</td>\n",
       "      <td>2.717130</td>\n",
       "      <td>2.539568</td>\n",
       "      <td>2.404296</td>\n",
       "      <td>2.462540</td>\n",
       "      <td>2579.364861</td>\n",
       "      <td>2579.395097</td>\n",
       "      <td>2579.483669</td>\n",
       "      <td>2579.541000</td>\n",
       "      <td>2579.526934</td>\n",
       "      <td>2579.626288</td>\n",
       "      <td>...</td>\n",
       "      <td>0.064316</td>\n",
       "      <td>-0.068434</td>\n",
       "      <td>-0.016868</td>\n",
       "      <td>-0.050578</td>\n",
       "      <td>0.000476</td>\n",
       "      <td>-0.064271</td>\n",
       "      <td>0.011584</td>\n",
       "      <td>-0.032192</td>\n",
       "      <td>-0.014640</td>\n",
       "      <td>0.018673</td>\n",
       "      <td>-0.007736</td>\n",
       "      <td>-0.063405</td>\n",
       "      <td>-0.048910</td>\n",
       "      <td>-0.067918</td>\n",
       "      <td>0.054933</td>\n",
       "      <td>0.047476</td>\n",
       "      <td>0.004324</td>\n",
       "      <td>-0.025706</td>\n",
       "      <td>0.002638</td>\n",
       "      <td>-0.019209</td>\n",
       "      <td>0.012108</td>\n",
       "      <td>0.031421</td>\n",
       "      <td>0.026823</td>\n",
       "      <td>0.003390</td>\n",
       "      <td>-0.055900</td>\n",
       "      <td>0.022910</td>\n",
       "      <td>0.024787</td>\n",
       "      <td>0.043919</td>\n",
       "      <td>0.026515</td>\n",
       "      <td>-0.026181</td>\n",
       "      <td>-0.016479</td>\n",
       "      <td>0.033675</td>\n",
       "      <td>-0.005803</td>\n",
       "      <td>-0.016824</td>\n",
       "      <td>0.037643</td>\n",
       "      <td>0.017715</td>\n",
       "      <td>0.018166</td>\n",
       "      <td>-0.038453</td>\n",
       "      <td>-0.010503</td>\n",
       "      <td>-0.083353</td>\n",
       "    </tr>\n",
       "    <tr>\n",
       "      <th>2</th>\n",
       "      <td>2550.87</td>\n",
       "      <td>2559.72</td>\n",
       "      <td>2560.093704</td>\n",
       "      <td>2560.180</td>\n",
       "      <td>2550.71</td>\n",
       "      <td>2569.31</td>\n",
       "      <td>4.565859</td>\n",
       "      <td>3.074074</td>\n",
       "      <td>2555.420000</td>\n",
       "      <td>2555.586981</td>\n",
       "      <td>2573.871204</td>\n",
       "      <td>2571.034012</td>\n",
       "      <td>2561.030333</td>\n",
       "      <td>2553.906455</td>\n",
       "      <td>2575.015</td>\n",
       "      <td>2568.305</td>\n",
       "      <td>2562.730</td>\n",
       "      <td>2551.370</td>\n",
       "      <td>2551.45</td>\n",
       "      <td>2551.45</td>\n",
       "      <td>2535.02</td>\n",
       "      <td>2524.94</td>\n",
       "      <td>2591.32</td>\n",
       "      <td>2591.32</td>\n",
       "      <td>2591.32</td>\n",
       "      <td>2591.32</td>\n",
       "      <td>9.713729</td>\n",
       "      <td>9.021222</td>\n",
       "      <td>14.731261</td>\n",
       "      <td>17.144306</td>\n",
       "      <td>3.124537</td>\n",
       "      <td>2.963580</td>\n",
       "      <td>2.632926</td>\n",
       "      <td>2.609444</td>\n",
       "      <td>2555.715178</td>\n",
       "      <td>2555.728982</td>\n",
       "      <td>2555.677141</td>\n",
       "      <td>2555.695018</td>\n",
       "      <td>2555.514265</td>\n",
       "      <td>2555.647750</td>\n",
       "      <td>...</td>\n",
       "      <td>-0.029014</td>\n",
       "      <td>-0.081533</td>\n",
       "      <td>0.009149</td>\n",
       "      <td>-0.069129</td>\n",
       "      <td>0.045426</td>\n",
       "      <td>-0.047195</td>\n",
       "      <td>0.028309</td>\n",
       "      <td>-0.049277</td>\n",
       "      <td>-0.081661</td>\n",
       "      <td>-0.056326</td>\n",
       "      <td>0.027823</td>\n",
       "      <td>-0.027317</td>\n",
       "      <td>-0.017471</td>\n",
       "      <td>-0.018764</td>\n",
       "      <td>0.053599</td>\n",
       "      <td>0.023301</td>\n",
       "      <td>-0.025196</td>\n",
       "      <td>0.014830</td>\n",
       "      <td>-0.023544</td>\n",
       "      <td>0.016470</td>\n",
       "      <td>0.027150</td>\n",
       "      <td>-0.012344</td>\n",
       "      <td>0.003003</td>\n",
       "      <td>-0.016627</td>\n",
       "      <td>0.009584</td>\n",
       "      <td>-0.035848</td>\n",
       "      <td>-0.036979</td>\n",
       "      <td>0.019561</td>\n",
       "      <td>0.020065</td>\n",
       "      <td>-0.047644</td>\n",
       "      <td>0.002036</td>\n",
       "      <td>0.032801</td>\n",
       "      <td>0.011396</td>\n",
       "      <td>-0.036418</td>\n",
       "      <td>0.009460</td>\n",
       "      <td>-0.029904</td>\n",
       "      <td>-0.043184</td>\n",
       "      <td>0.045716</td>\n",
       "      <td>0.003264</td>\n",
       "      <td>-0.024021</td>\n",
       "    </tr>\n",
       "    <tr>\n",
       "      <th>3</th>\n",
       "      <td>2564.48</td>\n",
       "      <td>2545.12</td>\n",
       "      <td>2558.738333</td>\n",
       "      <td>2562.045</td>\n",
       "      <td>2542.74</td>\n",
       "      <td>2568.64</td>\n",
       "      <td>7.268994</td>\n",
       "      <td>2.575926</td>\n",
       "      <td>2545.710000</td>\n",
       "      <td>2545.344722</td>\n",
       "      <td>2563.623519</td>\n",
       "      <td>2569.278704</td>\n",
       "      <td>2565.029259</td>\n",
       "      <td>2556.558545</td>\n",
       "      <td>2562.515</td>\n",
       "      <td>2567.780</td>\n",
       "      <td>2564.110</td>\n",
       "      <td>2558.655</td>\n",
       "      <td>2550.71</td>\n",
       "      <td>2550.71</td>\n",
       "      <td>2542.61</td>\n",
       "      <td>2524.94</td>\n",
       "      <td>2585.16</td>\n",
       "      <td>2591.32</td>\n",
       "      <td>2591.32</td>\n",
       "      <td>2591.32</td>\n",
       "      <td>7.454664</td>\n",
       "      <td>10.583753</td>\n",
       "      <td>10.729023</td>\n",
       "      <td>16.478847</td>\n",
       "      <td>3.265278</td>\n",
       "      <td>3.107716</td>\n",
       "      <td>2.829852</td>\n",
       "      <td>2.650291</td>\n",
       "      <td>2555.342385</td>\n",
       "      <td>2555.118825</td>\n",
       "      <td>2555.069926</td>\n",
       "      <td>2555.123059</td>\n",
       "      <td>2555.135621</td>\n",
       "      <td>2555.031981</td>\n",
       "      <td>...</td>\n",
       "      <td>0.000000</td>\n",
       "      <td>0.000000</td>\n",
       "      <td>0.000000</td>\n",
       "      <td>0.000000</td>\n",
       "      <td>0.000000</td>\n",
       "      <td>0.000000</td>\n",
       "      <td>0.000000</td>\n",
       "      <td>0.000000</td>\n",
       "      <td>0.000000</td>\n",
       "      <td>0.000000</td>\n",
       "      <td>0.000000</td>\n",
       "      <td>0.000000</td>\n",
       "      <td>0.000000</td>\n",
       "      <td>0.000000</td>\n",
       "      <td>0.000000</td>\n",
       "      <td>0.000000</td>\n",
       "      <td>0.000000</td>\n",
       "      <td>0.000000</td>\n",
       "      <td>0.000000</td>\n",
       "      <td>0.000000</td>\n",
       "      <td>0.000000</td>\n",
       "      <td>0.000000</td>\n",
       "      <td>0.000000</td>\n",
       "      <td>0.000000</td>\n",
       "      <td>0.000000</td>\n",
       "      <td>0.000000</td>\n",
       "      <td>0.000000</td>\n",
       "      <td>0.000000</td>\n",
       "      <td>0.000000</td>\n",
       "      <td>0.000000</td>\n",
       "      <td>0.000000</td>\n",
       "      <td>0.000000</td>\n",
       "      <td>0.000000</td>\n",
       "      <td>0.000000</td>\n",
       "      <td>0.000000</td>\n",
       "      <td>0.000000</td>\n",
       "      <td>0.000000</td>\n",
       "      <td>0.000000</td>\n",
       "      <td>0.000000</td>\n",
       "      <td>0.000000</td>\n",
       "    </tr>\n",
       "    <tr>\n",
       "      <th>4</th>\n",
       "      <td>2547.17</td>\n",
       "      <td>2559.84</td>\n",
       "      <td>2550.221667</td>\n",
       "      <td>2550.165</td>\n",
       "      <td>2541.31</td>\n",
       "      <td>2566.72</td>\n",
       "      <td>5.445997</td>\n",
       "      <td>3.147778</td>\n",
       "      <td>2562.066617</td>\n",
       "      <td>2562.292787</td>\n",
       "      <td>2559.416019</td>\n",
       "      <td>2561.995123</td>\n",
       "      <td>2566.386815</td>\n",
       "      <td>2560.569101</td>\n",
       "      <td>2560.700</td>\n",
       "      <td>2562.325</td>\n",
       "      <td>2565.070</td>\n",
       "      <td>2561.650</td>\n",
       "      <td>2542.74</td>\n",
       "      <td>2542.74</td>\n",
       "      <td>2542.74</td>\n",
       "      <td>2535.02</td>\n",
       "      <td>2569.31</td>\n",
       "      <td>2585.16</td>\n",
       "      <td>2591.32</td>\n",
       "      <td>2591.32</td>\n",
       "      <td>6.079630</td>\n",
       "      <td>7.724196</td>\n",
       "      <td>9.794175</td>\n",
       "      <td>12.878916</td>\n",
       "      <td>2.825000</td>\n",
       "      <td>3.035494</td>\n",
       "      <td>2.908148</td>\n",
       "      <td>2.687804</td>\n",
       "      <td>2545.710000</td>\n",
       "      <td>2545.710000</td>\n",
       "      <td>2545.708012</td>\n",
       "      <td>2545.708543</td>\n",
       "      <td>2545.656263</td>\n",
       "      <td>2545.503476</td>\n",
       "      <td>...</td>\n",
       "      <td>-0.062779</td>\n",
       "      <td>0.018018</td>\n",
       "      <td>-0.022998</td>\n",
       "      <td>-0.066873</td>\n",
       "      <td>0.004357</td>\n",
       "      <td>-0.005248</td>\n",
       "      <td>-0.010908</td>\n",
       "      <td>-0.044441</td>\n",
       "      <td>-0.020173</td>\n",
       "      <td>0.108659</td>\n",
       "      <td>0.049846</td>\n",
       "      <td>0.024345</td>\n",
       "      <td>-0.005077</td>\n",
       "      <td>0.031751</td>\n",
       "      <td>0.014374</td>\n",
       "      <td>-0.054669</td>\n",
       "      <td>-0.039676</td>\n",
       "      <td>0.032460</td>\n",
       "      <td>-0.037565</td>\n",
       "      <td>0.029901</td>\n",
       "      <td>-0.014397</td>\n",
       "      <td>-0.006033</td>\n",
       "      <td>0.018552</td>\n",
       "      <td>0.038865</td>\n",
       "      <td>-0.036656</td>\n",
       "      <td>-0.020044</td>\n",
       "      <td>0.034965</td>\n",
       "      <td>0.038994</td>\n",
       "      <td>0.044007</td>\n",
       "      <td>-0.031532</td>\n",
       "      <td>-0.034723</td>\n",
       "      <td>0.002776</td>\n",
       "      <td>-0.004790</td>\n",
       "      <td>0.020137</td>\n",
       "      <td>-0.015429</td>\n",
       "      <td>0.008522</td>\n",
       "      <td>-0.028555</td>\n",
       "      <td>0.026753</td>\n",
       "      <td>0.020259</td>\n",
       "      <td>-0.027801</td>\n",
       "    </tr>\n",
       "  </tbody>\n",
       "</table>\n",
       "<p>5 rows × 96 columns</p>\n",
       "</div>"
      ],
      "text/plain": [
       "      open    close      average  ...  embed_47  embed_48  embed_49\n",
       "0  2571.70  2578.58  2580.589074  ...  0.020965 -0.020759 -0.022067\n",
       "1  2578.37  2551.45  2567.153333  ... -0.038453 -0.010503 -0.083353\n",
       "2  2550.87  2559.72  2560.093704  ...  0.045716  0.003264 -0.024021\n",
       "3  2564.48  2545.12  2558.738333  ...  0.000000  0.000000  0.000000\n",
       "4  2547.17  2559.84  2550.221667  ...  0.026753  0.020259 -0.027801\n",
       "\n",
       "[5 rows x 96 columns]"
      ]
     },
     "execution_count": 5,
     "metadata": {},
     "output_type": "execute_result"
    }
   ],
   "source": [
    "X_train.head()"
   ]
  },
  {
   "cell_type": "code",
   "execution_count": 37,
   "id": "106a785e-99d0-4073-a62c-bc545b28dcde",
   "metadata": {
    "execution": {
     "iopub.execute_input": "2024-04-10T19:14:56.292539Z",
     "iopub.status.busy": "2024-04-10T19:14:56.291921Z",
     "iopub.status.idle": "2024-04-10T19:14:56.315007Z",
     "shell.execute_reply": "2024-04-10T19:14:56.314432Z",
     "shell.execute_reply.started": "2024-04-10T19:14:56.292511Z"
    },
    "tags": []
   },
   "outputs": [],
   "source": [
    "def build_charts():\n",
    "    sns.set(style=\"whitegrid\")\n",
    "    fig, axs = plt.subplots(3, 1, figsize=(18, 30))\n",
    "\n",
    "    sns.lineplot(data=test_df, x='date', y=y_pred, ax=axs[0], label='Predict', color='red')\n",
    "    sns.lineplot(data=test_df, x='date', y=y_test, ax=axs[0], label='Truth', color='blue')\n",
    "    axs[0].set_title('Predict vs. Truth')\n",
    "    axs[0].legend()\n",
    "    \n",
    "    sns.lineplot(data=test_df, x='date', y='exponential_smoothing_window7', ax=axs[1], label='Exp smoothing', color='red')\n",
    "    sns.lineplot(data=test_df, x='date', y=y_test, ax=axs[1], label='Truth', color='blue')\n",
    "    axs[1].set_title('Exponential Smoothing vs. Truth')\n",
    "    axs[1].legend()\n",
    "\n",
    "    sns.lineplot(data=test_df, x='date', y=y_pred, ax=axs[2], label='Predict', color='red')\n",
    "    sns.lineplot(data=test_df, x='date', y='exponential_smoothing_window7', ax=axs[2], label='Exp smoothing', color='blue')\n",
    "    axs[2].set_title('Predict vs. Exponential Smoothing')\n",
    "    axs[2].legend()\n",
    "\n",
    "    # plt.tight_layout()\n",
    "\n",
    "    for ax in axs:\n",
    "        ax.set_xticks(ax.get_xticks()[::len(test_df['date']) // 10])\n",
    "        ax.set_xticklabels(test_df['date'][::len(test_df['date']) // 10], rotation=45)\n",
    "\n",
    "    plt.show()"
   ]
  },
  {
   "cell_type": "code",
   "execution_count": 7,
   "id": "bb37d418-e8c6-4c24-bded-be1145a83c89",
   "metadata": {
    "execution": {
     "iopub.execute_input": "2024-04-10T19:01:20.089720Z",
     "iopub.status.busy": "2024-04-10T19:01:20.089086Z",
     "iopub.status.idle": "2024-04-10T19:01:20.123035Z",
     "shell.execute_reply": "2024-04-10T19:01:20.122437Z",
     "shell.execute_reply.started": "2024-04-10T19:01:20.089693Z"
    },
    "tags": []
   },
   "outputs": [],
   "source": [
    "params = {\n",
    "    'depth': 3,    \n",
    "    'iterations': 1000,\n",
    "    'learning_rate': 0.1,        \n",
    "    'eval_metric': 'RMSE',\n",
    "#    'leaf_estimation_iterations': 10,\n",
    "    'random_seed': 42,\n",
    "#    'task_type': 'GPU',\n",
    "#    'devices': '0'\n",
    "}"
   ]
  },
  {
   "cell_type": "markdown",
   "id": "0001f46d-7e2a-45f5-8cc5-a341a79e1862",
   "metadata": {
    "tags": []
   },
   "source": [
    "# CatBoost"
   ]
  },
  {
   "cell_type": "code",
   "execution_count": 8,
   "id": "953d0420-279b-4579-8e0a-6d2f4b1b4dc3",
   "metadata": {
    "execution": {
     "iopub.execute_input": "2024-04-10T19:01:28.997705Z",
     "iopub.status.busy": "2024-04-10T19:01:28.997302Z",
     "iopub.status.idle": "2024-04-10T19:01:29.016876Z",
     "shell.execute_reply": "2024-04-10T19:01:29.016301Z",
     "shell.execute_reply.started": "2024-04-10T19:01:28.997680Z"
    },
    "tags": []
   },
   "outputs": [],
   "source": [
    "# model = CatBoostRegressor(task_type='GPU', devices='0')\n",
    "model = CatBoostRegressor()"
   ]
  },
  {
   "cell_type": "code",
   "execution_count": 9,
   "id": "111e67ad-55eb-4c84-99ec-310dfdf656ec",
   "metadata": {
    "execution": {
     "iopub.execute_input": "2024-04-10T19:01:29.585017Z",
     "iopub.status.busy": "2024-04-10T19:01:29.584614Z",
     "iopub.status.idle": "2024-04-10T19:01:31.768412Z",
     "shell.execute_reply": "2024-04-10T19:01:31.767720Z",
     "shell.execute_reply.started": "2024-04-10T19:01:29.584995Z"
    },
    "scrolled": true,
    "tags": []
   },
   "outputs": [
    {
     "name": "stdout",
     "output_type": "stream",
     "text": [
      "Learning rate set to 0.040733\n",
      "0:\tlearn: 581.1980787\ttotal: 54.1ms\tremaining: 54s\n",
      "1:\tlearn: 560.5007286\ttotal: 56.1ms\tremaining: 28s\n",
      "2:\tlearn: 540.0424899\ttotal: 58.3ms\tremaining: 19.4s\n",
      "3:\tlearn: 520.6006377\ttotal: 60ms\tremaining: 15s\n",
      "4:\tlearn: 502.0942232\ttotal: 61.8ms\tremaining: 12.3s\n",
      "5:\tlearn: 484.1385379\ttotal: 63.6ms\tremaining: 10.5s\n",
      "6:\tlearn: 467.7875563\ttotal: 65.4ms\tremaining: 9.28s\n",
      "7:\tlearn: 450.6010755\ttotal: 67.3ms\tremaining: 8.34s\n",
      "8:\tlearn: 434.6710859\ttotal: 69.2ms\tremaining: 7.62s\n",
      "9:\tlearn: 419.0439637\ttotal: 71ms\tremaining: 7.03s\n",
      "10:\tlearn: 404.6090436\ttotal: 72.8ms\tremaining: 6.55s\n",
      "11:\tlearn: 390.2017236\ttotal: 74.7ms\tremaining: 6.15s\n",
      "12:\tlearn: 376.1203883\ttotal: 76.5ms\tremaining: 5.81s\n",
      "13:\tlearn: 362.6386458\ttotal: 78.3ms\tremaining: 5.52s\n",
      "14:\tlearn: 350.1489804\ttotal: 80.2ms\tremaining: 5.26s\n",
      "15:\tlearn: 337.6469290\ttotal: 82.1ms\tremaining: 5.05s\n",
      "16:\tlearn: 325.5575028\ttotal: 83.9ms\tremaining: 4.85s\n",
      "17:\tlearn: 313.7631086\ttotal: 85.8ms\tremaining: 4.68s\n",
      "18:\tlearn: 302.4539668\ttotal: 87.6ms\tremaining: 4.53s\n",
      "19:\tlearn: 291.5180190\ttotal: 89.5ms\tremaining: 4.38s\n",
      "20:\tlearn: 281.5232717\ttotal: 91.5ms\tremaining: 4.27s\n",
      "21:\tlearn: 271.8573205\ttotal: 93.3ms\tremaining: 4.15s\n",
      "22:\tlearn: 263.1014779\ttotal: 95.2ms\tremaining: 4.04s\n",
      "23:\tlearn: 253.8895853\ttotal: 97ms\tremaining: 3.94s\n",
      "24:\tlearn: 245.6889897\ttotal: 98.9ms\tremaining: 3.86s\n",
      "25:\tlearn: 237.4945198\ttotal: 101ms\tremaining: 3.77s\n",
      "26:\tlearn: 229.5499223\ttotal: 103ms\tremaining: 3.7s\n",
      "27:\tlearn: 221.9923649\ttotal: 105ms\tremaining: 3.63s\n",
      "28:\tlearn: 214.1791964\ttotal: 106ms\tremaining: 3.56s\n",
      "29:\tlearn: 207.2439190\ttotal: 108ms\tremaining: 3.5s\n",
      "30:\tlearn: 200.6599784\ttotal: 110ms\tremaining: 3.45s\n",
      "31:\tlearn: 194.0362920\ttotal: 112ms\tremaining: 3.39s\n",
      "32:\tlearn: 187.3416477\ttotal: 114ms\tremaining: 3.33s\n",
      "33:\tlearn: 181.3135500\ttotal: 116ms\tremaining: 3.29s\n",
      "34:\tlearn: 175.4311446\ttotal: 118ms\tremaining: 3.24s\n",
      "35:\tlearn: 169.4735799\ttotal: 119ms\tremaining: 3.2s\n",
      "36:\tlearn: 164.2662569\ttotal: 121ms\tremaining: 3.15s\n",
      "37:\tlearn: 158.9765669\ttotal: 123ms\tremaining: 3.11s\n",
      "38:\tlearn: 154.0344597\ttotal: 125ms\tremaining: 3.08s\n",
      "39:\tlearn: 149.2430819\ttotal: 127ms\tremaining: 3.04s\n",
      "40:\tlearn: 144.5517859\ttotal: 128ms\tremaining: 3s\n",
      "41:\tlearn: 139.9758751\ttotal: 130ms\tremaining: 2.97s\n",
      "42:\tlearn: 135.5207679\ttotal: 132ms\tremaining: 2.94s\n",
      "43:\tlearn: 131.3618382\ttotal: 134ms\tremaining: 2.91s\n",
      "44:\tlearn: 127.5056723\ttotal: 136ms\tremaining: 2.89s\n",
      "45:\tlearn: 123.8772901\ttotal: 138ms\tremaining: 2.86s\n",
      "46:\tlearn: 120.1341766\ttotal: 140ms\tremaining: 2.83s\n",
      "47:\tlearn: 116.6363587\ttotal: 142ms\tremaining: 2.81s\n",
      "48:\tlearn: 113.3799921\ttotal: 143ms\tremaining: 2.78s\n",
      "49:\tlearn: 110.3243146\ttotal: 145ms\tremaining: 2.76s\n",
      "50:\tlearn: 107.2815751\ttotal: 147ms\tremaining: 2.74s\n",
      "51:\tlearn: 104.2823772\ttotal: 149ms\tremaining: 2.71s\n",
      "52:\tlearn: 101.5439408\ttotal: 151ms\tremaining: 2.69s\n",
      "53:\tlearn: 99.0137333\ttotal: 153ms\tremaining: 2.67s\n",
      "54:\tlearn: 96.3399596\ttotal: 155ms\tremaining: 2.67s\n",
      "55:\tlearn: 93.9706341\ttotal: 158ms\tremaining: 2.66s\n",
      "56:\tlearn: 91.6837028\ttotal: 160ms\tremaining: 2.65s\n",
      "57:\tlearn: 89.5541482\ttotal: 162ms\tremaining: 2.63s\n",
      "58:\tlearn: 87.4942480\ttotal: 164ms\tremaining: 2.61s\n",
      "59:\tlearn: 85.3147771\ttotal: 166ms\tremaining: 2.6s\n",
      "60:\tlearn: 83.1482345\ttotal: 168ms\tremaining: 2.58s\n",
      "61:\tlearn: 81.1491858\ttotal: 169ms\tremaining: 2.56s\n",
      "62:\tlearn: 79.3594697\ttotal: 171ms\tremaining: 2.54s\n",
      "63:\tlearn: 77.5953258\ttotal: 173ms\tremaining: 2.53s\n",
      "64:\tlearn: 75.9807038\ttotal: 175ms\tremaining: 2.51s\n",
      "65:\tlearn: 74.3105096\ttotal: 177ms\tremaining: 2.5s\n",
      "66:\tlearn: 72.9234338\ttotal: 179ms\tremaining: 2.49s\n",
      "67:\tlearn: 71.4450491\ttotal: 180ms\tremaining: 2.47s\n",
      "68:\tlearn: 70.0985263\ttotal: 182ms\tremaining: 2.46s\n",
      "69:\tlearn: 68.7860265\ttotal: 184ms\tremaining: 2.44s\n",
      "70:\tlearn: 67.4509449\ttotal: 186ms\tremaining: 2.43s\n",
      "71:\tlearn: 66.2158362\ttotal: 188ms\tremaining: 2.42s\n",
      "72:\tlearn: 65.1531061\ttotal: 190ms\tremaining: 2.41s\n",
      "73:\tlearn: 64.1072925\ttotal: 192ms\tremaining: 2.4s\n",
      "74:\tlearn: 63.0803779\ttotal: 194ms\tremaining: 2.39s\n",
      "75:\tlearn: 61.9932209\ttotal: 196ms\tremaining: 2.38s\n",
      "76:\tlearn: 60.9574941\ttotal: 197ms\tremaining: 2.37s\n",
      "77:\tlearn: 59.9060430\ttotal: 199ms\tremaining: 2.36s\n",
      "78:\tlearn: 58.9056404\ttotal: 201ms\tremaining: 2.35s\n",
      "79:\tlearn: 58.0964392\ttotal: 203ms\tremaining: 2.33s\n",
      "80:\tlearn: 57.2386769\ttotal: 205ms\tremaining: 2.32s\n",
      "81:\tlearn: 56.5449233\ttotal: 207ms\tremaining: 2.31s\n",
      "82:\tlearn: 55.8263472\ttotal: 209ms\tremaining: 2.3s\n",
      "83:\tlearn: 55.1502258\ttotal: 210ms\tremaining: 2.29s\n",
      "84:\tlearn: 54.4851366\ttotal: 212ms\tremaining: 2.28s\n",
      "85:\tlearn: 53.8166186\ttotal: 214ms\tremaining: 2.27s\n",
      "86:\tlearn: 53.1562855\ttotal: 216ms\tremaining: 2.26s\n",
      "87:\tlearn: 52.4851162\ttotal: 218ms\tremaining: 2.26s\n",
      "88:\tlearn: 51.8747938\ttotal: 219ms\tremaining: 2.25s\n",
      "89:\tlearn: 51.2171616\ttotal: 221ms\tremaining: 2.24s\n",
      "90:\tlearn: 50.5291406\ttotal: 223ms\tremaining: 2.23s\n",
      "91:\tlearn: 50.0918119\ttotal: 225ms\tremaining: 2.22s\n",
      "92:\tlearn: 49.4732992\ttotal: 227ms\tremaining: 2.21s\n",
      "93:\tlearn: 48.9785834\ttotal: 229ms\tremaining: 2.2s\n",
      "94:\tlearn: 48.4805632\ttotal: 230ms\tremaining: 2.19s\n",
      "95:\tlearn: 47.9908022\ttotal: 232ms\tremaining: 2.18s\n",
      "96:\tlearn: 47.5324436\ttotal: 234ms\tremaining: 2.18s\n",
      "97:\tlearn: 47.0728153\ttotal: 236ms\tremaining: 2.17s\n",
      "98:\tlearn: 46.6981603\ttotal: 237ms\tremaining: 2.16s\n",
      "99:\tlearn: 46.2540764\ttotal: 239ms\tremaining: 2.15s\n",
      "100:\tlearn: 45.8078340\ttotal: 241ms\tremaining: 2.15s\n",
      "101:\tlearn: 45.4097953\ttotal: 243ms\tremaining: 2.14s\n",
      "102:\tlearn: 45.0639660\ttotal: 244ms\tremaining: 2.13s\n",
      "103:\tlearn: 44.7504846\ttotal: 246ms\tremaining: 2.12s\n",
      "104:\tlearn: 44.4122492\ttotal: 248ms\tremaining: 2.11s\n",
      "105:\tlearn: 44.0972605\ttotal: 250ms\tremaining: 2.11s\n",
      "106:\tlearn: 43.8813289\ttotal: 252ms\tremaining: 2.1s\n",
      "107:\tlearn: 43.5927570\ttotal: 254ms\tremaining: 2.09s\n",
      "108:\tlearn: 43.3155325\ttotal: 255ms\tremaining: 2.09s\n",
      "109:\tlearn: 43.0231341\ttotal: 257ms\tremaining: 2.08s\n",
      "110:\tlearn: 42.7512767\ttotal: 259ms\tremaining: 2.08s\n",
      "111:\tlearn: 42.5244397\ttotal: 261ms\tremaining: 2.07s\n",
      "112:\tlearn: 42.2643469\ttotal: 263ms\tremaining: 2.06s\n",
      "113:\tlearn: 41.9951416\ttotal: 265ms\tremaining: 2.06s\n",
      "114:\tlearn: 41.7510670\ttotal: 266ms\tremaining: 2.05s\n",
      "115:\tlearn: 41.4948346\ttotal: 268ms\tremaining: 2.04s\n",
      "116:\tlearn: 41.2527161\ttotal: 270ms\tremaining: 2.04s\n",
      "117:\tlearn: 40.9711121\ttotal: 272ms\tremaining: 2.03s\n",
      "118:\tlearn: 40.7822538\ttotal: 274ms\tremaining: 2.03s\n",
      "119:\tlearn: 40.5764679\ttotal: 276ms\tremaining: 2.02s\n",
      "120:\tlearn: 40.3782081\ttotal: 278ms\tremaining: 2.02s\n",
      "121:\tlearn: 40.2300847\ttotal: 280ms\tremaining: 2.01s\n",
      "122:\tlearn: 40.0475130\ttotal: 281ms\tremaining: 2.01s\n",
      "123:\tlearn: 39.8902906\ttotal: 283ms\tremaining: 2s\n",
      "124:\tlearn: 39.6859254\ttotal: 285ms\tremaining: 2s\n",
      "125:\tlearn: 39.5024622\ttotal: 287ms\tremaining: 1.99s\n",
      "126:\tlearn: 39.3535661\ttotal: 289ms\tremaining: 1.98s\n",
      "127:\tlearn: 39.2101180\ttotal: 290ms\tremaining: 1.98s\n",
      "128:\tlearn: 39.0513259\ttotal: 292ms\tremaining: 1.97s\n",
      "129:\tlearn: 38.9550846\ttotal: 294ms\tremaining: 1.97s\n",
      "130:\tlearn: 38.8503101\ttotal: 296ms\tremaining: 1.96s\n",
      "131:\tlearn: 38.7058876\ttotal: 298ms\tremaining: 1.96s\n",
      "132:\tlearn: 38.5571082\ttotal: 300ms\tremaining: 1.95s\n",
      "133:\tlearn: 38.3779513\ttotal: 302ms\tremaining: 1.95s\n",
      "134:\tlearn: 38.2591677\ttotal: 303ms\tremaining: 1.94s\n",
      "135:\tlearn: 38.0978933\ttotal: 305ms\tremaining: 1.94s\n",
      "136:\tlearn: 37.9828367\ttotal: 307ms\tremaining: 1.94s\n",
      "137:\tlearn: 37.8741261\ttotal: 309ms\tremaining: 1.93s\n",
      "138:\tlearn: 37.8195097\ttotal: 311ms\tremaining: 1.93s\n",
      "139:\tlearn: 37.6971742\ttotal: 313ms\tremaining: 1.92s\n",
      "140:\tlearn: 37.6011805\ttotal: 315ms\tremaining: 1.92s\n",
      "141:\tlearn: 37.4689051\ttotal: 316ms\tremaining: 1.91s\n",
      "142:\tlearn: 37.3648017\ttotal: 318ms\tremaining: 1.91s\n",
      "143:\tlearn: 37.2413164\ttotal: 320ms\tremaining: 1.9s\n",
      "144:\tlearn: 37.0749930\ttotal: 322ms\tremaining: 1.9s\n",
      "145:\tlearn: 36.9347751\ttotal: 324ms\tremaining: 1.89s\n",
      "146:\tlearn: 36.8368311\ttotal: 326ms\tremaining: 1.89s\n",
      "147:\tlearn: 36.7468434\ttotal: 328ms\tremaining: 1.89s\n",
      "148:\tlearn: 36.6465857\ttotal: 329ms\tremaining: 1.88s\n",
      "149:\tlearn: 36.5662301\ttotal: 331ms\tremaining: 1.88s\n",
      "150:\tlearn: 36.4510071\ttotal: 333ms\tremaining: 1.87s\n",
      "151:\tlearn: 36.3292051\ttotal: 335ms\tremaining: 1.87s\n",
      "152:\tlearn: 36.1911919\ttotal: 337ms\tremaining: 1.86s\n",
      "153:\tlearn: 36.0977430\ttotal: 339ms\tremaining: 1.86s\n",
      "154:\tlearn: 36.0288800\ttotal: 341ms\tremaining: 1.86s\n",
      "155:\tlearn: 35.9247013\ttotal: 343ms\tremaining: 1.85s\n",
      "156:\tlearn: 35.8735551\ttotal: 344ms\tremaining: 1.85s\n",
      "157:\tlearn: 35.8088285\ttotal: 347ms\tremaining: 1.85s\n",
      "158:\tlearn: 35.7105716\ttotal: 352ms\tremaining: 1.86s\n",
      "159:\tlearn: 35.6036974\ttotal: 355ms\tremaining: 1.86s\n",
      "160:\tlearn: 35.5389100\ttotal: 357ms\tremaining: 1.86s\n",
      "161:\tlearn: 35.3545085\ttotal: 359ms\tremaining: 1.86s\n",
      "162:\tlearn: 35.2532439\ttotal: 362ms\tremaining: 1.86s\n",
      "163:\tlearn: 35.1726200\ttotal: 364ms\tremaining: 1.85s\n",
      "164:\tlearn: 35.0697651\ttotal: 366ms\tremaining: 1.85s\n",
      "165:\tlearn: 35.0032684\ttotal: 368ms\tremaining: 1.85s\n",
      "166:\tlearn: 34.9275270\ttotal: 370ms\tremaining: 1.84s\n",
      "167:\tlearn: 34.8629313\ttotal: 372ms\tremaining: 1.84s\n",
      "168:\tlearn: 34.7561936\ttotal: 374ms\tremaining: 1.84s\n",
      "169:\tlearn: 34.6759668\ttotal: 376ms\tremaining: 1.83s\n",
      "170:\tlearn: 34.5388262\ttotal: 378ms\tremaining: 1.83s\n",
      "171:\tlearn: 34.4432440\ttotal: 380ms\tremaining: 1.83s\n",
      "172:\tlearn: 34.3325500\ttotal: 384ms\tremaining: 1.83s\n",
      "173:\tlearn: 34.2457602\ttotal: 388ms\tremaining: 1.84s\n",
      "174:\tlearn: 34.1687694\ttotal: 391ms\tremaining: 1.84s\n",
      "175:\tlearn: 34.1003662\ttotal: 393ms\tremaining: 1.84s\n",
      "176:\tlearn: 33.9701168\ttotal: 395ms\tremaining: 1.84s\n",
      "177:\tlearn: 33.8942482\ttotal: 397ms\tremaining: 1.83s\n",
      "178:\tlearn: 33.7748016\ttotal: 399ms\tremaining: 1.83s\n",
      "179:\tlearn: 33.6547328\ttotal: 401ms\tremaining: 1.83s\n",
      "180:\tlearn: 33.5722102\ttotal: 403ms\tremaining: 1.82s\n",
      "181:\tlearn: 33.5194318\ttotal: 405ms\tremaining: 1.82s\n",
      "182:\tlearn: 33.4269625\ttotal: 407ms\tremaining: 1.82s\n",
      "183:\tlearn: 33.3574529\ttotal: 409ms\tremaining: 1.81s\n",
      "184:\tlearn: 33.3036010\ttotal: 411ms\tremaining: 1.81s\n",
      "185:\tlearn: 33.2380497\ttotal: 413ms\tremaining: 1.81s\n",
      "186:\tlearn: 33.1948677\ttotal: 415ms\tremaining: 1.8s\n",
      "187:\tlearn: 33.0839662\ttotal: 417ms\tremaining: 1.8s\n",
      "188:\tlearn: 32.9832639\ttotal: 419ms\tremaining: 1.8s\n",
      "189:\tlearn: 32.9128500\ttotal: 421ms\tremaining: 1.79s\n",
      "190:\tlearn: 32.8514236\ttotal: 423ms\tremaining: 1.79s\n",
      "191:\tlearn: 32.7734797\ttotal: 425ms\tremaining: 1.79s\n",
      "192:\tlearn: 32.6926865\ttotal: 446ms\tremaining: 1.86s\n",
      "193:\tlearn: 32.5856402\ttotal: 448ms\tremaining: 1.86s\n",
      "194:\tlearn: 32.4975120\ttotal: 450ms\tremaining: 1.86s\n",
      "195:\tlearn: 32.4238685\ttotal: 452ms\tremaining: 1.85s\n",
      "196:\tlearn: 32.3672907\ttotal: 454ms\tremaining: 1.85s\n",
      "197:\tlearn: 32.2843875\ttotal: 456ms\tremaining: 1.85s\n",
      "198:\tlearn: 32.2060038\ttotal: 458ms\tremaining: 1.84s\n",
      "199:\tlearn: 32.0632358\ttotal: 460ms\tremaining: 1.84s\n",
      "200:\tlearn: 31.9490179\ttotal: 462ms\tremaining: 1.84s\n",
      "201:\tlearn: 31.8960046\ttotal: 464ms\tremaining: 1.83s\n",
      "202:\tlearn: 31.8400607\ttotal: 466ms\tremaining: 1.83s\n",
      "203:\tlearn: 31.7169425\ttotal: 469ms\tremaining: 1.83s\n",
      "204:\tlearn: 31.6034559\ttotal: 471ms\tremaining: 1.82s\n",
      "205:\tlearn: 31.5262285\ttotal: 473ms\tremaining: 1.82s\n",
      "206:\tlearn: 31.4598927\ttotal: 475ms\tremaining: 1.82s\n",
      "207:\tlearn: 31.3102327\ttotal: 477ms\tremaining: 1.81s\n",
      "208:\tlearn: 31.2570823\ttotal: 479ms\tremaining: 1.81s\n",
      "209:\tlearn: 31.1747024\ttotal: 481ms\tremaining: 1.81s\n",
      "210:\tlearn: 31.0795021\ttotal: 483ms\tremaining: 1.8s\n",
      "211:\tlearn: 31.0050975\ttotal: 485ms\tremaining: 1.8s\n",
      "212:\tlearn: 30.9086516\ttotal: 487ms\tremaining: 1.8s\n",
      "213:\tlearn: 30.7974686\ttotal: 489ms\tremaining: 1.8s\n",
      "214:\tlearn: 30.7065285\ttotal: 491ms\tremaining: 1.79s\n",
      "215:\tlearn: 30.6742317\ttotal: 493ms\tremaining: 1.79s\n",
      "216:\tlearn: 30.5643156\ttotal: 495ms\tremaining: 1.79s\n",
      "217:\tlearn: 30.5226083\ttotal: 497ms\tremaining: 1.78s\n",
      "218:\tlearn: 30.4472780\ttotal: 499ms\tremaining: 1.78s\n",
      "219:\tlearn: 30.4138437\ttotal: 501ms\tremaining: 1.78s\n",
      "220:\tlearn: 30.3153527\ttotal: 503ms\tremaining: 1.77s\n",
      "221:\tlearn: 30.2496998\ttotal: 505ms\tremaining: 1.77s\n",
      "222:\tlearn: 30.2289745\ttotal: 507ms\tremaining: 1.77s\n",
      "223:\tlearn: 30.1663660\ttotal: 509ms\tremaining: 1.76s\n",
      "224:\tlearn: 30.1076745\ttotal: 511ms\tremaining: 1.76s\n",
      "225:\tlearn: 30.0099808\ttotal: 513ms\tremaining: 1.76s\n",
      "226:\tlearn: 29.9552693\ttotal: 515ms\tremaining: 1.75s\n",
      "227:\tlearn: 29.9265629\ttotal: 517ms\tremaining: 1.75s\n",
      "228:\tlearn: 29.8332462\ttotal: 519ms\tremaining: 1.75s\n",
      "229:\tlearn: 29.7384183\ttotal: 521ms\tremaining: 1.74s\n",
      "230:\tlearn: 29.6162773\ttotal: 523ms\tremaining: 1.74s\n",
      "231:\tlearn: 29.5558878\ttotal: 525ms\tremaining: 1.74s\n",
      "232:\tlearn: 29.4326398\ttotal: 527ms\tremaining: 1.73s\n",
      "233:\tlearn: 29.3478037\ttotal: 528ms\tremaining: 1.73s\n",
      "234:\tlearn: 29.2465659\ttotal: 530ms\tremaining: 1.73s\n",
      "235:\tlearn: 29.1158754\ttotal: 532ms\tremaining: 1.72s\n",
      "236:\tlearn: 29.0307767\ttotal: 534ms\tremaining: 1.72s\n",
      "237:\tlearn: 28.9462263\ttotal: 536ms\tremaining: 1.72s\n",
      "238:\tlearn: 28.8839977\ttotal: 540ms\tremaining: 1.72s\n",
      "239:\tlearn: 28.7796274\ttotal: 543ms\tremaining: 1.72s\n",
      "240:\tlearn: 28.6971380\ttotal: 545ms\tremaining: 1.72s\n",
      "241:\tlearn: 28.6196315\ttotal: 547ms\tremaining: 1.71s\n",
      "242:\tlearn: 28.6022447\ttotal: 549ms\tremaining: 1.71s\n",
      "243:\tlearn: 28.5506855\ttotal: 551ms\tremaining: 1.71s\n",
      "244:\tlearn: 28.4295526\ttotal: 553ms\tremaining: 1.7s\n",
      "245:\tlearn: 28.3344559\ttotal: 554ms\tremaining: 1.7s\n",
      "246:\tlearn: 28.2450007\ttotal: 556ms\tremaining: 1.7s\n",
      "247:\tlearn: 28.1652794\ttotal: 558ms\tremaining: 1.69s\n",
      "248:\tlearn: 28.1484722\ttotal: 560ms\tremaining: 1.69s\n",
      "249:\tlearn: 28.0629120\ttotal: 562ms\tremaining: 1.69s\n",
      "250:\tlearn: 27.9668759\ttotal: 564ms\tremaining: 1.68s\n",
      "251:\tlearn: 27.8508600\ttotal: 566ms\tremaining: 1.68s\n",
      "252:\tlearn: 27.7338515\ttotal: 568ms\tremaining: 1.68s\n",
      "253:\tlearn: 27.6627217\ttotal: 570ms\tremaining: 1.67s\n",
      "254:\tlearn: 27.5700439\ttotal: 572ms\tremaining: 1.67s\n",
      "255:\tlearn: 27.5020065\ttotal: 574ms\tremaining: 1.67s\n",
      "256:\tlearn: 27.4208062\ttotal: 577ms\tremaining: 1.67s\n",
      "257:\tlearn: 27.3747274\ttotal: 579ms\tremaining: 1.67s\n",
      "258:\tlearn: 27.3063771\ttotal: 581ms\tremaining: 1.66s\n",
      "259:\tlearn: 27.2264323\ttotal: 583ms\tremaining: 1.66s\n",
      "260:\tlearn: 27.1439894\ttotal: 585ms\tremaining: 1.66s\n",
      "261:\tlearn: 27.0454671\ttotal: 587ms\tremaining: 1.65s\n",
      "262:\tlearn: 26.9946730\ttotal: 589ms\tremaining: 1.65s\n",
      "263:\tlearn: 26.8810148\ttotal: 591ms\tremaining: 1.65s\n",
      "264:\tlearn: 26.8252848\ttotal: 592ms\tremaining: 1.64s\n",
      "265:\tlearn: 26.7395071\ttotal: 594ms\tremaining: 1.64s\n",
      "266:\tlearn: 26.6813486\ttotal: 596ms\tremaining: 1.64s\n",
      "267:\tlearn: 26.6003297\ttotal: 598ms\tremaining: 1.63s\n",
      "268:\tlearn: 26.5193591\ttotal: 600ms\tremaining: 1.63s\n",
      "269:\tlearn: 26.4667505\ttotal: 602ms\tremaining: 1.63s\n",
      "270:\tlearn: 26.3857321\ttotal: 604ms\tremaining: 1.62s\n",
      "271:\tlearn: 26.2901950\ttotal: 605ms\tremaining: 1.62s\n",
      "272:\tlearn: 26.1897035\ttotal: 607ms\tremaining: 1.62s\n",
      "273:\tlearn: 26.1219360\ttotal: 609ms\tremaining: 1.61s\n",
      "274:\tlearn: 26.0508402\ttotal: 611ms\tremaining: 1.61s\n",
      "275:\tlearn: 25.9727959\ttotal: 613ms\tremaining: 1.61s\n",
      "276:\tlearn: 25.8594935\ttotal: 615ms\tremaining: 1.6s\n",
      "277:\tlearn: 25.7937759\ttotal: 617ms\tremaining: 1.6s\n",
      "278:\tlearn: 25.7330743\ttotal: 619ms\tremaining: 1.6s\n",
      "279:\tlearn: 25.6543125\ttotal: 620ms\tremaining: 1.59s\n",
      "280:\tlearn: 25.5966031\ttotal: 622ms\tremaining: 1.59s\n",
      "281:\tlearn: 25.5736716\ttotal: 624ms\tremaining: 1.59s\n",
      "282:\tlearn: 25.4859903\ttotal: 626ms\tremaining: 1.58s\n",
      "283:\tlearn: 25.3853287\ttotal: 628ms\tremaining: 1.58s\n",
      "284:\tlearn: 25.3209898\ttotal: 630ms\tremaining: 1.58s\n",
      "285:\tlearn: 25.2451194\ttotal: 632ms\tremaining: 1.58s\n",
      "286:\tlearn: 25.1579741\ttotal: 633ms\tremaining: 1.57s\n",
      "287:\tlearn: 25.0583913\ttotal: 635ms\tremaining: 1.57s\n",
      "288:\tlearn: 24.9916015\ttotal: 637ms\tremaining: 1.57s\n",
      "289:\tlearn: 24.8883726\ttotal: 639ms\tremaining: 1.56s\n",
      "290:\tlearn: 24.8323323\ttotal: 641ms\tremaining: 1.56s\n",
      "291:\tlearn: 24.7537817\ttotal: 643ms\tremaining: 1.56s\n",
      "292:\tlearn: 24.6839639\ttotal: 645ms\tremaining: 1.55s\n",
      "293:\tlearn: 24.5995109\ttotal: 647ms\tremaining: 1.55s\n",
      "294:\tlearn: 24.5838221\ttotal: 649ms\tremaining: 1.55s\n",
      "295:\tlearn: 24.4939860\ttotal: 651ms\tremaining: 1.55s\n",
      "296:\tlearn: 24.4341767\ttotal: 652ms\tremaining: 1.54s\n",
      "297:\tlearn: 24.3653700\ttotal: 654ms\tremaining: 1.54s\n",
      "298:\tlearn: 24.2526828\ttotal: 656ms\tremaining: 1.54s\n",
      "299:\tlearn: 24.1955364\ttotal: 658ms\tremaining: 1.53s\n",
      "300:\tlearn: 24.1341547\ttotal: 660ms\tremaining: 1.53s\n",
      "301:\tlearn: 24.0595683\ttotal: 662ms\tremaining: 1.53s\n",
      "302:\tlearn: 23.9954235\ttotal: 663ms\tremaining: 1.53s\n",
      "303:\tlearn: 23.8931431\ttotal: 665ms\tremaining: 1.52s\n",
      "304:\tlearn: 23.8234373\ttotal: 667ms\tremaining: 1.52s\n",
      "305:\tlearn: 23.7345177\ttotal: 669ms\tremaining: 1.52s\n",
      "306:\tlearn: 23.6633419\ttotal: 671ms\tremaining: 1.51s\n",
      "307:\tlearn: 23.5596495\ttotal: 673ms\tremaining: 1.51s\n",
      "308:\tlearn: 23.4889621\ttotal: 675ms\tremaining: 1.51s\n",
      "309:\tlearn: 23.4787297\ttotal: 676ms\tremaining: 1.5s\n",
      "310:\tlearn: 23.4172408\ttotal: 678ms\tremaining: 1.5s\n",
      "311:\tlearn: 23.3210515\ttotal: 680ms\tremaining: 1.5s\n",
      "312:\tlearn: 23.2692211\ttotal: 682ms\tremaining: 1.5s\n",
      "313:\tlearn: 23.1938501\ttotal: 684ms\tremaining: 1.49s\n",
      "314:\tlearn: 23.1149559\ttotal: 686ms\tremaining: 1.49s\n",
      "315:\tlearn: 23.0138999\ttotal: 688ms\tremaining: 1.49s\n",
      "316:\tlearn: 22.9415820\ttotal: 689ms\tremaining: 1.49s\n",
      "317:\tlearn: 22.8625749\ttotal: 691ms\tremaining: 1.48s\n",
      "318:\tlearn: 22.7819500\ttotal: 693ms\tremaining: 1.48s\n",
      "319:\tlearn: 22.7339771\ttotal: 695ms\tremaining: 1.48s\n",
      "320:\tlearn: 22.6581537\ttotal: 697ms\tremaining: 1.47s\n",
      "321:\tlearn: 22.5726746\ttotal: 699ms\tremaining: 1.47s\n",
      "322:\tlearn: 22.5216776\ttotal: 701ms\tremaining: 1.47s\n",
      "323:\tlearn: 22.4780579\ttotal: 702ms\tremaining: 1.47s\n",
      "324:\tlearn: 22.4498946\ttotal: 704ms\tremaining: 1.46s\n",
      "325:\tlearn: 22.3930847\ttotal: 706ms\tremaining: 1.46s\n",
      "326:\tlearn: 22.3535011\ttotal: 708ms\tremaining: 1.46s\n",
      "327:\tlearn: 22.3001229\ttotal: 710ms\tremaining: 1.45s\n",
      "328:\tlearn: 22.2286817\ttotal: 712ms\tremaining: 1.45s\n",
      "329:\tlearn: 22.1595319\ttotal: 714ms\tremaining: 1.45s\n",
      "330:\tlearn: 22.1161383\ttotal: 716ms\tremaining: 1.45s\n",
      "331:\tlearn: 22.0946199\ttotal: 718ms\tremaining: 1.44s\n",
      "332:\tlearn: 22.0175030\ttotal: 720ms\tremaining: 1.44s\n",
      "333:\tlearn: 21.9281291\ttotal: 722ms\tremaining: 1.44s\n",
      "334:\tlearn: 21.8853515\ttotal: 724ms\tremaining: 1.44s\n",
      "335:\tlearn: 21.8408262\ttotal: 726ms\tremaining: 1.43s\n",
      "336:\tlearn: 21.7863201\ttotal: 728ms\tremaining: 1.43s\n",
      "337:\tlearn: 21.7404221\ttotal: 729ms\tremaining: 1.43s\n",
      "338:\tlearn: 21.6757116\ttotal: 732ms\tremaining: 1.43s\n",
      "339:\tlearn: 21.6209175\ttotal: 735ms\tremaining: 1.43s\n",
      "340:\tlearn: 21.5896965\ttotal: 738ms\tremaining: 1.43s\n",
      "341:\tlearn: 21.5303056\ttotal: 740ms\tremaining: 1.42s\n",
      "342:\tlearn: 21.4768103\ttotal: 742ms\tremaining: 1.42s\n",
      "343:\tlearn: 21.4118510\ttotal: 744ms\tremaining: 1.42s\n",
      "344:\tlearn: 21.3760462\ttotal: 746ms\tremaining: 1.42s\n",
      "345:\tlearn: 21.3002805\ttotal: 748ms\tremaining: 1.41s\n",
      "346:\tlearn: 21.2268290\ttotal: 749ms\tremaining: 1.41s\n",
      "347:\tlearn: 21.1681786\ttotal: 751ms\tremaining: 1.41s\n",
      "348:\tlearn: 21.1202583\ttotal: 753ms\tremaining: 1.4s\n",
      "349:\tlearn: 21.0485053\ttotal: 755ms\tremaining: 1.4s\n",
      "350:\tlearn: 20.9675609\ttotal: 757ms\tremaining: 1.4s\n",
      "351:\tlearn: 20.9233895\ttotal: 759ms\tremaining: 1.4s\n",
      "352:\tlearn: 20.8742246\ttotal: 761ms\tremaining: 1.39s\n",
      "353:\tlearn: 20.8075654\ttotal: 763ms\tremaining: 1.39s\n",
      "354:\tlearn: 20.7656473\ttotal: 764ms\tremaining: 1.39s\n",
      "355:\tlearn: 20.7168849\ttotal: 766ms\tremaining: 1.39s\n",
      "356:\tlearn: 20.6673442\ttotal: 768ms\tremaining: 1.38s\n",
      "357:\tlearn: 20.6075916\ttotal: 770ms\tremaining: 1.38s\n",
      "358:\tlearn: 20.5352854\ttotal: 774ms\tremaining: 1.38s\n",
      "359:\tlearn: 20.5093867\ttotal: 776ms\tremaining: 1.38s\n",
      "360:\tlearn: 20.4587672\ttotal: 778ms\tremaining: 1.38s\n",
      "361:\tlearn: 20.4187159\ttotal: 780ms\tremaining: 1.38s\n",
      "362:\tlearn: 20.3837256\ttotal: 782ms\tremaining: 1.37s\n",
      "363:\tlearn: 20.3427102\ttotal: 784ms\tremaining: 1.37s\n",
      "364:\tlearn: 20.3174133\ttotal: 786ms\tremaining: 1.37s\n",
      "365:\tlearn: 20.2443140\ttotal: 788ms\tremaining: 1.36s\n",
      "366:\tlearn: 20.2263706\ttotal: 790ms\tremaining: 1.36s\n",
      "367:\tlearn: 20.1820497\ttotal: 792ms\tremaining: 1.36s\n",
      "368:\tlearn: 20.1410908\ttotal: 795ms\tremaining: 1.36s\n",
      "369:\tlearn: 20.1281342\ttotal: 797ms\tremaining: 1.36s\n",
      "370:\tlearn: 20.0854800\ttotal: 799ms\tremaining: 1.35s\n",
      "371:\tlearn: 20.0518493\ttotal: 801ms\tremaining: 1.35s\n",
      "372:\tlearn: 20.0131235\ttotal: 802ms\tremaining: 1.35s\n",
      "373:\tlearn: 19.9483543\ttotal: 804ms\tremaining: 1.35s\n",
      "374:\tlearn: 19.8999587\ttotal: 806ms\tremaining: 1.34s\n",
      "375:\tlearn: 19.8283034\ttotal: 808ms\tremaining: 1.34s\n",
      "376:\tlearn: 19.7474865\ttotal: 810ms\tremaining: 1.34s\n",
      "377:\tlearn: 19.6857767\ttotal: 812ms\tremaining: 1.34s\n",
      "378:\tlearn: 19.6756316\ttotal: 814ms\tremaining: 1.33s\n",
      "379:\tlearn: 19.6345430\ttotal: 816ms\tremaining: 1.33s\n",
      "380:\tlearn: 19.6259698\ttotal: 818ms\tremaining: 1.33s\n",
      "381:\tlearn: 19.5544250\ttotal: 820ms\tremaining: 1.33s\n",
      "382:\tlearn: 19.5055536\ttotal: 822ms\tremaining: 1.32s\n",
      "383:\tlearn: 19.4927822\ttotal: 824ms\tremaining: 1.32s\n",
      "384:\tlearn: 19.4137632\ttotal: 826ms\tremaining: 1.32s\n",
      "385:\tlearn: 19.4062313\ttotal: 827ms\tremaining: 1.32s\n",
      "386:\tlearn: 19.3371440\ttotal: 829ms\tremaining: 1.31s\n",
      "387:\tlearn: 19.3239264\ttotal: 831ms\tremaining: 1.31s\n",
      "388:\tlearn: 19.2973133\ttotal: 833ms\tremaining: 1.31s\n",
      "389:\tlearn: 19.2115260\ttotal: 835ms\tremaining: 1.3s\n",
      "390:\tlearn: 19.1816638\ttotal: 837ms\tremaining: 1.3s\n",
      "391:\tlearn: 19.1771030\ttotal: 839ms\tremaining: 1.3s\n",
      "392:\tlearn: 19.1696947\ttotal: 840ms\tremaining: 1.3s\n",
      "393:\tlearn: 19.1302722\ttotal: 842ms\tremaining: 1.29s\n",
      "394:\tlearn: 19.1249172\ttotal: 844ms\tremaining: 1.29s\n",
      "395:\tlearn: 19.1152597\ttotal: 846ms\tremaining: 1.29s\n",
      "396:\tlearn: 19.1083277\ttotal: 848ms\tremaining: 1.29s\n",
      "397:\tlearn: 19.0447213\ttotal: 850ms\tremaining: 1.28s\n",
      "398:\tlearn: 19.0403396\ttotal: 852ms\tremaining: 1.28s\n",
      "399:\tlearn: 19.0203251\ttotal: 854ms\tremaining: 1.28s\n",
      "400:\tlearn: 19.0097442\ttotal: 856ms\tremaining: 1.28s\n",
      "401:\tlearn: 18.9852974\ttotal: 858ms\tremaining: 1.27s\n",
      "402:\tlearn: 18.9721140\ttotal: 860ms\tremaining: 1.27s\n",
      "403:\tlearn: 18.9481695\ttotal: 862ms\tremaining: 1.27s\n",
      "404:\tlearn: 18.9351957\ttotal: 864ms\tremaining: 1.27s\n",
      "405:\tlearn: 18.8774703\ttotal: 865ms\tremaining: 1.27s\n",
      "406:\tlearn: 18.8624149\ttotal: 867ms\tremaining: 1.26s\n",
      "407:\tlearn: 18.8474856\ttotal: 869ms\tremaining: 1.26s\n",
      "408:\tlearn: 18.8037867\ttotal: 872ms\tremaining: 1.26s\n",
      "409:\tlearn: 18.7778014\ttotal: 874ms\tremaining: 1.26s\n",
      "410:\tlearn: 18.7590683\ttotal: 876ms\tremaining: 1.25s\n",
      "411:\tlearn: 18.7131995\ttotal: 878ms\tremaining: 1.25s\n",
      "412:\tlearn: 18.6585478\ttotal: 879ms\tremaining: 1.25s\n",
      "413:\tlearn: 18.6148801\ttotal: 881ms\tremaining: 1.25s\n",
      "414:\tlearn: 18.5763016\ttotal: 883ms\tremaining: 1.25s\n",
      "415:\tlearn: 18.5674709\ttotal: 885ms\tremaining: 1.24s\n",
      "416:\tlearn: 18.5306813\ttotal: 887ms\tremaining: 1.24s\n",
      "417:\tlearn: 18.5222278\ttotal: 889ms\tremaining: 1.24s\n",
      "418:\tlearn: 18.4706575\ttotal: 891ms\tremaining: 1.24s\n",
      "419:\tlearn: 18.4110918\ttotal: 893ms\tremaining: 1.23s\n",
      "420:\tlearn: 18.3478596\ttotal: 895ms\tremaining: 1.23s\n",
      "421:\tlearn: 18.3027732\ttotal: 897ms\tremaining: 1.23s\n",
      "422:\tlearn: 18.2341785\ttotal: 899ms\tremaining: 1.23s\n",
      "423:\tlearn: 18.1925922\ttotal: 901ms\tremaining: 1.22s\n",
      "424:\tlearn: 18.1886284\ttotal: 903ms\tremaining: 1.22s\n",
      "425:\tlearn: 18.1335351\ttotal: 904ms\tremaining: 1.22s\n",
      "426:\tlearn: 18.1007348\ttotal: 906ms\tremaining: 1.22s\n",
      "427:\tlearn: 18.0807313\ttotal: 908ms\tremaining: 1.21s\n",
      "428:\tlearn: 18.0755283\ttotal: 910ms\tremaining: 1.21s\n",
      "429:\tlearn: 18.0135012\ttotal: 912ms\tremaining: 1.21s\n",
      "430:\tlearn: 17.9533036\ttotal: 914ms\tremaining: 1.21s\n",
      "431:\tlearn: 17.9118744\ttotal: 916ms\tremaining: 1.2s\n",
      "432:\tlearn: 17.8582143\ttotal: 918ms\tremaining: 1.2s\n",
      "433:\tlearn: 17.8033749\ttotal: 919ms\tremaining: 1.2s\n",
      "434:\tlearn: 17.7331721\ttotal: 921ms\tremaining: 1.2s\n",
      "435:\tlearn: 17.7003473\ttotal: 923ms\tremaining: 1.19s\n",
      "436:\tlearn: 17.6591182\ttotal: 927ms\tremaining: 1.19s\n",
      "437:\tlearn: 17.5964496\ttotal: 929ms\tremaining: 1.19s\n",
      "438:\tlearn: 17.5734217\ttotal: 931ms\tremaining: 1.19s\n",
      "439:\tlearn: 17.5293154\ttotal: 934ms\tremaining: 1.19s\n",
      "440:\tlearn: 17.4697703\ttotal: 936ms\tremaining: 1.19s\n",
      "441:\tlearn: 17.4208109\ttotal: 938ms\tremaining: 1.18s\n",
      "442:\tlearn: 17.4079169\ttotal: 940ms\tremaining: 1.18s\n",
      "443:\tlearn: 17.3469406\ttotal: 942ms\tremaining: 1.18s\n",
      "444:\tlearn: 17.3269309\ttotal: 944ms\tremaining: 1.18s\n",
      "445:\tlearn: 17.3166127\ttotal: 946ms\tremaining: 1.17s\n",
      "446:\tlearn: 17.2854242\ttotal: 947ms\tremaining: 1.17s\n",
      "447:\tlearn: 17.2421811\ttotal: 949ms\tremaining: 1.17s\n",
      "448:\tlearn: 17.2357159\ttotal: 951ms\tremaining: 1.17s\n",
      "449:\tlearn: 17.1796092\ttotal: 953ms\tremaining: 1.16s\n",
      "450:\tlearn: 17.1344916\ttotal: 955ms\tremaining: 1.16s\n",
      "451:\tlearn: 17.0943642\ttotal: 957ms\tremaining: 1.16s\n",
      "452:\tlearn: 17.0724275\ttotal: 959ms\tremaining: 1.16s\n",
      "453:\tlearn: 17.0298454\ttotal: 961ms\tremaining: 1.16s\n",
      "454:\tlearn: 17.0178274\ttotal: 963ms\tremaining: 1.15s\n",
      "455:\tlearn: 16.9534625\ttotal: 965ms\tremaining: 1.15s\n",
      "456:\tlearn: 16.9186781\ttotal: 966ms\tremaining: 1.15s\n",
      "457:\tlearn: 16.8771532\ttotal: 969ms\tremaining: 1.15s\n",
      "458:\tlearn: 16.8196613\ttotal: 972ms\tremaining: 1.15s\n",
      "459:\tlearn: 16.7660195\ttotal: 974ms\tremaining: 1.14s\n",
      "460:\tlearn: 16.7197465\ttotal: 976ms\tremaining: 1.14s\n",
      "461:\tlearn: 16.6598345\ttotal: 978ms\tremaining: 1.14s\n",
      "462:\tlearn: 16.5964750\ttotal: 980ms\tremaining: 1.14s\n",
      "463:\tlearn: 16.5497396\ttotal: 981ms\tremaining: 1.13s\n",
      "464:\tlearn: 16.4891662\ttotal: 983ms\tremaining: 1.13s\n",
      "465:\tlearn: 16.4601694\ttotal: 985ms\tremaining: 1.13s\n",
      "466:\tlearn: 16.4072006\ttotal: 987ms\tremaining: 1.13s\n",
      "467:\tlearn: 16.3600755\ttotal: 989ms\tremaining: 1.12s\n",
      "468:\tlearn: 16.3558922\ttotal: 991ms\tremaining: 1.12s\n",
      "469:\tlearn: 16.3028811\ttotal: 993ms\tremaining: 1.12s\n",
      "470:\tlearn: 16.2571651\ttotal: 995ms\tremaining: 1.12s\n",
      "471:\tlearn: 16.2204494\ttotal: 997ms\tremaining: 1.11s\n",
      "472:\tlearn: 16.1793076\ttotal: 998ms\tremaining: 1.11s\n",
      "473:\tlearn: 16.1307077\ttotal: 1s\tremaining: 1.11s\n",
      "474:\tlearn: 16.1051345\ttotal: 1s\tremaining: 1.11s\n",
      "475:\tlearn: 16.0486231\ttotal: 1s\tremaining: 1.1s\n",
      "476:\tlearn: 16.0101618\ttotal: 1s\tremaining: 1.1s\n",
      "477:\tlearn: 15.9601297\ttotal: 1.01s\tremaining: 1.1s\n",
      "478:\tlearn: 15.9139643\ttotal: 1.01s\tremaining: 1.1s\n",
      "479:\tlearn: 15.9028639\ttotal: 1.01s\tremaining: 1.09s\n",
      "480:\tlearn: 15.8578626\ttotal: 1.01s\tremaining: 1.09s\n",
      "481:\tlearn: 15.8023992\ttotal: 1.01s\tremaining: 1.09s\n",
      "482:\tlearn: 15.7555514\ttotal: 1.02s\tremaining: 1.09s\n",
      "483:\tlearn: 15.7019084\ttotal: 1.02s\tremaining: 1.09s\n",
      "484:\tlearn: 15.6486889\ttotal: 1.02s\tremaining: 1.08s\n",
      "485:\tlearn: 15.6071267\ttotal: 1.02s\tremaining: 1.08s\n",
      "486:\tlearn: 15.5711035\ttotal: 1.02s\tremaining: 1.08s\n",
      "487:\tlearn: 15.5312570\ttotal: 1.03s\tremaining: 1.08s\n",
      "488:\tlearn: 15.4931492\ttotal: 1.03s\tremaining: 1.07s\n",
      "489:\tlearn: 15.4508651\ttotal: 1.03s\tremaining: 1.07s\n",
      "490:\tlearn: 15.4026152\ttotal: 1.03s\tremaining: 1.07s\n",
      "491:\tlearn: 15.3414486\ttotal: 1.03s\tremaining: 1.07s\n",
      "492:\tlearn: 15.2822943\ttotal: 1.04s\tremaining: 1.06s\n",
      "493:\tlearn: 15.2594499\ttotal: 1.04s\tremaining: 1.06s\n",
      "494:\tlearn: 15.2119270\ttotal: 1.04s\tremaining: 1.06s\n",
      "495:\tlearn: 15.1710141\ttotal: 1.04s\tremaining: 1.06s\n",
      "496:\tlearn: 15.1269810\ttotal: 1.04s\tremaining: 1.06s\n",
      "497:\tlearn: 15.0994101\ttotal: 1.04s\tremaining: 1.05s\n",
      "498:\tlearn: 15.0970786\ttotal: 1.05s\tremaining: 1.05s\n",
      "499:\tlearn: 15.0610123\ttotal: 1.05s\tremaining: 1.05s\n",
      "500:\tlearn: 15.0281329\ttotal: 1.05s\tremaining: 1.05s\n",
      "501:\tlearn: 14.9795301\ttotal: 1.05s\tremaining: 1.04s\n",
      "502:\tlearn: 14.9415916\ttotal: 1.05s\tremaining: 1.04s\n",
      "503:\tlearn: 14.8960374\ttotal: 1.06s\tremaining: 1.04s\n",
      "504:\tlearn: 14.8643555\ttotal: 1.06s\tremaining: 1.04s\n",
      "505:\tlearn: 14.8191860\ttotal: 1.06s\tremaining: 1.03s\n",
      "506:\tlearn: 14.7813448\ttotal: 1.06s\tremaining: 1.03s\n",
      "507:\tlearn: 14.7445360\ttotal: 1.06s\tremaining: 1.03s\n",
      "508:\tlearn: 14.7093108\ttotal: 1.07s\tremaining: 1.03s\n",
      "509:\tlearn: 14.6684524\ttotal: 1.07s\tremaining: 1.03s\n",
      "510:\tlearn: 14.6324897\ttotal: 1.07s\tremaining: 1.02s\n",
      "511:\tlearn: 14.5797546\ttotal: 1.07s\tremaining: 1.02s\n",
      "512:\tlearn: 14.5504689\ttotal: 1.07s\tremaining: 1.02s\n",
      "513:\tlearn: 14.4897474\ttotal: 1.07s\tremaining: 1.02s\n",
      "514:\tlearn: 14.4476320\ttotal: 1.08s\tremaining: 1.01s\n",
      "515:\tlearn: 14.4063948\ttotal: 1.08s\tremaining: 1.01s\n",
      "516:\tlearn: 14.3599534\ttotal: 1.08s\tremaining: 1.01s\n",
      "517:\tlearn: 14.3267822\ttotal: 1.08s\tremaining: 1.01s\n",
      "518:\tlearn: 14.2774524\ttotal: 1.08s\tremaining: 1s\n",
      "519:\tlearn: 14.2317467\ttotal: 1.09s\tremaining: 1s\n",
      "520:\tlearn: 14.1885641\ttotal: 1.09s\tremaining: 1s\n",
      "521:\tlearn: 14.1540911\ttotal: 1.09s\tremaining: 998ms\n",
      "522:\tlearn: 14.1189419\ttotal: 1.09s\tremaining: 996ms\n",
      "523:\tlearn: 14.0683667\ttotal: 1.09s\tremaining: 994ms\n",
      "524:\tlearn: 14.0394814\ttotal: 1.09s\tremaining: 991ms\n",
      "525:\tlearn: 14.0035535\ttotal: 1.1s\tremaining: 989ms\n",
      "526:\tlearn: 13.9690421\ttotal: 1.1s\tremaining: 987ms\n",
      "527:\tlearn: 13.9273517\ttotal: 1.1s\tremaining: 984ms\n",
      "528:\tlearn: 13.8901840\ttotal: 1.1s\tremaining: 982ms\n",
      "529:\tlearn: 13.8625037\ttotal: 1.1s\tremaining: 980ms\n",
      "530:\tlearn: 13.8258723\ttotal: 1.11s\tremaining: 978ms\n",
      "531:\tlearn: 13.8034544\ttotal: 1.11s\tremaining: 975ms\n",
      "532:\tlearn: 13.7670995\ttotal: 1.11s\tremaining: 973ms\n",
      "533:\tlearn: 13.7129010\ttotal: 1.11s\tremaining: 971ms\n",
      "534:\tlearn: 13.6729979\ttotal: 1.11s\tremaining: 968ms\n",
      "535:\tlearn: 13.6219647\ttotal: 1.11s\tremaining: 966ms\n",
      "536:\tlearn: 13.5759480\ttotal: 1.12s\tremaining: 965ms\n",
      "537:\tlearn: 13.5347110\ttotal: 1.12s\tremaining: 963ms\n",
      "538:\tlearn: 13.5124799\ttotal: 1.13s\tremaining: 963ms\n",
      "539:\tlearn: 13.4743663\ttotal: 1.13s\tremaining: 961ms\n",
      "540:\tlearn: 13.4272350\ttotal: 1.13s\tremaining: 959ms\n",
      "541:\tlearn: 13.3803691\ttotal: 1.13s\tremaining: 957ms\n",
      "542:\tlearn: 13.3624722\ttotal: 1.13s\tremaining: 954ms\n",
      "543:\tlearn: 13.3151360\ttotal: 1.14s\tremaining: 952ms\n",
      "544:\tlearn: 13.2949130\ttotal: 1.14s\tremaining: 950ms\n",
      "545:\tlearn: 13.2511207\ttotal: 1.14s\tremaining: 948ms\n",
      "546:\tlearn: 13.2481860\ttotal: 1.14s\tremaining: 945ms\n",
      "547:\tlearn: 13.2002920\ttotal: 1.14s\tremaining: 943ms\n",
      "548:\tlearn: 13.1556039\ttotal: 1.15s\tremaining: 941ms\n",
      "549:\tlearn: 13.1366023\ttotal: 1.15s\tremaining: 939ms\n",
      "550:\tlearn: 13.1057390\ttotal: 1.15s\tremaining: 936ms\n",
      "551:\tlearn: 13.0630073\ttotal: 1.15s\tremaining: 934ms\n",
      "552:\tlearn: 13.0471339\ttotal: 1.15s\tremaining: 932ms\n",
      "553:\tlearn: 13.0169087\ttotal: 1.15s\tremaining: 930ms\n",
      "554:\tlearn: 12.9838808\ttotal: 1.16s\tremaining: 927ms\n",
      "555:\tlearn: 12.9620046\ttotal: 1.16s\tremaining: 925ms\n",
      "556:\tlearn: 12.9142622\ttotal: 1.16s\tremaining: 923ms\n",
      "557:\tlearn: 12.8907667\ttotal: 1.16s\tremaining: 921ms\n",
      "558:\tlearn: 12.8757869\ttotal: 1.17s\tremaining: 920ms\n",
      "559:\tlearn: 12.8493199\ttotal: 1.17s\tremaining: 918ms\n",
      "560:\tlearn: 12.8286932\ttotal: 1.17s\tremaining: 915ms\n",
      "561:\tlearn: 12.8024622\ttotal: 1.17s\tremaining: 913ms\n",
      "562:\tlearn: 12.7732345\ttotal: 1.17s\tremaining: 911ms\n",
      "563:\tlearn: 12.7322360\ttotal: 1.18s\tremaining: 909ms\n",
      "564:\tlearn: 12.6886165\ttotal: 1.18s\tremaining: 907ms\n",
      "565:\tlearn: 12.6660178\ttotal: 1.18s\tremaining: 904ms\n",
      "566:\tlearn: 12.6362103\ttotal: 1.18s\tremaining: 902ms\n",
      "567:\tlearn: 12.5919361\ttotal: 1.18s\tremaining: 900ms\n",
      "568:\tlearn: 12.5739717\ttotal: 1.19s\tremaining: 898ms\n",
      "569:\tlearn: 12.5415449\ttotal: 1.19s\tremaining: 896ms\n",
      "570:\tlearn: 12.4928526\ttotal: 1.19s\tremaining: 893ms\n",
      "571:\tlearn: 12.4570261\ttotal: 1.19s\tremaining: 891ms\n",
      "572:\tlearn: 12.4135227\ttotal: 1.19s\tremaining: 889ms\n",
      "573:\tlearn: 12.3708076\ttotal: 1.19s\tremaining: 887ms\n",
      "574:\tlearn: 12.3354175\ttotal: 1.2s\tremaining: 884ms\n",
      "575:\tlearn: 12.2896862\ttotal: 1.2s\tremaining: 882ms\n",
      "576:\tlearn: 12.2717606\ttotal: 1.2s\tremaining: 880ms\n",
      "577:\tlearn: 12.2330187\ttotal: 1.2s\tremaining: 878ms\n",
      "578:\tlearn: 12.2095695\ttotal: 1.2s\tremaining: 876ms\n",
      "579:\tlearn: 12.1838683\ttotal: 1.21s\tremaining: 873ms\n",
      "580:\tlearn: 12.1438792\ttotal: 1.21s\tremaining: 871ms\n",
      "581:\tlearn: 12.1090876\ttotal: 1.21s\tremaining: 869ms\n",
      "582:\tlearn: 12.0730089\ttotal: 1.21s\tremaining: 867ms\n",
      "583:\tlearn: 12.0320602\ttotal: 1.21s\tremaining: 865ms\n",
      "584:\tlearn: 11.9942652\ttotal: 1.22s\tremaining: 862ms\n",
      "585:\tlearn: 11.9623905\ttotal: 1.22s\tremaining: 860ms\n",
      "586:\tlearn: 11.9220350\ttotal: 1.22s\tremaining: 858ms\n",
      "587:\tlearn: 11.9071213\ttotal: 1.22s\tremaining: 856ms\n",
      "588:\tlearn: 11.8611875\ttotal: 1.22s\tremaining: 853ms\n",
      "589:\tlearn: 11.8356744\ttotal: 1.23s\tremaining: 851ms\n",
      "590:\tlearn: 11.8061109\ttotal: 1.23s\tremaining: 849ms\n",
      "591:\tlearn: 11.7899009\ttotal: 1.23s\tremaining: 847ms\n",
      "592:\tlearn: 11.7496327\ttotal: 1.23s\tremaining: 845ms\n",
      "593:\tlearn: 11.7180819\ttotal: 1.23s\tremaining: 842ms\n",
      "594:\tlearn: 11.6793109\ttotal: 1.23s\tremaining: 840ms\n",
      "595:\tlearn: 11.6486750\ttotal: 1.24s\tremaining: 838ms\n",
      "596:\tlearn: 11.6152792\ttotal: 1.24s\tremaining: 836ms\n",
      "597:\tlearn: 11.5872131\ttotal: 1.24s\tremaining: 834ms\n",
      "598:\tlearn: 11.5671689\ttotal: 1.24s\tremaining: 831ms\n",
      "599:\tlearn: 11.5445386\ttotal: 1.24s\tremaining: 829ms\n",
      "600:\tlearn: 11.5387255\ttotal: 1.25s\tremaining: 827ms\n",
      "601:\tlearn: 11.5082740\ttotal: 1.25s\tremaining: 825ms\n",
      "602:\tlearn: 11.4849535\ttotal: 1.25s\tremaining: 823ms\n",
      "603:\tlearn: 11.4628910\ttotal: 1.25s\tremaining: 820ms\n",
      "604:\tlearn: 11.4370811\ttotal: 1.25s\tremaining: 818ms\n",
      "605:\tlearn: 11.4065175\ttotal: 1.25s\tremaining: 816ms\n",
      "606:\tlearn: 11.3745078\ttotal: 1.26s\tremaining: 814ms\n",
      "607:\tlearn: 11.3581023\ttotal: 1.26s\tremaining: 811ms\n",
      "608:\tlearn: 11.3296160\ttotal: 1.26s\tremaining: 809ms\n",
      "609:\tlearn: 11.2870928\ttotal: 1.26s\tremaining: 807ms\n",
      "610:\tlearn: 11.2571665\ttotal: 1.26s\tremaining: 805ms\n",
      "611:\tlearn: 11.2223235\ttotal: 1.27s\tremaining: 803ms\n",
      "612:\tlearn: 11.1830337\ttotal: 1.27s\tremaining: 800ms\n",
      "613:\tlearn: 11.1425383\ttotal: 1.27s\tremaining: 798ms\n",
      "614:\tlearn: 11.1288425\ttotal: 1.27s\tremaining: 796ms\n",
      "615:\tlearn: 11.0962341\ttotal: 1.27s\tremaining: 794ms\n",
      "616:\tlearn: 11.0722360\ttotal: 1.27s\tremaining: 792ms\n",
      "617:\tlearn: 11.0480896\ttotal: 1.28s\tremaining: 790ms\n",
      "618:\tlearn: 11.0170839\ttotal: 1.28s\tremaining: 787ms\n",
      "619:\tlearn: 10.9849214\ttotal: 1.28s\tremaining: 785ms\n",
      "620:\tlearn: 10.9484349\ttotal: 1.28s\tremaining: 783ms\n",
      "621:\tlearn: 10.9234039\ttotal: 1.28s\tremaining: 781ms\n",
      "622:\tlearn: 10.8937422\ttotal: 1.29s\tremaining: 779ms\n",
      "623:\tlearn: 10.8853212\ttotal: 1.29s\tremaining: 776ms\n",
      "624:\tlearn: 10.8509495\ttotal: 1.29s\tremaining: 774ms\n",
      "625:\tlearn: 10.8271247\ttotal: 1.29s\tremaining: 772ms\n",
      "626:\tlearn: 10.7963436\ttotal: 1.29s\tremaining: 770ms\n",
      "627:\tlearn: 10.7743903\ttotal: 1.29s\tremaining: 768ms\n",
      "628:\tlearn: 10.7601188\ttotal: 1.3s\tremaining: 765ms\n",
      "629:\tlearn: 10.7300777\ttotal: 1.3s\tremaining: 763ms\n",
      "630:\tlearn: 10.7002495\ttotal: 1.3s\tremaining: 761ms\n",
      "631:\tlearn: 10.6808337\ttotal: 1.3s\tremaining: 759ms\n",
      "632:\tlearn: 10.6534341\ttotal: 1.3s\tremaining: 757ms\n",
      "633:\tlearn: 10.6323315\ttotal: 1.31s\tremaining: 754ms\n",
      "634:\tlearn: 10.6047848\ttotal: 1.31s\tremaining: 752ms\n",
      "635:\tlearn: 10.5787565\ttotal: 1.31s\tremaining: 751ms\n",
      "636:\tlearn: 10.5391714\ttotal: 1.31s\tremaining: 750ms\n",
      "637:\tlearn: 10.5107857\ttotal: 1.32s\tremaining: 748ms\n",
      "638:\tlearn: 10.4787938\ttotal: 1.32s\tremaining: 746ms\n",
      "639:\tlearn: 10.4501921\ttotal: 1.32s\tremaining: 744ms\n",
      "640:\tlearn: 10.4219395\ttotal: 1.32s\tremaining: 742ms\n",
      "641:\tlearn: 10.4006974\ttotal: 1.33s\tremaining: 740ms\n",
      "642:\tlearn: 10.3812611\ttotal: 1.33s\tremaining: 738ms\n",
      "643:\tlearn: 10.3523573\ttotal: 1.33s\tremaining: 735ms\n",
      "644:\tlearn: 10.3227268\ttotal: 1.33s\tremaining: 733ms\n",
      "645:\tlearn: 10.3146571\ttotal: 1.33s\tremaining: 731ms\n",
      "646:\tlearn: 10.3054633\ttotal: 1.33s\tremaining: 729ms\n",
      "647:\tlearn: 10.2683367\ttotal: 1.34s\tremaining: 727ms\n",
      "648:\tlearn: 10.2377729\ttotal: 1.34s\tremaining: 725ms\n",
      "649:\tlearn: 10.2067231\ttotal: 1.34s\tremaining: 722ms\n",
      "650:\tlearn: 10.1771556\ttotal: 1.34s\tremaining: 720ms\n",
      "651:\tlearn: 10.1475895\ttotal: 1.34s\tremaining: 718ms\n",
      "652:\tlearn: 10.1249174\ttotal: 1.35s\tremaining: 716ms\n",
      "653:\tlearn: 10.0913019\ttotal: 1.35s\tremaining: 714ms\n",
      "654:\tlearn: 10.0640839\ttotal: 1.35s\tremaining: 712ms\n",
      "655:\tlearn: 10.0413514\ttotal: 1.35s\tremaining: 710ms\n",
      "656:\tlearn: 10.0021283\ttotal: 1.35s\tremaining: 707ms\n",
      "657:\tlearn: 9.9693873\ttotal: 1.36s\tremaining: 705ms\n",
      "658:\tlearn: 9.9534709\ttotal: 1.36s\tremaining: 703ms\n",
      "659:\tlearn: 9.9479768\ttotal: 1.36s\tremaining: 702ms\n",
      "660:\tlearn: 9.9138579\ttotal: 1.36s\tremaining: 700ms\n",
      "661:\tlearn: 9.8773181\ttotal: 1.36s\tremaining: 697ms\n",
      "662:\tlearn: 9.8572190\ttotal: 1.37s\tremaining: 695ms\n",
      "663:\tlearn: 9.8218505\ttotal: 1.37s\tremaining: 693ms\n",
      "664:\tlearn: 9.8060322\ttotal: 1.37s\tremaining: 691ms\n",
      "665:\tlearn: 9.7802929\ttotal: 1.37s\tremaining: 689ms\n",
      "666:\tlearn: 9.7568243\ttotal: 1.38s\tremaining: 687ms\n",
      "667:\tlearn: 9.7284136\ttotal: 1.38s\tremaining: 684ms\n",
      "668:\tlearn: 9.6950211\ttotal: 1.38s\tremaining: 682ms\n",
      "669:\tlearn: 9.6714202\ttotal: 1.38s\tremaining: 680ms\n",
      "670:\tlearn: 9.6487486\ttotal: 1.38s\tremaining: 678ms\n",
      "671:\tlearn: 9.6289092\ttotal: 1.38s\tremaining: 676ms\n",
      "672:\tlearn: 9.6075064\ttotal: 1.39s\tremaining: 674ms\n",
      "673:\tlearn: 9.5870605\ttotal: 1.39s\tremaining: 671ms\n",
      "674:\tlearn: 9.5593098\ttotal: 1.39s\tremaining: 669ms\n",
      "675:\tlearn: 9.5271784\ttotal: 1.39s\tremaining: 667ms\n",
      "676:\tlearn: 9.4973250\ttotal: 1.39s\tremaining: 665ms\n",
      "677:\tlearn: 9.4757070\ttotal: 1.4s\tremaining: 663ms\n",
      "678:\tlearn: 9.4493877\ttotal: 1.4s\tremaining: 661ms\n",
      "679:\tlearn: 9.4236576\ttotal: 1.4s\tremaining: 659ms\n",
      "680:\tlearn: 9.3999778\ttotal: 1.4s\tremaining: 656ms\n",
      "681:\tlearn: 9.3788524\ttotal: 1.4s\tremaining: 654ms\n",
      "682:\tlearn: 9.3613107\ttotal: 1.41s\tremaining: 652ms\n",
      "683:\tlearn: 9.3406033\ttotal: 1.41s\tremaining: 650ms\n",
      "684:\tlearn: 9.2995054\ttotal: 1.41s\tremaining: 648ms\n",
      "685:\tlearn: 9.2696198\ttotal: 1.41s\tremaining: 646ms\n",
      "686:\tlearn: 9.2484281\ttotal: 1.41s\tremaining: 644ms\n",
      "687:\tlearn: 9.2304234\ttotal: 1.41s\tremaining: 642ms\n",
      "688:\tlearn: 9.2055370\ttotal: 1.42s\tremaining: 639ms\n",
      "689:\tlearn: 9.1855506\ttotal: 1.42s\tremaining: 637ms\n",
      "690:\tlearn: 9.1499147\ttotal: 1.42s\tremaining: 635ms\n",
      "691:\tlearn: 9.1282864\ttotal: 1.42s\tremaining: 633ms\n",
      "692:\tlearn: 9.1161327\ttotal: 1.42s\tremaining: 631ms\n",
      "693:\tlearn: 9.0857287\ttotal: 1.43s\tremaining: 629ms\n",
      "694:\tlearn: 9.0676093\ttotal: 1.43s\tremaining: 627ms\n",
      "695:\tlearn: 9.0411723\ttotal: 1.43s\tremaining: 624ms\n",
      "696:\tlearn: 9.0144767\ttotal: 1.43s\tremaining: 622ms\n",
      "697:\tlearn: 8.9866496\ttotal: 1.43s\tremaining: 620ms\n",
      "698:\tlearn: 8.9721984\ttotal: 1.44s\tremaining: 618ms\n",
      "699:\tlearn: 8.9423774\ttotal: 1.44s\tremaining: 616ms\n",
      "700:\tlearn: 8.9262727\ttotal: 1.44s\tremaining: 614ms\n",
      "701:\tlearn: 8.9005729\ttotal: 1.44s\tremaining: 612ms\n",
      "702:\tlearn: 8.8786018\ttotal: 1.44s\tremaining: 609ms\n",
      "703:\tlearn: 8.8571600\ttotal: 1.44s\tremaining: 607ms\n",
      "704:\tlearn: 8.8310816\ttotal: 1.45s\tremaining: 605ms\n",
      "705:\tlearn: 8.8102733\ttotal: 1.45s\tremaining: 603ms\n",
      "706:\tlearn: 8.7907874\ttotal: 1.45s\tremaining: 601ms\n",
      "707:\tlearn: 8.7657001\ttotal: 1.45s\tremaining: 599ms\n",
      "708:\tlearn: 8.7439826\ttotal: 1.45s\tremaining: 597ms\n",
      "709:\tlearn: 8.7174642\ttotal: 1.46s\tremaining: 595ms\n",
      "710:\tlearn: 8.7081398\ttotal: 1.46s\tremaining: 593ms\n",
      "711:\tlearn: 8.6819581\ttotal: 1.46s\tremaining: 590ms\n",
      "712:\tlearn: 8.6580255\ttotal: 1.46s\tremaining: 588ms\n",
      "713:\tlearn: 8.6414498\ttotal: 1.46s\tremaining: 586ms\n",
      "714:\tlearn: 8.6155749\ttotal: 1.47s\tremaining: 584ms\n",
      "715:\tlearn: 8.5918401\ttotal: 1.47s\tremaining: 582ms\n",
      "716:\tlearn: 8.5784347\ttotal: 1.47s\tremaining: 580ms\n",
      "717:\tlearn: 8.5581418\ttotal: 1.47s\tremaining: 578ms\n",
      "718:\tlearn: 8.5400026\ttotal: 1.47s\tremaining: 576ms\n",
      "719:\tlearn: 8.5200427\ttotal: 1.47s\tremaining: 574ms\n",
      "720:\tlearn: 8.4990226\ttotal: 1.48s\tremaining: 571ms\n",
      "721:\tlearn: 8.4861488\ttotal: 1.48s\tremaining: 569ms\n",
      "722:\tlearn: 8.4551834\ttotal: 1.48s\tremaining: 567ms\n",
      "723:\tlearn: 8.4300395\ttotal: 1.48s\tremaining: 565ms\n",
      "724:\tlearn: 8.4118413\ttotal: 1.48s\tremaining: 563ms\n",
      "725:\tlearn: 8.3867434\ttotal: 1.49s\tremaining: 561ms\n",
      "726:\tlearn: 8.3638174\ttotal: 1.49s\tremaining: 559ms\n",
      "727:\tlearn: 8.3407860\ttotal: 1.49s\tremaining: 557ms\n",
      "728:\tlearn: 8.3172056\ttotal: 1.49s\tremaining: 554ms\n",
      "729:\tlearn: 8.2978795\ttotal: 1.49s\tremaining: 552ms\n",
      "730:\tlearn: 8.2801528\ttotal: 1.5s\tremaining: 550ms\n",
      "731:\tlearn: 8.2599854\ttotal: 1.5s\tremaining: 548ms\n",
      "732:\tlearn: 8.2504484\ttotal: 1.5s\tremaining: 546ms\n",
      "733:\tlearn: 8.2490133\ttotal: 1.5s\tremaining: 544ms\n",
      "734:\tlearn: 8.2361732\ttotal: 1.5s\tremaining: 542ms\n",
      "735:\tlearn: 8.2112385\ttotal: 1.51s\tremaining: 540ms\n",
      "736:\tlearn: 8.1922001\ttotal: 1.51s\tremaining: 539ms\n",
      "737:\tlearn: 8.1687629\ttotal: 1.51s\tremaining: 537ms\n",
      "738:\tlearn: 8.1471654\ttotal: 1.51s\tremaining: 535ms\n",
      "739:\tlearn: 8.1327728\ttotal: 1.52s\tremaining: 533ms\n",
      "740:\tlearn: 8.1139632\ttotal: 1.52s\tremaining: 531ms\n",
      "741:\tlearn: 8.0961882\ttotal: 1.52s\tremaining: 529ms\n",
      "742:\tlearn: 8.0727608\ttotal: 1.52s\tremaining: 527ms\n",
      "743:\tlearn: 8.0458199\ttotal: 1.52s\tremaining: 525ms\n",
      "744:\tlearn: 8.0291450\ttotal: 1.53s\tremaining: 523ms\n",
      "745:\tlearn: 7.9990235\ttotal: 1.53s\tremaining: 521ms\n",
      "746:\tlearn: 7.9755789\ttotal: 1.53s\tremaining: 519ms\n",
      "747:\tlearn: 7.9548572\ttotal: 1.53s\tremaining: 517ms\n",
      "748:\tlearn: 7.9338741\ttotal: 1.53s\tremaining: 514ms\n",
      "749:\tlearn: 7.9085699\ttotal: 1.54s\tremaining: 512ms\n",
      "750:\tlearn: 7.8878491\ttotal: 1.54s\tremaining: 510ms\n",
      "751:\tlearn: 7.8666678\ttotal: 1.54s\tremaining: 508ms\n",
      "752:\tlearn: 7.8424939\ttotal: 1.54s\tremaining: 506ms\n",
      "753:\tlearn: 7.8298339\ttotal: 1.54s\tremaining: 504ms\n",
      "754:\tlearn: 7.8118528\ttotal: 1.55s\tremaining: 502ms\n",
      "755:\tlearn: 7.7855938\ttotal: 1.55s\tremaining: 500ms\n",
      "756:\tlearn: 7.7734188\ttotal: 1.55s\tremaining: 498ms\n",
      "757:\tlearn: 7.7479106\ttotal: 1.55s\tremaining: 495ms\n",
      "758:\tlearn: 7.7213909\ttotal: 1.55s\tremaining: 493ms\n",
      "759:\tlearn: 7.6995475\ttotal: 1.55s\tremaining: 491ms\n",
      "760:\tlearn: 7.6747629\ttotal: 1.56s\tremaining: 489ms\n",
      "761:\tlearn: 7.6520797\ttotal: 1.56s\tremaining: 487ms\n",
      "762:\tlearn: 7.6349073\ttotal: 1.56s\tremaining: 485ms\n",
      "763:\tlearn: 7.6157383\ttotal: 1.56s\tremaining: 483ms\n",
      "764:\tlearn: 7.5959787\ttotal: 1.56s\tremaining: 481ms\n",
      "765:\tlearn: 7.5885082\ttotal: 1.57s\tremaining: 479ms\n",
      "766:\tlearn: 7.5721429\ttotal: 1.57s\tremaining: 477ms\n",
      "767:\tlearn: 7.5641937\ttotal: 1.57s\tremaining: 474ms\n",
      "768:\tlearn: 7.5506539\ttotal: 1.57s\tremaining: 472ms\n",
      "769:\tlearn: 7.5242136\ttotal: 1.57s\tremaining: 470ms\n",
      "770:\tlearn: 7.5075487\ttotal: 1.57s\tremaining: 468ms\n",
      "771:\tlearn: 7.4888776\ttotal: 1.58s\tremaining: 466ms\n",
      "772:\tlearn: 7.4708660\ttotal: 1.58s\tremaining: 464ms\n",
      "773:\tlearn: 7.4464633\ttotal: 1.58s\tremaining: 462ms\n",
      "774:\tlearn: 7.4407894\ttotal: 1.58s\tremaining: 460ms\n",
      "775:\tlearn: 7.4255671\ttotal: 1.58s\tremaining: 458ms\n",
      "776:\tlearn: 7.4194864\ttotal: 1.59s\tremaining: 455ms\n",
      "777:\tlearn: 7.3954337\ttotal: 1.59s\tremaining: 453ms\n",
      "778:\tlearn: 7.3770537\ttotal: 1.59s\tremaining: 451ms\n",
      "779:\tlearn: 7.3671672\ttotal: 1.59s\tremaining: 449ms\n",
      "780:\tlearn: 7.3659259\ttotal: 1.59s\tremaining: 447ms\n",
      "781:\tlearn: 7.3477045\ttotal: 1.59s\tremaining: 445ms\n",
      "782:\tlearn: 7.3339855\ttotal: 1.6s\tremaining: 443ms\n",
      "783:\tlearn: 7.3175132\ttotal: 1.6s\tremaining: 441ms\n",
      "784:\tlearn: 7.2901645\ttotal: 1.6s\tremaining: 439ms\n",
      "785:\tlearn: 7.2744361\ttotal: 1.6s\tremaining: 436ms\n",
      "786:\tlearn: 7.2593877\ttotal: 1.6s\tremaining: 434ms\n",
      "787:\tlearn: 7.2418085\ttotal: 1.61s\tremaining: 432ms\n",
      "788:\tlearn: 7.2225669\ttotal: 1.61s\tremaining: 430ms\n",
      "789:\tlearn: 7.1959728\ttotal: 1.61s\tremaining: 428ms\n",
      "790:\tlearn: 7.1783588\ttotal: 1.61s\tremaining: 426ms\n",
      "791:\tlearn: 7.1589439\ttotal: 1.61s\tremaining: 424ms\n",
      "792:\tlearn: 7.1308912\ttotal: 1.62s\tremaining: 422ms\n",
      "793:\tlearn: 7.1286577\ttotal: 1.62s\tremaining: 420ms\n",
      "794:\tlearn: 7.1174935\ttotal: 1.62s\tremaining: 418ms\n",
      "795:\tlearn: 7.1042804\ttotal: 1.62s\tremaining: 416ms\n",
      "796:\tlearn: 7.0859533\ttotal: 1.62s\tremaining: 413ms\n",
      "797:\tlearn: 7.0729841\ttotal: 1.62s\tremaining: 411ms\n",
      "798:\tlearn: 7.0546702\ttotal: 1.63s\tremaining: 409ms\n",
      "799:\tlearn: 7.0488861\ttotal: 1.63s\tremaining: 407ms\n",
      "800:\tlearn: 7.0178440\ttotal: 1.63s\tremaining: 405ms\n",
      "801:\tlearn: 7.0025938\ttotal: 1.63s\tremaining: 403ms\n",
      "802:\tlearn: 6.9803562\ttotal: 1.63s\tremaining: 401ms\n",
      "803:\tlearn: 6.9668753\ttotal: 1.64s\tremaining: 399ms\n",
      "804:\tlearn: 6.9508290\ttotal: 1.64s\tremaining: 397ms\n",
      "805:\tlearn: 6.9269904\ttotal: 1.64s\tremaining: 395ms\n",
      "806:\tlearn: 6.8975439\ttotal: 1.64s\tremaining: 393ms\n",
      "807:\tlearn: 6.8823369\ttotal: 1.64s\tremaining: 390ms\n",
      "808:\tlearn: 6.8812208\ttotal: 1.64s\tremaining: 388ms\n",
      "809:\tlearn: 6.8804392\ttotal: 1.65s\tremaining: 386ms\n",
      "810:\tlearn: 6.8657697\ttotal: 1.65s\tremaining: 384ms\n",
      "811:\tlearn: 6.8452847\ttotal: 1.65s\tremaining: 382ms\n",
      "812:\tlearn: 6.8288420\ttotal: 1.65s\tremaining: 380ms\n",
      "813:\tlearn: 6.8103210\ttotal: 1.65s\tremaining: 378ms\n",
      "814:\tlearn: 6.8006038\ttotal: 1.66s\tremaining: 376ms\n",
      "815:\tlearn: 6.7920059\ttotal: 1.66s\tremaining: 374ms\n",
      "816:\tlearn: 6.7685198\ttotal: 1.66s\tremaining: 372ms\n",
      "817:\tlearn: 6.7597279\ttotal: 1.66s\tremaining: 370ms\n",
      "818:\tlearn: 6.7429799\ttotal: 1.66s\tremaining: 368ms\n",
      "819:\tlearn: 6.7257432\ttotal: 1.67s\tremaining: 365ms\n",
      "820:\tlearn: 6.7072020\ttotal: 1.67s\tremaining: 363ms\n",
      "821:\tlearn: 6.6927031\ttotal: 1.67s\tremaining: 361ms\n",
      "822:\tlearn: 6.6864315\ttotal: 1.67s\tremaining: 359ms\n",
      "823:\tlearn: 6.6765329\ttotal: 1.67s\tremaining: 357ms\n",
      "824:\tlearn: 6.6556218\ttotal: 1.67s\tremaining: 355ms\n",
      "825:\tlearn: 6.6450626\ttotal: 1.68s\tremaining: 353ms\n",
      "826:\tlearn: 6.6443270\ttotal: 1.68s\tremaining: 351ms\n",
      "827:\tlearn: 6.6170014\ttotal: 1.68s\tremaining: 349ms\n",
      "828:\tlearn: 6.6162682\ttotal: 1.68s\tremaining: 347ms\n",
      "829:\tlearn: 6.5965714\ttotal: 1.68s\tremaining: 345ms\n",
      "830:\tlearn: 6.5755254\ttotal: 1.69s\tremaining: 343ms\n",
      "831:\tlearn: 6.5749730\ttotal: 1.69s\tremaining: 341ms\n",
      "832:\tlearn: 6.5568166\ttotal: 1.69s\tremaining: 339ms\n",
      "833:\tlearn: 6.5419201\ttotal: 1.69s\tremaining: 336ms\n",
      "834:\tlearn: 6.5305090\ttotal: 1.69s\tremaining: 334ms\n",
      "835:\tlearn: 6.5279725\ttotal: 1.69s\tremaining: 332ms\n",
      "836:\tlearn: 6.5146426\ttotal: 1.7s\tremaining: 330ms\n",
      "837:\tlearn: 6.5047459\ttotal: 1.7s\tremaining: 328ms\n",
      "838:\tlearn: 6.4909928\ttotal: 1.7s\tremaining: 327ms\n",
      "839:\tlearn: 6.4697824\ttotal: 1.7s\tremaining: 325ms\n",
      "840:\tlearn: 6.4511114\ttotal: 1.71s\tremaining: 323ms\n",
      "841:\tlearn: 6.4305580\ttotal: 1.71s\tremaining: 320ms\n",
      "842:\tlearn: 6.4194106\ttotal: 1.71s\tremaining: 318ms\n",
      "843:\tlearn: 6.4188328\ttotal: 1.71s\tremaining: 316ms\n",
      "844:\tlearn: 6.4072691\ttotal: 1.71s\tremaining: 314ms\n",
      "845:\tlearn: 6.3950676\ttotal: 1.72s\tremaining: 312ms\n",
      "846:\tlearn: 6.3807362\ttotal: 1.72s\tremaining: 310ms\n",
      "847:\tlearn: 6.3756541\ttotal: 1.72s\tremaining: 308ms\n",
      "848:\tlearn: 6.3667632\ttotal: 1.72s\tremaining: 306ms\n",
      "849:\tlearn: 6.3551794\ttotal: 1.72s\tremaining: 304ms\n",
      "850:\tlearn: 6.3385072\ttotal: 1.73s\tremaining: 302ms\n",
      "851:\tlearn: 6.3204298\ttotal: 1.73s\tremaining: 300ms\n",
      "852:\tlearn: 6.3098446\ttotal: 1.73s\tremaining: 298ms\n",
      "853:\tlearn: 6.3092918\ttotal: 1.73s\tremaining: 296ms\n",
      "854:\tlearn: 6.2937186\ttotal: 1.73s\tremaining: 294ms\n",
      "855:\tlearn: 6.2803353\ttotal: 1.73s\tremaining: 292ms\n",
      "856:\tlearn: 6.2793421\ttotal: 1.74s\tremaining: 290ms\n",
      "857:\tlearn: 6.2611439\ttotal: 1.74s\tremaining: 288ms\n",
      "858:\tlearn: 6.2519161\ttotal: 1.74s\tremaining: 286ms\n",
      "859:\tlearn: 6.2510541\ttotal: 1.74s\tremaining: 284ms\n",
      "860:\tlearn: 6.2280568\ttotal: 1.74s\tremaining: 282ms\n",
      "861:\tlearn: 6.2087054\ttotal: 1.75s\tremaining: 279ms\n",
      "862:\tlearn: 6.1921601\ttotal: 1.75s\tremaining: 277ms\n",
      "863:\tlearn: 6.1743459\ttotal: 1.75s\tremaining: 275ms\n",
      "864:\tlearn: 6.1586565\ttotal: 1.75s\tremaining: 273ms\n",
      "865:\tlearn: 6.1478015\ttotal: 1.75s\tremaining: 271ms\n",
      "866:\tlearn: 6.1345100\ttotal: 1.75s\tremaining: 269ms\n",
      "867:\tlearn: 6.1244294\ttotal: 1.76s\tremaining: 267ms\n",
      "868:\tlearn: 6.1170433\ttotal: 1.76s\tremaining: 265ms\n",
      "869:\tlearn: 6.0989765\ttotal: 1.76s\tremaining: 263ms\n",
      "870:\tlearn: 6.0873222\ttotal: 1.76s\tremaining: 261ms\n",
      "871:\tlearn: 6.0738064\ttotal: 1.76s\tremaining: 259ms\n",
      "872:\tlearn: 6.0600859\ttotal: 1.77s\tremaining: 257ms\n",
      "873:\tlearn: 6.0360574\ttotal: 1.77s\tremaining: 255ms\n",
      "874:\tlearn: 6.0234375\ttotal: 1.77s\tremaining: 253ms\n",
      "875:\tlearn: 6.0061381\ttotal: 1.77s\tremaining: 251ms\n",
      "876:\tlearn: 5.9928160\ttotal: 1.77s\tremaining: 249ms\n",
      "877:\tlearn: 5.9823246\ttotal: 1.78s\tremaining: 247ms\n",
      "878:\tlearn: 5.9708790\ttotal: 1.78s\tremaining: 245ms\n",
      "879:\tlearn: 5.9529679\ttotal: 1.78s\tremaining: 243ms\n",
      "880:\tlearn: 5.9366583\ttotal: 1.78s\tremaining: 241ms\n",
      "881:\tlearn: 5.9267083\ttotal: 1.78s\tremaining: 239ms\n",
      "882:\tlearn: 5.9150557\ttotal: 1.78s\tremaining: 237ms\n",
      "883:\tlearn: 5.9051778\ttotal: 1.79s\tremaining: 235ms\n",
      "884:\tlearn: 5.8859923\ttotal: 1.79s\tremaining: 232ms\n",
      "885:\tlearn: 5.8740243\ttotal: 1.79s\tremaining: 230ms\n",
      "886:\tlearn: 5.8566437\ttotal: 1.79s\tremaining: 228ms\n",
      "887:\tlearn: 5.8471507\ttotal: 1.79s\tremaining: 226ms\n",
      "888:\tlearn: 5.8318374\ttotal: 1.8s\tremaining: 224ms\n",
      "889:\tlearn: 5.8225969\ttotal: 1.8s\tremaining: 222ms\n",
      "890:\tlearn: 5.8103083\ttotal: 1.8s\tremaining: 220ms\n",
      "891:\tlearn: 5.7937643\ttotal: 1.8s\tremaining: 218ms\n",
      "892:\tlearn: 5.7774373\ttotal: 1.8s\tremaining: 216ms\n",
      "893:\tlearn: 5.7638313\ttotal: 1.8s\tremaining: 214ms\n",
      "894:\tlearn: 5.7439474\ttotal: 1.81s\tremaining: 212ms\n",
      "895:\tlearn: 5.7342854\ttotal: 1.81s\tremaining: 210ms\n",
      "896:\tlearn: 5.7161401\ttotal: 1.81s\tremaining: 208ms\n",
      "897:\tlearn: 5.7067177\ttotal: 1.81s\tremaining: 206ms\n",
      "898:\tlearn: 5.6895652\ttotal: 1.81s\tremaining: 204ms\n",
      "899:\tlearn: 5.6887863\ttotal: 1.82s\tremaining: 202ms\n",
      "900:\tlearn: 5.6785772\ttotal: 1.82s\tremaining: 200ms\n",
      "901:\tlearn: 5.6780602\ttotal: 1.82s\tremaining: 198ms\n",
      "902:\tlearn: 5.6667982\ttotal: 1.82s\tremaining: 196ms\n",
      "903:\tlearn: 5.6610497\ttotal: 1.82s\tremaining: 194ms\n",
      "904:\tlearn: 5.6544228\ttotal: 1.83s\tremaining: 192ms\n",
      "905:\tlearn: 5.6418314\ttotal: 1.83s\tremaining: 190ms\n",
      "906:\tlearn: 5.6338881\ttotal: 1.83s\tremaining: 188ms\n",
      "907:\tlearn: 5.6251458\ttotal: 1.83s\tremaining: 186ms\n",
      "908:\tlearn: 5.6124489\ttotal: 1.83s\tremaining: 184ms\n",
      "909:\tlearn: 5.5990744\ttotal: 1.83s\tremaining: 181ms\n",
      "910:\tlearn: 5.5866536\ttotal: 1.84s\tremaining: 179ms\n",
      "911:\tlearn: 5.5706023\ttotal: 1.84s\tremaining: 177ms\n",
      "912:\tlearn: 5.5609761\ttotal: 1.84s\tremaining: 175ms\n",
      "913:\tlearn: 5.5562512\ttotal: 1.84s\tremaining: 173ms\n",
      "914:\tlearn: 5.5465850\ttotal: 1.84s\tremaining: 171ms\n",
      "915:\tlearn: 5.5365624\ttotal: 1.85s\tremaining: 169ms\n",
      "916:\tlearn: 5.5128666\ttotal: 1.85s\tremaining: 167ms\n",
      "917:\tlearn: 5.5024017\ttotal: 1.85s\tremaining: 165ms\n",
      "918:\tlearn: 5.4824978\ttotal: 1.85s\tremaining: 163ms\n",
      "919:\tlearn: 5.4708558\ttotal: 1.85s\tremaining: 161ms\n",
      "920:\tlearn: 5.4568042\ttotal: 1.85s\tremaining: 159ms\n",
      "921:\tlearn: 5.4496653\ttotal: 1.86s\tremaining: 157ms\n",
      "922:\tlearn: 5.4370208\ttotal: 1.86s\tremaining: 155ms\n",
      "923:\tlearn: 5.4286805\ttotal: 1.86s\tremaining: 153ms\n",
      "924:\tlearn: 5.4176765\ttotal: 1.86s\tremaining: 151ms\n",
      "925:\tlearn: 5.4045145\ttotal: 1.86s\tremaining: 149ms\n",
      "926:\tlearn: 5.3939979\ttotal: 1.87s\tremaining: 147ms\n",
      "927:\tlearn: 5.3813117\ttotal: 1.87s\tremaining: 145ms\n",
      "928:\tlearn: 5.3695956\ttotal: 1.87s\tremaining: 143ms\n",
      "929:\tlearn: 5.3563813\ttotal: 1.87s\tremaining: 141ms\n",
      "930:\tlearn: 5.3486549\ttotal: 1.87s\tremaining: 139ms\n",
      "931:\tlearn: 5.3363174\ttotal: 1.88s\tremaining: 137ms\n",
      "932:\tlearn: 5.3296465\ttotal: 1.88s\tremaining: 135ms\n",
      "933:\tlearn: 5.3156986\ttotal: 1.88s\tremaining: 133ms\n",
      "934:\tlearn: 5.2952153\ttotal: 1.88s\tremaining: 131ms\n",
      "935:\tlearn: 5.2906070\ttotal: 1.88s\tremaining: 129ms\n",
      "936:\tlearn: 5.2830310\ttotal: 1.89s\tremaining: 127ms\n",
      "937:\tlearn: 5.2713645\ttotal: 1.89s\tremaining: 125ms\n",
      "938:\tlearn: 5.2578382\ttotal: 1.89s\tremaining: 123ms\n",
      "939:\tlearn: 5.2486631\ttotal: 1.89s\tremaining: 121ms\n",
      "940:\tlearn: 5.2390452\ttotal: 1.89s\tremaining: 119ms\n",
      "941:\tlearn: 5.2209087\ttotal: 1.9s\tremaining: 117ms\n",
      "942:\tlearn: 5.2202393\ttotal: 1.9s\tremaining: 115ms\n",
      "943:\tlearn: 5.2081665\ttotal: 1.9s\tremaining: 113ms\n",
      "944:\tlearn: 5.1992711\ttotal: 1.9s\tremaining: 111ms\n",
      "945:\tlearn: 5.1918609\ttotal: 1.9s\tremaining: 109ms\n",
      "946:\tlearn: 5.1767114\ttotal: 1.91s\tremaining: 107ms\n",
      "947:\tlearn: 5.1640624\ttotal: 1.91s\tremaining: 105ms\n",
      "948:\tlearn: 5.1549809\ttotal: 1.91s\tremaining: 103ms\n",
      "949:\tlearn: 5.1431649\ttotal: 1.91s\tremaining: 101ms\n",
      "950:\tlearn: 5.1349674\ttotal: 1.91s\tremaining: 98.7ms\n",
      "951:\tlearn: 5.1211824\ttotal: 1.92s\tremaining: 96.6ms\n",
      "952:\tlearn: 5.1029950\ttotal: 1.92s\tremaining: 94.6ms\n",
      "953:\tlearn: 5.0930026\ttotal: 1.92s\tremaining: 92.6ms\n",
      "954:\tlearn: 5.0830766\ttotal: 1.92s\tremaining: 90.6ms\n",
      "955:\tlearn: 5.0651237\ttotal: 1.92s\tremaining: 88.6ms\n",
      "956:\tlearn: 5.0643603\ttotal: 1.93s\tremaining: 86.5ms\n",
      "957:\tlearn: 5.0471187\ttotal: 1.93s\tremaining: 84.5ms\n",
      "958:\tlearn: 5.0318923\ttotal: 1.93s\tremaining: 82.5ms\n",
      "959:\tlearn: 5.0205084\ttotal: 1.93s\tremaining: 80.5ms\n",
      "960:\tlearn: 5.0086637\ttotal: 1.93s\tremaining: 78.5ms\n",
      "961:\tlearn: 4.9997212\ttotal: 1.94s\tremaining: 76.4ms\n",
      "962:\tlearn: 4.9870230\ttotal: 1.94s\tremaining: 74.4ms\n",
      "963:\tlearn: 4.9775911\ttotal: 1.94s\tremaining: 72.4ms\n",
      "964:\tlearn: 4.9756512\ttotal: 1.94s\tremaining: 70.4ms\n",
      "965:\tlearn: 4.9619392\ttotal: 1.94s\tremaining: 68.4ms\n",
      "966:\tlearn: 4.9501463\ttotal: 1.94s\tremaining: 66.4ms\n",
      "967:\tlearn: 4.9362007\ttotal: 1.95s\tremaining: 64.3ms\n",
      "968:\tlearn: 4.9272866\ttotal: 1.95s\tremaining: 62.4ms\n",
      "969:\tlearn: 4.9172958\ttotal: 1.95s\tremaining: 60.4ms\n",
      "970:\tlearn: 4.9051294\ttotal: 1.95s\tremaining: 58.3ms\n",
      "971:\tlearn: 4.8898748\ttotal: 1.96s\tremaining: 56.3ms\n",
      "972:\tlearn: 4.8801689\ttotal: 1.96s\tremaining: 54.3ms\n",
      "973:\tlearn: 4.8680436\ttotal: 1.96s\tremaining: 52.3ms\n",
      "974:\tlearn: 4.8547775\ttotal: 1.96s\tremaining: 50.3ms\n",
      "975:\tlearn: 4.8477725\ttotal: 1.96s\tremaining: 48.3ms\n",
      "976:\tlearn: 4.8378080\ttotal: 1.96s\tremaining: 46.3ms\n",
      "977:\tlearn: 4.8200424\ttotal: 1.97s\tremaining: 44.2ms\n",
      "978:\tlearn: 4.8038066\ttotal: 1.97s\tremaining: 42.2ms\n",
      "979:\tlearn: 4.7995316\ttotal: 1.97s\tremaining: 40.2ms\n",
      "980:\tlearn: 4.7910120\ttotal: 1.97s\tremaining: 38.2ms\n",
      "981:\tlearn: 4.7774879\ttotal: 1.97s\tremaining: 36.2ms\n",
      "982:\tlearn: 4.7622470\ttotal: 1.98s\tremaining: 34.2ms\n",
      "983:\tlearn: 4.7486141\ttotal: 1.98s\tremaining: 32.2ms\n",
      "984:\tlearn: 4.7400648\ttotal: 1.98s\tremaining: 30.1ms\n",
      "985:\tlearn: 4.7236032\ttotal: 1.98s\tremaining: 28.1ms\n",
      "986:\tlearn: 4.7172114\ttotal: 1.98s\tremaining: 26.1ms\n",
      "987:\tlearn: 4.7092078\ttotal: 1.99s\tremaining: 24.1ms\n",
      "988:\tlearn: 4.7037439\ttotal: 1.99s\tremaining: 22.1ms\n",
      "989:\tlearn: 4.6878092\ttotal: 1.99s\tremaining: 20.1ms\n",
      "990:\tlearn: 4.6747660\ttotal: 1.99s\tremaining: 18.1ms\n",
      "991:\tlearn: 4.6664897\ttotal: 1.99s\tremaining: 16.1ms\n",
      "992:\tlearn: 4.6526918\ttotal: 1.99s\tremaining: 14.1ms\n",
      "993:\tlearn: 4.6407345\ttotal: 2s\tremaining: 12.1ms\n",
      "994:\tlearn: 4.6313590\ttotal: 2s\tremaining: 10ms\n",
      "995:\tlearn: 4.6192874\ttotal: 2s\tremaining: 8.03ms\n",
      "996:\tlearn: 4.6087838\ttotal: 2s\tremaining: 6.02ms\n",
      "997:\tlearn: 4.5957472\ttotal: 2s\tremaining: 4.01ms\n",
      "998:\tlearn: 4.5842286\ttotal: 2s\tremaining: 2.01ms\n",
      "999:\tlearn: 4.5740566\ttotal: 2.01s\tremaining: 0us\n"
     ]
    },
    {
     "data": {
      "text/plain": [
       "<catboost.core.CatBoostRegressor at 0x7f573dcd32e0>"
      ]
     },
     "execution_count": 9,
     "metadata": {},
     "output_type": "execute_result"
    }
   ],
   "source": [
    "model.fit(X_train, y_train)"
   ]
  },
  {
   "cell_type": "code",
   "execution_count": 10,
   "id": "fd8a9aea-c978-4eff-8737-a3998922b52c",
   "metadata": {
    "execution": {
     "iopub.execute_input": "2024-04-10T19:01:44.760655Z",
     "iopub.status.busy": "2024-04-10T19:01:44.760073Z",
     "iopub.status.idle": "2024-04-10T19:01:44.777942Z",
     "shell.execute_reply": "2024-04-10T19:01:44.777364Z",
     "shell.execute_reply.started": "2024-04-10T19:01:44.760629Z"
    },
    "tags": []
   },
   "outputs": [],
   "source": [
    "y_pred = model.predict(X_test)"
   ]
  },
  {
   "cell_type": "code",
   "execution_count": 11,
   "id": "1f9116ca-d61f-4ba3-9b15-f6f1c3e634e7",
   "metadata": {
    "execution": {
     "iopub.execute_input": "2024-04-10T19:01:46.350452Z",
     "iopub.status.busy": "2024-04-10T19:01:46.349886Z",
     "iopub.status.idle": "2024-04-10T19:01:46.372243Z",
     "shell.execute_reply": "2024-04-10T19:01:46.371708Z",
     "shell.execute_reply.started": "2024-04-10T19:01:46.350428Z"
    },
    "tags": []
   },
   "outputs": [
    {
     "name": "stdout",
     "output_type": "stream",
     "text": [
      "0.8883893628551564\n",
      "27.144135937881845\n"
     ]
    }
   ],
   "source": [
    "print(mape(y_test, y_pred))\n",
    "print(mean_absolute_error(y_test, y_pred))"
   ]
  },
  {
   "cell_type": "code",
   "execution_count": 13,
   "id": "d0267dfe-b379-4b26-bd72-7ed574f223ec",
   "metadata": {
    "execution": {
     "iopub.execute_input": "2024-04-10T19:02:54.359722Z",
     "iopub.status.busy": "2024-04-10T19:02:54.359345Z",
     "iopub.status.idle": "2024-04-10T19:02:57.680401Z",
     "shell.execute_reply": "2024-04-10T19:02:57.679818Z",
     "shell.execute_reply.started": "2024-04-10T19:02:54.359699Z"
    },
    "tags": []
   },
   "outputs": [
    {
     "data": {
      "image/png": "[encoded data removed]",
      "text/plain": [
       "<Figure size 432x288 with 1 Axes>"
      ]
     },
     "metadata": {
      "needs_background": "light"
     },
     "output_type": "display_data"
    }
   ],
   "source": [
    "plt.plot(train_df['date'], model.predict(X_train), label='Predict', color='red')\n",
    "plt.plot(train_df['date'], y_train, label='Truth', color='blue')\n",
    "plt.legend()\n",
    "plt.show()"
   ]
  },
  {
   "cell_type": "code",
   "execution_count": 38,
   "id": "e932fcba-8e2d-4bdd-885c-656e938cbffc",
   "metadata": {
    "execution": {
     "iopub.execute_input": "2024-04-10T19:15:01.404075Z",
     "iopub.status.busy": "2024-04-10T19:15:01.403670Z",
     "iopub.status.idle": "2024-04-10T19:15:02.765649Z",
     "shell.execute_reply": "2024-04-10T19:15:02.765041Z",
     "shell.execute_reply.started": "2024-04-10T19:15:01.404052Z"
    },
    "tags": []
   },
   "outputs": [
    {
     "name": "stderr",
     "output_type": "stream",
     "text": [
      "/usr/local/lib/python3.10/dist-packages/seaborn/_oldcore.py:1119: FutureWarning: use_inf_as_na option is deprecated and will be removed in a future version. Convert inf values to NaN before operating instead.\n",
      "  with pd.option_context('mode.use_inf_as_na', True):\n",
      "/usr/local/lib/python3.10/dist-packages/seaborn/_oldcore.py:1119: FutureWarning: use_inf_as_na option is deprecated and will be removed in a future version. Convert inf values to NaN before operating instead.\n",
      "  with pd.option_context('mode.use_inf_as_na', True):\n",
      "/usr/local/lib/python3.10/dist-packages/seaborn/_oldcore.py:1119: FutureWarning: use_inf_as_na option is deprecated and will be removed in a future version. Convert inf values to NaN before operating instead.\n",
      "  with pd.option_context('mode.use_inf_as_na', True):\n",
      "/usr/local/lib/python3.10/dist-packages/seaborn/_oldcore.py:1119: FutureWarning: use_inf_as_na option is deprecated and will be removed in a future version. Convert inf values to NaN before operating instead.\n",
      "  with pd.option_context('mode.use_inf_as_na', True):\n",
      "/usr/local/lib/python3.10/dist-packages/seaborn/_oldcore.py:1119: FutureWarning: use_inf_as_na option is deprecated and will be removed in a future version. Convert inf values to NaN before operating instead.\n",
      "  with pd.option_context('mode.use_inf_as_na', True):\n",
      "/usr/local/lib/python3.10/dist-packages/seaborn/_oldcore.py:1119: FutureWarning: use_inf_as_na option is deprecated and will be removed in a future version. Convert inf values to NaN before operating instead.\n",
      "  with pd.option_context('mode.use_inf_as_na', True):\n",
      "/usr/local/lib/python3.10/dist-packages/seaborn/_oldcore.py:1119: FutureWarning: use_inf_as_na option is deprecated and will be removed in a future version. Convert inf values to NaN before operating instead.\n",
      "  with pd.option_context('mode.use_inf_as_na', True):\n",
      "/usr/local/lib/python3.10/dist-packages/seaborn/_oldcore.py:1119: FutureWarning: use_inf_as_na option is deprecated and will be removed in a future version. Convert inf values to NaN before operating instead.\n",
      "  with pd.option_context('mode.use_inf_as_na', True):\n",
      "/usr/local/lib/python3.10/dist-packages/seaborn/_oldcore.py:1119: FutureWarning: use_inf_as_na option is deprecated and will be removed in a future version. Convert inf values to NaN before operating instead.\n",
      "  with pd.option_context('mode.use_inf_as_na', True):\n",
      "/usr/local/lib/python3.10/dist-packages/seaborn/_oldcore.py:1119: FutureWarning: use_inf_as_na option is deprecated and will be removed in a future version. Convert inf values to NaN before operating instead.\n",
      "  with pd.option_context('mode.use_inf_as_na', True):\n",
      "/usr/local/lib/python3.10/dist-packages/seaborn/_oldcore.py:1119: FutureWarning: use_inf_as_na option is deprecated and will be removed in a future version. Convert inf values to NaN before operating instead.\n",
      "  with pd.option_context('mode.use_inf_as_na', True):\n",
      "/usr/local/lib/python3.10/dist-packages/seaborn/_oldcore.py:1119: FutureWarning: use_inf_as_na option is deprecated and will be removed in a future version. Convert inf values to NaN before operating instead.\n",
      "  with pd.option_context('mode.use_inf_as_na', True):\n"
     ]
    },
    {
     "data": {
      "image/png": "[encoded data removed]",
      "text/plain": [
       "<Figure size 1296x2160 with 3 Axes>"
      ]
     },
     "metadata": {},
     "output_type": "display_data"
    }
   ],
   "source": [
    "build_charts()"
   ]
  },
  {
   "cell_type": "code",
   "execution_count": 43,
   "id": "2c4f7048-303e-4804-802e-25c18f7cf372",
   "metadata": {
    "execution": {
     "iopub.execute_input": "2024-04-10T19:19:50.010005Z",
     "iopub.status.busy": "2024-04-10T19:19:50.009376Z",
     "iopub.status.idle": "2024-04-10T19:19:58.620374Z",
     "shell.execute_reply": "2024-04-10T19:19:58.619697Z",
     "shell.execute_reply.started": "2024-04-10T19:19:50.009975Z"
    },
    "tags": []
   },
   "outputs": [
    {
     "name": "stdout",
     "output_type": "stream",
     "text": [
      "MAPE: 1.839425580170178\n"
     ]
    },
    {
     "data": {
      "image/png": "[encoded data removed]",
      "text/plain": [
       "<Figure size 1296x720 with 1 Axes>"
      ]
     },
     "metadata": {},
     "output_type": "display_data"
    }
   ],
   "source": [
    "data = df.copy()\n",
    "alpha = 0.1\n",
    "data.set_index('date', inplace=True)\n",
    "data['exponential_smoothing'] = data['open'].ewm(alpha=alpha, adjust=False).mean()\n",
    "\n",
    "print(\"MAPE:\", mape(y_test, data['exponential_smoothing'][int(len(df) * 0.8):]))\n",
    "\n",
    "plt.figure(figsize=(18, 10))\n",
    "plt.plot(data.index, data['open'], label='Truth')\n",
    "plt.plot(data.index, data['exponential_smoothing'], label=f'Exponential smoothing (alpha={alpha})', color='red')\n",
    "plt.xlabel('Date')\n",
    "plt.ylabel('Price')\n",
    "plt.title('Exponential smoothing')\n",
    "plt.legend()\n",
    "plt.show() "
   ]
  },
  {
   "cell_type": "code",
   "execution_count": 65,
   "id": "8899e50f-56a0-473a-9c5e-5a3706647ab7",
   "metadata": {
    "execution": {
     "iopub.execute_input": "2024-04-10T13:58:19.324756Z",
     "iopub.status.busy": "2024-04-10T13:58:19.324361Z",
     "iopub.status.idle": "2024-04-10T13:58:19.385662Z",
     "shell.execute_reply": "2024-04-10T13:58:19.384961Z",
     "shell.execute_reply.started": "2024-04-10T13:58:19.324730Z"
    },
    "scrolled": true,
    "tags": []
   },
   "outputs": [
    {
     "name": "stdout",
     "output_type": "stream",
     "text": [
      "exponential_smoothing_window3: 8.619274807517854\n",
      "exponential_smoothing_window5: 7.77382582796196\n",
      "min_window2: 7.232327604825666\n",
      "double_exponential_smoothing: 6.8061625526796545\n",
      "average: 4.837613404175299\n",
      "exponential_smoothing: 4.707826267266608\n",
      "max: 4.0546490203262575\n",
      "open: 3.7135682749979497\n",
      "average_window2: 3.704521989025084\n",
      "average_window3: 3.604786981850603\n",
      "min_window7: 3.4580011369382633\n",
      "close: 3.4418725302022564\n",
      "min_window5: 3.207836488772389\n",
      "median_window3: 3.0460832243448115\n",
      "median: 2.8418508034411603\n",
      "double_exponential_smoothing_window2: 2.736345166308776\n",
      "exponential_smoothing_window2: 2.5438951190152426\n",
      "median_window2: 2.402334465988188\n",
      "min_window3: 2.20324327159537\n",
      "min: 1.7271735225289488\n",
      "exponential_smoothing_window7: 1.6894781192650126\n",
      "double_exponential_smoothing_window7: 1.5913132643306938\n",
      "max_window7: 1.4109156023831149\n",
      "double_exponential_smoothing_window3: 1.35786690552517\n",
      "median_window5: 0.9763451213286694\n",
      "median_window7: 0.8399853986210034\n",
      "average_window7: 0.7406940420454948\n",
      "average_window5: 0.738586973658089\n",
      "max_window2: 0.6565043938589081\n",
      "double_exponential_smoothing_window5: 0.5432486456720411\n",
      "max_window5: 0.5237780500226501\n",
      "standard_deviation: 0.4485334673591238\n",
      "embed_36: 0.33034850174918795\n",
      "embed_7: 0.32927481438345046\n",
      "price_range_average: 0.28381167914505995\n",
      "max_window3: 0.2837474846047372\n",
      "embed_0: 0.22137192350535828\n",
      "embed_14: 0.19497175885259\n",
      "embed_26: 0.19386777604784095\n",
      "embed_34: 0.17068053065343297\n",
      "embed_4: 0.1650708711585325\n",
      "embed_13: 0.1602951713500862\n",
      "embed_39: 0.15127088001801142\n",
      "embed_15: 0.150183949222088\n",
      "embed_32: 0.13671840357237403\n",
      "embed_3: 0.13490852808466078\n",
      "embed_45: 0.12894800911488388\n",
      "standard_deviation_window5: 0.12653987155136495\n",
      "embed_20: 0.11636288664925788\n",
      "standard_deviation_window3: 0.11461749034003994\n",
      "embed_21: 0.1083813532756767\n",
      "embed_1: 0.10792640336851686\n",
      "price_range_average_window2: 0.10634542587020818\n",
      "embed_6: 0.10526285599097604\n",
      "embed_33: 0.10339156251459185\n",
      "standard_deviation_window2: 0.095893298369496\n",
      "embed_22: 0.08260917084362622\n",
      "price_range_average_window5: 0.0803004149759497\n",
      "price_range_average_window7: 0.07555686545837213\n",
      "embed_29: 0.07551724641047168\n",
      "embed_18: 0.07516488602144632\n",
      "embed_25: 0.07241532067333248\n",
      "embed_41: 0.07223528914841112\n",
      "embed_16: 0.06951290872773884\n",
      "embed_28: 0.06801394740731283\n",
      "embed_9: 0.06709684292379799\n",
      "embed_31: 0.0661268606648335\n",
      "embed_40: 0.06436394709846167\n",
      "embed_27: 0.05670534099974931\n",
      "standard_deviation_window7: 0.05494845028878057\n",
      "price_range_average_window3: 0.05240309016110308\n",
      "embed_11: 0.05089539463274945\n",
      "embed_24: 0.04742804018373723\n",
      "embed_43: 0.04540951793655602\n",
      "embed_44: 0.044622173523682196\n",
      "embed_10: 0.0442261265768154\n",
      "embed_35: 0.04412669120845957\n",
      "embed_37: 0.043916881110867105\n",
      "embed_2: 0.04078859709307571\n",
      "embed_48: 0.03944483515869024\n",
      "embed_23: 0.03835973839340605\n",
      "embed_46: 0.03504242535666001\n",
      "embed_17: 0.03317990266481529\n",
      "embed_19: 0.0326591639630735\n",
      "embed_12: 0.029302062968278326\n",
      "embed_42: 0.02912863823795397\n",
      "embed_49: 0.028324883033247285\n",
      "embed_38: 0.027402178461857548\n",
      "is_friday: 0.026251363479069926\n",
      "embed_47: 0.021277254354284913\n",
      "embed_5: 0.020781306683029997\n",
      "embed_30: 0.01882859465512911\n",
      "embed_8: 0.008132680538573512\n",
      "is_start_of_month: 0.00788605233571386\n",
      "is_monday: 0.0076302626958678265\n",
      "is_holiday: 0.0013507797263222754\n"
     ]
    }
   ],
   "source": [
    "feature_importances = model.get_feature_importance(type='FeatureImportance')\n",
    "feature_names = X_train.columns\n",
    "importance_dict = dict(zip(feature_names, feature_importances))\n",
    "sorted_importance_dict = dict(sorted(importance_dict.items(), key=lambda item: item[1], reverse=True))\n",
    "for feature, importance in sorted_importance_dict.items():\n",
    "    print(f\"{feature}: {importance}\")"
   ]
  },
  {
   "cell_type": "code",
   "execution_count": 66,
   "id": "e468c024-b5e2-4a83-a45e-d1a4f6ef1ded",
   "metadata": {
    "execution": {
     "iopub.execute_input": "2024-04-10T13:58:36.938247Z",
     "iopub.status.busy": "2024-04-10T13:58:36.937854Z",
     "iopub.status.idle": "2024-04-10T13:58:36.960551Z",
     "shell.execute_reply": "2024-04-10T13:58:36.959920Z",
     "shell.execute_reply.started": "2024-04-10T13:58:36.938221Z"
    }
   },
   "outputs": [],
   "source": [
    "# save \n",
    "model.save_model('catboost_best')"
   ]
  },
  {
   "cell_type": "markdown",
   "id": "dd20a669-08fc-4665-a92e-cad8371370c3",
   "metadata": {
    "tags": []
   },
   "source": [
    "# Catboost Optuna"
   ]
  },
  {
   "cell_type": "markdown",
   "id": "9bc043e7-dcc8-4911-ac94-0565de1623a8",
   "metadata": {},
   "source": [
    "## Train | Valid | Test split"
   ]
  },
  {
   "cell_type": "code",
   "execution_count": 57,
   "id": "b4415b26-3fcf-42c2-a6ea-ec5636b02fff",
   "metadata": {
    "execution": {
     "iopub.execute_input": "2024-04-10T12:04:45.444630Z",
     "iopub.status.busy": "2024-04-10T12:04:45.443680Z",
     "iopub.status.idle": "2024-04-10T12:04:45.497209Z",
     "shell.execute_reply": "2024-04-10T12:04:45.496027Z",
     "shell.execute_reply.started": "2024-04-10T12:04:45.444595Z"
    },
    "tags": []
   },
   "outputs": [
    {
     "data": {
      "text/plain": [
       "((847, 94), (182, 94), (182, 94))"
      ]
     },
     "execution_count": 57,
     "metadata": {},
     "output_type": "execute_result"
    }
   ],
   "source": [
    "train_df = df.iloc[:int(len(df) * 0.7)].reset_index(drop=True)\n",
    "valid_df = df.iloc[int(len(df) * 0.7):int(len(df) * 0.85)].reset_index(drop=True)\n",
    "test_df = df.iloc[int(len(df) * 0.85):].reset_index(drop=True)\n",
    "train_df.shape, valid_df.shape, test_df.shape"
   ]
  },
  {
   "cell_type": "code",
   "execution_count": 58,
   "id": "ccf93199-4e2e-4bc2-9671-110fcd2bf872",
   "metadata": {
    "execution": {
     "iopub.execute_input": "2024-04-10T12:04:46.024797Z",
     "iopub.status.busy": "2024-04-10T12:04:46.023790Z",
     "iopub.status.idle": "2024-04-10T12:04:46.042618Z",
     "shell.execute_reply": "2024-04-10T12:04:46.041401Z",
     "shell.execute_reply.started": "2024-04-10T12:04:46.024743Z"
    },
    "tags": []
   },
   "outputs": [],
   "source": [
    "X_train, y_train = train_df.drop(columns=['date', 'target']), train_df['target']\n",
    "X_valid, y_valid = valid_df.drop(columns=['date', 'target']), valid_df['target']\n",
    "X_test, y_test = test_df.drop(columns=['date', 'target']), test_df['target']"
   ]
  },
  {
   "cell_type": "code",
   "execution_count": 39,
   "id": "6b34ffdc-9f9f-441f-b991-307ed37ae782",
   "metadata": {
    "execution": {
     "iopub.execute_input": "2024-04-10T11:28:25.773431Z",
     "iopub.status.busy": "2024-04-10T11:28:25.772312Z",
     "iopub.status.idle": "2024-04-10T11:28:25.807059Z",
     "shell.execute_reply": "2024-04-10T11:28:25.805877Z",
     "shell.execute_reply.started": "2024-04-10T11:28:25.773378Z"
    },
    "tags": []
   },
   "outputs": [],
   "source": [
    "def objective(trial):\n",
    "    params = {\n",
    "        'iterations': trial.suggest_int('iterations', 200, 1000),\n",
    "        'depth': trial.suggest_int('depth', 4, 10),\n",
    "        'learning_rate': trial.suggest_float('learning_rate', 0.005, 0.3, log=True),\n",
    "        'l2_leaf_reg': trial.suggest_float('l2_leaf_reg', 1e-3, 20, log=True),\n",
    "        'bagging_temperature': trial.suggest_float('bagging_temperature', 0.01, 100.0, log=True),\n",
    "        'random_strength': trial.suggest_float('random_strength', 1e-3, 10, log=True),\n",
    "        'border_count': trial.suggest_int('border_count', 32, 255),\n",
    "        'task_type': 'GPU',\n",
    "        'devices': '0'\n",
    "    }\n",
    "    model = CatBoostRegressor(**params, verbose=False)\n",
    "    model.fit(X_train, y_train, eval_set=[(X_valid, y_valid)], early_stopping_rounds=50, verbose=False)\n",
    "    \n",
    "    preds = model.predict(X_valid)\n",
    "    rmse = mean_squared_error(y_valid, preds, squared=False)\n",
    "    \n",
    "    return rmse"
   ]
  },
  {
   "cell_type": "code",
   "execution_count": 40,
   "id": "9e4f7729-22fd-4ffd-9ce0-fe2880485614",
   "metadata": {
    "execution": {
     "iopub.execute_input": "2024-04-10T11:28:26.154119Z",
     "iopub.status.busy": "2024-04-10T11:28:26.153068Z",
     "iopub.status.idle": "2024-04-10T11:59:26.025068Z",
     "shell.execute_reply": "2024-04-10T11:59:26.023701Z",
     "shell.execute_reply.started": "2024-04-10T11:28:26.154047Z"
    },
    "scrolled": true,
    "tags": []
   },
   "outputs": [
    {
     "name": "stderr",
     "output_type": "stream",
     "text": [
      "[I 2024-04-10 11:28:26,157] A new study created in memory with name: no-name-e9877762-7299-46ba-9104-82ad80680be3\n",
      "Best trial: 0. Best value: 59.9092:   0%|          | 1/200 [00:00<02:29,  1.33it/s]"
     ]
    },
    {
     "name": "stdout",
     "output_type": "stream",
     "text": [
      "[I 2024-04-10 11:28:26,906] Trial 0 finished with value: 59.90924525865818 and parameters: {'iterations': 414, 'depth': 5, 'learning_rate': 0.264349201416566, 'l2_leaf_reg': 0.11726172321271901, 'bagging_temperature': 1.1383257949932377, 'random_strength': 0.07041283635595784, 'border_count': 184}. Best is trial 0 with value: 59.90924525865818.\n"
     ]
    },
    {
     "name": "stderr",
     "output_type": "stream",
     "text": [
      "Best trial: 1. Best value: 59.6669:   1%|          | 2/200 [00:02<03:47,  1.15s/it]"
     ]
    },
    {
     "name": "stdout",
     "output_type": "stream",
     "text": [
      "[I 2024-04-10 11:28:28,331] Trial 1 finished with value: 59.6668964861128 and parameters: {'iterations': 496, 'depth': 4, 'learning_rate': 0.10024884486178672, 'l2_leaf_reg': 1.414474041027532, 'bagging_temperature': 0.5494353727694272, 'random_strength': 1.1678678632001658, 'border_count': 113}. Best is trial 1 with value: 59.6668964861128.\n"
     ]
    },
    {
     "name": "stderr",
     "output_type": "stream",
     "text": [
      "Best trial: 1. Best value: 59.6669:   2%|▏         | 3/200 [00:19<27:56,  8.51s/it]"
     ]
    },
    {
     "name": "stdout",
     "output_type": "stream",
     "text": [
      "[I 2024-04-10 11:28:45,599] Trial 2 finished with value: 69.48030686816489 and parameters: {'iterations': 723, 'depth': 8, 'learning_rate': 0.006049676118513133, 'l2_leaf_reg': 0.5452057428787918, 'bagging_temperature': 0.790829832822421, 'random_strength': 0.891148417575477, 'border_count': 214}. Best is trial 1 with value: 59.6668964861128.\n"
     ]
    },
    {
     "name": "stderr",
     "output_type": "stream",
     "text": [
      "Best trial: 1. Best value: 59.6669:   2%|▏         | 4/200 [00:21<19:40,  6.03s/it]"
     ]
    },
    {
     "name": "stdout",
     "output_type": "stream",
     "text": [
      "[I 2024-04-10 11:28:47,816] Trial 3 finished with value: 82.94103832971432 and parameters: {'iterations': 685, 'depth': 6, 'learning_rate': 0.10305593731017831, 'l2_leaf_reg': 1.363944605400534, 'bagging_temperature': 0.020401220022658838, 'random_strength': 9.296073534690375, 'border_count': 51}. Best is trial 1 with value: 59.6668964861128.\n"
     ]
    },
    {
     "name": "stderr",
     "output_type": "stream",
     "text": [
      "Best trial: 1. Best value: 59.6669:   2%|▎         | 5/200 [00:26<18:23,  5.66s/it]"
     ]
    },
    {
     "name": "stdout",
     "output_type": "stream",
     "text": [
      "[I 2024-04-10 11:28:52,829] Trial 4 finished with value: 73.81543549868022 and parameters: {'iterations': 639, 'depth': 4, 'learning_rate': 0.13178815514272538, 'l2_leaf_reg': 0.11246900066925551, 'bagging_temperature': 6.795514075089263, 'random_strength': 0.12831289856246372, 'border_count': 251}. Best is trial 1 with value: 59.6668964861128.\n"
     ]
    },
    {
     "name": "stderr",
     "output_type": "stream",
     "text": [
      "Best trial: 1. Best value: 59.6669:   3%|▎         | 6/200 [00:41<28:50,  8.92s/it]"
     ]
    },
    {
     "name": "stdout",
     "output_type": "stream",
     "text": [
      "[I 2024-04-10 11:29:08,078] Trial 5 finished with value: 61.8707876043774 and parameters: {'iterations': 781, 'depth': 8, 'learning_rate': 0.010348181125083874, 'l2_leaf_reg': 15.209042017068407, 'bagging_temperature': 0.4207918624866728, 'random_strength': 0.02061651930077394, 'border_count': 107}. Best is trial 1 with value: 59.6668964861128.\n"
     ]
    },
    {
     "name": "stderr",
     "output_type": "stream",
     "text": [
      "Best trial: 1. Best value: 59.6669:   4%|▎         | 7/200 [00:52<30:07,  9.37s/it]"
     ]
    },
    {
     "name": "stdout",
     "output_type": "stream",
     "text": [
      "[I 2024-04-10 11:29:18,368] Trial 6 finished with value: 139.0516952965683 and parameters: {'iterations': 898, 'depth': 10, 'learning_rate': 0.1769203498971343, 'l2_leaf_reg': 0.6594270117601365, 'bagging_temperature': 39.83046921134028, 'random_strength': 0.525441483596663, 'border_count': 243}. Best is trial 1 with value: 59.6668964861128.\n"
     ]
    },
    {
     "name": "stderr",
     "output_type": "stream",
     "text": [
      "Best trial: 1. Best value: 59.6669:   4%|▍         | 8/200 [00:53<22:07,  6.92s/it]"
     ]
    },
    {
     "name": "stdout",
     "output_type": "stream",
     "text": [
      "[I 2024-04-10 11:29:20,035] Trial 7 finished with value: 68.31706311911724 and parameters: {'iterations': 222, 'depth': 7, 'learning_rate': 0.03413180074454793, 'l2_leaf_reg': 0.14453316636234917, 'bagging_temperature': 0.014253112511522968, 'random_strength': 0.0026413913974023774, 'border_count': 58}. Best is trial 1 with value: 59.6668964861128.\n"
     ]
    },
    {
     "name": "stderr",
     "output_type": "stream",
     "text": [
      "Best trial: 1. Best value: 59.6669:   4%|▍         | 9/200 [01:07<28:29,  8.95s/it]"
     ]
    },
    {
     "name": "stdout",
     "output_type": "stream",
     "text": [
      "[I 2024-04-10 11:29:33,456] Trial 8 finished with value: 68.67266539454413 and parameters: {'iterations': 685, 'depth': 8, 'learning_rate': 0.015077746890903613, 'l2_leaf_reg': 3.6878978699422382, 'bagging_temperature': 1.5969886316209818, 'random_strength': 1.7809691807782528, 'border_count': 105}. Best is trial 1 with value: 59.6668964861128.\n"
     ]
    },
    {
     "name": "stderr",
     "output_type": "stream",
     "text": [
      "Best trial: 1. Best value: 59.6669:   5%|▌         | 10/200 [01:17<29:50,  9.43s/it]"
     ]
    },
    {
     "name": "stdout",
     "output_type": "stream",
     "text": [
      "[I 2024-04-10 11:29:43,948] Trial 9 finished with value: 69.94783281969141 and parameters: {'iterations': 576, 'depth': 8, 'learning_rate': 0.008705156050627428, 'l2_leaf_reg': 8.925956550624266, 'bagging_temperature': 0.5653597465407789, 'random_strength': 0.007689775457278059, 'border_count': 73}. Best is trial 1 with value: 59.6668964861128.\n"
     ]
    },
    {
     "name": "stderr",
     "output_type": "stream",
     "text": [
      "Best trial: 1. Best value: 59.6669:   6%|▌         | 11/200 [01:19<22:21,  7.10s/it]"
     ]
    },
    {
     "name": "stdout",
     "output_type": "stream",
     "text": [
      "[I 2024-04-10 11:29:45,759] Trial 10 finished with value: 62.27073902032287 and parameters: {'iterations': 468, 'depth': 4, 'learning_rate': 0.053899205369083145, 'l2_leaf_reg': 0.0030089317685675922, 'bagging_temperature': 0.09584833824416124, 'random_strength': 9.910492050009012, 'border_count': 160}. Best is trial 1 with value: 59.6668964861128.\n"
     ]
    },
    {
     "name": "stderr",
     "output_type": "stream",
     "text": [
      "Best trial: 1. Best value: 59.6669:   6%|▌         | 12/200 [01:21<16:57,  5.41s/it]"
     ]
    },
    {
     "name": "stdout",
     "output_type": "stream",
     "text": [
      "[I 2024-04-10 11:29:47,317] Trial 11 finished with value: 86.70188250915976 and parameters: {'iterations': 371, 'depth': 5, 'learning_rate': 0.2980689976952109, 'l2_leaf_reg': 0.03535282261452953, 'bagging_temperature': 6.020864751159631, 'random_strength': 0.055631484291909165, 'border_count': 167}. Best is trial 1 with value: 59.6668964861128.\n"
     ]
    },
    {
     "name": "stderr",
     "output_type": "stream",
     "text": [
      "Best trial: 1. Best value: 59.6669:   6%|▋         | 13/200 [01:22<12:57,  4.16s/it]"
     ]
    },
    {
     "name": "stdout",
     "output_type": "stream",
     "text": [
      "[I 2024-04-10 11:29:48,595] Trial 12 finished with value: 61.097130774542194 and parameters: {'iterations': 418, 'depth': 5, 'learning_rate': 0.2873176908303731, 'l2_leaf_reg': 0.010849344480733675, 'bagging_temperature': 0.13231902929703956, 'random_strength': 0.15967231056443684, 'border_count': 192}. Best is trial 1 with value: 59.6668964861128.\n"
     ]
    },
    {
     "name": "stderr",
     "output_type": "stream",
     "text": [
      "Best trial: 1. Best value: 59.6669:   7%|▋         | 14/200 [01:24<10:33,  3.41s/it]"
     ]
    },
    {
     "name": "stdout",
     "output_type": "stream",
     "text": [
      "[I 2024-04-10 11:29:50,270] Trial 13 finished with value: 70.84039787151008 and parameters: {'iterations': 307, 'depth': 5, 'learning_rate': 0.0666886769823729, 'l2_leaf_reg': 0.19672076092515972, 'bagging_temperature': 3.916777148512576, 'random_strength': 0.26873708194670326, 'border_count': 126}. Best is trial 1 with value: 59.6668964861128.\n"
     ]
    },
    {
     "name": "stderr",
     "output_type": "stream",
     "text": [
      "Best trial: 1. Best value: 59.6669:   8%|▊         | 15/200 [01:28<10:58,  3.56s/it]"
     ]
    },
    {
     "name": "stdout",
     "output_type": "stream",
     "text": [
      "[I 2024-04-10 11:29:54,181] Trial 14 finished with value: 110.83074456061668 and parameters: {'iterations': 522, 'depth': 4, 'learning_rate': 0.025320568390239915, 'l2_leaf_reg': 0.021433892373502, 'bagging_temperature': 39.520004424137696, 'random_strength': 2.368149286470243, 'border_count': 134}. Best is trial 1 with value: 59.6668964861128.\n"
     ]
    },
    {
     "name": "stderr",
     "output_type": "stream",
     "text": [
      "Best trial: 1. Best value: 59.6669:   8%|▊         | 16/200 [01:29<09:23,  3.06s/it]"
     ]
    },
    {
     "name": "stdout",
     "output_type": "stream",
     "text": [
      "[I 2024-04-10 11:29:56,081] Trial 15 finished with value: 60.48380885287503 and parameters: {'iterations': 320, 'depth': 6, 'learning_rate': 0.09489704291497456, 'l2_leaf_reg': 2.307261437764947, 'bagging_temperature': 0.12070437648138871, 'random_strength': 0.034850800827069234, 'border_count': 192}. Best is trial 1 with value: 59.6668964861128.\n"
     ]
    },
    {
     "name": "stderr",
     "output_type": "stream",
     "text": [
      "Best trial: 16. Best value: 59.2675:   8%|▊         | 17/200 [01:33<09:26,  3.10s/it]"
     ]
    },
    {
     "name": "stdout",
     "output_type": "stream",
     "text": [
      "[I 2024-04-10 11:29:59,264] Trial 16 finished with value: 59.267461560684445 and parameters: {'iterations': 531, 'depth': 6, 'learning_rate': 0.16773676122939526, 'l2_leaf_reg': 0.0017833664422025107, 'bagging_temperature': 2.228614032594606, 'random_strength': 0.011210204932681657, 'border_count': 91}. Best is trial 16 with value: 59.267461560684445.\n"
     ]
    },
    {
     "name": "stderr",
     "output_type": "stream",
     "text": [
      "Best trial: 16. Best value: 59.2675:   9%|▉         | 18/200 [01:38<11:28,  3.78s/it]"
     ]
    },
    {
     "name": "stdout",
     "output_type": "stream",
     "text": [
      "[I 2024-04-10 11:30:04,642] Trial 17 finished with value: 116.39922104829073 and parameters: {'iterations': 545, 'depth': 6, 'learning_rate': 0.061476421556958205, 'l2_leaf_reg': 0.0010706615592160791, 'bagging_temperature': 14.202362954359828, 'random_strength': 0.0015065603220058093, 'border_count': 86}. Best is trial 16 with value: 59.267461560684445.\n"
     ]
    },
    {
     "name": "stderr",
     "output_type": "stream",
     "text": [
      "Best trial: 18. Best value: 55.7128:  10%|▉         | 19/200 [01:45<14:11,  4.70s/it]"
     ]
    },
    {
     "name": "stdout",
     "output_type": "stream",
     "text": [
      "[I 2024-04-10 11:30:11,486] Trial 18 finished with value: 55.712785414288795 and parameters: {'iterations': 931, 'depth': 10, 'learning_rate': 0.1701648102367635, 'l2_leaf_reg': 0.00559427592857678, 'bagging_temperature': 0.281739987873227, 'random_strength': 0.007580152080790388, 'border_count': 100}. Best is trial 18 with value: 55.712785414288795.\n"
     ]
    },
    {
     "name": "stderr",
     "output_type": "stream",
     "text": [
      "Best trial: 18. Best value: 55.7128:  10%|█         | 20/200 [01:48<12:26,  4.15s/it]"
     ]
    },
    {
     "name": "stdout",
     "output_type": "stream",
     "text": [
      "[I 2024-04-10 11:30:14,343] Trial 19 finished with value: 62.863065791427935 and parameters: {'iterations': 949, 'depth': 10, 'learning_rate': 0.17192316192398863, 'l2_leaf_reg': 0.00394389816559496, 'bagging_temperature': 0.04447411212607186, 'random_strength': 0.009078057028198758, 'border_count': 40}. Best is trial 18 with value: 55.712785414288795.\n"
     ]
    },
    {
     "name": "stderr",
     "output_type": "stream",
     "text": [
      "Best trial: 18. Best value: 55.7128:  10%|█         | 21/200 [01:55<14:46,  4.95s/it]"
     ]
    },
    {
     "name": "stdout",
     "output_type": "stream",
     "text": [
      "[I 2024-04-10 11:30:21,175] Trial 20 finished with value: 61.02709130873222 and parameters: {'iterations': 835, 'depth': 9, 'learning_rate': 0.16559709869407022, 'l2_leaf_reg': 0.0010634901631281792, 'bagging_temperature': 2.146189584129014, 'random_strength': 0.0057647303028135095, 'border_count': 84}. Best is trial 18 with value: 55.712785414288795.\n"
     ]
    },
    {
     "name": "stderr",
     "output_type": "stream",
     "text": [
      "Best trial: 18. Best value: 55.7128:  11%|█         | 22/200 [01:56<11:35,  3.91s/it]"
     ]
    },
    {
     "name": "stdout",
     "output_type": "stream",
     "text": [
      "[I 2024-04-10 11:30:22,649] Trial 21 finished with value: 61.97673246436193 and parameters: {'iterations': 492, 'depth': 7, 'learning_rate': 0.09424247073421635, 'l2_leaf_reg': 0.006800933648004398, 'bagging_temperature': 0.2945820664593103, 'random_strength': 0.01744998383318118, 'border_count': 110}. Best is trial 18 with value: 55.712785414288795.\n"
     ]
    },
    {
     "name": "stderr",
     "output_type": "stream",
     "text": [
      "Best trial: 22. Best value: 54.5751:  12%|█▏        | 23/200 [02:02<13:03,  4.42s/it]"
     ]
    },
    {
     "name": "stdout",
     "output_type": "stream",
     "text": [
      "[I 2024-04-10 11:30:28,275] Trial 22 finished with value: 54.575092038299836 and parameters: {'iterations': 604, 'depth': 9, 'learning_rate': 0.20255441627066234, 'l2_leaf_reg': 0.002345893326639653, 'bagging_temperature': 0.2162354859118568, 'random_strength': 0.0019778163743986305, 'border_count': 121}. Best is trial 22 with value: 54.575092038299836.\n"
     ]
    },
    {
     "name": "stderr",
     "output_type": "stream",
     "text": [
      "Best trial: 22. Best value: 54.5751:  12%|█▏        | 24/200 [02:07<13:53,  4.74s/it]"
     ]
    },
    {
     "name": "stdout",
     "output_type": "stream",
     "text": [
      "[I 2024-04-10 11:30:33,738] Trial 23 finished with value: 59.42105006385366 and parameters: {'iterations': 798, 'depth': 9, 'learning_rate': 0.18842873797554852, 'l2_leaf_reg': 0.004029508781147211, 'bagging_temperature': 0.04411922746153974, 'random_strength': 0.0012507254568204424, 'border_count': 143}. Best is trial 22 with value: 54.575092038299836.\n"
     ]
    },
    {
     "name": "stderr",
     "output_type": "stream",
     "text": [
      "Best trial: 22. Best value: 54.5751:  12%|█▎        | 25/200 [02:10<11:59,  4.11s/it]"
     ]
    },
    {
     "name": "stdout",
     "output_type": "stream",
     "text": [
      "[I 2024-04-10 11:30:36,393] Trial 24 finished with value: 61.481093467627 and parameters: {'iterations': 961, 'depth': 9, 'learning_rate': 0.2226599029301326, 'l2_leaf_reg': 0.0018159086805882457, 'bagging_temperature': 0.2386302030475139, 'random_strength': 0.00369474792501634, 'border_count': 89}. Best is trial 22 with value: 54.575092038299836.\n"
     ]
    },
    {
     "name": "stderr",
     "output_type": "stream",
     "text": [
      "Best trial: 22. Best value: 54.5751:  13%|█▎        | 26/200 [02:12<10:22,  3.58s/it]"
     ]
    },
    {
     "name": "stdout",
     "output_type": "stream",
     "text": [
      "[I 2024-04-10 11:30:38,726] Trial 25 finished with value: 319.77372967471956 and parameters: {'iterations': 631, 'depth': 10, 'learning_rate': 0.13388231183251412, 'l2_leaf_reg': 0.014233353421248733, 'bagging_temperature': 98.85424860091945, 'random_strength': 0.015234816974460752, 'border_count': 62}. Best is trial 22 with value: 54.575092038299836.\n"
     ]
    },
    {
     "name": "stderr",
     "output_type": "stream",
     "text": [
      "Best trial: 22. Best value: 54.5751:  14%|█▎        | 27/200 [02:16<10:47,  3.74s/it]"
     ]
    },
    {
     "name": "stdout",
     "output_type": "stream",
     "text": [
      "[I 2024-04-10 11:30:42,851] Trial 26 finished with value: 62.759787608915175 and parameters: {'iterations': 894, 'depth': 9, 'learning_rate': 0.13070983745783304, 'l2_leaf_reg': 0.05521150312796932, 'bagging_temperature': 2.359310517054925, 'random_strength': 0.0026708171898476756, 'border_count': 32}. Best is trial 22 with value: 54.575092038299836.\n"
     ]
    },
    {
     "name": "stderr",
     "output_type": "stream",
     "text": [
      "Best trial: 22. Best value: 54.5751:  14%|█▍        | 28/200 [02:28<17:48,  6.21s/it]"
     ]
    },
    {
     "name": "stdout",
     "output_type": "stream",
     "text": [
      "[I 2024-04-10 11:30:54,819] Trial 27 finished with value: 60.23916017960536 and parameters: {'iterations': 992, 'depth': 10, 'learning_rate': 0.04157471830499859, 'l2_leaf_reg': 0.007188740164189904, 'bagging_temperature': 0.05467556124603511, 'random_strength': 0.003809377349220344, 'border_count': 128}. Best is trial 22 with value: 54.575092038299836.\n"
     ]
    },
    {
     "name": "stderr",
     "output_type": "stream",
     "text": [
      "Best trial: 22. Best value: 54.5751:  14%|█▍        | 29/200 [02:32<15:42,  5.51s/it]"
     ]
    },
    {
     "name": "stdout",
     "output_type": "stream",
     "text": [
      "[I 2024-04-10 11:30:58,701] Trial 28 finished with value: 56.58260460073279 and parameters: {'iterations': 582, 'depth': 7, 'learning_rate': 0.08143536482104888, 'l2_leaf_reg': 0.0018494919060990061, 'bagging_temperature': 0.2257505659320439, 'random_strength': 0.0010283276101299903, 'border_count': 157}. Best is trial 22 with value: 54.575092038299836.\n"
     ]
    },
    {
     "name": "stderr",
     "output_type": "stream",
     "text": [
      "Best trial: 22. Best value: 54.5751:  15%|█▌        | 30/200 [02:35<13:37,  4.81s/it]"
     ]
    },
    {
     "name": "stdout",
     "output_type": "stream",
     "text": [
      "[I 2024-04-10 11:31:01,876] Trial 29 finished with value: 62.81023581051358 and parameters: {'iterations': 748, 'depth': 7, 'learning_rate': 0.0763014453848823, 'l2_leaf_reg': 0.002603227981222174, 'bagging_temperature': 0.21657498634451994, 'random_strength': 0.001056130843870942, 'border_count': 162}. Best is trial 22 with value: 54.575092038299836.\n"
     ]
    },
    {
     "name": "stderr",
     "output_type": "stream",
     "text": [
      "Best trial: 22. Best value: 54.5751:  16%|█▌        | 31/200 [02:39<12:42,  4.51s/it]"
     ]
    },
    {
     "name": "stdout",
     "output_type": "stream",
     "text": [
      "[I 2024-04-10 11:31:05,693] Trial 30 finished with value: 59.1574932845513 and parameters: {'iterations': 613, 'depth': 9, 'learning_rate': 0.23660803570815322, 'l2_leaf_reg': 0.006389445204398337, 'bagging_temperature': 1.1429422103596873, 'random_strength': 0.001985968214932558, 'border_count': 175}. Best is trial 22 with value: 54.575092038299836.\n"
     ]
    },
    {
     "name": "stderr",
     "output_type": "stream",
     "text": [
      "Best trial: 22. Best value: 54.5751:  16%|█▌        | 32/200 [02:44<12:50,  4.58s/it]"
     ]
    },
    {
     "name": "stdout",
     "output_type": "stream",
     "text": [
      "[I 2024-04-10 11:31:10,447] Trial 31 finished with value: 58.688178623171645 and parameters: {'iterations': 574, 'depth': 9, 'learning_rate': 0.2311337091245523, 'l2_leaf_reg': 0.006695311078765068, 'bagging_temperature': 0.9282549101733146, 'random_strength': 0.001979673671488861, 'border_count': 152}. Best is trial 22 with value: 54.575092038299836.\n"
     ]
    },
    {
     "name": "stderr",
     "output_type": "stream",
     "text": [
      "Best trial: 22. Best value: 54.5751:  16%|█▋        | 33/200 [02:46<10:42,  3.85s/it]"
     ]
    },
    {
     "name": "stdout",
     "output_type": "stream",
     "text": [
      "[I 2024-04-10 11:31:12,569] Trial 32 finished with value: 70.1898996452723 and parameters: {'iterations': 449, 'depth': 10, 'learning_rate': 0.12564937384769329, 'l2_leaf_reg': 0.019357288037624494, 'bagging_temperature': 0.7561761530200732, 'random_strength': 0.004026185680178327, 'border_count': 144}. Best is trial 22 with value: 54.575092038299836.\n"
     ]
    },
    {
     "name": "stderr",
     "output_type": "stream",
     "text": [
      "Best trial: 22. Best value: 54.5751:  17%|█▋        | 34/200 [02:49<09:53,  3.57s/it]"
     ]
    },
    {
     "name": "stdout",
     "output_type": "stream",
     "text": [
      "[I 2024-04-10 11:31:15,504] Trial 33 finished with value: 59.04161183704787 and parameters: {'iterations': 587, 'depth': 8, 'learning_rate': 0.22437237809744193, 'l2_leaf_reg': 0.0018949852120336962, 'bagging_temperature': 0.45910927197886464, 'random_strength': 0.001094186544748596, 'border_count': 148}. Best is trial 22 with value: 54.575092038299836.\n"
     ]
    },
    {
     "name": "stderr",
     "output_type": "stream",
     "text": [
      "Best trial: 22. Best value: 54.5751:  18%|█▊        | 35/200 [02:52<09:06,  3.31s/it]"
     ]
    },
    {
     "name": "stdout",
     "output_type": "stream",
     "text": [
      "[I 2024-04-10 11:31:18,199] Trial 34 finished with value: 62.94679790964642 and parameters: {'iterations': 667, 'depth': 7, 'learning_rate': 0.08357551374602185, 'l2_leaf_reg': 0.0450986710358644, 'bagging_temperature': 0.1643380009963704, 'random_strength': 0.0020662039676915844, 'border_count': 122}. Best is trial 22 with value: 54.575092038299836.\n"
     ]
    },
    {
     "name": "stderr",
     "output_type": "stream",
     "text": [
      "Best trial: 22. Best value: 54.5751:  18%|█▊        | 36/200 [03:00<13:07,  4.80s/it]"
     ]
    },
    {
     "name": "stdout",
     "output_type": "stream",
     "text": [
      "[I 2024-04-10 11:31:26,482] Trial 35 finished with value: 61.97602461925389 and parameters: {'iterations': 708, 'depth': 9, 'learning_rate': 0.11037233440716618, 'l2_leaf_reg': 0.008784845451385094, 'bagging_temperature': 0.0752261672861762, 'random_strength': 0.004457162192888249, 'border_count': 204}. Best is trial 22 with value: 54.575092038299836.\n"
     ]
    },
    {
     "name": "stderr",
     "output_type": "stream",
     "text": [
      "Best trial: 22. Best value: 54.5751:  18%|█▊        | 37/200 [03:03<11:51,  4.37s/it]"
     ]
    },
    {
     "name": "stdout",
     "output_type": "stream",
     "text": [
      "[I 2024-04-10 11:31:29,830] Trial 36 finished with value: 65.94338194323275 and parameters: {'iterations': 843, 'depth': 8, 'learning_rate': 0.23259382194471728, 'l2_leaf_reg': 0.004704625331415739, 'bagging_temperature': 0.025583670708935007, 'random_strength': 0.03398276694728546, 'border_count': 179}. Best is trial 22 with value: 54.575092038299836.\n"
     ]
    },
    {
     "name": "stderr",
     "output_type": "stream",
     "text": [
      "Best trial: 22. Best value: 54.5751:  19%|█▉        | 38/200 [03:41<38:44, 14.35s/it]"
     ]
    },
    {
     "name": "stdout",
     "output_type": "stream",
     "text": [
      "[I 2024-04-10 11:32:07,466] Trial 37 finished with value: 55.8815210668838 and parameters: {'iterations': 749, 'depth': 10, 'learning_rate': 0.04845844048653721, 'l2_leaf_reg': 0.024778475852030177, 'bagging_temperature': 0.31788791767794555, 'random_strength': 0.006558876778828631, 'border_count': 230}. Best is trial 22 with value: 54.575092038299836.\n"
     ]
    },
    {
     "name": "stderr",
     "output_type": "stream",
     "text": [
      "Best trial: 22. Best value: 54.5751:  20%|█▉        | 39/200 [04:23<1:00:37, 22.59s/it]"
     ]
    },
    {
     "name": "stdout",
     "output_type": "stream",
     "text": [
      "[I 2024-04-10 11:32:49,295] Trial 38 finished with value: 56.72756477020082 and parameters: {'iterations': 745, 'depth': 10, 'learning_rate': 0.04419673841103955, 'l2_leaf_reg': 0.02298429280518031, 'bagging_temperature': 0.36766018585196697, 'random_strength': 0.006828820063526601, 'border_count': 225}. Best is trial 22 with value: 54.575092038299836.\n"
     ]
    },
    {
     "name": "stderr",
     "output_type": "stream",
     "text": [
      "Best trial: 22. Best value: 54.5751:  20%|██        | 40/200 [04:43<58:15, 21.84s/it]  "
     ]
    },
    {
     "name": "stdout",
     "output_type": "stream",
     "text": [
      "[I 2024-04-10 11:33:09,399] Trial 39 finished with value: 61.945721237119024 and parameters: {'iterations': 876, 'depth': 10, 'learning_rate': 0.03371708256615282, 'l2_leaf_reg': 0.08848406929216644, 'bagging_temperature': 0.1689133995830509, 'random_strength': 0.01215149734366558, 'border_count': 232}. Best is trial 22 with value: 54.575092038299836.\n"
     ]
    },
    {
     "name": "stderr",
     "output_type": "stream",
     "text": [
      "Best trial: 22. Best value: 54.5751:  20%|██        | 41/200 [05:10<1:01:54, 23.36s/it]"
     ]
    },
    {
     "name": "stdout",
     "output_type": "stream",
     "text": [
      "[I 2024-04-10 11:33:36,307] Trial 40 finished with value: 56.200138386691876 and parameters: {'iterations': 653, 'depth': 10, 'learning_rate': 0.024571213198582686, 'l2_leaf_reg': 0.3649639980509153, 'bagging_temperature': 0.5947620894145406, 'random_strength': 0.03021615514044328, 'border_count': 101}. Best is trial 22 with value: 54.575092038299836.\n"
     ]
    },
    {
     "name": "stderr",
     "output_type": "stream",
     "text": [
      "Best trial: 22. Best value: 54.5751:  21%|██        | 42/200 [05:38<1:05:42, 24.95s/it]"
     ]
    },
    {
     "name": "stdout",
     "output_type": "stream",
     "text": [
      "[I 2024-04-10 11:34:04,961] Trial 41 finished with value: 55.35028851738395 and parameters: {'iterations': 669, 'depth': 10, 'learning_rate': 0.02200453411619782, 'l2_leaf_reg': 0.3201909695511962, 'bagging_temperature': 0.48392857943659573, 'random_strength': 0.028422488212759913, 'border_count': 100}. Best is trial 22 with value: 54.575092038299836.\n"
     ]
    },
    {
     "name": "stderr",
     "output_type": "stream",
     "text": [
      "Best trial: 22. Best value: 54.5751:  22%|██▏       | 43/200 [06:08<1:08:53, 26.33s/it]"
     ]
    },
    {
     "name": "stdout",
     "output_type": "stream",
     "text": [
      "[I 2024-04-10 11:34:34,509] Trial 42 finished with value: 56.33055257815266 and parameters: {'iterations': 646, 'depth': 10, 'learning_rate': 0.019432915693430242, 'l2_leaf_reg': 0.31937473972441127, 'bagging_temperature': 0.5746971490599778, 'random_strength': 0.03186787942708841, 'border_count': 102}. Best is trial 22 with value: 54.575092038299836.\n"
     ]
    },
    {
     "name": "stderr",
     "output_type": "stream",
     "text": [
      "Best trial: 22. Best value: 54.5751:  22%|██▏       | 44/200 [06:47<1:18:19, 30.13s/it]"
     ]
    },
    {
     "name": "stdout",
     "output_type": "stream",
     "text": [
      "[I 2024-04-10 11:35:13,494] Trial 43 finished with value: 59.80746406094716 and parameters: {'iterations': 792, 'depth': 10, 'learning_rate': 0.014899191260000662, 'l2_leaf_reg': 0.7202214217382825, 'bagging_temperature': 1.3345222233285066, 'random_strength': 0.06849286585516638, 'border_count': 73}. Best is trial 22 with value: 54.575092038299836.\n"
     ]
    },
    {
     "name": "stderr",
     "output_type": "stream",
     "text": [
      "Best trial: 22. Best value: 54.5751:  22%|██▎       | 45/200 [07:18<1:18:25, 30.36s/it]"
     ]
    },
    {
     "name": "stdout",
     "output_type": "stream",
     "text": [
      "[I 2024-04-10 11:35:44,387] Trial 44 finished with value: 55.91591883559144 and parameters: {'iterations': 703, 'depth': 10, 'learning_rate': 0.029018962184226657, 'l2_leaf_reg': 0.33641631567549074, 'bagging_temperature': 0.65499467447057, 'random_strength': 0.028409880037554916, 'border_count': 100}. Best is trial 22 with value: 54.575092038299836.\n"
     ]
    },
    {
     "name": "stderr",
     "output_type": "stream",
     "text": [
      "Best trial: 22. Best value: 54.5751:  23%|██▎       | 46/200 [07:36<1:08:58, 26.87s/it]"
     ]
    },
    {
     "name": "stdout",
     "output_type": "stream",
     "text": [
      "[I 2024-04-10 11:36:03,123] Trial 45 finished with value: 56.07926435765595 and parameters: {'iterations': 734, 'depth': 9, 'learning_rate': 0.026028060099702186, 'l2_leaf_reg': 0.20769318405533013, 'bagging_temperature': 0.3721032976668486, 'random_strength': 0.13318338248763884, 'border_count': 115}. Best is trial 22 with value: 54.575092038299836.\n"
     ]
    },
    {
     "name": "stderr",
     "output_type": "stream",
     "text": [
      "Best trial: 22. Best value: 54.5751:  24%|██▎       | 47/200 [08:14<1:17:00, 30.20s/it]"
     ]
    },
    {
     "name": "stdout",
     "output_type": "stream",
     "text": [
      "[I 2024-04-10 11:36:41,084] Trial 46 finished with value: 60.08188574787345 and parameters: {'iterations': 679, 'depth': 10, 'learning_rate': 0.012125052069218531, 'l2_leaf_reg': 1.225310811443215, 'bagging_temperature': 0.07636270802480591, 'random_strength': 0.01873891222500733, 'border_count': 74}. Best is trial 22 with value: 54.575092038299836.\n"
     ]
    },
    {
     "name": "stderr",
     "output_type": "stream",
     "text": [
      "Best trial: 22. Best value: 54.5751:  24%|██▍       | 48/200 [08:40<1:13:16, 28.92s/it]"
     ]
    },
    {
     "name": "stdout",
     "output_type": "stream",
     "text": [
      "[I 2024-04-10 11:37:07,039] Trial 47 finished with value: 57.857542579072955 and parameters: {'iterations': 721, 'depth': 10, 'learning_rate': 0.03206935099519364, 'l2_leaf_reg': 0.08638147682691498, 'bagging_temperature': 0.8252063395424524, 'random_strength': 0.05224195135725384, 'border_count': 135}. Best is trial 22 with value: 54.575092038299836.\n"
     ]
    },
    {
     "name": "stderr",
     "output_type": "stream",
     "text": [
      "Best trial: 22. Best value: 54.5751:  24%|██▍       | 49/200 [09:09<1:12:49, 28.94s/it]"
     ]
    },
    {
     "name": "stdout",
     "output_type": "stream",
     "text": [
      "[I 2024-04-10 11:37:36,008] Trial 48 finished with value: 65.92997629413823 and parameters: {'iterations': 762, 'depth': 9, 'learning_rate': 0.005606593220516206, 'l2_leaf_reg': 0.4086362973561774, 'bagging_temperature': 0.360269134925826, 'random_strength': 0.23355860730856826, 'border_count': 119}. Best is trial 22 with value: 54.575092038299836.\n"
     ]
    },
    {
     "name": "stderr",
     "output_type": "stream",
     "text": [
      "Best trial: 22. Best value: 54.5751:  25%|██▌       | 50/200 [10:03<1:30:32, 36.22s/it]"
     ]
    },
    {
     "name": "stdout",
     "output_type": "stream",
     "text": [
      "[I 2024-04-10 11:38:29,212] Trial 49 finished with value: 78.96907537368652 and parameters: {'iterations': 836, 'depth': 10, 'learning_rate': 0.019649591651167694, 'l2_leaf_reg': 0.9755725141987946, 'bagging_temperature': 3.988819963897463, 'random_strength': 0.008936641266119517, 'border_count': 96}. Best is trial 22 with value: 54.575092038299836.\n"
     ]
    },
    {
     "name": "stderr",
     "output_type": "stream",
     "text": [
      "Best trial: 22. Best value: 54.5751:  26%|██▌       | 51/200 [10:29<1:22:38, 33.28s/it]"
     ]
    },
    {
     "name": "stdout",
     "output_type": "stream",
     "text": [
      "[I 2024-04-10 11:38:55,644] Trial 50 finished with value: 60.61363592846468 and parameters: {'iterations': 701, 'depth': 9, 'learning_rate': 0.006612079358130098, 'l2_leaf_reg': 0.17687169376843173, 'bagging_temperature': 0.11626390795699959, 'random_strength': 0.08887710300280915, 'border_count': 109}. Best is trial 22 with value: 54.575092038299836.\n"
     ]
    },
    {
     "name": "stderr",
     "output_type": "stream",
     "text": [
      "Best trial: 22. Best value: 54.5751:  26%|██▌       | 52/200 [10:38<1:04:04, 25.98s/it]"
     ]
    },
    {
     "name": "stdout",
     "output_type": "stream",
     "text": [
      "[I 2024-04-10 11:39:04,580] Trial 51 finished with value: 57.90149032682388 and parameters: {'iterations': 782, 'depth': 8, 'learning_rate': 0.05089512870671312, 'l2_leaf_reg': 0.22096123225555356, 'bagging_temperature': 0.4217034629330522, 'random_strength': 0.5188093168977829, 'border_count': 116}. Best is trial 22 with value: 54.575092038299836.\n"
     ]
    },
    {
     "name": "stderr",
     "output_type": "stream",
     "text": [
      "Best trial: 22. Best value: 54.5751:  26%|██▋       | 53/200 [10:58<59:37, 24.33s/it]  "
     ]
    },
    {
     "name": "stdout",
     "output_type": "stream",
     "text": [
      "[I 2024-04-10 11:39:25,076] Trial 52 finished with value: 54.77493960080638 and parameters: {'iterations': 619, 'depth': 9, 'learning_rate': 0.027676796672332263, 'l2_leaf_reg': 0.25314050726489773, 'bagging_temperature': 0.2764673920437913, 'random_strength': 0.10835131306813532, 'border_count': 135}. Best is trial 22 with value: 54.575092038299836.\n"
     ]
    },
    {
     "name": "stderr",
     "output_type": "stream",
     "text": [
      "Best trial: 22. Best value: 54.5751:  27%|██▋       | 54/200 [11:28<1:03:20, 26.03s/it]"
     ]
    },
    {
     "name": "stdout",
     "output_type": "stream",
     "text": [
      "[I 2024-04-10 11:39:55,075] Trial 53 finished with value: 58.68001811726921 and parameters: {'iterations': 620, 'depth': 10, 'learning_rate': 0.02007072994950191, 'l2_leaf_reg': 0.12219495473074245, 'bagging_temperature': 0.26246679582658594, 'random_strength': 0.022215168363072208, 'border_count': 133}. Best is trial 22 with value: 54.575092038299836.\n"
     ]
    },
    {
     "name": "stderr",
     "output_type": "stream",
     "text": [
      "Best trial: 22. Best value: 54.5751:  28%|██▊       | 55/200 [11:50<59:35, 24.66s/it]  "
     ]
    },
    {
     "name": "stdout",
     "output_type": "stream",
     "text": [
      "[I 2024-04-10 11:40:16,523] Trial 54 finished with value: 58.747409419755265 and parameters: {'iterations': 688, 'depth': 9, 'learning_rate': 0.015351816566253713, 'l2_leaf_reg': 0.5680811526176666, 'bagging_temperature': 0.16068244862592956, 'random_strength': 0.052637386292531556, 'border_count': 252}. Best is trial 22 with value: 54.575092038299836.\n"
     ]
    },
    {
     "name": "stderr",
     "output_type": "stream",
     "text": [
      "Best trial: 22. Best value: 54.5751:  28%|██▊       | 56/200 [12:16<1:00:28, 25.20s/it]"
     ]
    },
    {
     "name": "stdout",
     "output_type": "stream",
     "text": [
      "[I 2024-04-10 11:40:42,980] Trial 55 finished with value: 55.77072564589505 and parameters: {'iterations': 535, 'depth': 10, 'learning_rate': 0.029585337962887592, 'l2_leaf_reg': 0.07246491284746681, 'bagging_temperature': 0.666020552696464, 'random_strength': 0.006009461959777482, 'border_count': 97}. Best is trial 22 with value: 54.575092038299836.\n"
     ]
    },
    {
     "name": "stderr",
     "output_type": "stream",
     "text": [
      "Best trial: 22. Best value: 54.5751:  28%|██▊       | 57/200 [12:28<50:10, 21.05s/it]  "
     ]
    },
    {
     "name": "stdout",
     "output_type": "stream",
     "text": [
      "[I 2024-04-10 11:40:54,363] Trial 56 finished with value: 60.66131685283367 and parameters: {'iterations': 551, 'depth': 9, 'learning_rate': 0.03663403410559041, 'l2_leaf_reg': 0.03009731456750406, 'bagging_temperature': 0.09474159417860183, 'random_strength': 0.005304361463653558, 'border_count': 80}. Best is trial 22 with value: 54.575092038299836.\n"
     ]
    },
    {
     "name": "stderr",
     "output_type": "stream",
     "text": [
      "Best trial: 22. Best value: 54.5751:  29%|██▉       | 58/200 [12:50<51:00, 21.56s/it]"
     ]
    },
    {
     "name": "stdout",
     "output_type": "stream",
     "text": [
      "[I 2024-04-10 11:41:17,089] Trial 57 finished with value: 64.1558509560811 and parameters: {'iterations': 508, 'depth': 10, 'learning_rate': 0.022368877691681107, 'l2_leaf_reg': 0.08122962067777421, 'bagging_temperature': 1.6445361580437516, 'random_strength': 0.002980825560874081, 'border_count': 59}. Best is trial 22 with value: 54.575092038299836.\n"
     ]
    },
    {
     "name": "stderr",
     "output_type": "stream",
     "text": [
      "Best trial: 22. Best value: 54.5751:  30%|██▉       | 59/200 [12:53<37:32, 15.98s/it]"
     ]
    },
    {
     "name": "stdout",
     "output_type": "stream",
     "text": [
      "[I 2024-04-10 11:41:20,048] Trial 58 finished with value: 65.87678392356314 and parameters: {'iterations': 471, 'depth': 8, 'learning_rate': 0.016172607887934648, 'l2_leaf_reg': 0.012697893083066104, 'bagging_temperature': 0.27663471514695787, 'random_strength': 0.007334678450945999, 'border_count': 137}. Best is trial 22 with value: 54.575092038299836.\n"
     ]
    },
    {
     "name": "stderr",
     "output_type": "stream",
     "text": [
      "Best trial: 22. Best value: 54.5751:  30%|███       | 60/200 [12:57<28:56, 12.41s/it]"
     ]
    },
    {
     "name": "stdout",
     "output_type": "stream",
     "text": [
      "[I 2024-04-10 11:41:24,126] Trial 59 finished with value: 122.10289875283962 and parameters: {'iterations': 419, 'depth': 10, 'learning_rate': 0.008469418974741324, 'l2_leaf_reg': 0.03763876656810179, 'bagging_temperature': 0.17626899260280848, 'random_strength': 6.131012689934214, 'border_count': 93}. Best is trial 22 with value: 54.575092038299836.\n"
     ]
    },
    {
     "name": "stderr",
     "output_type": "stream",
     "text": [
      "Best trial: 22. Best value: 54.5751:  30%|███       | 61/200 [13:09<28:26, 12.28s/it]"
     ]
    },
    {
     "name": "stdout",
     "output_type": "stream",
     "text": [
      "[I 2024-04-10 11:41:36,102] Trial 60 finished with value: 55.31827821141699 and parameters: {'iterations': 559, 'depth': 9, 'learning_rate': 0.04909412747362908, 'l2_leaf_reg': 0.060289994008308305, 'bagging_temperature': 0.5007456257490474, 'random_strength': 0.011505979383124622, 'border_count': 124}. Best is trial 22 with value: 54.575092038299836.\n"
     ]
    },
    {
     "name": "stderr",
     "output_type": "stream",
     "text": [
      "Best trial: 22. Best value: 54.5751:  31%|███       | 62/200 [13:19<26:37, 11.58s/it]"
     ]
    },
    {
     "name": "stdout",
     "output_type": "stream",
     "text": [
      "[I 2024-04-10 11:41:46,053] Trial 61 finished with value: 55.85809379401652 and parameters: {'iterations': 551, 'depth': 9, 'learning_rate': 0.04828028547726411, 'l2_leaf_reg': 0.07029240138899848, 'bagging_temperature': 1.0568447820395612, 'random_strength': 0.012088758005681958, 'border_count': 123}. Best is trial 22 with value: 54.575092038299836.\n"
     ]
    },
    {
     "name": "stderr",
     "output_type": "stream",
     "text": [
      "Best trial: 22. Best value: 54.5751:  32%|███▏      | 63/200 [13:30<25:48, 11.30s/it]"
     ]
    },
    {
     "name": "stdout",
     "output_type": "stream",
     "text": [
      "[I 2024-04-10 11:41:56,700] Trial 62 finished with value: 61.4684072052931 and parameters: {'iterations': 551, 'depth': 9, 'learning_rate': 0.0586474936560519, 'l2_leaf_reg': 0.06987481810320163, 'bagging_temperature': 1.6487621120728195, 'random_strength': 0.012637270765916671, 'border_count': 129}. Best is trial 22 with value: 54.575092038299836.\n"
     ]
    },
    {
     "name": "stderr",
     "output_type": "stream",
     "text": [
      "Best trial: 22. Best value: 54.5751:  32%|███▏      | 64/200 [13:38<23:06, 10.19s/it]"
     ]
    },
    {
     "name": "stdout",
     "output_type": "stream",
     "text": [
      "[I 2024-04-10 11:42:04,317] Trial 63 finished with value: 59.18298229567561 and parameters: {'iterations': 604, 'depth': 8, 'learning_rate': 0.028735282746808415, 'l2_leaf_reg': 2.3839245675712144, 'bagging_temperature': 0.4842556113850863, 'random_strength': 0.009074168781778916, 'border_count': 107}. Best is trial 22 with value: 54.575092038299836.\n"
     ]
    },
    {
     "name": "stderr",
     "output_type": "stream",
     "text": [
      "Best trial: 22. Best value: 54.5751:  32%|███▎      | 65/200 [13:41<18:00,  8.00s/it]"
     ]
    },
    {
     "name": "stdout",
     "output_type": "stream",
     "text": [
      "[I 2024-04-10 11:42:07,196] Trial 64 finished with value: 72.58211311552425 and parameters: {'iterations': 485, 'depth': 9, 'learning_rate': 0.0380804004441388, 'l2_leaf_reg': 0.14030974314054273, 'bagging_temperature': 1.0553752336628899, 'random_strength': 0.013640864322514186, 'border_count': 122}. Best is trial 22 with value: 54.575092038299836.\n"
     ]
    },
    {
     "name": "stderr",
     "output_type": "stream",
     "text": [
      "Best trial: 22. Best value: 54.5751:  33%|███▎      | 66/200 [13:42<13:36,  6.09s/it]"
     ]
    },
    {
     "name": "stdout",
     "output_type": "stream",
     "text": [
      "[I 2024-04-10 11:42:08,831] Trial 65 finished with value: 74.43526568264677 and parameters: {'iterations': 210, 'depth': 9, 'learning_rate': 0.15385667562947425, 'l2_leaf_reg': 0.05175973442533994, 'bagging_temperature': 0.8034247147260316, 'random_strength': 0.022507507022351998, 'border_count': 114}. Best is trial 22 with value: 54.575092038299836.\n"
     ]
    },
    {
     "name": "stderr",
     "output_type": "stream",
     "text": [
      "Best trial: 22. Best value: 54.5751:  34%|███▎      | 67/200 [13:45<11:35,  5.23s/it]"
     ]
    },
    {
     "name": "stdout",
     "output_type": "stream",
     "text": [
      "[I 2024-04-10 11:42:12,041] Trial 66 finished with value: 108.30018672159783 and parameters: {'iterations': 378, 'depth': 9, 'learning_rate': 0.06902146997903012, 'l2_leaf_reg': 0.2721120920863873, 'bagging_temperature': 2.87458049519425, 'random_strength': 0.005096697776818501, 'border_count': 139}. Best is trial 22 with value: 54.575092038299836.\n"
     ]
    },
    {
     "name": "stderr",
     "output_type": "stream",
     "text": [
      "Best trial: 22. Best value: 54.5751:  34%|███▍      | 68/200 [13:57<15:54,  7.23s/it]"
     ]
    },
    {
     "name": "stdout",
     "output_type": "stream",
     "text": [
      "[I 2024-04-10 11:42:23,961] Trial 67 finished with value: 56.82524565243324 and parameters: {'iterations': 523, 'depth': 9, 'learning_rate': 0.044627541244490705, 'l2_leaf_reg': 0.11654670884556952, 'bagging_temperature': 0.5210535884847666, 'random_strength': 0.04736919609452625, 'border_count': 86}. Best is trial 22 with value: 54.575092038299836.\n"
     ]
    },
    {
     "name": "stderr",
     "output_type": "stream",
     "text": [
      "Best trial: 22. Best value: 54.5751:  34%|███▍      | 69/200 [14:08<17:58,  8.23s/it]"
     ]
    },
    {
     "name": "stdout",
     "output_type": "stream",
     "text": [
      "[I 2024-04-10 11:42:34,514] Trial 68 finished with value: 59.85540447220533 and parameters: {'iterations': 575, 'depth': 8, 'learning_rate': 0.028332508290296425, 'l2_leaf_reg': 0.0025898256271539126, 'bagging_temperature': 0.20580418413259635, 'random_strength': 0.21622985869738254, 'border_count': 125}. Best is trial 22 with value: 54.575092038299836.\n"
     ]
    },
    {
     "name": "stderr",
     "output_type": "stream",
     "text": [
      "Best trial: 69. Best value: 53.2644:  35%|███▌      | 70/200 [14:11<14:35,  6.73s/it]"
     ]
    },
    {
     "name": "stdout",
     "output_type": "stream",
     "text": [
      "[I 2024-04-10 11:42:37,748] Trial 69 finished with value: 53.26440674850131 and parameters: {'iterations': 543, 'depth': 9, 'learning_rate': 0.18376012801776065, 'l2_leaf_reg': 0.429798424915073, 'bagging_temperature': 1.0202599243127142, 'random_strength': 0.01125156670804282, 'border_count': 67}. Best is trial 69 with value: 53.26440674850131.\n"
     ]
    },
    {
     "name": "stderr",
     "output_type": "stream",
     "text": [
      "Best trial: 69. Best value: 53.2644:  36%|███▌      | 71/200 [14:12<10:58,  5.11s/it]"
     ]
    },
    {
     "name": "stdout",
     "output_type": "stream",
     "text": [
      "[I 2024-04-10 11:42:39,063] Trial 70 finished with value: 69.49305998748063 and parameters: {'iterations': 453, 'depth': 8, 'learning_rate': 0.26471671318846635, 'l2_leaf_reg': 0.8288716963328449, 'bagging_temperature': 0.010628303203795566, 'random_strength': 0.0015448861230483242, 'border_count': 78}. Best is trial 69 with value: 53.26440674850131.\n"
     ]
    },
    {
     "name": "stderr",
     "output_type": "stream",
     "text": [
      "Best trial: 69. Best value: 53.2644:  36%|███▌      | 72/200 [14:16<09:56,  4.66s/it]"
     ]
    },
    {
     "name": "stdout",
     "output_type": "stream",
     "text": [
      "[I 2024-04-10 11:42:42,677] Trial 71 finished with value: 66.01970248122049 and parameters: {'iterations': 553, 'depth': 9, 'learning_rate': 0.145674625767505, 'l2_leaf_reg': 0.5153737453805036, 'bagging_temperature': 1.2427536295977983, 'random_strength': 0.009970483196273553, 'border_count': 51}. Best is trial 69 with value: 53.26440674850131.\n"
     ]
    },
    {
     "name": "stderr",
     "output_type": "stream",
     "text": [
      "Best trial: 69. Best value: 53.2644:  36%|███▋      | 73/200 [14:24<12:04,  5.71s/it]"
     ]
    },
    {
     "name": "stdout",
     "output_type": "stream",
     "text": [
      "[I 2024-04-10 11:42:50,834] Trial 72 finished with value: 54.751945610368494 and parameters: {'iterations': 507, 'depth': 9, 'learning_rate': 0.19370098015029438, 'l2_leaf_reg': 0.017038076080273686, 'bagging_temperature': 0.6836445850833723, 'random_strength': 0.015131061975482224, 'border_count': 109}. Best is trial 69 with value: 53.26440674850131.\n"
     ]
    },
    {
     "name": "stderr",
     "output_type": "stream",
     "text": [
      "Best trial: 69. Best value: 53.2644:  37%|███▋      | 74/200 [14:32<13:22,  6.37s/it]"
     ]
    },
    {
     "name": "stdout",
     "output_type": "stream",
     "text": [
      "[I 2024-04-10 11:42:58,737] Trial 73 finished with value: 57.97766464151341 and parameters: {'iterations': 595, 'depth': 10, 'learning_rate': 0.20674537414258917, 'l2_leaf_reg': 0.016064264336787832, 'bagging_temperature': 0.7062942534168783, 'random_strength': 0.003081928800977649, 'border_count': 69}. Best is trial 69 with value: 53.26440674850131.\n"
     ]
    },
    {
     "name": "stderr",
     "output_type": "stream",
     "text": [
      "Best trial: 69. Best value: 53.2644:  38%|███▊      | 75/200 [14:34<10:22,  4.98s/it]"
     ]
    },
    {
     "name": "stdout",
     "output_type": "stream",
     "text": [
      "[I 2024-04-10 11:43:00,495] Trial 74 finished with value: 74.38334926648042 and parameters: {'iterations': 499, 'depth': 9, 'learning_rate': 0.1756507368897522, 'l2_leaf_reg': 0.26315139248783975, 'bagging_temperature': 0.300440683240813, 'random_strength': 0.018841053462310887, 'border_count': 107}. Best is trial 69 with value: 53.26440674850131.\n"
     ]
    },
    {
     "name": "stderr",
     "output_type": "stream",
     "text": [
      "Best trial: 69. Best value: 53.2644:  38%|███▊      | 76/200 [14:40<10:53,  5.27s/it]"
     ]
    },
    {
     "name": "stdout",
     "output_type": "stream",
     "text": [
      "[I 2024-04-10 11:43:06,431] Trial 75 finished with value: 54.75963455115826 and parameters: {'iterations': 525, 'depth': 10, 'learning_rate': 0.19506203994833018, 'l2_leaf_reg': 0.00946175566528365, 'bagging_temperature': 0.476325929089481, 'random_strength': 0.08416568810555315, 'border_count': 98}. Best is trial 69 with value: 53.26440674850131.\n"
     ]
    },
    {
     "name": "stderr",
     "output_type": "stream",
     "text": [
      "Best trial: 69. Best value: 53.2644:  38%|███▊      | 77/200 [14:41<08:30,  4.15s/it]"
     ]
    },
    {
     "name": "stdout",
     "output_type": "stream",
     "text": [
      "[I 2024-04-10 11:43:07,970] Trial 76 finished with value: 66.67857086938385 and parameters: {'iterations': 281, 'depth': 9, 'learning_rate': 0.21149132721668934, 'l2_leaf_reg': 0.009049247839581165, 'bagging_temperature': 0.4506027828933934, 'random_strength': 0.082018631455861, 'border_count': 152}. Best is trial 69 with value: 53.26440674850131.\n"
     ]
    },
    {
     "name": "stderr",
     "output_type": "stream",
     "text": [
      "Best trial: 69. Best value: 53.2644:  39%|███▉      | 78/200 [14:45<07:58,  3.92s/it]"
     ]
    },
    {
     "name": "stdout",
     "output_type": "stream",
     "text": [
      "[I 2024-04-10 11:43:11,350] Trial 77 finished with value: 60.79328223084589 and parameters: {'iterations': 621, 'depth': 9, 'learning_rate': 0.1127592187918787, 'l2_leaf_reg': 0.003403608530990385, 'bagging_temperature': 0.12198950017838107, 'random_strength': 0.3995591156265141, 'border_count': 66}. Best is trial 69 with value: 53.26440674850131.\n"
     ]
    },
    {
     "name": "stderr",
     "output_type": "stream",
     "text": [
      "Best trial: 69. Best value: 53.2644:  40%|███▉      | 79/200 [14:50<08:47,  4.36s/it]"
     ]
    },
    {
     "name": "stdout",
     "output_type": "stream",
     "text": [
      "[I 2024-04-10 11:43:16,740] Trial 78 finished with value: 63.03815541501603 and parameters: {'iterations': 926, 'depth': 10, 'learning_rate': 0.19043342851943879, 'l2_leaf_reg': 0.005780205466573433, 'bagging_temperature': 0.22815713030238888, 'random_strength': 0.16769941074037711, 'border_count': 87}. Best is trial 69 with value: 53.26440674850131.\n"
     ]
    },
    {
     "name": "stderr",
     "output_type": "stream",
     "text": [
      "Best trial: 69. Best value: 53.2644:  40%|███▉      | 79/200 [15:00<08:47,  4.36s/it]"
     ]
    },
    {
     "name": "stdout",
     "output_type": "stream",
     "text": [
      "[I 2024-04-10 11:43:26,998] Trial 79 finished with value: 55.80390271603793 and parameters: {'iterations': 645, 'depth': 10, 'learning_rate': 0.2835402872043088, 'l2_leaf_reg': 5.485683958330244, 'bagging_temperature': 0.32073194762831564, 'random_strength': 0.04272984212904983, 'border_count': 112}. Best is trial 69 with value: 53.26440674850131.\n"
     ]
    },
    {
     "name": "stderr",
     "output_type": "stream",
     "text": [
      "Best trial: 69. Best value: 53.2644:  40%|████      | 81/200 [15:02<09:18,  4.69s/it]"
     ]
    },
    {
     "name": "stdout",
     "output_type": "stream",
     "text": [
      "[I 2024-04-10 11:43:28,346] Trial 80 finished with value: 71.98974082682727 and parameters: {'iterations': 423, 'depth': 8, 'learning_rate': 0.15290825822117088, 'l2_leaf_reg': 0.0012165330874506814, 'bagging_temperature': 0.9397910141615429, 'random_strength': 0.025182386348908188, 'border_count': 50}. Best is trial 69 with value: 53.26440674850131.\n"
     ]
    },
    {
     "name": "stderr",
     "output_type": "stream",
     "text": [
      "Best trial: 69. Best value: 53.2644:  41%|████      | 82/200 [15:09<10:53,  5.54s/it]"
     ]
    },
    {
     "name": "stdout",
     "output_type": "stream",
     "text": [
      "[I 2024-04-10 11:43:35,843] Trial 81 finished with value: 57.25978195298269 and parameters: {'iterations': 515, 'depth': 10, 'learning_rate': 0.18692523699467836, 'l2_leaf_reg': 0.005133703642930216, 'bagging_temperature': 0.6120813287162217, 'random_strength': 0.016094602413515794, 'border_count': 97}. Best is trial 69 with value: 53.26440674850131.\n"
     ]
    },
    {
     "name": "stderr",
     "output_type": "stream",
     "text": [
      "Best trial: 69. Best value: 53.2644:  42%|████▏     | 83/200 [15:21<14:43,  7.55s/it]"
     ]
    },
    {
     "name": "stdout",
     "output_type": "stream",
     "text": [
      "[I 2024-04-10 11:43:48,103] Trial 82 finished with value: 59.37058018444834 and parameters: {'iterations': 573, 'depth': 10, 'learning_rate': 0.12160871881175704, 'l2_leaf_reg': 0.009804351093291927, 'bagging_temperature': 1.4231507044267773, 'random_strength': 0.11193045479536606, 'border_count': 103}. Best is trial 69 with value: 53.26440674850131.\n"
     ]
    },
    {
     "name": "stderr",
     "output_type": "stream",
     "text": [
      "Best trial: 69. Best value: 53.2644:  42%|████▏     | 84/200 [15:27<13:34,  7.02s/it]"
     ]
    },
    {
     "name": "stdout",
     "output_type": "stream",
     "text": [
      "[I 2024-04-10 11:43:53,870] Trial 83 finished with value: 58.08696300411504 and parameters: {'iterations': 526, 'depth': 10, 'learning_rate': 0.24329647453914952, 'l2_leaf_reg': 0.032335046769370275, 'bagging_temperature': 0.4040209815125225, 'random_strength': 0.040099066260742784, 'border_count': 82}. Best is trial 69 with value: 53.26440674850131.\n"
     ]
    },
    {
     "name": "stderr",
     "output_type": "stream",
     "text": [
      "Best trial: 69. Best value: 53.2644:  42%|████▎     | 85/200 [15:30<10:50,  5.65s/it]"
     ]
    },
    {
     "name": "stdout",
     "output_type": "stream",
     "text": [
      "[I 2024-04-10 11:43:56,337] Trial 84 finished with value: 75.36134076191058 and parameters: {'iterations': 454, 'depth': 10, 'learning_rate': 0.14141152922113262, 'l2_leaf_reg': 0.16618123901334345, 'bagging_temperature': 0.7154880621462982, 'random_strength': 0.07081832329544803, 'border_count': 94}. Best is trial 69 with value: 53.26440674850131.\n"
     ]
    },
    {
     "name": "stderr",
     "output_type": "stream",
     "text": [
      "Best trial: 69. Best value: 53.2644:  43%|████▎     | 86/200 [15:33<09:36,  5.06s/it]"
     ]
    },
    {
     "name": "stdout",
     "output_type": "stream",
     "text": [
      "[I 2024-04-10 11:44:00,001] Trial 85 finished with value: 70.70334424670129 and parameters: {'iterations': 486, 'depth': 9, 'learning_rate': 0.02236277827504277, 'l2_leaf_reg': 0.4507583668599223, 'bagging_temperature': 0.5271481013809342, 'random_strength': 0.00810601195080211, 'border_count': 131}. Best is trial 69 with value: 53.26440674850131.\n"
     ]
    },
    {
     "name": "stderr",
     "output_type": "stream",
     "text": [
      "Best trial: 69. Best value: 53.2644:  44%|████▎     | 87/200 [15:38<09:23,  4.99s/it]"
     ]
    },
    {
     "name": "stdout",
     "output_type": "stream",
     "text": [
      "[I 2024-04-10 11:44:04,821] Trial 86 finished with value: 64.41692302963918 and parameters: {'iterations': 533, 'depth': 9, 'learning_rate': 0.2565268915047978, 'l2_leaf_reg': 0.003015343538409125, 'bagging_temperature': 1.890952252372623, 'random_strength': 0.005801563905522183, 'border_count': 143}. Best is trial 69 with value: 53.26440674850131.\n"
     ]
    },
    {
     "name": "stderr",
     "output_type": "stream",
     "text": [
      "Best trial: 69. Best value: 53.2644:  44%|████▍     | 88/200 [15:45<10:31,  5.64s/it]"
     ]
    },
    {
     "name": "stdout",
     "output_type": "stream",
     "text": [
      "[I 2024-04-10 11:44:11,986] Trial 87 finished with value: 53.62337254435836 and parameters: {'iterations': 598, 'depth': 10, 'learning_rate': 0.20634655912422736, 'l2_leaf_reg': 0.012007678753095372, 'bagging_temperature': 0.862176040441947, 'random_strength': 0.004199643039429956, 'border_count': 117}. Best is trial 69 with value: 53.26440674850131.\n"
     ]
    },
    {
     "name": "stderr",
     "output_type": "stream",
     "text": [
      "Best trial: 69. Best value: 53.2644:  44%|████▍     | 89/200 [15:52<10:57,  5.92s/it]"
     ]
    },
    {
     "name": "stdout",
     "output_type": "stream",
     "text": [
      "[I 2024-04-10 11:44:18,578] Trial 88 finished with value: 71.96848238256575 and parameters: {'iterations': 605, 'depth': 10, 'learning_rate': 0.2014950298507192, 'l2_leaf_reg': 0.015388759164978486, 'bagging_temperature': 3.468312209949189, 'random_strength': 0.0036713307746465283, 'border_count': 118}. Best is trial 69 with value: 53.26440674850131.\n"
     ]
    },
    {
     "name": "stderr",
     "output_type": "stream",
     "text": [
      "Best trial: 69. Best value: 53.2644:  45%|████▌     | 90/200 [15:54<08:40,  4.73s/it]"
     ]
    },
    {
     "name": "stdout",
     "output_type": "stream",
     "text": [
      "[I 2024-04-10 11:44:20,529] Trial 89 finished with value: 69.32864249938198 and parameters: {'iterations': 661, 'depth': 7, 'learning_rate': 0.29825271054000996, 'l2_leaf_reg': 0.003993075757856102, 'bagging_temperature': 0.19423632123062387, 'random_strength': 0.0016064852727367663, 'border_count': 166}. Best is trial 69 with value: 53.26440674850131.\n"
     ]
    },
    {
     "name": "stderr",
     "output_type": "stream",
     "text": [
      "Best trial: 69. Best value: 53.2644:  46%|████▌     | 91/200 [16:00<09:08,  5.03s/it]"
     ]
    },
    {
     "name": "stdout",
     "output_type": "stream",
     "text": [
      "[I 2024-04-10 11:44:26,268] Trial 90 finished with value: 102.47944406644527 and parameters: {'iterations': 561, 'depth': 6, 'learning_rate': 0.16586362582642902, 'l2_leaf_reg': 0.01211316307947391, 'bagging_temperature': 18.785150621082742, 'random_strength': 0.0021252059217613797, 'border_count': 128}. Best is trial 69 with value: 53.26440674850131.\n"
     ]
    },
    {
     "name": "stderr",
     "output_type": "stream",
     "text": [
      "Best trial: 69. Best value: 53.2644:  46%|████▌     | 92/200 [16:12<13:01,  7.24s/it]"
     ]
    },
    {
     "name": "stdout",
     "output_type": "stream",
     "text": [
      "[I 2024-04-10 11:44:38,647] Trial 91 finished with value: 54.32052835330439 and parameters: {'iterations': 639, 'depth': 10, 'learning_rate': 0.18613041345487305, 'l2_leaf_reg': 0.02096060967015451, 'bagging_temperature': 0.9426872088879688, 'random_strength': 0.006621412428428849, 'border_count': 99}. Best is trial 69 with value: 53.26440674850131.\n"
     ]
    },
    {
     "name": "stderr",
     "output_type": "stream",
     "text": [
      "Best trial: 69. Best value: 53.2644:  46%|████▋     | 93/200 [16:22<14:14,  7.98s/it]"
     ]
    },
    {
     "name": "stdout",
     "output_type": "stream",
     "text": [
      "[I 2024-04-10 11:44:48,373] Trial 92 finished with value: 56.70142459508568 and parameters: {'iterations': 631, 'depth': 10, 'learning_rate': 0.16451339544969798, 'l2_leaf_reg': 0.008098116867382198, 'bagging_temperature': 0.9498447154445064, 'random_strength': 0.010426452353941247, 'border_count': 110}. Best is trial 69 with value: 53.26440674850131.\n"
     ]
    },
    {
     "name": "stderr",
     "output_type": "stream",
     "text": [
      "Best trial: 69. Best value: 53.2644:  47%|████▋     | 94/200 [16:29<13:58,  7.91s/it]"
     ]
    },
    {
     "name": "stdout",
     "output_type": "stream",
     "text": [
      "[I 2024-04-10 11:44:56,126] Trial 93 finished with value: 57.828274676661366 and parameters: {'iterations': 591, 'depth': 10, 'learning_rate': 0.0946469592402546, 'l2_leaf_reg': 0.0179969498000428, 'bagging_temperature': 0.14394548297706714, 'random_strength': 0.003963093058000826, 'border_count': 100}. Best is trial 69 with value: 53.26440674850131.\n"
     ]
    },
    {
     "name": "stderr",
     "output_type": "stream",
     "text": [
      "Best trial: 69. Best value: 53.2644:  48%|████▊     | 95/200 [16:41<15:34,  8.90s/it]"
     ]
    },
    {
     "name": "stdout",
     "output_type": "stream",
     "text": [
      "[I 2024-04-10 11:45:07,322] Trial 94 finished with value: 55.53654779259093 and parameters: {'iterations': 665, 'depth': 10, 'learning_rate': 0.2670256507907651, 'l2_leaf_reg': 0.02441344928714672, 'bagging_temperature': 0.34232938646312505, 'random_strength': 0.006966792733369634, 'border_count': 90}. Best is trial 69 with value: 53.26440674850131.\n"
     ]
    },
    {
     "name": "stderr",
     "output_type": "stream",
     "text": [
      "Best trial: 69. Best value: 53.2644:  48%|████▊     | 96/200 [16:49<15:19,  8.84s/it]"
     ]
    },
    {
     "name": "stdout",
     "output_type": "stream",
     "text": [
      "[I 2024-04-10 11:45:16,018] Trial 95 finished with value: 68.12626850911262 and parameters: {'iterations': 670, 'depth': 10, 'learning_rate': 0.26444359691116665, 'l2_leaf_reg': 0.021994747952225745, 'bagging_temperature': 1.226235577105683, 'random_strength': 0.01733460739815886, 'border_count': 106}. Best is trial 69 with value: 53.26440674850131.\n"
     ]
    },
    {
     "name": "stderr",
     "output_type": "stream",
     "text": [
      "Best trial: 69. Best value: 53.2644:  48%|████▊     | 97/200 [16:53<12:26,  7.25s/it]"
     ]
    },
    {
     "name": "stdout",
     "output_type": "stream",
     "text": [
      "[I 2024-04-10 11:45:19,558] Trial 96 finished with value: 60.588729859270494 and parameters: {'iterations': 632, 'depth': 9, 'learning_rate': 0.2137260346517523, 'l2_leaf_reg': 0.025964343481788773, 'bagging_temperature': 0.3546920229656034, 'random_strength': 0.004559085292106443, 'border_count': 119}. Best is trial 69 with value: 53.26440674850131.\n"
     ]
    },
    {
     "name": "stderr",
     "output_type": "stream",
     "text": [
      "Best trial: 97. Best value: 52.4463:  49%|████▉     | 98/200 [17:03<13:57,  8.22s/it]"
     ]
    },
    {
     "name": "stdout",
     "output_type": "stream",
     "text": [
      "[I 2024-04-10 11:45:30,028] Trial 97 finished with value: 52.446267815060615 and parameters: {'iterations': 652, 'depth': 10, 'learning_rate': 0.19268999414053017, 'l2_leaf_reg': 0.042232326932564276, 'bagging_temperature': 0.8047728625387628, 'random_strength': 0.002318364086284095, 'border_count': 88}. Best is trial 97 with value: 52.446267815060615.\n"
     ]
    },
    {
     "name": "stderr",
     "output_type": "stream",
     "text": [
      "Best trial: 97. Best value: 52.4463:  50%|████▉     | 99/200 [17:06<10:52,  6.46s/it]"
     ]
    },
    {
     "name": "stdout",
     "output_type": "stream",
     "text": [
      "[I 2024-04-10 11:45:32,378] Trial 98 finished with value: 57.174424884179906 and parameters: {'iterations': 610, 'depth': 4, 'learning_rate': 0.19540116070951277, 'l2_leaf_reg': 0.04152474552678869, 'bagging_temperature': 0.821425280138845, 'random_strength': 0.0030410615972590485, 'border_count': 77}. Best is trial 97 with value: 52.446267815060615.\n"
     ]
    },
    {
     "name": "stderr",
     "output_type": "stream",
     "text": [
      "Best trial: 97. Best value: 52.4463:  50%|█████     | 100/200 [17:16<12:26,  7.47s/it]"
     ]
    },
    {
     "name": "stdout",
     "output_type": "stream",
     "text": [
      "[I 2024-04-10 11:45:42,204] Trial 99 finished with value: 57.034836028877 and parameters: {'iterations': 570, 'depth': 9, 'learning_rate': 0.13357452609836962, 'l2_leaf_reg': 0.05369287297669644, 'bagging_temperature': 0.5301854423408814, 'random_strength': 0.0020257433902138486, 'border_count': 91}. Best is trial 97 with value: 52.446267815060615.\n"
     ]
    },
    {
     "name": "stderr",
     "output_type": "stream",
     "text": [
      "Best trial: 97. Best value: 52.4463:  50%|█████     | 101/200 [17:18<10:04,  6.10s/it]"
     ]
    },
    {
     "name": "stdout",
     "output_type": "stream",
     "text": [
      "[I 2024-04-10 11:45:45,131] Trial 100 finished with value: 55.43940765113938 and parameters: {'iterations': 688, 'depth': 5, 'learning_rate': 0.18238105023645027, 'l2_leaf_reg': 0.019062741028076646, 'bagging_temperature': 0.8621527065031078, 'random_strength': 0.0013128941103885572, 'border_count': 141}. Best is trial 97 with value: 52.446267815060615.\n"
     ]
    },
    {
     "name": "stderr",
     "output_type": "stream",
     "text": [
      "Best trial: 97. Best value: 52.4463:  51%|█████     | 102/200 [17:21<08:20,  5.10s/it]"
     ]
    },
    {
     "name": "stdout",
     "output_type": "stream",
     "text": [
      "[I 2024-04-10 11:45:47,900] Trial 101 finished with value: 62.470206386211814 and parameters: {'iterations': 693, 'depth': 6, 'learning_rate': 0.1825583065910311, 'l2_leaf_reg': 0.010893434845358815, 'bagging_temperature': 2.4342881422374916, 'random_strength': 0.001373788201944149, 'border_count': 138}. Best is trial 97 with value: 52.446267815060615.\n"
     ]
    },
    {
     "name": "stderr",
     "output_type": "stream",
     "text": [
      "Best trial: 97. Best value: 52.4463:  52%|█████▏    | 103/200 [17:23<06:34,  4.07s/it]"
     ]
    },
    {
     "name": "stdout",
     "output_type": "stream",
     "text": [
      "[I 2024-04-10 11:45:49,556] Trial 102 finished with value: 63.319756143372906 and parameters: {'iterations': 717, 'depth': 5, 'learning_rate': 0.23398333211691272, 'l2_leaf_reg': 0.029265509154100255, 'bagging_temperature': 1.5215196581538744, 'random_strength': 0.0017456118812625087, 'border_count': 112}. Best is trial 97 with value: 52.446267815060615.\n"
     ]
    },
    {
     "name": "stderr",
     "output_type": "stream",
     "text": [
      "Best trial: 97. Best value: 52.4463:  52%|█████▏    | 104/200 [18:02<23:32, 14.72s/it]"
     ]
    },
    {
     "name": "stdout",
     "output_type": "stream",
     "text": [
      "[I 2024-04-10 11:46:29,113] Trial 103 finished with value: 58.95195564116531 and parameters: {'iterations': 634, 'depth': 10, 'learning_rate': 0.017059396676876375, 'l2_leaf_reg': 0.013362643098902888, 'bagging_temperature': 0.846485955862043, 'random_strength': 0.002410057913395422, 'border_count': 152}. Best is trial 97 with value: 52.446267815060615.\n"
     ]
    },
    {
     "name": "stderr",
     "output_type": "stream",
     "text": [
      "Best trial: 97. Best value: 52.4463:  52%|█████▎    | 105/200 [18:05<17:27, 11.03s/it]"
     ]
    },
    {
     "name": "stdout",
     "output_type": "stream",
     "text": [
      "[I 2024-04-10 11:46:31,528] Trial 104 finished with value: 57.83221838724307 and parameters: {'iterations': 617, 'depth': 5, 'learning_rate': 0.15670270328628214, 'l2_leaf_reg': 0.018331585238017804, 'bagging_temperature': 0.6386602846434795, 'random_strength': 0.0025561032411413258, 'border_count': 123}. Best is trial 97 with value: 52.446267815060615.\n"
     ]
    },
    {
     "name": "stderr",
     "output_type": "stream",
     "text": [
      "Best trial: 97. Best value: 52.4463:  53%|█████▎    | 106/200 [18:08<13:33,  8.65s/it]"
     ]
    },
    {
     "name": "stdout",
     "output_type": "stream",
     "text": [
      "[I 2024-04-10 11:46:34,645] Trial 105 finished with value: 61.36500781911414 and parameters: {'iterations': 655, 'depth': 8, 'learning_rate': 0.22139693215136427, 'l2_leaf_reg': 0.04538690615182837, 'bagging_temperature': 1.8328199860994303, 'random_strength': 0.003216880040684633, 'border_count': 147}. Best is trial 97 with value: 52.446267815060615.\n"
     ]
    },
    {
     "name": "stderr",
     "output_type": "stream",
     "text": [
      "Best trial: 97. Best value: 52.4463:  54%|█████▎    | 107/200 [18:10<10:26,  6.73s/it]"
     ]
    },
    {
     "name": "stdout",
     "output_type": "stream",
     "text": [
      "[I 2024-04-10 11:46:36,901] Trial 106 finished with value: 56.05417417262079 and parameters: {'iterations': 537, 'depth': 4, 'learning_rate': 0.10445931929200201, 'l2_leaf_reg': 0.10298574339650222, 'bagging_temperature': 1.145657624464891, 'random_strength': 0.0011942077329349474, 'border_count': 104}. Best is trial 97 with value: 52.446267815060615.\n"
     ]
    },
    {
     "name": "stderr",
     "output_type": "stream",
     "text": [
      "Best trial: 97. Best value: 52.4463:  54%|█████▍    | 108/200 [18:21<12:20,  8.05s/it]"
     ]
    },
    {
     "name": "stdout",
     "output_type": "stream",
     "text": [
      "[I 2024-04-10 11:46:48,013] Trial 107 finished with value: 54.59820622291756 and parameters: {'iterations': 683, 'depth': 9, 'learning_rate': 0.14477331382566117, 'l2_leaf_reg': 0.2574023015764786, 'bagging_temperature': 0.4851736421163285, 'random_strength': 0.013534904983571357, 'border_count': 133}. Best is trial 97 with value: 52.446267815060615.\n"
     ]
    },
    {
     "name": "stderr",
     "output_type": "stream",
     "text": [
      "Best trial: 97. Best value: 52.4463:  55%|█████▍    | 109/200 [18:35<14:48,  9.76s/it]"
     ]
    },
    {
     "name": "stdout",
     "output_type": "stream",
     "text": [
      "[I 2024-04-10 11:47:01,766] Trial 108 finished with value: 56.96109986609152 and parameters: {'iterations': 595, 'depth': 9, 'learning_rate': 0.14087081254129588, 'l2_leaf_reg': 16.7246608365981, 'bagging_temperature': 0.25009144935574756, 'random_strength': 0.014020524042585266, 'border_count': 134}. Best is trial 97 with value: 52.446267815060615.\n"
     ]
    },
    {
     "name": "stderr",
     "output_type": "stream",
     "text": [
      "Best trial: 97. Best value: 52.4463:  55%|█████▌    | 110/200 [18:43<13:41,  9.12s/it]"
     ]
    },
    {
     "name": "stdout",
     "output_type": "stream",
     "text": [
      "[I 2024-04-10 11:47:09,407] Trial 109 finished with value: 57.05805356935737 and parameters: {'iterations': 580, 'depth': 9, 'learning_rate': 0.1220126801112939, 'l2_leaf_reg': 0.2720204568373084, 'bagging_temperature': 0.43806033521659143, 'random_strength': 0.023796238156145316, 'border_count': 116}. Best is trial 97 with value: 52.446267815060615.\n"
     ]
    },
    {
     "name": "stderr",
     "output_type": "stream",
     "text": [
      "Best trial: 97. Best value: 52.4463:  56%|█████▌    | 111/200 [18:44<10:12,  6.89s/it]"
     ]
    },
    {
     "name": "stdout",
     "output_type": "stream",
     "text": [
      "[I 2024-04-10 11:47:11,073] Trial 110 finished with value: 71.48715566221094 and parameters: {'iterations': 471, 'depth': 9, 'learning_rate': 0.20181780339758415, 'l2_leaf_reg': 0.22524656978193758, 'bagging_temperature': 0.49885812770845245, 'random_strength': 0.06169378889764524, 'border_count': 99}. Best is trial 97 with value: 52.446267815060615.\n"
     ]
    },
    {
     "name": "stderr",
     "output_type": "stream",
     "text": [
      "Best trial: 97. Best value: 52.4463:  56%|█████▌    | 112/200 [18:55<11:33,  7.89s/it]"
     ]
    },
    {
     "name": "stdout",
     "output_type": "stream",
     "text": [
      "[I 2024-04-10 11:47:21,290] Trial 111 finished with value: 56.03918418088493 and parameters: {'iterations': 681, 'depth': 9, 'learning_rate': 0.17552630138621725, 'l2_leaf_reg': 0.5904088366692375, 'bagging_temperature': 1.0110820367677653, 'random_strength': 0.010711282401004283, 'border_count': 140}. Best is trial 97 with value: 52.446267815060615.\n"
     ]
    },
    {
     "name": "stderr",
     "output_type": "stream",
     "text": [
      "Best trial: 97. Best value: 52.4463:  56%|█████▋    | 113/200 [19:01<10:33,  7.29s/it]"
     ]
    },
    {
     "name": "stdout",
     "output_type": "stream",
     "text": [
      "[I 2024-04-10 11:47:27,181] Trial 112 finished with value: 58.683815663861736 and parameters: {'iterations': 642, 'depth': 10, 'learning_rate': 0.24368243489746794, 'l2_leaf_reg': 0.0351811467670549, 'bagging_temperature': 0.7187810114246499, 'random_strength': 0.004693289335999343, 'border_count': 125}. Best is trial 97 with value: 52.446267815060615.\n"
     ]
    },
    {
     "name": "stderr",
     "output_type": "stream",
     "text": [
      "Best trial: 97. Best value: 52.4463:  57%|█████▋    | 114/200 [19:08<10:25,  7.27s/it]"
     ]
    },
    {
     "name": "stdout",
     "output_type": "stream",
     "text": [
      "[I 2024-04-10 11:47:34,406] Trial 113 finished with value: 54.95572023258125 and parameters: {'iterations': 725, 'depth': 10, 'learning_rate': 0.1846813167672077, 'l2_leaf_reg': 0.457565375165676, 'bagging_temperature': 0.5878722543024348, 'random_strength': 0.008323937319020059, 'border_count': 129}. Best is trial 97 with value: 52.446267815060615.\n"
     ]
    },
    {
     "name": "stderr",
     "output_type": "stream",
     "text": [
      "Best trial: 97. Best value: 52.4463:  57%|█████▊    | 115/200 [19:47<24:03, 16.98s/it]"
     ]
    },
    {
     "name": "stdout",
     "output_type": "stream",
     "text": [
      "[I 2024-04-10 11:48:14,059] Trial 114 finished with value: 57.65911239982935 and parameters: {'iterations': 736, 'depth': 10, 'learning_rate': 0.013513304504239912, 'l2_leaf_reg': 0.456795055532751, 'bagging_temperature': 0.5978809401750264, 'random_strength': 0.008043421399005199, 'border_count': 130}. Best is trial 97 with value: 52.446267815060615.\n"
     ]
    },
    {
     "name": "stderr",
     "output_type": "stream",
     "text": [
      "Best trial: 97. Best value: 52.4463:  58%|█████▊    | 116/200 [19:57<20:50, 14.88s/it]"
     ]
    },
    {
     "name": "stdout",
     "output_type": "stream",
     "text": [
      "[I 2024-04-10 11:48:24,038] Trial 115 finished with value: 55.51282411882125 and parameters: {'iterations': 704, 'depth': 10, 'learning_rate': 0.14943859691548997, 'l2_leaf_reg': 0.3642643904517427, 'bagging_temperature': 0.4101820512871522, 'random_strength': 0.13072632176697285, 'border_count': 121}. Best is trial 97 with value: 52.446267815060615.\n"
     ]
    },
    {
     "name": "stderr",
     "output_type": "stream",
     "text": [
      "Best trial: 97. Best value: 52.4463:  58%|█████▊    | 117/200 [20:28<27:18, 19.75s/it]"
     ]
    },
    {
     "name": "stdout",
     "output_type": "stream",
     "text": [
      "[I 2024-04-10 11:48:55,134] Trial 116 finished with value: 59.27708227584322 and parameters: {'iterations': 507, 'depth': 10, 'learning_rate': 0.01780525737697563, 'l2_leaf_reg': 0.3184859426375629, 'bagging_temperature': 1.3802914383599476, 'random_strength': 0.015594521748266655, 'border_count': 114}. Best is trial 97 with value: 52.446267815060615.\n"
     ]
    },
    {
     "name": "stderr",
     "output_type": "stream",
     "text": [
      "Best trial: 97. Best value: 52.4463:  59%|█████▉    | 118/200 [20:45<25:34, 18.71s/it]"
     ]
    },
    {
     "name": "stdout",
     "output_type": "stream",
     "text": [
      "[I 2024-04-10 11:49:11,440] Trial 117 finished with value: 58.84717394385765 and parameters: {'iterations': 756, 'depth': 9, 'learning_rate': 0.024262534802833028, 'l2_leaf_reg': 0.18263140028154384, 'bagging_temperature': 0.28373452300933966, 'random_strength': 0.1641000668740456, 'border_count': 84}. Best is trial 97 with value: 52.446267815060615.\n"
     ]
    },
    {
     "name": "stderr",
     "output_type": "stream",
     "text": [
      "Best trial: 97. Best value: 52.4463:  60%|█████▉    | 119/200 [20:51<20:06, 14.89s/it]"
     ]
    },
    {
     "name": "stdout",
     "output_type": "stream",
     "text": [
      "[I 2024-04-10 11:49:17,418] Trial 118 finished with value: 55.9409019585315 and parameters: {'iterations': 565, 'depth': 10, 'learning_rate': 0.1967719845186501, 'l2_leaf_reg': 0.6922072631741423, 'bagging_temperature': 0.5647901524065106, 'random_strength': 0.028309115315776675, 'border_count': 110}. Best is trial 97 with value: 52.446267815060615.\n"
     ]
    },
    {
     "name": "stderr",
     "output_type": "stream",
     "text": [
      "Best trial: 97. Best value: 52.4463:  60%|██████    | 120/200 [20:56<15:58, 11.98s/it]"
     ]
    },
    {
     "name": "stdout",
     "output_type": "stream",
     "text": [
      "[I 2024-04-10 11:49:22,604] Trial 119 finished with value: 54.76374960178543 and parameters: {'iterations': 768, 'depth': 9, 'learning_rate': 0.16035728226371404, 'l2_leaf_reg': 0.9247396872785799, 'bagging_temperature': 0.4625519204289511, 'random_strength': 0.006337090167763267, 'border_count': 127}. Best is trial 97 with value: 52.446267815060615.\n"
     ]
    },
    {
     "name": "stderr",
     "output_type": "stream",
     "text": [
      "Best trial: 97. Best value: 52.4463:  60%|██████    | 121/200 [21:04<14:13, 10.81s/it]"
     ]
    },
    {
     "name": "stdout",
     "output_type": "stream",
     "text": [
      "[I 2024-04-10 11:49:30,678] Trial 120 finished with value: 63.55031244079542 and parameters: {'iterations': 816, 'depth': 9, 'learning_rate': 0.2152410185402546, 'l2_leaf_reg': 1.3759535620867862, 'bagging_temperature': 0.3860364990423605, 'random_strength': 0.005960816608876467, 'border_count': 157}. Best is trial 97 with value: 52.446267815060615.\n"
     ]
    },
    {
     "name": "stderr",
     "output_type": "stream",
     "text": [
      "Best trial: 97. Best value: 52.4463:  61%|██████    | 122/200 [21:13<13:18, 10.24s/it]"
     ]
    },
    {
     "name": "stdout",
     "output_type": "stream",
     "text": [
      "[I 2024-04-10 11:49:39,575] Trial 121 finished with value: 68.25009961918934 and parameters: {'iterations': 768, 'depth': 9, 'learning_rate': 0.16077689721015698, 'l2_leaf_reg': 0.5045563199105014, 'bagging_temperature': 0.4692484920129499, 'random_strength': 1.0361707268764668, 'border_count': 127}. Best is trial 97 with value: 52.446267815060615.\n"
     ]
    },
    {
     "name": "stderr",
     "output_type": "stream",
     "text": [
      "Best trial: 97. Best value: 52.4463:  62%|██████▏   | 123/200 [21:16<10:31,  8.20s/it]"
     ]
    },
    {
     "name": "stdout",
     "output_type": "stream",
     "text": [
      "[I 2024-04-10 11:49:43,013] Trial 122 finished with value: 62.13977221365893 and parameters: {'iterations': 730, 'depth': 9, 'learning_rate': 0.18235687898276015, 'l2_leaf_reg': 0.9783192774383743, 'bagging_temperature': 0.7245756142287121, 'random_strength': 0.012684018247666583, 'border_count': 133}. Best is trial 97 with value: 52.446267815060615.\n"
     ]
    },
    {
     "name": "stderr",
     "output_type": "stream",
     "text": [
      "Best trial: 97. Best value: 52.4463:  62%|██████▏   | 124/200 [21:23<09:41,  7.65s/it]"
     ]
    },
    {
     "name": "stdout",
     "output_type": "stream",
     "text": [
      "[I 2024-04-10 11:49:49,387] Trial 123 finished with value: 64.23820310200594 and parameters: {'iterations': 712, 'depth': 10, 'learning_rate': 0.17041184626836206, 'l2_leaf_reg': 2.2166650390106946, 'bagging_temperature': 0.2581193569023318, 'random_strength': 0.008762148782128333, 'border_count': 118}. Best is trial 97 with value: 52.446267815060615.\n"
     ]
    },
    {
     "name": "stderr",
     "output_type": "stream",
     "text": [
      "Best trial: 97. Best value: 52.4463:  62%|██████▎   | 125/200 [21:32<10:08,  8.12s/it]"
     ]
    },
    {
     "name": "stdout",
     "output_type": "stream",
     "text": [
      "[I 2024-04-10 11:49:58,604] Trial 124 finished with value: 55.39215180143058 and parameters: {'iterations': 674, 'depth': 9, 'learning_rate': 0.2255013026519545, 'l2_leaf_reg': 0.15393583066898017, 'bagging_temperature': 1.073701197130422, 'random_strength': 0.019352445134134002, 'border_count': 147}. Best is trial 97 with value: 52.446267815060615.\n"
     ]
    },
    {
     "name": "stderr",
     "output_type": "stream",
     "text": [
      "Best trial: 97. Best value: 52.4463:  63%|██████▎   | 126/200 [22:02<17:59, 14.59s/it]"
     ]
    },
    {
     "name": "stdout",
     "output_type": "stream",
     "text": [
      "[I 2024-04-10 11:50:28,292] Trial 125 finished with value: 56.402120160321005 and parameters: {'iterations': 648, 'depth': 10, 'learning_rate': 0.021450234861953858, 'l2_leaf_reg': 0.2422033496147238, 'bagging_temperature': 0.6416815256919883, 'random_strength': 0.006753265630307563, 'border_count': 106}. Best is trial 97 with value: 52.446267815060615.\n"
     ]
    },
    {
     "name": "stderr",
     "output_type": "stream",
     "text": [
      "Best trial: 97. Best value: 52.4463:  64%|██████▎   | 127/200 [22:05<13:40, 11.24s/it]"
     ]
    },
    {
     "name": "stdout",
     "output_type": "stream",
     "text": [
      "[I 2024-04-10 11:50:31,704] Trial 126 finished with value: 54.25892993451665 and parameters: {'iterations': 601, 'depth': 8, 'learning_rate': 0.1336395735626086, 'l2_leaf_reg': 0.833815170856006, 'bagging_temperature': 0.3214502267121604, 'random_strength': 0.01026718956086277, 'border_count': 96}. Best is trial 97 with value: 52.446267815060615.\n"
     ]
    },
    {
     "name": "stderr",
     "output_type": "stream",
     "text": [
      "Best trial: 97. Best value: 52.4463:  64%|██████▍   | 128/200 [22:09<10:42,  8.92s/it]"
     ]
    },
    {
     "name": "stdout",
     "output_type": "stream",
     "text": [
      "[I 2024-04-10 11:50:35,232] Trial 127 finished with value: 56.98967432813902 and parameters: {'iterations': 591, 'depth': 8, 'learning_rate': 0.11427945775596372, 'l2_leaf_reg': 1.041038952344484, 'bagging_temperature': 0.19788777851558784, 'random_strength': 0.010091234850959042, 'border_count': 95}. Best is trial 97 with value: 52.446267815060615.\n"
     ]
    },
    {
     "name": "stderr",
     "output_type": "stream",
     "text": [
      "Best trial: 97. Best value: 52.4463:  64%|██████▍   | 129/200 [22:11<08:10,  6.91s/it]"
     ]
    },
    {
     "name": "stdout",
     "output_type": "stream",
     "text": [
      "[I 2024-04-10 11:50:37,454] Trial 128 finished with value: 62.000321712579705 and parameters: {'iterations': 543, 'depth': 8, 'learning_rate': 0.13827843624468836, 'l2_leaf_reg': 0.7639170538146982, 'bagging_temperature': 0.3059568619685335, 'random_strength': 0.007752410837443918, 'border_count': 52}. Best is trial 97 with value: 52.446267815060615.\n"
     ]
    },
    {
     "name": "stderr",
     "output_type": "stream",
     "text": [
      "Best trial: 97. Best value: 52.4463:  65%|██████▌   | 130/200 [22:16<07:34,  6.49s/it]"
     ]
    },
    {
     "name": "stdout",
     "output_type": "stream",
     "text": [
      "[I 2024-04-10 11:50:42,946] Trial 129 finished with value: 57.90198652824031 and parameters: {'iterations': 623, 'depth': 9, 'learning_rate': 0.08654266845212871, 'l2_leaf_reg': 1.5084482196580786, 'bagging_temperature': 0.3475668896220214, 'random_strength': 0.0035909779358960147, 'border_count': 126}. Best is trial 97 with value: 52.446267815060615.\n"
     ]
    },
    {
     "name": "stderr",
     "output_type": "stream",
     "text": [
      "Best trial: 97. Best value: 52.4463:  66%|██████▌   | 131/200 [22:20<06:20,  5.52s/it]"
     ]
    },
    {
     "name": "stdout",
     "output_type": "stream",
     "text": [
      "[I 2024-04-10 11:50:46,196] Trial 130 finished with value: 63.52552183539129 and parameters: {'iterations': 520, 'depth': 9, 'learning_rate': 0.15686061340667876, 'l2_leaf_reg': 1.9261149790486725, 'bagging_temperature': 0.23144558036836074, 'random_strength': 0.005282903028138734, 'border_count': 42}. Best is trial 97 with value: 52.446267815060615.\n"
     ]
    },
    {
     "name": "stderr",
     "output_type": "stream",
     "text": [
      "Best trial: 97. Best value: 52.4463:  66%|██████▌   | 132/200 [22:27<06:52,  6.07s/it]"
     ]
    },
    {
     "name": "stdout",
     "output_type": "stream",
     "text": [
      "[I 2024-04-10 11:50:53,565] Trial 131 finished with value: 57.984246639270374 and parameters: {'iterations': 617, 'depth': 10, 'learning_rate': 0.17189968979678424, 'l2_leaf_reg': 0.3762409613743151, 'bagging_temperature': 0.46581133967510036, 'random_strength': 0.012055257869027747, 'border_count': 101}. Best is trial 97 with value: 52.446267815060615.\n"
     ]
    },
    {
     "name": "stderr",
     "output_type": "stream",
     "text": [
      "Best trial: 97. Best value: 52.4463:  66%|██████▋   | 133/200 [22:30<05:55,  5.30s/it]"
     ]
    },
    {
     "name": "stdout",
     "output_type": "stream",
     "text": [
      "[I 2024-04-10 11:50:57,079] Trial 132 finished with value: 59.28816435589099 and parameters: {'iterations': 599, 'depth': 9, 'learning_rate': 0.2090428991633505, 'l2_leaf_reg': 0.30541065644793375, 'bagging_temperature': 0.554829602533763, 'random_strength': 0.015155725006328837, 'border_count': 89}. Best is trial 97 with value: 52.446267815060615.\n"
     ]
    },
    {
     "name": "stderr",
     "output_type": "stream",
     "text": [
      "Best trial: 97. Best value: 52.4463:  67%|██████▋   | 134/200 [22:33<04:50,  4.41s/it]"
     ]
    },
    {
     "name": "stdout",
     "output_type": "stream",
     "text": [
      "[I 2024-04-10 11:50:59,396] Trial 133 finished with value: 53.65101274013391 and parameters: {'iterations': 802, 'depth': 8, 'learning_rate': 0.19598314118642388, 'l2_leaf_reg': 0.5903879142870452, 'bagging_temperature': 0.7296931306049712, 'random_strength': 0.009644975989904889, 'border_count': 113}. Best is trial 97 with value: 52.446267815060615.\n"
     ]
    },
    {
     "name": "stderr",
     "output_type": "stream",
     "text": [
      "Best trial: 97. Best value: 52.4463:  68%|██████▊   | 135/200 [22:35<04:10,  3.86s/it]"
     ]
    },
    {
     "name": "stdout",
     "output_type": "stream",
     "text": [
      "[I 2024-04-10 11:51:01,977] Trial 134 finished with value: 55.217056637744655 and parameters: {'iterations': 852, 'depth': 8, 'learning_rate': 0.1933386549312248, 'l2_leaf_reg': 0.06124220949178206, 'bagging_temperature': 0.9876655273793843, 'random_strength': 0.009550231159405304, 'border_count': 121}. Best is trial 97 with value: 52.446267815060615.\n"
     ]
    },
    {
     "name": "stderr",
     "output_type": "stream",
     "text": [
      "Best trial: 97. Best value: 52.4463:  68%|██████▊   | 136/200 [22:38<03:46,  3.54s/it]"
     ]
    },
    {
     "name": "stdout",
     "output_type": "stream",
     "text": [
      "[I 2024-04-10 11:51:04,758] Trial 135 finished with value: 55.55158936783332 and parameters: {'iterations': 784, 'depth': 7, 'learning_rate': 0.2463676107274041, 'l2_leaf_reg': 0.5715443727346456, 'bagging_temperature': 0.8540045303457076, 'random_strength': 0.005951402167335138, 'border_count': 113}. Best is trial 97 with value: 52.446267815060615.\n"
     ]
    },
    {
     "name": "stderr",
     "output_type": "stream",
     "text": [
      "Best trial: 97. Best value: 52.4463:  68%|██████▊   | 137/200 [22:43<04:06,  3.91s/it]"
     ]
    },
    {
     "name": "stdout",
     "output_type": "stream",
     "text": [
      "[I 2024-04-10 11:51:09,526] Trial 136 finished with value: 58.59522537791922 and parameters: {'iterations': 802, 'depth': 8, 'learning_rate': 0.19052891480020956, 'l2_leaf_reg': 0.865683860247925, 'bagging_temperature': 1.2447935814737638, 'random_strength': 0.004491699822405892, 'border_count': 120}. Best is trial 97 with value: 52.446267815060615.\n"
     ]
    },
    {
     "name": "stderr",
     "output_type": "stream",
     "text": [
      "Best trial: 97. Best value: 52.4463:  69%|██████▉   | 138/200 [22:46<03:49,  3.70s/it]"
     ]
    },
    {
     "name": "stdout",
     "output_type": "stream",
     "text": [
      "[I 2024-04-10 11:51:12,741] Trial 137 finished with value: 71.04031967314779 and parameters: {'iterations': 887, 'depth': 8, 'learning_rate': 0.19369052619368926, 'l2_leaf_reg': 1.1714558848285301, 'bagging_temperature': 0.9571130044759003, 'random_strength': 2.9519211687143336, 'border_count': 131}. Best is trial 97 with value: 52.446267815060615.\n"
     ]
    },
    {
     "name": "stderr",
     "output_type": "stream",
     "text": [
      "Best trial: 97. Best value: 52.4463:  70%|██████▉   | 139/200 [22:51<04:02,  3.97s/it]"
     ]
    },
    {
     "name": "stdout",
     "output_type": "stream",
     "text": [
      "[I 2024-04-10 11:51:17,347] Trial 138 finished with value: 54.77169215146143 and parameters: {'iterations': 867, 'depth': 8, 'learning_rate': 0.13024983861329922, 'l2_leaf_reg': 0.6722500991438657, 'bagging_temperature': 0.7144607896599874, 'random_strength': 0.008820367722306969, 'border_count': 65}. Best is trial 97 with value: 52.446267815060615.\n"
     ]
    },
    {
     "name": "stderr",
     "output_type": "stream",
     "text": [
      "Best trial: 97. Best value: 52.4463:  70%|███████   | 140/200 [22:56<04:14,  4.25s/it]"
     ]
    },
    {
     "name": "stdout",
     "output_type": "stream",
     "text": [
      "[I 2024-04-10 11:51:22,234] Trial 139 finished with value: 60.84975986515883 and parameters: {'iterations': 816, 'depth': 8, 'learning_rate': 0.1478280732123446, 'l2_leaf_reg': 0.6449500730721889, 'bagging_temperature': 0.7466601223895902, 'random_strength': 0.10101893688587832, 'border_count': 76}. Best is trial 97 with value: 52.446267815060615.\n"
     ]
    },
    {
     "name": "stderr",
     "output_type": "stream",
     "text": [
      "Best trial: 97. Best value: 52.4463:  70%|███████   | 141/200 [22:58<03:35,  3.65s/it]"
     ]
    },
    {
     "name": "stdout",
     "output_type": "stream",
     "text": [
      "[I 2024-04-10 11:51:24,487] Trial 140 finished with value: 59.23575045171654 and parameters: {'iterations': 769, 'depth': 8, 'learning_rate': 0.12954701103897454, 'l2_leaf_reg': 0.8064507210900962, 'bagging_temperature': 0.39406213461811124, 'random_strength': 0.0069717760453230325, 'border_count': 60}. Best is trial 97 with value: 52.446267815060615.\n"
     ]
    },
    {
     "name": "stderr",
     "output_type": "stream",
     "text": [
      "Best trial: 141. Best value: 51.3125:  71%|███████   | 142/200 [23:05<04:26,  4.59s/it]"
     ]
    },
    {
     "name": "stdout",
     "output_type": "stream",
     "text": [
      "[I 2024-04-10 11:51:31,287] Trial 141 finished with value: 51.31252080420077 and parameters: {'iterations': 869, 'depth': 8, 'learning_rate': 0.169756878040338, 'l2_leaf_reg': 0.49154392273450753, 'bagging_temperature': 0.728985106105929, 'random_strength': 0.009948479325202814, 'border_count': 135}. Best is trial 141 with value: 51.31252080420077.\n"
     ]
    },
    {
     "name": "stderr",
     "output_type": "stream",
     "text": [
      "Best trial: 141. Best value: 51.3125:  72%|███████▏  | 143/200 [23:09<04:09,  4.38s/it]"
     ]
    },
    {
     "name": "stdout",
     "output_type": "stream",
     "text": [
      "[I 2024-04-10 11:51:35,162] Trial 142 finished with value: 54.63874885995176 and parameters: {'iterations': 861, 'depth': 8, 'learning_rate': 0.15995084639909896, 'l2_leaf_reg': 0.44321180310696084, 'bagging_temperature': 0.6260986906102802, 'random_strength': 0.010540936563345937, 'border_count': 69}. Best is trial 141 with value: 51.31252080420077.\n"
     ]
    },
    {
     "name": "stderr",
     "output_type": "stream",
     "text": [
      "Best trial: 141. Best value: 51.3125:  72%|███████▏  | 144/200 [23:11<03:35,  3.85s/it]"
     ]
    },
    {
     "name": "stdout",
     "output_type": "stream",
     "text": [
      "[I 2024-04-10 11:51:37,773] Trial 143 finished with value: 58.909076759125 and parameters: {'iterations': 871, 'depth': 8, 'learning_rate': 0.16438745311337363, 'l2_leaf_reg': 0.39521799544129044, 'bagging_temperature': 0.739233739695935, 'random_strength': 0.010306926766777061, 'border_count': 62}. Best is trial 141 with value: 51.31252080420077.\n"
     ]
    },
    {
     "name": "stderr",
     "output_type": "stream",
     "text": [
      "Best trial: 141. Best value: 51.3125:  72%|███████▎  | 145/200 [23:20<04:52,  5.32s/it]"
     ]
    },
    {
     "name": "stdout",
     "output_type": "stream",
     "text": [
      "[I 2024-04-10 11:51:46,531] Trial 144 finished with value: 54.30346220047271 and parameters: {'iterations': 925, 'depth': 8, 'learning_rate': 0.13171070129122148, 'l2_leaf_reg': 0.6445603249894236, 'bagging_temperature': 0.6617788296291881, 'random_strength': 0.013413796946485573, 'border_count': 69}. Best is trial 141 with value: 51.31252080420077.\n"
     ]
    },
    {
     "name": "stderr",
     "output_type": "stream",
     "text": [
      "Best trial: 141. Best value: 51.3125:  73%|███████▎  | 146/200 [23:23<04:12,  4.67s/it]"
     ]
    },
    {
     "name": "stdout",
     "output_type": "stream",
     "text": [
      "[I 2024-04-10 11:51:49,695] Trial 145 finished with value: 61.38701472691887 and parameters: {'iterations': 906, 'depth': 8, 'learning_rate': 0.1282250032537533, 'l2_leaf_reg': 0.6498957214669839, 'bagging_temperature': 1.1673139796749386, 'random_strength': 0.01463918064148939, 'border_count': 67}. Best is trial 141 with value: 51.31252080420077.\n"
     ]
    },
    {
     "name": "stderr",
     "output_type": "stream",
     "text": [
      "Best trial: 141. Best value: 51.3125:  74%|███████▎  | 147/200 [23:27<03:59,  4.52s/it]"
     ]
    },
    {
     "name": "stdout",
     "output_type": "stream",
     "text": [
      "[I 2024-04-10 11:51:53,865] Trial 146 finished with value: 60.40733695385805 and parameters: {'iterations': 914, 'depth': 8, 'learning_rate': 0.10392348421585651, 'l2_leaf_reg': 0.007211954553728015, 'bagging_temperature': 0.64665085866038, 'random_strength': 0.020234504338089578, 'border_count': 56}. Best is trial 141 with value: 51.31252080420077.\n"
     ]
    },
    {
     "name": "stderr",
     "output_type": "stream",
     "text": [
      "Best trial: 141. Best value: 51.3125:  74%|███████▍  | 148/200 [23:30<03:31,  4.06s/it]"
     ]
    },
    {
     "name": "stdout",
     "output_type": "stream",
     "text": [
      "[I 2024-04-10 11:51:56,840] Trial 147 finished with value: 57.36900045915948 and parameters: {'iterations': 945, 'depth': 8, 'learning_rate': 0.14211886598070697, 'l2_leaf_reg': 0.5262661788554762, 'bagging_temperature': 0.8514946028788424, 'random_strength': 0.011962173738086999, 'border_count': 69}. Best is trial 141 with value: 51.31252080420077.\n"
     ]
    },
    {
     "name": "stderr",
     "output_type": "stream",
     "text": [
      "Best trial: 141. Best value: 51.3125:  74%|███████▍  | 148/200 [23:35<03:31,  4.06s/it]"
     ]
    },
    {
     "name": "stdout",
     "output_type": "stream",
     "text": [
      "[I 2024-04-10 11:52:02,151] Trial 148 finished with value: 55.69938610398248 and parameters: {'iterations': 857, 'depth': 7, 'learning_rate': 0.11626904682220526, 'l2_leaf_reg': 1.1179145448287804, 'bagging_temperature': 1.4248559665795246, 'random_strength': 0.0069596602531201875, 'border_count': 74}. Best is trial 141 with value: 51.31252080420077.\n"
     ]
    },
    {
     "name": "stderr",
     "output_type": "stream",
     "text": [
      "Best trial: 141. Best value: 51.3125:  75%|███████▌  | 150/200 [23:39<03:23,  4.08s/it]"
     ]
    },
    {
     "name": "stdout",
     "output_type": "stream",
     "text": [
      "[I 2024-04-10 11:52:05,400] Trial 149 finished with value: 466.6378480963337 and parameters: {'iterations': 885, 'depth': 8, 'learning_rate': 0.15118400104036894, 'l2_leaf_reg': 0.0014586531356321699, 'bagging_temperature': 90.24020524501839, 'random_strength': 0.00867531213965987, 'border_count': 94}. Best is trial 141 with value: 51.31252080420077.\n"
     ]
    },
    {
     "name": "stderr",
     "output_type": "stream",
     "text": [
      "Best trial: 141. Best value: 51.3125:  76%|███████▌  | 151/200 [23:42<03:07,  3.83s/it]"
     ]
    },
    {
     "name": "stdout",
     "output_type": "stream",
     "text": [
      "[I 2024-04-10 11:52:08,653] Trial 150 finished with value: 58.47834045123037 and parameters: {'iterations': 827, 'depth': 8, 'learning_rate': 0.1718209693758926, 'l2_leaf_reg': 0.8195051786461308, 'bagging_temperature': 1.7206723677635005, 'random_strength': 0.005239772619765164, 'border_count': 82}. Best is trial 141 with value: 51.31252080420077.\n"
     ]
    },
    {
     "name": "stderr",
     "output_type": "stream",
     "text": [
      "Best trial: 141. Best value: 51.3125:  76%|███████▌  | 152/200 [23:45<02:57,  3.69s/it]"
     ]
    },
    {
     "name": "stdout",
     "output_type": "stream",
     "text": [
      "[I 2024-04-10 11:52:12,015] Trial 151 finished with value: 58.27958224089125 and parameters: {'iterations': 844, 'depth': 8, 'learning_rate': 0.21929629159893133, 'l2_leaf_reg': 0.002271914926023166, 'bagging_temperature': 0.464764683453537, 'random_strength': 0.017206260004700824, 'border_count': 64}. Best is trial 141 with value: 51.31252080420077.\n"
     ]
    },
    {
     "name": "stderr",
     "output_type": "stream",
     "text": [
      "Best trial: 141. Best value: 51.3125:  76%|███████▋  | 153/200 [23:48<02:39,  3.39s/it]"
     ]
    },
    {
     "name": "stdout",
     "output_type": "stream",
     "text": [
      "[I 2024-04-10 11:52:14,708] Trial 152 finished with value: 64.31921256004718 and parameters: {'iterations': 1000, 'depth': 7, 'learning_rate': 0.13373702705652743, 'l2_leaf_reg': 0.6356689954124303, 'bagging_temperature': 0.6696203324926863, 'random_strength': 0.011075393112925516, 'border_count': 46}. Best is trial 141 with value: 51.31252080420077.\n"
     ]
    },
    {
     "name": "stderr",
     "output_type": "stream",
     "text": [
      "Best trial: 141. Best value: 51.3125:  77%|███████▋  | 154/200 [23:52<02:43,  3.56s/it]"
     ]
    },
    {
     "name": "stdout",
     "output_type": "stream",
     "text": [
      "[I 2024-04-10 11:52:18,663] Trial 153 finished with value: 55.02663424858439 and parameters: {'iterations': 873, 'depth': 8, 'learning_rate': 0.1639816280830483, 'l2_leaf_reg': 0.431307585564592, 'bagging_temperature': 0.8170151271265306, 'random_strength': 0.013310722234307952, 'border_count': 69}. Best is trial 141 with value: 51.31252080420077.\n"
     ]
    },
    {
     "name": "stderr",
     "output_type": "stream",
     "text": [
      "Best trial: 141. Best value: 51.3125:  78%|███████▊  | 155/200 [23:54<02:22,  3.17s/it]"
     ]
    },
    {
     "name": "stdout",
     "output_type": "stream",
     "text": [
      "[I 2024-04-10 11:52:20,924] Trial 154 finished with value: 82.56392498138676 and parameters: {'iterations': 951, 'depth': 8, 'learning_rate': 0.17675675840499655, 'l2_leaf_reg': 1.665553639850262, 'bagging_temperature': 0.3276870208732135, 'random_strength': 0.33756629357563583, 'border_count': 54}. Best is trial 141 with value: 51.31252080420077.\n"
     ]
    },
    {
     "name": "stderr",
     "output_type": "stream",
     "text": [
      "Best trial: 141. Best value: 51.3125:  78%|███████▊  | 156/200 [23:58<02:28,  3.38s/it]"
     ]
    },
    {
     "name": "stdout",
     "output_type": "stream",
     "text": [
      "[I 2024-04-10 11:52:24,788] Trial 155 finished with value: 56.20106568179749 and parameters: {'iterations': 933, 'depth': 8, 'learning_rate': 0.2022445278151582, 'l2_leaf_reg': 0.011376606495369061, 'bagging_temperature': 0.5295229738839603, 'random_strength': 0.007950814294256914, 'border_count': 137}. Best is trial 141 with value: 51.31252080420077.\n"
     ]
    },
    {
     "name": "stderr",
     "output_type": "stream",
     "text": [
      "Best trial: 141. Best value: 51.3125:  78%|███████▊  | 157/200 [24:02<02:37,  3.67s/it]"
     ]
    },
    {
     "name": "stdout",
     "output_type": "stream",
     "text": [
      "[I 2024-04-10 11:52:29,135] Trial 156 finished with value: 61.841413460383414 and parameters: {'iterations': 903, 'depth': 9, 'learning_rate': 0.15301270013925158, 'l2_leaf_reg': 0.015014611792080709, 'bagging_temperature': 0.3925575152721383, 'random_strength': 0.002414764601827288, 'border_count': 107}. Best is trial 141 with value: 51.31252080420077.\n"
     ]
    },
    {
     "name": "stderr",
     "output_type": "stream",
     "text": [
      "Best trial: 141. Best value: 51.3125:  79%|███████▉  | 158/200 [24:06<02:36,  3.72s/it]"
     ]
    },
    {
     "name": "stdout",
     "output_type": "stream",
     "text": [
      "[I 2024-04-10 11:52:32,987] Trial 157 finished with value: 56.20718821933737 and parameters: {'iterations': 638, 'depth': 8, 'learning_rate': 0.23189694918355525, 'l2_leaf_reg': 0.30005514370818115, 'bagging_temperature': 0.9659792331875839, 'random_strength': 0.010018799868964865, 'border_count': 72}. Best is trial 141 with value: 51.31252080420077.\n"
     ]
    },
    {
     "name": "stderr",
     "output_type": "stream",
     "text": [
      "Best trial: 141. Best value: 51.3125:  80%|███████▉  | 159/200 [24:08<02:05,  3.06s/it]"
     ]
    },
    {
     "name": "stdout",
     "output_type": "stream",
     "text": [
      "[I 2024-04-10 11:52:34,484] Trial 158 finished with value: 72.41431858613174 and parameters: {'iterations': 494, 'depth': 8, 'learning_rate': 0.20976752549279418, 'l2_leaf_reg': 0.5492572720623583, 'bagging_temperature': 0.6131233292057685, 'random_strength': 0.0039230228671542685, 'border_count': 79}. Best is trial 141 with value: 51.31252080420077.\n"
     ]
    },
    {
     "name": "stderr",
     "output_type": "stream",
     "text": [
      "Best trial: 141. Best value: 51.3125:  80%|████████  | 160/200 [24:13<02:21,  3.55s/it]"
     ]
    },
    {
     "name": "stdout",
     "output_type": "stream",
     "text": [
      "[I 2024-04-10 11:52:39,179] Trial 159 finished with value: 67.74704532183785 and parameters: {'iterations': 855, 'depth': 9, 'learning_rate': 0.12570893498792907, 'l2_leaf_reg': 0.9541724722928261, 'bagging_temperature': 0.27543634483254703, 'random_strength': 0.6176838387310081, 'border_count': 59}. Best is trial 141 with value: 51.31252080420077.\n"
     ]
    },
    {
     "name": "stderr",
     "output_type": "stream",
     "text": [
      "Best trial: 141. Best value: 51.3125:  80%|████████  | 161/200 [24:15<02:09,  3.32s/it]"
     ]
    },
    {
     "name": "stdout",
     "output_type": "stream",
     "text": [
      "[I 2024-04-10 11:52:41,976] Trial 160 finished with value: 61.27132846189008 and parameters: {'iterations': 801, 'depth': 8, 'learning_rate': 0.1421832719462209, 'l2_leaf_reg': 0.355077714530533, 'bagging_temperature': 0.15415368391896356, 'random_strength': 0.005690641548521913, 'border_count': 87}. Best is trial 141 with value: 51.31252080420077.\n"
     ]
    },
    {
     "name": "stderr",
     "output_type": "stream",
     "text": [
      "Best trial: 141. Best value: 51.3125:  81%|████████  | 162/200 [24:19<02:05,  3.30s/it]"
     ]
    },
    {
     "name": "stdout",
     "output_type": "stream",
     "text": [
      "[I 2024-04-10 11:52:45,208] Trial 161 finished with value: 62.38258124465359 and parameters: {'iterations': 832, 'depth': 9, 'learning_rate': 0.18430691671883206, 'l2_leaf_reg': 0.503616075310176, 'bagging_temperature': 0.5463033249000587, 'random_strength': 0.007949113964726496, 'border_count': 128}. Best is trial 141 with value: 51.31252080420077.\n"
     ]
    },
    {
     "name": "stderr",
     "output_type": "stream",
     "text": [
      "Best trial: 141. Best value: 51.3125:  82%|████████▏ | 163/200 [24:35<04:26,  7.20s/it]"
     ]
    },
    {
     "name": "stdout",
     "output_type": "stream",
     "text": [
      "[I 2024-04-10 11:53:01,513] Trial 162 finished with value: 53.11220652777432 and parameters: {'iterations': 968, 'depth': 10, 'learning_rate': 0.1745245580997937, 'l2_leaf_reg': 0.20635286094310512, 'bagging_temperature': 0.6994267244140174, 'random_strength': 0.009041119329266009, 'border_count': 135}. Best is trial 141 with value: 51.31252080420077.\n"
     ]
    },
    {
     "name": "stderr",
     "output_type": "stream",
     "text": [
      "Best trial: 141. Best value: 51.3125:  82%|████████▏ | 164/200 [24:41<04:09,  6.94s/it]"
     ]
    },
    {
     "name": "stdout",
     "output_type": "stream",
     "text": [
      "[I 2024-04-10 11:53:07,850] Trial 163 finished with value: 54.94857760677088 and parameters: {'iterations': 973, 'depth': 9, 'learning_rate': 0.16474803347548533, 'l2_leaf_reg': 0.2095688569434661, 'bagging_temperature': 0.7432369872563875, 'random_strength': 0.014585406834441084, 'border_count': 135}. Best is trial 141 with value: 51.31252080420077.\n"
     ]
    },
    {
     "name": "stderr",
     "output_type": "stream",
     "text": [
      "Best trial: 141. Best value: 51.3125:  82%|████████▎ | 165/200 [24:50<04:24,  7.55s/it]"
     ]
    },
    {
     "name": "stdout",
     "output_type": "stream",
     "text": [
      "[I 2024-04-10 11:53:16,838] Trial 164 finished with value: 52.99120462915243 and parameters: {'iterations': 983, 'depth': 10, 'learning_rate': 0.17973428558146096, 'l2_leaf_reg': 0.12682235076185172, 'bagging_temperature': 1.0611402449430454, 'random_strength': 0.009588448196287493, 'border_count': 143}. Best is trial 141 with value: 51.31252080420077.\n"
     ]
    },
    {
     "name": "stderr",
     "output_type": "stream",
     "text": [
      "Best trial: 141. Best value: 51.3125:  83%|████████▎ | 166/200 [25:04<05:19,  9.38s/it]"
     ]
    },
    {
     "name": "stdout",
     "output_type": "stream",
     "text": [
      "[I 2024-04-10 11:53:30,493] Trial 165 finished with value: 52.75606647898061 and parameters: {'iterations': 947, 'depth': 10, 'learning_rate': 0.17599444277091292, 'l2_leaf_reg': 0.09657478892422784, 'bagging_temperature': 1.1036390638285862, 'random_strength': 0.009063580622996897, 'border_count': 144}. Best is trial 141 with value: 51.31252080420077.\n"
     ]
    },
    {
     "name": "stderr",
     "output_type": "stream",
     "text": [
      "Best trial: 141. Best value: 51.3125:  83%|████████▎ | 166/200 [25:16<05:19,  9.38s/it]"
     ]
    },
    {
     "name": "stdout",
     "output_type": "stream",
     "text": [
      "[I 2024-04-10 11:53:42,951] Trial 166 finished with value: 59.836396504842355 and parameters: {'iterations': 958, 'depth': 10, 'learning_rate': 0.1773606711152171, 'l2_leaf_reg': 0.13448120832109312, 'bagging_temperature': 2.068751087081792, 'random_strength': 0.006453989497516199, 'border_count': 146}. Best is trial 141 with value: 51.31252080420077.\n"
     ]
    },
    {
     "name": "stderr",
     "output_type": "stream",
     "text": [
      "Best trial: 141. Best value: 51.3125:  84%|████████▍ | 168/200 [25:29<05:51, 10.99s/it]"
     ]
    },
    {
     "name": "stdout",
     "output_type": "stream",
     "text": [
      "[I 2024-04-10 11:53:55,526] Trial 167 finished with value: 54.33679492540311 and parameters: {'iterations': 925, 'depth': 10, 'learning_rate': 0.20092842607454242, 'l2_leaf_reg': 0.11501137620964849, 'bagging_temperature': 1.2507100363200954, 'random_strength': 0.01157250210194241, 'border_count': 142}. Best is trial 141 with value: 51.31252080420077.\n"
     ]
    },
    {
     "name": "stderr",
     "output_type": "stream",
     "text": [
      "Best trial: 141. Best value: 51.3125:  84%|████████▍ | 169/200 [25:35<04:59,  9.66s/it]"
     ]
    },
    {
     "name": "stdout",
     "output_type": "stream",
     "text": [
      "[I 2024-04-10 11:54:02,105] Trial 168 finished with value: 58.284070898555626 and parameters: {'iterations': 982, 'depth': 10, 'learning_rate': 0.2340397157249756, 'l2_leaf_reg': 0.1055881371948988, 'bagging_temperature': 1.2326391091401439, 'random_strength': 0.01139113097531446, 'border_count': 140}. Best is trial 141 with value: 51.31252080420077.\n"
     ]
    },
    {
     "name": "stderr",
     "output_type": "stream",
     "text": [
      "Best trial: 141. Best value: 51.3125:  85%|████████▌ | 170/200 [25:47<05:09, 10.32s/it]"
     ]
    },
    {
     "name": "stdout",
     "output_type": "stream",
     "text": [
      "[I 2024-04-10 11:54:13,948] Trial 169 finished with value: 57.24213991776295 and parameters: {'iterations': 970, 'depth': 10, 'learning_rate': 0.20262453493027022, 'l2_leaf_reg': 0.08193127940380159, 'bagging_temperature': 1.5842420895805498, 'random_strength': 0.013372303207978022, 'border_count': 153}. Best is trial 141 with value: 51.31252080420077.\n"
     ]
    },
    {
     "name": "stderr",
     "output_type": "stream",
     "text": [
      "Best trial: 141. Best value: 51.3125:  86%|████████▌ | 171/200 [25:59<05:13, 10.80s/it]"
     ]
    },
    {
     "name": "stdout",
     "output_type": "stream",
     "text": [
      "[I 2024-04-10 11:54:25,876] Trial 170 finished with value: 55.8230931275188 and parameters: {'iterations': 936, 'depth': 10, 'learning_rate': 0.2629656115993971, 'l2_leaf_reg': 0.15079198248382772, 'bagging_temperature': 1.1209401258243126, 'random_strength': 0.01926039534095869, 'border_count': 143}. Best is trial 141 with value: 51.31252080420077.\n"
     ]
    },
    {
     "name": "stderr",
     "output_type": "stream",
     "text": [
      "Best trial: 141. Best value: 51.3125:  86%|████████▌ | 172/200 [26:14<05:34, 11.96s/it]"
     ]
    },
    {
     "name": "stdout",
     "output_type": "stream",
     "text": [
      "[I 2024-04-10 11:54:40,544] Trial 171 finished with value: 52.55662026344191 and parameters: {'iterations': 918, 'depth': 10, 'learning_rate': 0.15885036196399543, 'l2_leaf_reg': 0.09385108850818372, 'bagging_temperature': 0.9744285673181674, 'random_strength': 0.009698232185126984, 'border_count': 144}. Best is trial 141 with value: 51.31252080420077.\n"
     ]
    },
    {
     "name": "stderr",
     "output_type": "stream",
     "text": [
      "Best trial: 141. Best value: 51.3125:  86%|████████▋ | 173/200 [26:27<05:28, 12.17s/it]"
     ]
    },
    {
     "name": "stdout",
     "output_type": "stream",
     "text": [
      "[I 2024-04-10 11:54:53,192] Trial 172 finished with value: 60.37628355537266 and parameters: {'iterations': 917, 'depth': 10, 'learning_rate': 0.18686625662251707, 'l2_leaf_reg': 0.104455556527779, 'bagging_temperature': 1.0054857705945126, 'random_strength': 0.009873242973146375, 'border_count': 160}. Best is trial 141 with value: 51.31252080420077.\n"
     ]
    },
    {
     "name": "stderr",
     "output_type": "stream",
     "text": [
      "Best trial: 141. Best value: 51.3125:  87%|████████▋ | 174/200 [26:38<05:11, 11.98s/it]"
     ]
    },
    {
     "name": "stdout",
     "output_type": "stream",
     "text": [
      "[I 2024-04-10 11:55:04,744] Trial 173 finished with value: 54.888186780398215 and parameters: {'iterations': 989, 'depth': 10, 'learning_rate': 0.2149667061278368, 'l2_leaf_reg': 0.1813352448924433, 'bagging_temperature': 1.3988393540218886, 'random_strength': 0.017126226945184838, 'border_count': 144}. Best is trial 141 with value: 51.31252080420077.\n"
     ]
    },
    {
     "name": "stderr",
     "output_type": "stream",
     "text": [
      "Best trial: 141. Best value: 51.3125:  88%|████████▊ | 175/200 [26:44<04:17, 10.29s/it]"
     ]
    },
    {
     "name": "stdout",
     "output_type": "stream",
     "text": [
      "[I 2024-04-10 11:55:11,099] Trial 174 finished with value: 57.14882137277908 and parameters: {'iterations': 930, 'depth': 10, 'learning_rate': 0.19877960861360694, 'l2_leaf_reg': 0.08718167039521665, 'bagging_temperature': 0.9426443226931561, 'random_strength': 0.012194376950367767, 'border_count': 152}. Best is trial 141 with value: 51.31252080420077.\n"
     ]
    },
    {
     "name": "stderr",
     "output_type": "stream",
     "text": [
      "Best trial: 141. Best value: 51.3125:  88%|████████▊ | 176/200 [26:54<03:59,  9.97s/it]"
     ]
    },
    {
     "name": "stdout",
     "output_type": "stream",
     "text": [
      "[I 2024-04-10 11:55:20,323] Trial 175 finished with value: 52.78592864068129 and parameters: {'iterations': 945, 'depth': 10, 'learning_rate': 0.174045572810818, 'l2_leaf_reg': 0.14845759010261816, 'bagging_temperature': 0.8285366668090807, 'random_strength': 0.009240853434249904, 'border_count': 139}. Best is trial 141 with value: 51.31252080420077.\n"
     ]
    },
    {
     "name": "stderr",
     "output_type": "stream",
     "text": [
      "Best trial: 141. Best value: 51.3125:  88%|████████▊ | 177/200 [27:05<04:00, 10.44s/it]"
     ]
    },
    {
     "name": "stdout",
     "output_type": "stream",
     "text": [
      "[I 2024-04-10 11:55:31,841] Trial 176 finished with value: 55.477088730788964 and parameters: {'iterations': 968, 'depth': 10, 'learning_rate': 0.15422852222493946, 'l2_leaf_reg': 0.13843460479028982, 'bagging_temperature': 1.141958416285659, 'random_strength': 0.009316837693697752, 'border_count': 138}. Best is trial 141 with value: 51.31252080420077.\n"
     ]
    },
    {
     "name": "stderr",
     "output_type": "stream",
     "text": [
      "Best trial: 141. Best value: 51.3125:  89%|████████▉ | 178/200 [27:17<04:01, 10.97s/it]"
     ]
    },
    {
     "name": "stdout",
     "output_type": "stream",
     "text": [
      "[I 2024-04-10 11:55:44,063] Trial 177 finished with value: 51.54094165274478 and parameters: {'iterations': 949, 'depth': 10, 'learning_rate': 0.1732293465132837, 'l2_leaf_reg': 0.11690489267839453, 'bagging_temperature': 0.8699866687173671, 'random_strength': 0.011089422746862575, 'border_count': 148}. Best is trial 141 with value: 51.31252080420077.\n"
     ]
    },
    {
     "name": "stderr",
     "output_type": "stream",
     "text": [
      "Best trial: 141. Best value: 51.3125:  90%|████████▉ | 179/200 [27:25<03:32, 10.10s/it]"
     ]
    },
    {
     "name": "stdout",
     "output_type": "stream",
     "text": [
      "[I 2024-04-10 11:55:52,126] Trial 178 finished with value: 65.79183149278087 and parameters: {'iterations': 949, 'depth': 10, 'learning_rate': 0.1729470326824623, 'l2_leaf_reg': 0.12243177970048583, 'bagging_temperature': 2.423695057278779, 'random_strength': 0.007677314343198207, 'border_count': 156}. Best is trial 141 with value: 51.31252080420077.\n"
     ]
    },
    {
     "name": "stderr",
     "output_type": "stream",
     "text": [
      "Best trial: 141. Best value: 51.3125:  90%|█████████ | 180/200 [27:39<03:45, 11.28s/it]"
     ]
    },
    {
     "name": "stdout",
     "output_type": "stream",
     "text": [
      "[I 2024-04-10 11:56:06,146] Trial 179 finished with value: 55.852709925400454 and parameters: {'iterations': 900, 'depth': 10, 'learning_rate': 0.14274270615173779, 'l2_leaf_reg': 0.19973191832535397, 'bagging_temperature': 0.863608799390056, 'random_strength': 0.011081287268915557, 'border_count': 147}. Best is trial 141 with value: 51.31252080420077.\n"
     ]
    },
    {
     "name": "stderr",
     "output_type": "stream",
     "text": [
      "Best trial: 141. Best value: 51.3125:  90%|█████████ | 181/200 [27:53<03:47, 11.97s/it]"
     ]
    },
    {
     "name": "stdout",
     "output_type": "stream",
     "text": [
      "[I 2024-04-10 11:56:19,739] Trial 180 finished with value: 55.2275516541504 and parameters: {'iterations': 921, 'depth': 10, 'learning_rate': 0.16209349649952556, 'l2_leaf_reg': 0.1056038870023483, 'bagging_temperature': 1.450602100929871, 'random_strength': 0.009526244486250182, 'border_count': 135}. Best is trial 141 with value: 51.31252080420077.\n"
     ]
    },
    {
     "name": "stderr",
     "output_type": "stream",
     "text": [
      "Best trial: 141. Best value: 51.3125:  91%|█████████ | 182/200 [28:03<03:25, 11.43s/it]"
     ]
    },
    {
     "name": "stdout",
     "output_type": "stream",
     "text": [
      "[I 2024-04-10 11:56:29,914] Trial 181 finished with value: 53.11157756098809 and parameters: {'iterations': 941, 'depth': 10, 'learning_rate': 0.18313666605307305, 'l2_leaf_reg': 0.16761697084942412, 'bagging_temperature': 0.8794337095966497, 'random_strength': 0.014891338504129837, 'border_count': 150}. Best is trial 141 with value: 51.31252080420077.\n"
     ]
    },
    {
     "name": "stderr",
     "output_type": "stream",
     "text": [
      "Best trial: 141. Best value: 51.3125:  92%|█████████▏| 183/200 [28:12<02:58, 10.48s/it]"
     ]
    },
    {
     "name": "stdout",
     "output_type": "stream",
     "text": [
      "[I 2024-04-10 11:56:38,186] Trial 182 finished with value: 54.91562780200192 and parameters: {'iterations': 956, 'depth': 10, 'learning_rate': 0.17792268644537346, 'l2_leaf_reg': 0.12883988006958175, 'bagging_temperature': 0.8533871524240779, 'random_strength': 0.013458167844522823, 'border_count': 152}. Best is trial 141 with value: 51.31252080420077.\n"
     ]
    },
    {
     "name": "stderr",
     "output_type": "stream",
     "text": [
      "Best trial: 141. Best value: 51.3125:  92%|█████████▏| 184/200 [28:25<03:01, 11.34s/it]"
     ]
    },
    {
     "name": "stdout",
     "output_type": "stream",
     "text": [
      "[I 2024-04-10 11:56:51,516] Trial 183 finished with value: 55.87699335321684 and parameters: {'iterations': 939, 'depth': 10, 'learning_rate': 0.15051114025276238, 'l2_leaf_reg': 0.16799357643493432, 'bagging_temperature': 1.098845386116944, 'random_strength': 0.007377126037036713, 'border_count': 171}. Best is trial 141 with value: 51.31252080420077.\n"
     ]
    },
    {
     "name": "stderr",
     "output_type": "stream",
     "text": [
      "Best trial: 141. Best value: 51.3125:  92%|█████████▎| 185/200 [28:34<02:41, 10.76s/it]"
     ]
    },
    {
     "name": "stdout",
     "output_type": "stream",
     "text": [
      "[I 2024-04-10 11:57:00,941] Trial 184 finished with value: 57.46400296360868 and parameters: {'iterations': 968, 'depth': 10, 'learning_rate': 0.22090655424342145, 'l2_leaf_reg': 0.06734888274137069, 'bagging_temperature': 1.298908770434201, 'random_strength': 0.011333185525955403, 'border_count': 150}. Best is trial 141 with value: 51.31252080420077.\n"
     ]
    },
    {
     "name": "stderr",
     "output_type": "stream",
     "text": [
      "Best trial: 141. Best value: 51.3125:  93%|█████████▎| 186/200 [28:43<02:22, 10.21s/it]"
     ]
    },
    {
     "name": "stdout",
     "output_type": "stream",
     "text": [
      "[I 2024-04-10 11:57:09,850] Trial 185 finished with value: 55.38040555087431 and parameters: {'iterations': 977, 'depth': 10, 'learning_rate': 0.17223487678142507, 'l2_leaf_reg': 0.09122413292624089, 'bagging_temperature': 0.8435819054168264, 'random_strength': 0.014306625609852781, 'border_count': 142}. Best is trial 141 with value: 51.31252080420077.\n"
     ]
    },
    {
     "name": "stderr",
     "output_type": "stream",
     "text": [
      "Best trial: 141. Best value: 51.3125:  94%|█████████▎| 187/200 [28:52<02:05,  9.65s/it]"
     ]
    },
    {
     "name": "stdout",
     "output_type": "stream",
     "text": [
      "[I 2024-04-10 11:57:18,215] Trial 186 finished with value: 58.2089531842892 and parameters: {'iterations': 919, 'depth': 10, 'learning_rate': 0.1877486449212066, 'l2_leaf_reg': 0.24391073308391847, 'bagging_temperature': 1.0333953542315795, 'random_strength': 0.009170916430778409, 'border_count': 165}. Best is trial 141 with value: 51.31252080420077.\n"
     ]
    },
    {
     "name": "stderr",
     "output_type": "stream",
     "text": [
      "Best trial: 141. Best value: 51.3125:  94%|█████████▍| 188/200 [28:59<01:48,  9.06s/it]"
     ]
    },
    {
     "name": "stdout",
     "output_type": "stream",
     "text": [
      "[I 2024-04-10 11:57:25,887] Trial 187 finished with value: 53.19000952359527 and parameters: {'iterations': 897, 'depth': 10, 'learning_rate': 0.20495554831131502, 'l2_leaf_reg': 0.15983396052237248, 'bagging_temperature': 0.7298090395442485, 'random_strength': 0.016175881215951145, 'border_count': 146}. Best is trial 141 with value: 51.31252080420077.\n"
     ]
    },
    {
     "name": "stderr",
     "output_type": "stream",
     "text": [
      "Best trial: 141. Best value: 51.3125:  94%|█████████▍| 189/200 [29:09<01:42,  9.32s/it]"
     ]
    },
    {
     "name": "stdout",
     "output_type": "stream",
     "text": [
      "[I 2024-04-10 11:57:35,823] Trial 188 finished with value: 55.68785954720201 and parameters: {'iterations': 887, 'depth': 10, 'learning_rate': 0.20573920703808418, 'l2_leaf_reg': 0.15373342598172382, 'bagging_temperature': 1.774189967064403, 'random_strength': 0.017552625291640474, 'border_count': 146}. Best is trial 141 with value: 51.31252080420077.\n"
     ]
    },
    {
     "name": "stderr",
     "output_type": "stream",
     "text": [
      "Best trial: 141. Best value: 51.3125:  95%|█████████▌| 190/200 [29:17<01:27,  8.73s/it]"
     ]
    },
    {
     "name": "stdout",
     "output_type": "stream",
     "text": [
      "[I 2024-04-10 11:57:43,177] Trial 189 finished with value: 60.315403659703726 and parameters: {'iterations': 929, 'depth': 10, 'learning_rate': 0.22756894335926817, 'l2_leaf_reg': 0.12039003877683296, 'bagging_temperature': 0.7451108012126867, 'random_strength': 0.023175340184451994, 'border_count': 156}. Best is trial 141 with value: 51.31252080420077.\n"
     ]
    },
    {
     "name": "stderr",
     "output_type": "stream",
     "text": [
      "Best trial: 141. Best value: 51.3125:  96%|█████████▌| 191/200 [29:26<01:19,  8.84s/it]"
     ]
    },
    {
     "name": "stdout",
     "output_type": "stream",
     "text": [
      "[I 2024-04-10 11:57:52,283] Trial 190 finished with value: 58.520917435681845 and parameters: {'iterations': 949, 'depth': 10, 'learning_rate': 0.2520646944046382, 'l2_leaf_reg': 0.1963702194390709, 'bagging_temperature': 1.2527608890981452, 'random_strength': 0.0017419655024134464, 'border_count': 141}. Best is trial 141 with value: 51.31252080420077.\n"
     ]
    },
    {
     "name": "stderr",
     "output_type": "stream",
     "text": [
      "Best trial: 141. Best value: 51.3125:  96%|█████████▌| 192/200 [29:36<01:15,  9.42s/it]"
     ]
    },
    {
     "name": "stdout",
     "output_type": "stream",
     "text": [
      "[I 2024-04-10 11:58:03,055] Trial 191 finished with value: 54.668792219688385 and parameters: {'iterations': 899, 'depth': 10, 'learning_rate': 0.18242306453219354, 'l2_leaf_reg': 0.09859012826314084, 'bagging_temperature': 0.6362140260049177, 'random_strength': 0.010760872589033847, 'border_count': 148}. Best is trial 141 with value: 51.31252080420077.\n"
     ]
    },
    {
     "name": "stderr",
     "output_type": "stream",
     "text": [
      "Best trial: 141. Best value: 51.3125:  96%|█████████▋| 193/200 [29:49<01:12, 10.38s/it]"
     ]
    },
    {
     "name": "stdout",
     "output_type": "stream",
     "text": [
      "[I 2024-04-10 11:58:15,655] Trial 192 finished with value: 55.56061635573086 and parameters: {'iterations': 995, 'depth': 10, 'learning_rate': 0.16185421239191836, 'l2_leaf_reg': 0.23672065271643614, 'bagging_temperature': 0.9150167082427291, 'random_strength': 0.012318692393041142, 'border_count': 133}. Best is trial 141 with value: 51.31252080420077.\n"
     ]
    },
    {
     "name": "stderr",
     "output_type": "stream",
     "text": [
      "Best trial: 141. Best value: 51.3125:  97%|█████████▋| 194/200 [29:58<00:59,  9.85s/it]"
     ]
    },
    {
     "name": "stdout",
     "output_type": "stream",
     "text": [
      "[I 2024-04-10 11:58:24,266] Trial 193 finished with value: 55.751647601161054 and parameters: {'iterations': 914, 'depth': 10, 'learning_rate': 0.19782705398440503, 'l2_leaf_reg': 0.07441515522781451, 'bagging_temperature': 0.736875055885463, 'random_strength': 0.015499518083348592, 'border_count': 138}. Best is trial 141 with value: 51.31252080420077.\n"
     ]
    },
    {
     "name": "stderr",
     "output_type": "stream",
     "text": [
      "Best trial: 141. Best value: 51.3125:  98%|█████████▊| 195/200 [30:10<00:52, 10.59s/it]"
     ]
    },
    {
     "name": "stdout",
     "output_type": "stream",
     "text": [
      "[I 2024-04-10 11:58:36,582] Trial 194 finished with value: 53.5083971140101 and parameters: {'iterations': 959, 'depth': 10, 'learning_rate': 0.17414178894098828, 'l2_leaf_reg': 0.16239021398652767, 'bagging_temperature': 0.6015040253356558, 'random_strength': 0.008677148243935973, 'border_count': 143}. Best is trial 141 with value: 51.31252080420077.\n"
     ]
    },
    {
     "name": "stderr",
     "output_type": "stream",
     "text": [
      "Best trial: 141. Best value: 51.3125:  98%|█████████▊| 196/200 [30:24<00:46, 11.70s/it]"
     ]
    },
    {
     "name": "stdout",
     "output_type": "stream",
     "text": [
      "[I 2024-04-10 11:58:50,888] Trial 195 finished with value: 53.126497062242976 and parameters: {'iterations': 960, 'depth': 10, 'learning_rate': 0.17804617626739908, 'l2_leaf_reg': 0.1749990688389109, 'bagging_temperature': 1.0488648098567015, 'random_strength': 0.008375046063144298, 'border_count': 144}. Best is trial 141 with value: 51.31252080420077.\n"
     ]
    },
    {
     "name": "stderr",
     "output_type": "stream",
     "text": [
      "Best trial: 141. Best value: 51.3125:  98%|█████████▊| 197/200 [30:33<00:32, 10.74s/it]"
     ]
    },
    {
     "name": "stdout",
     "output_type": "stream",
     "text": [
      "[I 2024-04-10 11:58:59,367] Trial 196 finished with value: 55.989725182720306 and parameters: {'iterations': 946, 'depth': 10, 'learning_rate': 0.17777365160183858, 'l2_leaf_reg': 0.15864263170976728, 'bagging_temperature': 1.0514299578860065, 'random_strength': 0.007047285436087545, 'border_count': 160}. Best is trial 141 with value: 51.31252080420077.\n"
     ]
    },
    {
     "name": "stderr",
     "output_type": "stream",
     "text": [
      "Best trial: 141. Best value: 51.3125:  99%|█████████▉| 198/200 [30:44<00:21, 10.85s/it]"
     ]
    },
    {
     "name": "stdout",
     "output_type": "stream",
     "text": [
      "[I 2024-04-10 11:59:10,482] Trial 197 finished with value: 53.25799062123842 and parameters: {'iterations': 960, 'depth': 10, 'learning_rate': 0.20437417871929178, 'l2_leaf_reg': 0.05006426754939149, 'bagging_temperature': 0.8896477841069015, 'random_strength': 0.0048057643248012255, 'border_count': 143}. Best is trial 141 with value: 51.31252080420077.\n"
     ]
    },
    {
     "name": "stderr",
     "output_type": "stream",
     "text": [
      "Best trial: 141. Best value: 51.3125: 100%|█████████▉| 199/200 [30:52<00:09,  9.96s/it]"
     ]
    },
    {
     "name": "stdout",
     "output_type": "stream",
     "text": [
      "[I 2024-04-10 11:59:18,355] Trial 198 finished with value: 59.14012759976515 and parameters: {'iterations': 985, 'depth': 10, 'learning_rate': 0.2162445772989242, 'l2_leaf_reg': 0.0427652186642005, 'bagging_temperature': 1.5048663767233639, 'random_strength': 0.005156925605402036, 'border_count': 144}. Best is trial 141 with value: 51.31252080420077.\n"
     ]
    },
    {
     "name": "stderr",
     "output_type": "stream",
     "text": [
      "Best trial: 141. Best value: 51.3125: 100%|██████████| 200/200 [30:59<00:00,  9.30s/it]"
     ]
    },
    {
     "name": "stdout",
     "output_type": "stream",
     "text": [
      "[I 2024-04-10 11:59:25,994] Trial 199 finished with value: 57.1205734398003 and parameters: {'iterations': 959, 'depth': 10, 'learning_rate': 0.18651944643929982, 'l2_leaf_reg': 0.05110282183891605, 'bagging_temperature': 0.9026579414044735, 'random_strength': 0.004558239141704731, 'border_count': 148}. Best is trial 141 with value: 51.31252080420077.\n"
     ]
    },
    {
     "name": "stderr",
     "output_type": "stream",
     "text": [
      "\n"
     ]
    }
   ],
   "source": [
    "study = optuna.create_study(direction='minimize')\n",
    "study.optimize(objective, n_trials=200, show_progress_bar=True)"
   ]
  },
  {
   "cell_type": "code",
   "execution_count": 41,
   "id": "3f1b4ec1-7343-4afe-8b9a-4c02bae49671",
   "metadata": {
    "execution": {
     "iopub.execute_input": "2024-04-10T12:00:07.130512Z",
     "iopub.status.busy": "2024-04-10T12:00:07.129581Z",
     "iopub.status.idle": "2024-04-10T12:00:07.154052Z",
     "shell.execute_reply": "2024-04-10T12:00:07.152935Z",
     "shell.execute_reply.started": "2024-04-10T12:00:07.130471Z"
    },
    "tags": []
   },
   "outputs": [
    {
     "data": {
      "text/plain": [
       "{'iterations': 869,\n",
       " 'depth': 8,\n",
       " 'learning_rate': 0.169756878040338,\n",
       " 'l2_leaf_reg': 0.49154392273450753,\n",
       " 'bagging_temperature': 0.728985106105929,\n",
       " 'random_strength': 0.009948479325202814,\n",
       " 'border_count': 135}"
      ]
     },
     "execution_count": 41,
     "metadata": {},
     "output_type": "execute_result"
    }
   ],
   "source": [
    "best_params = study.best_params\n",
    "best_params"
   ]
  },
  {
   "cell_type": "code",
   "execution_count": 61,
   "id": "f0338706-70ed-4714-bcdd-6c7f245c5689",
   "metadata": {
    "execution": {
     "iopub.execute_input": "2024-04-10T12:06:23.713692Z",
     "iopub.status.busy": "2024-04-10T12:06:23.712711Z",
     "iopub.status.idle": "2024-04-10T12:06:35.956216Z",
     "shell.execute_reply": "2024-04-10T12:06:35.955058Z",
     "shell.execute_reply.started": "2024-04-10T12:06:23.713655Z"
    },
    "scrolled": true,
    "tags": []
   },
   "outputs": [
    {
     "name": "stdout",
     "output_type": "stream",
     "text": [
      "0:\tlearn: 468.0738015\ttotal: 18.1ms\tremaining: 15.7s\n",
      "1:\tlearn: 391.6813721\ttotal: 30.9ms\tremaining: 13.4s\n",
      "2:\tlearn: 328.0072502\ttotal: 44.1ms\tremaining: 12.7s\n",
      "3:\tlearn: 275.0863008\ttotal: 56.5ms\tremaining: 12.2s\n",
      "4:\tlearn: 230.9917545\ttotal: 69.1ms\tremaining: 11.9s\n",
      "5:\tlearn: 194.4829371\ttotal: 81.8ms\tremaining: 11.8s\n",
      "6:\tlearn: 164.5180397\ttotal: 94.3ms\tremaining: 11.6s\n",
      "7:\tlearn: 139.4860268\ttotal: 107ms\tremaining: 11.6s\n",
      "8:\tlearn: 118.9615927\ttotal: 120ms\tremaining: 11.5s\n",
      "9:\tlearn: 102.2844599\ttotal: 133ms\tremaining: 11.4s\n",
      "10:\tlearn: 88.6068461\ttotal: 146ms\tremaining: 11.4s\n",
      "11:\tlearn: 77.4794813\ttotal: 159ms\tremaining: 11.3s\n",
      "12:\tlearn: 68.5786386\ttotal: 172ms\tremaining: 11.3s\n",
      "13:\tlearn: 60.9529118\ttotal: 185ms\tremaining: 11.3s\n",
      "14:\tlearn: 54.6962030\ttotal: 199ms\tremaining: 11.3s\n",
      "15:\tlearn: 49.7748473\ttotal: 212ms\tremaining: 11.3s\n",
      "16:\tlearn: 45.4654191\ttotal: 229ms\tremaining: 11.5s\n",
      "17:\tlearn: 42.1371800\ttotal: 242ms\tremaining: 11.4s\n",
      "18:\tlearn: 39.3163944\ttotal: 254ms\tremaining: 11.4s\n",
      "19:\tlearn: 36.9863236\ttotal: 267ms\tremaining: 11.3s\n",
      "20:\tlearn: 35.0780449\ttotal: 280ms\tremaining: 11.3s\n",
      "21:\tlearn: 33.4153432\ttotal: 293ms\tremaining: 11.3s\n",
      "22:\tlearn: 32.0017115\ttotal: 306ms\tremaining: 11.3s\n",
      "23:\tlearn: 30.6339946\ttotal: 320ms\tremaining: 11.3s\n",
      "24:\tlearn: 29.5456941\ttotal: 333ms\tremaining: 11.2s\n",
      "25:\tlearn: 28.2676856\ttotal: 346ms\tremaining: 11.2s\n",
      "26:\tlearn: 27.1204596\ttotal: 359ms\tremaining: 11.2s\n",
      "27:\tlearn: 26.3057177\ttotal: 372ms\tremaining: 11.2s\n",
      "28:\tlearn: 25.5602303\ttotal: 386ms\tremaining: 11.2s\n",
      "29:\tlearn: 24.9090283\ttotal: 400ms\tremaining: 11.2s\n",
      "30:\tlearn: 24.0158723\ttotal: 413ms\tremaining: 11.2s\n",
      "31:\tlearn: 23.4870200\ttotal: 426ms\tremaining: 11.2s\n",
      "32:\tlearn: 22.6653810\ttotal: 440ms\tremaining: 11.1s\n",
      "33:\tlearn: 22.2522535\ttotal: 453ms\tremaining: 11.1s\n",
      "34:\tlearn: 21.8035268\ttotal: 466ms\tremaining: 11.1s\n",
      "35:\tlearn: 21.1093217\ttotal: 479ms\tremaining: 11.1s\n",
      "36:\tlearn: 20.4924201\ttotal: 492ms\tremaining: 11.1s\n",
      "37:\tlearn: 19.8794367\ttotal: 506ms\tremaining: 11.1s\n",
      "38:\tlearn: 19.6658613\ttotal: 519ms\tremaining: 11s\n",
      "39:\tlearn: 19.0406558\ttotal: 532ms\tremaining: 11s\n",
      "40:\tlearn: 18.6570596\ttotal: 545ms\tremaining: 11s\n",
      "41:\tlearn: 17.8456036\ttotal: 558ms\tremaining: 11s\n",
      "42:\tlearn: 17.1774567\ttotal: 572ms\tremaining: 11s\n",
      "43:\tlearn: 16.5076919\ttotal: 586ms\tremaining: 11s\n",
      "44:\tlearn: 16.1232093\ttotal: 599ms\tremaining: 11s\n",
      "45:\tlearn: 15.6222666\ttotal: 612ms\tremaining: 10.9s\n",
      "46:\tlearn: 15.1513355\ttotal: 625ms\tremaining: 10.9s\n",
      "47:\tlearn: 14.6553203\ttotal: 638ms\tremaining: 10.9s\n",
      "48:\tlearn: 14.1868183\ttotal: 652ms\tremaining: 10.9s\n",
      "49:\tlearn: 13.8612691\ttotal: 664ms\tremaining: 10.9s\n",
      "50:\tlearn: 13.4335940\ttotal: 677ms\tremaining: 10.9s\n",
      "51:\tlearn: 13.0837300\ttotal: 689ms\tremaining: 10.8s\n",
      "52:\tlearn: 12.7133816\ttotal: 703ms\tremaining: 10.8s\n",
      "53:\tlearn: 12.4582816\ttotal: 715ms\tremaining: 10.8s\n",
      "54:\tlearn: 12.0866329\ttotal: 728ms\tremaining: 10.8s\n",
      "55:\tlearn: 11.7179980\ttotal: 740ms\tremaining: 10.8s\n",
      "56:\tlearn: 11.2505143\ttotal: 753ms\tremaining: 10.7s\n",
      "57:\tlearn: 10.9607767\ttotal: 766ms\tremaining: 10.7s\n",
      "58:\tlearn: 10.6703923\ttotal: 780ms\tremaining: 10.7s\n",
      "59:\tlearn: 10.2307591\ttotal: 796ms\tremaining: 10.7s\n",
      "60:\tlearn: 9.9533044\ttotal: 811ms\tremaining: 10.7s\n",
      "61:\tlearn: 9.5952058\ttotal: 824ms\tremaining: 10.7s\n",
      "62:\tlearn: 9.3206535\ttotal: 836ms\tremaining: 10.7s\n",
      "63:\tlearn: 9.0331841\ttotal: 849ms\tremaining: 10.7s\n",
      "64:\tlearn: 8.8442547\ttotal: 861ms\tremaining: 10.7s\n",
      "65:\tlearn: 8.5524131\ttotal: 874ms\tremaining: 10.6s\n",
      "66:\tlearn: 8.2740837\ttotal: 887ms\tremaining: 10.6s\n",
      "67:\tlearn: 8.0466571\ttotal: 900ms\tremaining: 10.6s\n",
      "68:\tlearn: 7.7595425\ttotal: 913ms\tremaining: 10.6s\n",
      "69:\tlearn: 7.4861336\ttotal: 926ms\tremaining: 10.6s\n",
      "70:\tlearn: 7.2061089\ttotal: 940ms\tremaining: 10.6s\n",
      "71:\tlearn: 6.9822928\ttotal: 953ms\tremaining: 10.5s\n",
      "72:\tlearn: 6.8105818\ttotal: 966ms\tremaining: 10.5s\n",
      "73:\tlearn: 6.4942027\ttotal: 980ms\tremaining: 10.5s\n",
      "74:\tlearn: 6.3305219\ttotal: 993ms\tremaining: 10.5s\n",
      "75:\tlearn: 6.1361044\ttotal: 1.01s\tremaining: 10.5s\n",
      "76:\tlearn: 5.9450146\ttotal: 1.02s\tremaining: 10.5s\n",
      "77:\tlearn: 5.7267962\ttotal: 1.03s\tremaining: 10.5s\n",
      "78:\tlearn: 5.5969968\ttotal: 1.05s\tremaining: 10.5s\n",
      "79:\tlearn: 5.3969003\ttotal: 1.06s\tremaining: 10.5s\n",
      "80:\tlearn: 5.2532533\ttotal: 1.07s\tremaining: 10.5s\n",
      "81:\tlearn: 5.0108005\ttotal: 1.09s\tremaining: 10.4s\n",
      "82:\tlearn: 4.8262105\ttotal: 1.1s\tremaining: 10.4s\n",
      "83:\tlearn: 4.7168670\ttotal: 1.11s\tremaining: 10.4s\n",
      "84:\tlearn: 4.5808581\ttotal: 1.13s\tremaining: 10.4s\n",
      "85:\tlearn: 4.4192823\ttotal: 1.14s\tremaining: 10.4s\n",
      "86:\tlearn: 4.3263722\ttotal: 1.15s\tremaining: 10.4s\n",
      "87:\tlearn: 4.2201295\ttotal: 1.17s\tremaining: 10.4s\n",
      "88:\tlearn: 4.0484075\ttotal: 1.18s\tremaining: 10.4s\n",
      "89:\tlearn: 3.9477611\ttotal: 1.19s\tremaining: 10.3s\n",
      "90:\tlearn: 3.8482492\ttotal: 1.21s\tremaining: 10.3s\n",
      "91:\tlearn: 3.7753110\ttotal: 1.22s\tremaining: 10.3s\n",
      "92:\tlearn: 3.5955223\ttotal: 1.23s\tremaining: 10.3s\n",
      "93:\tlearn: 3.5362369\ttotal: 1.25s\tremaining: 10.3s\n",
      "94:\tlearn: 3.3787036\ttotal: 1.26s\tremaining: 10.3s\n",
      "95:\tlearn: 3.2823389\ttotal: 1.27s\tremaining: 10.3s\n",
      "96:\tlearn: 3.1771073\ttotal: 1.29s\tremaining: 10.2s\n",
      "97:\tlearn: 3.1061665\ttotal: 1.3s\tremaining: 10.2s\n",
      "98:\tlearn: 2.9834326\ttotal: 1.31s\tremaining: 10.2s\n",
      "99:\tlearn: 2.9020145\ttotal: 1.32s\tremaining: 10.2s\n",
      "100:\tlearn: 2.8048295\ttotal: 1.34s\tremaining: 10.2s\n",
      "101:\tlearn: 2.6791596\ttotal: 1.35s\tremaining: 10.2s\n",
      "102:\tlearn: 2.6231324\ttotal: 1.37s\tremaining: 10.2s\n",
      "103:\tlearn: 2.5479150\ttotal: 1.38s\tremaining: 10.2s\n",
      "104:\tlearn: 2.4809972\ttotal: 1.4s\tremaining: 10.2s\n",
      "105:\tlearn: 2.3979951\ttotal: 1.41s\tremaining: 10.1s\n",
      "106:\tlearn: 2.3262145\ttotal: 1.42s\tremaining: 10.1s\n",
      "107:\tlearn: 2.2572687\ttotal: 1.44s\tremaining: 10.1s\n",
      "108:\tlearn: 2.2038945\ttotal: 1.45s\tremaining: 10.1s\n",
      "109:\tlearn: 2.1516649\ttotal: 1.46s\tremaining: 10.1s\n",
      "110:\tlearn: 2.0923318\ttotal: 1.48s\tremaining: 10.1s\n",
      "111:\tlearn: 2.0170945\ttotal: 1.49s\tremaining: 10.1s\n",
      "112:\tlearn: 1.9740532\ttotal: 1.5s\tremaining: 10s\n",
      "113:\tlearn: 1.8986759\ttotal: 1.51s\tremaining: 10s\n",
      "114:\tlearn: 1.8343252\ttotal: 1.53s\tremaining: 10s\n",
      "115:\tlearn: 1.7925316\ttotal: 1.54s\tremaining: 10s\n",
      "116:\tlearn: 1.7315386\ttotal: 1.55s\tremaining: 9.98s\n",
      "117:\tlearn: 1.6920154\ttotal: 1.56s\tremaining: 9.97s\n",
      "118:\tlearn: 1.6343821\ttotal: 1.58s\tremaining: 9.95s\n",
      "119:\tlearn: 1.5899257\ttotal: 1.59s\tremaining: 9.94s\n",
      "120:\tlearn: 1.5589416\ttotal: 1.61s\tremaining: 9.94s\n",
      "121:\tlearn: 1.5159844\ttotal: 1.62s\tremaining: 9.93s\n",
      "122:\tlearn: 1.4656018\ttotal: 1.64s\tremaining: 9.92s\n",
      "123:\tlearn: 1.4218303\ttotal: 1.65s\tremaining: 9.9s\n",
      "124:\tlearn: 1.3613296\ttotal: 1.66s\tremaining: 9.89s\n",
      "125:\tlearn: 1.3438710\ttotal: 1.67s\tremaining: 9.87s\n",
      "126:\tlearn: 1.2869334\ttotal: 1.69s\tremaining: 9.85s\n",
      "127:\tlearn: 1.2431626\ttotal: 1.7s\tremaining: 9.84s\n",
      "128:\tlearn: 1.2086216\ttotal: 1.71s\tremaining: 9.83s\n",
      "129:\tlearn: 1.1828574\ttotal: 1.73s\tremaining: 9.81s\n",
      "130:\tlearn: 1.1541307\ttotal: 1.74s\tremaining: 9.8s\n",
      "131:\tlearn: 1.1200354\ttotal: 1.75s\tremaining: 9.78s\n",
      "132:\tlearn: 1.0980563\ttotal: 1.76s\tremaining: 9.77s\n",
      "133:\tlearn: 1.0696611\ttotal: 1.78s\tremaining: 9.75s\n",
      "134:\tlearn: 1.0269622\ttotal: 1.79s\tremaining: 9.73s\n",
      "135:\tlearn: 1.0121811\ttotal: 1.8s\tremaining: 9.72s\n",
      "136:\tlearn: 0.9906925\ttotal: 1.82s\tremaining: 9.71s\n",
      "137:\tlearn: 0.9768112\ttotal: 1.83s\tremaining: 9.7s\n",
      "138:\tlearn: 0.9466958\ttotal: 1.84s\tremaining: 9.69s\n",
      "139:\tlearn: 0.9145282\ttotal: 1.86s\tremaining: 9.67s\n",
      "140:\tlearn: 0.8920024\ttotal: 1.87s\tremaining: 9.66s\n",
      "141:\tlearn: 0.8684703\ttotal: 1.88s\tremaining: 9.64s\n",
      "142:\tlearn: 0.8331611\ttotal: 1.9s\tremaining: 9.63s\n",
      "143:\tlearn: 0.7931513\ttotal: 1.91s\tremaining: 9.62s\n",
      "144:\tlearn: 0.7676283\ttotal: 1.92s\tremaining: 9.6s\n",
      "145:\tlearn: 0.7531248\ttotal: 1.94s\tremaining: 9.59s\n",
      "146:\tlearn: 0.7352062\ttotal: 1.95s\tremaining: 9.57s\n",
      "147:\tlearn: 0.7218136\ttotal: 1.96s\tremaining: 9.57s\n",
      "148:\tlearn: 0.7077313\ttotal: 1.98s\tremaining: 9.55s\n",
      "149:\tlearn: 0.6850494\ttotal: 1.99s\tremaining: 9.54s\n",
      "150:\tlearn: 0.6720670\ttotal: 2s\tremaining: 9.53s\n",
      "151:\tlearn: 0.6551875\ttotal: 2.02s\tremaining: 9.53s\n",
      "152:\tlearn: 0.6335418\ttotal: 2.04s\tremaining: 9.53s\n",
      "153:\tlearn: 0.6093026\ttotal: 2.05s\tremaining: 9.52s\n",
      "154:\tlearn: 0.5925963\ttotal: 2.06s\tremaining: 9.51s\n",
      "155:\tlearn: 0.5844318\ttotal: 2.08s\tremaining: 9.5s\n",
      "156:\tlearn: 0.5708274\ttotal: 2.09s\tremaining: 9.48s\n",
      "157:\tlearn: 0.5590058\ttotal: 2.1s\tremaining: 9.46s\n",
      "158:\tlearn: 0.5440319\ttotal: 2.12s\tremaining: 9.45s\n",
      "159:\tlearn: 0.5231065\ttotal: 2.13s\tremaining: 9.43s\n",
      "160:\tlearn: 0.5053241\ttotal: 2.14s\tremaining: 9.42s\n",
      "161:\tlearn: 0.4913613\ttotal: 2.16s\tremaining: 9.41s\n",
      "162:\tlearn: 0.4816714\ttotal: 2.17s\tremaining: 9.4s\n",
      "163:\tlearn: 0.4678808\ttotal: 2.18s\tremaining: 9.38s\n",
      "164:\tlearn: 0.4581775\ttotal: 2.2s\tremaining: 9.37s\n",
      "165:\tlearn: 0.4464493\ttotal: 2.21s\tremaining: 9.36s\n",
      "166:\tlearn: 0.4331187\ttotal: 2.22s\tremaining: 9.34s\n",
      "167:\tlearn: 0.4263400\ttotal: 2.23s\tremaining: 9.33s\n",
      "168:\tlearn: 0.4154020\ttotal: 2.25s\tremaining: 9.31s\n",
      "169:\tlearn: 0.4021991\ttotal: 2.26s\tremaining: 9.3s\n",
      "170:\tlearn: 0.3891249\ttotal: 2.27s\tremaining: 9.28s\n",
      "171:\tlearn: 0.3792887\ttotal: 2.29s\tremaining: 9.27s\n",
      "172:\tlearn: 0.3722959\ttotal: 2.3s\tremaining: 9.25s\n",
      "173:\tlearn: 0.3619183\ttotal: 2.31s\tremaining: 9.24s\n",
      "174:\tlearn: 0.3504195\ttotal: 2.33s\tremaining: 9.22s\n",
      "175:\tlearn: 0.3370976\ttotal: 2.34s\tremaining: 9.21s\n",
      "176:\tlearn: 0.3275807\ttotal: 2.35s\tremaining: 9.2s\n",
      "177:\tlearn: 0.3156473\ttotal: 2.37s\tremaining: 9.19s\n",
      "178:\tlearn: 0.3094925\ttotal: 2.38s\tremaining: 9.18s\n",
      "179:\tlearn: 0.3003774\ttotal: 2.39s\tremaining: 9.16s\n",
      "180:\tlearn: 0.2908946\ttotal: 2.41s\tremaining: 9.15s\n",
      "181:\tlearn: 0.2825011\ttotal: 2.42s\tremaining: 9.13s\n",
      "182:\tlearn: 0.2774730\ttotal: 2.43s\tremaining: 9.12s\n",
      "183:\tlearn: 0.2686372\ttotal: 2.45s\tremaining: 9.11s\n",
      "184:\tlearn: 0.2623073\ttotal: 2.46s\tremaining: 9.09s\n",
      "185:\tlearn: 0.2579626\ttotal: 2.47s\tremaining: 9.08s\n",
      "186:\tlearn: 0.2510800\ttotal: 2.48s\tremaining: 9.06s\n",
      "187:\tlearn: 0.2450915\ttotal: 2.5s\tremaining: 9.05s\n",
      "188:\tlearn: 0.2359891\ttotal: 2.51s\tremaining: 9.04s\n",
      "189:\tlearn: 0.2334822\ttotal: 2.52s\tremaining: 9.02s\n",
      "190:\tlearn: 0.2279722\ttotal: 2.54s\tremaining: 9.01s\n",
      "191:\tlearn: 0.2235909\ttotal: 2.55s\tremaining: 9s\n",
      "192:\tlearn: 0.2182574\ttotal: 2.56s\tremaining: 8.98s\n",
      "193:\tlearn: 0.2114693\ttotal: 2.58s\tremaining: 8.97s\n",
      "194:\tlearn: 0.2080958\ttotal: 2.59s\tremaining: 8.96s\n",
      "195:\tlearn: 0.2030571\ttotal: 2.6s\tremaining: 8.95s\n",
      "196:\tlearn: 0.1968673\ttotal: 2.62s\tremaining: 8.93s\n",
      "197:\tlearn: 0.1918275\ttotal: 2.63s\tremaining: 8.92s\n",
      "198:\tlearn: 0.1884684\ttotal: 2.65s\tremaining: 8.91s\n",
      "199:\tlearn: 0.1841392\ttotal: 2.66s\tremaining: 8.89s\n",
      "200:\tlearn: 0.1803594\ttotal: 2.67s\tremaining: 8.88s\n",
      "201:\tlearn: 0.1776889\ttotal: 2.68s\tremaining: 8.86s\n",
      "202:\tlearn: 0.1745979\ttotal: 2.7s\tremaining: 8.85s\n",
      "203:\tlearn: 0.1700097\ttotal: 2.71s\tremaining: 8.83s\n",
      "204:\tlearn: 0.1656176\ttotal: 2.72s\tremaining: 8.82s\n",
      "205:\tlearn: 0.1611119\ttotal: 2.74s\tremaining: 8.81s\n",
      "206:\tlearn: 0.1570531\ttotal: 2.75s\tremaining: 8.79s\n",
      "207:\tlearn: 0.1540520\ttotal: 2.76s\tremaining: 8.78s\n",
      "208:\tlearn: 0.1505312\ttotal: 2.78s\tremaining: 8.77s\n",
      "209:\tlearn: 0.1465514\ttotal: 2.79s\tremaining: 8.75s\n",
      "210:\tlearn: 0.1429230\ttotal: 2.8s\tremaining: 8.74s\n",
      "211:\tlearn: 0.1386280\ttotal: 2.81s\tremaining: 8.72s\n",
      "212:\tlearn: 0.1339930\ttotal: 2.83s\tremaining: 8.71s\n",
      "213:\tlearn: 0.1288569\ttotal: 2.84s\tremaining: 8.7s\n",
      "214:\tlearn: 0.1245265\ttotal: 2.86s\tremaining: 8.69s\n",
      "215:\tlearn: 0.1210657\ttotal: 2.87s\tremaining: 8.68s\n",
      "216:\tlearn: 0.1179353\ttotal: 2.88s\tremaining: 8.66s\n",
      "217:\tlearn: 0.1158149\ttotal: 2.9s\tremaining: 8.65s\n",
      "218:\tlearn: 0.1128854\ttotal: 2.91s\tremaining: 8.63s\n",
      "219:\tlearn: 0.1096330\ttotal: 2.92s\tremaining: 8.62s\n",
      "220:\tlearn: 0.1070417\ttotal: 2.94s\tremaining: 8.61s\n",
      "221:\tlearn: 0.1044525\ttotal: 2.95s\tremaining: 8.59s\n",
      "222:\tlearn: 0.1021056\ttotal: 2.96s\tremaining: 8.58s\n",
      "223:\tlearn: 0.1007723\ttotal: 2.98s\tremaining: 8.57s\n",
      "224:\tlearn: 0.0983104\ttotal: 2.99s\tremaining: 8.55s\n",
      "225:\tlearn: 0.0941215\ttotal: 3s\tremaining: 8.54s\n",
      "226:\tlearn: 0.0925057\ttotal: 3.01s\tremaining: 8.53s\n",
      "227:\tlearn: 0.0902727\ttotal: 3.03s\tremaining: 8.51s\n",
      "228:\tlearn: 0.0875677\ttotal: 3.04s\tremaining: 8.5s\n",
      "229:\tlearn: 0.0845601\ttotal: 3.06s\tremaining: 8.49s\n",
      "230:\tlearn: 0.0816328\ttotal: 3.07s\tremaining: 8.47s\n",
      "231:\tlearn: 0.0802128\ttotal: 3.08s\tremaining: 8.46s\n",
      "232:\tlearn: 0.0778411\ttotal: 3.09s\tremaining: 8.45s\n",
      "233:\tlearn: 0.0759708\ttotal: 3.11s\tremaining: 8.43s\n",
      "234:\tlearn: 0.0744585\ttotal: 3.12s\tremaining: 8.42s\n",
      "235:\tlearn: 0.0729264\ttotal: 3.14s\tremaining: 8.41s\n",
      "236:\tlearn: 0.0707231\ttotal: 3.15s\tremaining: 8.4s\n",
      "237:\tlearn: 0.0694698\ttotal: 3.16s\tremaining: 8.38s\n",
      "238:\tlearn: 0.0683002\ttotal: 3.17s\tremaining: 8.37s\n",
      "239:\tlearn: 0.0658957\ttotal: 3.19s\tremaining: 8.36s\n",
      "240:\tlearn: 0.0636841\ttotal: 3.2s\tremaining: 8.35s\n",
      "241:\tlearn: 0.0626071\ttotal: 3.21s\tremaining: 8.33s\n",
      "242:\tlearn: 0.0604488\ttotal: 3.23s\tremaining: 8.32s\n",
      "243:\tlearn: 0.0586643\ttotal: 3.24s\tremaining: 8.31s\n",
      "244:\tlearn: 0.0564478\ttotal: 3.26s\tremaining: 8.3s\n",
      "245:\tlearn: 0.0550836\ttotal: 3.27s\tremaining: 8.29s\n",
      "246:\tlearn: 0.0537503\ttotal: 3.29s\tremaining: 8.28s\n",
      "247:\tlearn: 0.0530102\ttotal: 3.3s\tremaining: 8.26s\n",
      "248:\tlearn: 0.0513041\ttotal: 3.31s\tremaining: 8.24s\n",
      "249:\tlearn: 0.0498792\ttotal: 3.32s\tremaining: 8.23s\n",
      "250:\tlearn: 0.0487080\ttotal: 3.34s\tremaining: 8.22s\n",
      "251:\tlearn: 0.0471332\ttotal: 3.35s\tremaining: 8.21s\n",
      "252:\tlearn: 0.0462550\ttotal: 3.37s\tremaining: 8.2s\n",
      "253:\tlearn: 0.0451246\ttotal: 3.38s\tremaining: 8.19s\n",
      "254:\tlearn: 0.0441973\ttotal: 3.4s\tremaining: 8.17s\n",
      "255:\tlearn: 0.0432503\ttotal: 3.41s\tremaining: 8.16s\n",
      "256:\tlearn: 0.0422243\ttotal: 3.42s\tremaining: 8.15s\n",
      "257:\tlearn: 0.0413275\ttotal: 3.44s\tremaining: 8.14s\n",
      "258:\tlearn: 0.0408349\ttotal: 3.45s\tremaining: 8.13s\n",
      "259:\tlearn: 0.0395438\ttotal: 3.46s\tremaining: 8.12s\n",
      "260:\tlearn: 0.0381676\ttotal: 3.48s\tremaining: 8.11s\n",
      "261:\tlearn: 0.0374804\ttotal: 3.49s\tremaining: 8.1s\n",
      "262:\tlearn: 0.0363240\ttotal: 3.51s\tremaining: 8.08s\n",
      "263:\tlearn: 0.0357091\ttotal: 3.52s\tremaining: 8.07s\n",
      "264:\tlearn: 0.0349649\ttotal: 3.54s\tremaining: 8.06s\n",
      "265:\tlearn: 0.0340410\ttotal: 3.55s\tremaining: 8.05s\n",
      "266:\tlearn: 0.0328928\ttotal: 3.57s\tremaining: 8.06s\n",
      "267:\tlearn: 0.0318765\ttotal: 3.59s\tremaining: 8.05s\n",
      "268:\tlearn: 0.0312764\ttotal: 3.6s\tremaining: 8.04s\n",
      "269:\tlearn: 0.0299909\ttotal: 3.62s\tremaining: 8.02s\n",
      "270:\tlearn: 0.0291473\ttotal: 3.63s\tremaining: 8.01s\n",
      "271:\tlearn: 0.0286510\ttotal: 3.64s\tremaining: 8s\n",
      "272:\tlearn: 0.0277113\ttotal: 3.66s\tremaining: 7.98s\n",
      "273:\tlearn: 0.0269434\ttotal: 3.67s\tremaining: 7.97s\n",
      "274:\tlearn: 0.0258269\ttotal: 3.68s\tremaining: 7.96s\n",
      "275:\tlearn: 0.0250034\ttotal: 3.7s\tremaining: 7.95s\n",
      "276:\tlearn: 0.0243886\ttotal: 3.71s\tremaining: 7.93s\n",
      "277:\tlearn: 0.0239593\ttotal: 3.73s\tremaining: 7.92s\n",
      "278:\tlearn: 0.0233907\ttotal: 3.74s\tremaining: 7.91s\n",
      "279:\tlearn: 0.0225859\ttotal: 3.75s\tremaining: 7.9s\n",
      "280:\tlearn: 0.0215995\ttotal: 3.77s\tremaining: 7.88s\n",
      "281:\tlearn: 0.0208364\ttotal: 3.78s\tremaining: 7.87s\n",
      "282:\tlearn: 0.0201073\ttotal: 3.79s\tremaining: 7.86s\n",
      "283:\tlearn: 0.0193825\ttotal: 3.81s\tremaining: 7.84s\n",
      "284:\tlearn: 0.0187078\ttotal: 3.82s\tremaining: 7.83s\n",
      "285:\tlearn: 0.0181889\ttotal: 3.83s\tremaining: 7.82s\n",
      "286:\tlearn: 0.0177884\ttotal: 3.85s\tremaining: 7.8s\n",
      "287:\tlearn: 0.0173802\ttotal: 3.86s\tremaining: 7.79s\n",
      "288:\tlearn: 0.0169041\ttotal: 3.87s\tremaining: 7.77s\n",
      "289:\tlearn: 0.0165085\ttotal: 3.89s\tremaining: 7.76s\n",
      "290:\tlearn: 0.0160844\ttotal: 3.9s\tremaining: 7.75s\n",
      "291:\tlearn: 0.0157708\ttotal: 3.91s\tremaining: 7.73s\n",
      "292:\tlearn: 0.0153982\ttotal: 3.93s\tremaining: 7.72s\n",
      "293:\tlearn: 0.0149034\ttotal: 3.94s\tremaining: 7.71s\n",
      "294:\tlearn: 0.0143891\ttotal: 3.95s\tremaining: 7.69s\n",
      "295:\tlearn: 0.0140131\ttotal: 3.97s\tremaining: 7.68s\n",
      "296:\tlearn: 0.0135000\ttotal: 3.98s\tremaining: 7.67s\n",
      "297:\tlearn: 0.0132462\ttotal: 3.99s\tremaining: 7.65s\n",
      "298:\tlearn: 0.0129567\ttotal: 4.01s\tremaining: 7.64s\n",
      "299:\tlearn: 0.0127466\ttotal: 4.02s\tremaining: 7.62s\n",
      "300:\tlearn: 0.0123801\ttotal: 4.03s\tremaining: 7.61s\n",
      "301:\tlearn: 0.0121235\ttotal: 4.05s\tremaining: 7.6s\n",
      "302:\tlearn: 0.0118189\ttotal: 4.06s\tremaining: 7.58s\n",
      "303:\tlearn: 0.0113574\ttotal: 4.07s\tremaining: 7.57s\n",
      "304:\tlearn: 0.0111020\ttotal: 4.09s\tremaining: 7.56s\n",
      "305:\tlearn: 0.0108173\ttotal: 4.1s\tremaining: 7.54s\n",
      "306:\tlearn: 0.0104432\ttotal: 4.11s\tremaining: 7.53s\n",
      "307:\tlearn: 0.0101079\ttotal: 4.13s\tremaining: 7.52s\n",
      "308:\tlearn: 0.0099943\ttotal: 4.14s\tremaining: 7.5s\n",
      "309:\tlearn: 0.0098309\ttotal: 4.15s\tremaining: 7.49s\n",
      "310:\tlearn: 0.0094703\ttotal: 4.17s\tremaining: 7.48s\n",
      "311:\tlearn: 0.0093009\ttotal: 4.18s\tremaining: 7.46s\n",
      "312:\tlearn: 0.0090439\ttotal: 4.19s\tremaining: 7.45s\n",
      "313:\tlearn: 0.0088218\ttotal: 4.21s\tremaining: 7.43s\n",
      "314:\tlearn: 0.0086701\ttotal: 4.22s\tremaining: 7.42s\n",
      "315:\tlearn: 0.0084916\ttotal: 4.23s\tremaining: 7.41s\n",
      "316:\tlearn: 0.0083418\ttotal: 4.24s\tremaining: 7.39s\n",
      "317:\tlearn: 0.0081584\ttotal: 4.26s\tremaining: 7.38s\n",
      "318:\tlearn: 0.0079721\ttotal: 4.28s\tremaining: 7.37s\n",
      "319:\tlearn: 0.0078738\ttotal: 4.29s\tremaining: 7.36s\n",
      "320:\tlearn: 0.0077488\ttotal: 4.3s\tremaining: 7.34s\n",
      "321:\tlearn: 0.0075107\ttotal: 4.32s\tremaining: 7.33s\n",
      "322:\tlearn: 0.0072885\ttotal: 4.33s\tremaining: 7.32s\n",
      "323:\tlearn: 0.0070997\ttotal: 4.34s\tremaining: 7.3s\n",
      "324:\tlearn: 0.0069986\ttotal: 4.36s\tremaining: 7.29s\n",
      "325:\tlearn: 0.0068007\ttotal: 4.37s\tremaining: 7.28s\n",
      "326:\tlearn: 0.0066078\ttotal: 4.38s\tremaining: 7.26s\n",
      "327:\tlearn: 0.0064591\ttotal: 4.39s\tremaining: 7.25s\n",
      "328:\tlearn: 0.0063290\ttotal: 4.41s\tremaining: 7.24s\n",
      "329:\tlearn: 0.0061535\ttotal: 4.42s\tremaining: 7.22s\n",
      "330:\tlearn: 0.0059701\ttotal: 4.44s\tremaining: 7.21s\n",
      "331:\tlearn: 0.0058653\ttotal: 4.45s\tremaining: 7.21s\n",
      "332:\tlearn: 0.0056463\ttotal: 4.47s\tremaining: 7.2s\n",
      "333:\tlearn: 0.0055524\ttotal: 4.49s\tremaining: 7.19s\n",
      "334:\tlearn: 0.0054157\ttotal: 4.5s\tremaining: 7.17s\n",
      "335:\tlearn: 0.0052061\ttotal: 4.51s\tremaining: 7.16s\n",
      "336:\tlearn: 0.0051158\ttotal: 4.53s\tremaining: 7.14s\n",
      "337:\tlearn: 0.0050147\ttotal: 4.54s\tremaining: 7.13s\n",
      "338:\tlearn: 0.0048643\ttotal: 4.55s\tremaining: 7.12s\n",
      "339:\tlearn: 0.0047215\ttotal: 4.57s\tremaining: 7.1s\n",
      "340:\tlearn: 0.0045662\ttotal: 4.58s\tremaining: 7.09s\n",
      "341:\tlearn: 0.0044267\ttotal: 4.59s\tremaining: 7.08s\n",
      "342:\tlearn: 0.0043172\ttotal: 4.6s\tremaining: 7.06s\n",
      "343:\tlearn: 0.0041983\ttotal: 4.62s\tremaining: 7.05s\n",
      "344:\tlearn: 0.0040371\ttotal: 4.63s\tremaining: 7.04s\n",
      "345:\tlearn: 0.0039507\ttotal: 4.65s\tremaining: 7.02s\n",
      "346:\tlearn: 0.0038386\ttotal: 4.66s\tremaining: 7.01s\n",
      "347:\tlearn: 0.0037501\ttotal: 4.68s\tremaining: 7s\n",
      "348:\tlearn: 0.0036622\ttotal: 4.69s\tremaining: 6.99s\n",
      "349:\tlearn: 0.0035748\ttotal: 4.7s\tremaining: 6.97s\n",
      "350:\tlearn: 0.0034928\ttotal: 4.72s\tremaining: 6.96s\n",
      "351:\tlearn: 0.0033962\ttotal: 4.73s\tremaining: 6.95s\n",
      "352:\tlearn: 0.0033501\ttotal: 4.74s\tremaining: 6.93s\n",
      "353:\tlearn: 0.0032448\ttotal: 4.76s\tremaining: 6.92s\n",
      "354:\tlearn: 0.0031860\ttotal: 4.77s\tremaining: 6.91s\n",
      "355:\tlearn: 0.0031071\ttotal: 4.78s\tremaining: 6.89s\n",
      "356:\tlearn: 0.0030297\ttotal: 4.8s\tremaining: 6.88s\n",
      "357:\tlearn: 0.0029297\ttotal: 4.81s\tremaining: 6.87s\n",
      "358:\tlearn: 0.0028603\ttotal: 4.82s\tremaining: 6.85s\n",
      "359:\tlearn: 0.0028052\ttotal: 4.84s\tremaining: 6.84s\n",
      "360:\tlearn: 0.0027759\ttotal: 4.85s\tremaining: 6.83s\n",
      "361:\tlearn: 0.0027168\ttotal: 4.86s\tremaining: 6.81s\n",
      "362:\tlearn: 0.0026326\ttotal: 4.88s\tremaining: 6.8s\n",
      "363:\tlearn: 0.0025641\ttotal: 4.89s\tremaining: 6.79s\n",
      "364:\tlearn: 0.0024888\ttotal: 4.91s\tremaining: 6.77s\n",
      "365:\tlearn: 0.0024010\ttotal: 4.92s\tremaining: 6.76s\n",
      "366:\tlearn: 0.0023580\ttotal: 4.93s\tremaining: 6.75s\n",
      "367:\tlearn: 0.0023093\ttotal: 4.95s\tremaining: 6.73s\n",
      "368:\tlearn: 0.0022379\ttotal: 4.96s\tremaining: 6.72s\n",
      "369:\tlearn: 0.0021666\ttotal: 4.97s\tremaining: 6.71s\n",
      "370:\tlearn: 0.0020722\ttotal: 4.99s\tremaining: 6.69s\n",
      "371:\tlearn: 0.0020311\ttotal: 5s\tremaining: 6.68s\n",
      "372:\tlearn: 0.0019743\ttotal: 5.01s\tremaining: 6.67s\n",
      "373:\tlearn: 0.0019202\ttotal: 5.03s\tremaining: 6.65s\n",
      "374:\tlearn: 0.0018812\ttotal: 5.04s\tremaining: 6.64s\n",
      "375:\tlearn: 0.0018410\ttotal: 5.05s\tremaining: 6.62s\n",
      "376:\tlearn: 0.0017946\ttotal: 5.06s\tremaining: 6.61s\n",
      "377:\tlearn: 0.0017621\ttotal: 5.08s\tremaining: 6.6s\n",
      "378:\tlearn: 0.0016926\ttotal: 5.09s\tremaining: 6.58s\n",
      "379:\tlearn: 0.0016522\ttotal: 5.11s\tremaining: 6.57s\n",
      "380:\tlearn: 0.0016067\ttotal: 5.12s\tremaining: 6.55s\n",
      "381:\tlearn: 0.0015756\ttotal: 5.13s\tremaining: 6.54s\n",
      "382:\tlearn: 0.0015538\ttotal: 5.14s\tremaining: 6.53s\n",
      "383:\tlearn: 0.0015204\ttotal: 5.16s\tremaining: 6.51s\n",
      "384:\tlearn: 0.0014917\ttotal: 5.17s\tremaining: 6.5s\n",
      "385:\tlearn: 0.0014379\ttotal: 5.18s\tremaining: 6.49s\n",
      "386:\tlearn: 0.0013854\ttotal: 5.2s\tremaining: 6.47s\n",
      "387:\tlearn: 0.0013460\ttotal: 5.21s\tremaining: 6.46s\n",
      "388:\tlearn: 0.0013235\ttotal: 5.22s\tremaining: 6.45s\n",
      "389:\tlearn: 0.0012859\ttotal: 5.24s\tremaining: 6.43s\n",
      "390:\tlearn: 0.0012519\ttotal: 5.25s\tremaining: 6.42s\n",
      "391:\tlearn: 0.0012278\ttotal: 5.26s\tremaining: 6.4s\n",
      "392:\tlearn: 0.0012078\ttotal: 5.28s\tremaining: 6.39s\n",
      "393:\tlearn: 0.0011698\ttotal: 5.29s\tremaining: 6.38s\n",
      "394:\tlearn: 0.0011460\ttotal: 5.3s\tremaining: 6.37s\n",
      "395:\tlearn: 0.0011265\ttotal: 5.32s\tremaining: 6.35s\n",
      "396:\tlearn: 0.0010994\ttotal: 5.33s\tremaining: 6.34s\n",
      "397:\tlearn: 0.0010664\ttotal: 5.34s\tremaining: 6.32s\n",
      "398:\tlearn: 0.0010462\ttotal: 5.36s\tremaining: 6.31s\n",
      "399:\tlearn: 0.0010154\ttotal: 5.37s\tremaining: 6.3s\n",
      "400:\tlearn: 0.0009980\ttotal: 5.38s\tremaining: 6.28s\n",
      "401:\tlearn: 0.0009739\ttotal: 5.4s\tremaining: 6.27s\n",
      "402:\tlearn: 0.0009484\ttotal: 5.41s\tremaining: 6.26s\n",
      "403:\tlearn: 0.0009262\ttotal: 5.42s\tremaining: 6.24s\n",
      "404:\tlearn: 0.0009008\ttotal: 5.44s\tremaining: 6.23s\n",
      "405:\tlearn: 0.0008588\ttotal: 5.45s\tremaining: 6.22s\n",
      "406:\tlearn: 0.0008390\ttotal: 5.46s\tremaining: 6.2s\n",
      "407:\tlearn: 0.0008129\ttotal: 5.48s\tremaining: 6.19s\n",
      "408:\tlearn: 0.0007988\ttotal: 5.49s\tremaining: 6.18s\n",
      "409:\tlearn: 0.0007762\ttotal: 5.51s\tremaining: 6.16s\n",
      "410:\tlearn: 0.0007555\ttotal: 5.52s\tremaining: 6.15s\n",
      "411:\tlearn: 0.0007335\ttotal: 5.53s\tremaining: 6.14s\n",
      "412:\tlearn: 0.0007220\ttotal: 5.54s\tremaining: 6.12s\n",
      "413:\tlearn: 0.0007095\ttotal: 5.56s\tremaining: 6.11s\n",
      "414:\tlearn: 0.0006994\ttotal: 5.57s\tremaining: 6.09s\n",
      "415:\tlearn: 0.0006852\ttotal: 5.58s\tremaining: 6.08s\n",
      "416:\tlearn: 0.0006706\ttotal: 5.6s\tremaining: 6.07s\n",
      "417:\tlearn: 0.0006547\ttotal: 5.61s\tremaining: 6.05s\n",
      "418:\tlearn: 0.0006345\ttotal: 5.62s\tremaining: 6.04s\n",
      "419:\tlearn: 0.0006233\ttotal: 5.64s\tremaining: 6.03s\n",
      "420:\tlearn: 0.0006098\ttotal: 5.65s\tremaining: 6.01s\n",
      "421:\tlearn: 0.0005970\ttotal: 5.66s\tremaining: 6s\n",
      "422:\tlearn: 0.0005816\ttotal: 5.68s\tremaining: 5.98s\n",
      "423:\tlearn: 0.0005722\ttotal: 5.69s\tremaining: 5.97s\n",
      "424:\tlearn: 0.0005605\ttotal: 5.71s\tremaining: 5.96s\n",
      "425:\tlearn: 0.0005484\ttotal: 5.72s\tremaining: 5.95s\n",
      "426:\tlearn: 0.0005319\ttotal: 5.74s\tremaining: 5.94s\n",
      "427:\tlearn: 0.0005186\ttotal: 5.75s\tremaining: 5.93s\n",
      "428:\tlearn: 0.0005082\ttotal: 5.77s\tremaining: 5.92s\n",
      "429:\tlearn: 0.0004942\ttotal: 5.79s\tremaining: 5.91s\n",
      "430:\tlearn: 0.0004764\ttotal: 5.8s\tremaining: 5.89s\n",
      "431:\tlearn: 0.0004586\ttotal: 5.81s\tremaining: 5.88s\n",
      "432:\tlearn: 0.0004407\ttotal: 5.83s\tremaining: 5.87s\n",
      "433:\tlearn: 0.0004310\ttotal: 5.84s\tremaining: 5.86s\n",
      "434:\tlearn: 0.0004171\ttotal: 5.86s\tremaining: 5.85s\n",
      "435:\tlearn: 0.0004041\ttotal: 5.87s\tremaining: 5.83s\n",
      "436:\tlearn: 0.0003903\ttotal: 5.89s\tremaining: 5.82s\n",
      "437:\tlearn: 0.0003830\ttotal: 5.9s\tremaining: 5.81s\n",
      "438:\tlearn: 0.0003716\ttotal: 5.92s\tremaining: 5.8s\n",
      "439:\tlearn: 0.0003608\ttotal: 5.93s\tremaining: 5.79s\n",
      "440:\tlearn: 0.0003537\ttotal: 5.95s\tremaining: 5.77s\n",
      "441:\tlearn: 0.0003454\ttotal: 5.96s\tremaining: 5.76s\n",
      "442:\tlearn: 0.0003351\ttotal: 5.98s\tremaining: 5.75s\n",
      "443:\tlearn: 0.0003237\ttotal: 6s\tremaining: 5.74s\n",
      "444:\tlearn: 0.0003131\ttotal: 6.01s\tremaining: 5.73s\n",
      "445:\tlearn: 0.0003077\ttotal: 6.03s\tremaining: 5.71s\n",
      "446:\tlearn: 0.0003025\ttotal: 6.04s\tremaining: 5.7s\n",
      "447:\tlearn: 0.0002919\ttotal: 6.06s\tremaining: 5.69s\n",
      "448:\tlearn: 0.0002855\ttotal: 6.07s\tremaining: 5.68s\n",
      "449:\tlearn: 0.0002740\ttotal: 6.09s\tremaining: 5.67s\n",
      "450:\tlearn: 0.0002700\ttotal: 6.1s\tremaining: 5.66s\n",
      "451:\tlearn: 0.0002636\ttotal: 6.12s\tremaining: 5.64s\n",
      "452:\tlearn: 0.0002573\ttotal: 6.13s\tremaining: 5.63s\n",
      "453:\tlearn: 0.0002523\ttotal: 6.14s\tremaining: 5.62s\n",
      "454:\tlearn: 0.0002476\ttotal: 6.16s\tremaining: 5.6s\n",
      "455:\tlearn: 0.0002404\ttotal: 6.17s\tremaining: 5.59s\n",
      "456:\tlearn: 0.0002360\ttotal: 6.18s\tremaining: 5.58s\n",
      "457:\tlearn: 0.0002291\ttotal: 6.2s\tremaining: 5.56s\n",
      "458:\tlearn: 0.0002227\ttotal: 6.21s\tremaining: 5.55s\n",
      "459:\tlearn: 0.0002178\ttotal: 6.22s\tremaining: 5.53s\n",
      "460:\tlearn: 0.0002146\ttotal: 6.24s\tremaining: 5.52s\n",
      "461:\tlearn: 0.0002093\ttotal: 6.25s\tremaining: 5.51s\n",
      "462:\tlearn: 0.0002044\ttotal: 6.27s\tremaining: 5.49s\n",
      "463:\tlearn: 0.0001997\ttotal: 6.28s\tremaining: 5.48s\n",
      "464:\tlearn: 0.0001957\ttotal: 6.29s\tremaining: 5.47s\n",
      "465:\tlearn: 0.0001909\ttotal: 6.31s\tremaining: 5.45s\n",
      "466:\tlearn: 0.0001861\ttotal: 6.32s\tremaining: 5.44s\n",
      "467:\tlearn: 0.0001815\ttotal: 6.33s\tremaining: 5.43s\n",
      "468:\tlearn: 0.0001753\ttotal: 6.35s\tremaining: 5.41s\n",
      "469:\tlearn: 0.0001709\ttotal: 6.36s\tremaining: 5.4s\n",
      "470:\tlearn: 0.0001680\ttotal: 6.38s\tremaining: 5.39s\n",
      "471:\tlearn: 0.0001635\ttotal: 6.39s\tremaining: 5.38s\n",
      "472:\tlearn: 0.0001593\ttotal: 6.41s\tremaining: 5.37s\n",
      "473:\tlearn: 0.0001535\ttotal: 6.42s\tremaining: 5.35s\n",
      "474:\tlearn: 0.0001501\ttotal: 6.44s\tremaining: 5.34s\n",
      "475:\tlearn: 0.0001455\ttotal: 6.45s\tremaining: 5.33s\n",
      "476:\tlearn: 0.0001414\ttotal: 6.46s\tremaining: 5.31s\n",
      "477:\tlearn: 0.0001376\ttotal: 6.48s\tremaining: 5.3s\n",
      "478:\tlearn: 0.0001345\ttotal: 6.49s\tremaining: 5.29s\n",
      "479:\tlearn: 0.0001305\ttotal: 6.5s\tremaining: 5.27s\n",
      "480:\tlearn: 0.0001268\ttotal: 6.52s\tremaining: 5.26s\n",
      "481:\tlearn: 0.0001242\ttotal: 6.53s\tremaining: 5.24s\n",
      "482:\tlearn: 0.0001207\ttotal: 6.55s\tremaining: 5.23s\n",
      "483:\tlearn: 0.0001176\ttotal: 6.56s\tremaining: 5.22s\n",
      "484:\tlearn: 0.0001149\ttotal: 6.57s\tremaining: 5.2s\n",
      "485:\tlearn: 0.0001123\ttotal: 6.59s\tremaining: 5.2s\n",
      "486:\tlearn: 0.0001101\ttotal: 6.61s\tremaining: 5.18s\n",
      "487:\tlearn: 0.0001063\ttotal: 6.62s\tremaining: 5.17s\n",
      "488:\tlearn: 0.0001046\ttotal: 6.63s\tremaining: 5.16s\n",
      "489:\tlearn: 0.0001018\ttotal: 6.65s\tremaining: 5.14s\n",
      "490:\tlearn: 0.0000974\ttotal: 6.66s\tremaining: 5.13s\n",
      "491:\tlearn: 0.0000959\ttotal: 6.67s\tremaining: 5.12s\n",
      "492:\tlearn: 0.0000943\ttotal: 6.69s\tremaining: 5.1s\n",
      "493:\tlearn: 0.0000916\ttotal: 6.7s\tremaining: 5.09s\n",
      "494:\tlearn: 0.0000897\ttotal: 6.72s\tremaining: 5.07s\n",
      "495:\tlearn: 0.0000869\ttotal: 6.73s\tremaining: 5.06s\n",
      "496:\tlearn: 0.0000851\ttotal: 6.74s\tremaining: 5.05s\n",
      "497:\tlearn: 0.0000833\ttotal: 6.76s\tremaining: 5.03s\n",
      "498:\tlearn: 0.0000806\ttotal: 6.77s\tremaining: 5.02s\n",
      "499:\tlearn: 0.0000779\ttotal: 6.78s\tremaining: 5.01s\n",
      "500:\tlearn: 0.0000758\ttotal: 6.8s\tremaining: 4.99s\n",
      "501:\tlearn: 0.0000745\ttotal: 6.81s\tremaining: 4.98s\n",
      "502:\tlearn: 0.0000731\ttotal: 6.83s\tremaining: 4.97s\n",
      "503:\tlearn: 0.0000709\ttotal: 6.84s\tremaining: 4.95s\n",
      "504:\tlearn: 0.0000692\ttotal: 6.85s\tremaining: 4.94s\n",
      "505:\tlearn: 0.0000672\ttotal: 6.87s\tremaining: 4.93s\n",
      "506:\tlearn: 0.0000653\ttotal: 6.88s\tremaining: 4.91s\n",
      "507:\tlearn: 0.0000634\ttotal: 6.89s\tremaining: 4.9s\n",
      "508:\tlearn: 0.0000615\ttotal: 6.91s\tremaining: 4.89s\n",
      "509:\tlearn: 0.0000608\ttotal: 6.92s\tremaining: 4.87s\n",
      "510:\tlearn: 0.0000594\ttotal: 6.94s\tremaining: 4.86s\n",
      "511:\tlearn: 0.0000581\ttotal: 6.95s\tremaining: 4.84s\n",
      "512:\tlearn: 0.0000573\ttotal: 6.96s\tremaining: 4.83s\n",
      "513:\tlearn: 0.0000560\ttotal: 6.98s\tremaining: 4.82s\n",
      "514:\tlearn: 0.0000541\ttotal: 6.99s\tremaining: 4.8s\n",
      "515:\tlearn: 0.0000527\ttotal: 7.01s\tremaining: 4.79s\n",
      "516:\tlearn: 0.0000517\ttotal: 7.02s\tremaining: 4.78s\n",
      "517:\tlearn: 0.0000511\ttotal: 7.04s\tremaining: 4.77s\n",
      "518:\tlearn: 0.0000496\ttotal: 7.05s\tremaining: 4.75s\n",
      "519:\tlearn: 0.0000484\ttotal: 7.06s\tremaining: 4.74s\n",
      "520:\tlearn: 0.0000473\ttotal: 7.08s\tremaining: 4.73s\n",
      "521:\tlearn: 0.0000458\ttotal: 7.09s\tremaining: 4.71s\n",
      "522:\tlearn: 0.0000444\ttotal: 7.1s\tremaining: 4.7s\n",
      "523:\tlearn: 0.0000438\ttotal: 7.12s\tremaining: 4.68s\n",
      "524:\tlearn: 0.0000431\ttotal: 7.13s\tremaining: 4.67s\n",
      "525:\tlearn: 0.0000418\ttotal: 7.14s\tremaining: 4.66s\n",
      "526:\tlearn: 0.0000405\ttotal: 7.16s\tremaining: 4.64s\n",
      "527:\tlearn: 0.0000391\ttotal: 7.17s\tremaining: 4.63s\n",
      "528:\tlearn: 0.0000386\ttotal: 7.18s\tremaining: 4.62s\n",
      "529:\tlearn: 0.0000376\ttotal: 7.2s\tremaining: 4.6s\n",
      "530:\tlearn: 0.0000371\ttotal: 7.21s\tremaining: 4.59s\n",
      "531:\tlearn: 0.0000360\ttotal: 7.22s\tremaining: 4.58s\n",
      "532:\tlearn: 0.0000351\ttotal: 7.24s\tremaining: 4.56s\n",
      "533:\tlearn: 0.0000344\ttotal: 7.25s\tremaining: 4.55s\n",
      "534:\tlearn: 0.0000335\ttotal: 7.26s\tremaining: 4.53s\n",
      "535:\tlearn: 0.0000328\ttotal: 7.28s\tremaining: 4.52s\n",
      "536:\tlearn: 0.0000318\ttotal: 7.29s\tremaining: 4.51s\n",
      "537:\tlearn: 0.0000310\ttotal: 7.3s\tremaining: 4.49s\n",
      "538:\tlearn: 0.0000304\ttotal: 7.32s\tremaining: 4.48s\n",
      "539:\tlearn: 0.0000294\ttotal: 7.33s\tremaining: 4.47s\n",
      "540:\tlearn: 0.0000285\ttotal: 7.34s\tremaining: 4.45s\n",
      "541:\tlearn: 0.0000280\ttotal: 7.36s\tremaining: 4.44s\n",
      "542:\tlearn: 0.0000276\ttotal: 7.37s\tremaining: 4.42s\n",
      "543:\tlearn: 0.0000271\ttotal: 7.38s\tremaining: 4.41s\n",
      "544:\tlearn: 0.0000261\ttotal: 7.4s\tremaining: 4.4s\n",
      "545:\tlearn: 0.0000257\ttotal: 7.41s\tremaining: 4.38s\n",
      "546:\tlearn: 0.0000249\ttotal: 7.43s\tremaining: 4.37s\n",
      "547:\tlearn: 0.0000243\ttotal: 7.44s\tremaining: 4.36s\n",
      "548:\tlearn: 0.0000238\ttotal: 7.46s\tremaining: 4.35s\n",
      "549:\tlearn: 0.0000235\ttotal: 7.47s\tremaining: 4.33s\n",
      "550:\tlearn: 0.0000227\ttotal: 7.48s\tremaining: 4.32s\n",
      "551:\tlearn: 0.0000221\ttotal: 7.5s\tremaining: 4.3s\n",
      "552:\tlearn: 0.0000214\ttotal: 7.51s\tremaining: 4.29s\n",
      "553:\tlearn: 0.0000206\ttotal: 7.53s\tremaining: 4.28s\n",
      "554:\tlearn: 0.0000200\ttotal: 7.54s\tremaining: 4.26s\n",
      "555:\tlearn: 0.0000193\ttotal: 7.55s\tremaining: 4.25s\n",
      "556:\tlearn: 0.0000189\ttotal: 7.57s\tremaining: 4.24s\n",
      "557:\tlearn: 0.0000183\ttotal: 7.58s\tremaining: 4.22s\n",
      "558:\tlearn: 0.0000178\ttotal: 7.59s\tremaining: 4.21s\n",
      "559:\tlearn: 0.0000175\ttotal: 7.61s\tremaining: 4.2s\n",
      "560:\tlearn: 0.0000168\ttotal: 7.62s\tremaining: 4.18s\n",
      "561:\tlearn: 0.0000164\ttotal: 7.63s\tremaining: 4.17s\n",
      "562:\tlearn: 0.0000163\ttotal: 7.65s\tremaining: 4.16s\n",
      "563:\tlearn: 0.0000158\ttotal: 7.66s\tremaining: 4.14s\n",
      "564:\tlearn: 0.0000155\ttotal: 7.68s\tremaining: 4.13s\n",
      "565:\tlearn: 0.0000151\ttotal: 7.69s\tremaining: 4.12s\n",
      "566:\tlearn: 0.0000148\ttotal: 7.7s\tremaining: 4.1s\n",
      "567:\tlearn: 0.0000145\ttotal: 7.72s\tremaining: 4.09s\n",
      "568:\tlearn: 0.0000141\ttotal: 7.73s\tremaining: 4.08s\n",
      "569:\tlearn: 0.0000137\ttotal: 7.74s\tremaining: 4.06s\n",
      "570:\tlearn: 0.0000134\ttotal: 7.75s\tremaining: 4.05s\n",
      "571:\tlearn: 0.0000130\ttotal: 7.77s\tremaining: 4.03s\n",
      "572:\tlearn: 0.0000127\ttotal: 7.78s\tremaining: 4.02s\n",
      "573:\tlearn: 0.0000125\ttotal: 7.79s\tremaining: 4.01s\n",
      "574:\tlearn: 0.0000122\ttotal: 7.81s\tremaining: 3.99s\n",
      "575:\tlearn: 0.0000120\ttotal: 7.83s\tremaining: 3.98s\n",
      "576:\tlearn: 0.0000116\ttotal: 7.84s\tremaining: 3.97s\n",
      "577:\tlearn: 0.0000113\ttotal: 7.86s\tremaining: 3.96s\n",
      "578:\tlearn: 0.0000110\ttotal: 7.88s\tremaining: 3.94s\n",
      "579:\tlearn: 0.0000106\ttotal: 7.89s\tremaining: 3.93s\n",
      "580:\tlearn: 0.0000104\ttotal: 7.91s\tremaining: 3.92s\n",
      "581:\tlearn: 0.0000100\ttotal: 7.92s\tremaining: 3.91s\n",
      "582:\tlearn: 0.0000097\ttotal: 7.93s\tremaining: 3.89s\n",
      "583:\tlearn: 0.0000094\ttotal: 7.95s\tremaining: 3.88s\n",
      "584:\tlearn: 0.0000093\ttotal: 7.96s\tremaining: 3.87s\n",
      "585:\tlearn: 0.0000089\ttotal: 7.98s\tremaining: 3.85s\n",
      "586:\tlearn: 0.0000087\ttotal: 7.99s\tremaining: 3.84s\n",
      "587:\tlearn: 0.0000085\ttotal: 8s\tremaining: 3.82s\n",
      "588:\tlearn: 0.0000083\ttotal: 8.02s\tremaining: 3.81s\n",
      "589:\tlearn: 0.0000080\ttotal: 8.03s\tremaining: 3.8s\n",
      "590:\tlearn: 0.0000079\ttotal: 8.05s\tremaining: 3.78s\n",
      "591:\tlearn: 0.0000077\ttotal: 8.06s\tremaining: 3.77s\n",
      "592:\tlearn: 0.0000076\ttotal: 8.07s\tremaining: 3.76s\n",
      "593:\tlearn: 0.0000074\ttotal: 8.09s\tremaining: 3.74s\n",
      "594:\tlearn: 0.0000072\ttotal: 8.1s\tremaining: 3.73s\n",
      "595:\tlearn: 0.0000070\ttotal: 8.12s\tremaining: 3.72s\n",
      "596:\tlearn: 0.0000068\ttotal: 8.13s\tremaining: 3.7s\n",
      "597:\tlearn: 0.0000067\ttotal: 8.14s\tremaining: 3.69s\n",
      "598:\tlearn: 0.0000065\ttotal: 8.15s\tremaining: 3.67s\n",
      "599:\tlearn: 0.0000063\ttotal: 8.17s\tremaining: 3.66s\n",
      "600:\tlearn: 0.0000061\ttotal: 8.18s\tremaining: 3.65s\n",
      "601:\tlearn: 0.0000059\ttotal: 8.2s\tremaining: 3.63s\n",
      "602:\tlearn: 0.0000057\ttotal: 8.21s\tremaining: 3.62s\n",
      "603:\tlearn: 0.0000056\ttotal: 8.22s\tremaining: 3.61s\n",
      "604:\tlearn: 0.0000055\ttotal: 8.24s\tremaining: 3.6s\n",
      "605:\tlearn: 0.0000054\ttotal: 8.25s\tremaining: 3.58s\n",
      "606:\tlearn: 0.0000053\ttotal: 8.27s\tremaining: 3.57s\n",
      "607:\tlearn: 0.0000050\ttotal: 8.28s\tremaining: 3.56s\n",
      "608:\tlearn: 0.0000049\ttotal: 8.3s\tremaining: 3.54s\n",
      "609:\tlearn: 0.0000048\ttotal: 8.31s\tremaining: 3.53s\n",
      "610:\tlearn: 0.0000047\ttotal: 8.33s\tremaining: 3.52s\n",
      "611:\tlearn: 0.0000045\ttotal: 8.34s\tremaining: 3.5s\n",
      "612:\tlearn: 0.0000044\ttotal: 8.36s\tremaining: 3.49s\n",
      "613:\tlearn: 0.0000043\ttotal: 8.37s\tremaining: 3.48s\n",
      "614:\tlearn: 0.0000042\ttotal: 8.38s\tremaining: 3.46s\n",
      "615:\tlearn: 0.0000041\ttotal: 8.4s\tremaining: 3.45s\n",
      "616:\tlearn: 0.0000039\ttotal: 8.41s\tremaining: 3.44s\n",
      "617:\tlearn: 0.0000039\ttotal: 8.42s\tremaining: 3.42s\n",
      "618:\tlearn: 0.0000038\ttotal: 8.44s\tremaining: 3.41s\n",
      "619:\tlearn: 0.0000037\ttotal: 8.45s\tremaining: 3.39s\n",
      "620:\tlearn: 0.0000036\ttotal: 8.47s\tremaining: 3.38s\n",
      "621:\tlearn: 0.0000035\ttotal: 8.48s\tremaining: 3.37s\n",
      "622:\tlearn: 0.0000034\ttotal: 8.5s\tremaining: 3.36s\n",
      "623:\tlearn: 0.0000033\ttotal: 8.51s\tremaining: 3.34s\n",
      "624:\tlearn: 0.0000032\ttotal: 8.53s\tremaining: 3.33s\n",
      "625:\tlearn: 0.0000032\ttotal: 8.55s\tremaining: 3.32s\n",
      "626:\tlearn: 0.0000031\ttotal: 8.57s\tremaining: 3.31s\n",
      "627:\tlearn: 0.0000030\ttotal: 8.59s\tremaining: 3.29s\n",
      "628:\tlearn: 0.0000029\ttotal: 8.6s\tremaining: 3.28s\n",
      "629:\tlearn: 0.0000028\ttotal: 8.62s\tremaining: 3.27s\n",
      "630:\tlearn: 0.0000028\ttotal: 8.63s\tremaining: 3.25s\n",
      "631:\tlearn: 0.0000026\ttotal: 8.65s\tremaining: 3.24s\n",
      "632:\tlearn: 0.0000025\ttotal: 8.66s\tremaining: 3.23s\n",
      "633:\tlearn: 0.0000025\ttotal: 8.68s\tremaining: 3.22s\n",
      "634:\tlearn: 0.0000024\ttotal: 8.69s\tremaining: 3.2s\n",
      "635:\tlearn: 0.0000023\ttotal: 8.71s\tremaining: 3.19s\n",
      "636:\tlearn: 0.0000023\ttotal: 8.72s\tremaining: 3.18s\n",
      "637:\tlearn: 0.0000023\ttotal: 8.73s\tremaining: 3.16s\n",
      "638:\tlearn: 0.0000022\ttotal: 8.75s\tremaining: 3.15s\n",
      "639:\tlearn: 0.0000021\ttotal: 8.76s\tremaining: 3.13s\n",
      "640:\tlearn: 0.0000021\ttotal: 8.77s\tremaining: 3.12s\n",
      "641:\tlearn: 0.0000020\ttotal: 8.79s\tremaining: 3.11s\n",
      "642:\tlearn: 0.0000019\ttotal: 8.8s\tremaining: 3.09s\n",
      "643:\tlearn: 0.0000019\ttotal: 8.81s\tremaining: 3.08s\n",
      "644:\tlearn: 0.0000018\ttotal: 8.83s\tremaining: 3.06s\n",
      "645:\tlearn: 0.0000018\ttotal: 8.84s\tremaining: 3.05s\n",
      "646:\tlearn: 0.0000017\ttotal: 8.85s\tremaining: 3.04s\n",
      "647:\tlearn: 0.0000017\ttotal: 8.87s\tremaining: 3.02s\n",
      "648:\tlearn: 0.0000017\ttotal: 8.88s\tremaining: 3.01s\n",
      "649:\tlearn: 0.0000016\ttotal: 8.9s\tremaining: 3s\n",
      "650:\tlearn: 0.0000016\ttotal: 8.91s\tremaining: 2.98s\n",
      "651:\tlearn: 0.0000016\ttotal: 8.92s\tremaining: 2.97s\n",
      "652:\tlearn: 0.0000015\ttotal: 8.94s\tremaining: 2.96s\n",
      "653:\tlearn: 0.0000015\ttotal: 8.95s\tremaining: 2.94s\n",
      "654:\tlearn: 0.0000014\ttotal: 8.96s\tremaining: 2.93s\n",
      "655:\tlearn: 0.0000014\ttotal: 8.98s\tremaining: 2.91s\n",
      "656:\tlearn: 0.0000014\ttotal: 8.99s\tremaining: 2.9s\n",
      "657:\tlearn: 0.0000013\ttotal: 9s\tremaining: 2.89s\n",
      "658:\tlearn: 0.0000013\ttotal: 9.02s\tremaining: 2.87s\n",
      "659:\tlearn: 0.0000013\ttotal: 9.03s\tremaining: 2.86s\n",
      "660:\tlearn: 0.0000013\ttotal: 9.05s\tremaining: 2.85s\n",
      "661:\tlearn: 0.0000012\ttotal: 9.06s\tremaining: 2.83s\n",
      "662:\tlearn: 0.0000012\ttotal: 9.08s\tremaining: 2.82s\n",
      "663:\tlearn: 0.0000011\ttotal: 9.09s\tremaining: 2.81s\n",
      "664:\tlearn: 0.0000011\ttotal: 9.11s\tremaining: 2.79s\n",
      "665:\tlearn: 0.0000011\ttotal: 9.12s\tremaining: 2.78s\n",
      "666:\tlearn: 0.0000010\ttotal: 9.14s\tremaining: 2.77s\n",
      "667:\tlearn: 0.0000010\ttotal: 9.15s\tremaining: 2.75s\n",
      "668:\tlearn: 0.0000010\ttotal: 9.16s\tremaining: 2.74s\n",
      "669:\tlearn: 0.0000009\ttotal: 9.18s\tremaining: 2.73s\n",
      "670:\tlearn: 0.0000009\ttotal: 9.19s\tremaining: 2.71s\n",
      "671:\tlearn: 0.0000009\ttotal: 9.21s\tremaining: 2.7s\n",
      "672:\tlearn: 0.0000009\ttotal: 9.22s\tremaining: 2.69s\n",
      "673:\tlearn: 0.0000009\ttotal: 9.23s\tremaining: 2.67s\n",
      "674:\tlearn: 0.0000009\ttotal: 9.25s\tremaining: 2.66s\n",
      "675:\tlearn: 0.0000008\ttotal: 9.26s\tremaining: 2.64s\n",
      "676:\tlearn: 0.0000008\ttotal: 9.27s\tremaining: 2.63s\n",
      "677:\tlearn: 0.0000008\ttotal: 9.29s\tremaining: 2.62s\n",
      "678:\tlearn: 0.0000008\ttotal: 9.3s\tremaining: 2.6s\n",
      "679:\tlearn: 0.0000007\ttotal: 9.31s\tremaining: 2.59s\n",
      "680:\tlearn: 0.0000007\ttotal: 9.33s\tremaining: 2.57s\n",
      "681:\tlearn: 0.0000007\ttotal: 9.34s\tremaining: 2.56s\n",
      "682:\tlearn: 0.0000007\ttotal: 9.35s\tremaining: 2.55s\n",
      "683:\tlearn: 0.0000007\ttotal: 9.37s\tremaining: 2.53s\n",
      "684:\tlearn: 0.0000007\ttotal: 9.38s\tremaining: 2.52s\n",
      "685:\tlearn: 0.0000006\ttotal: 9.39s\tremaining: 2.51s\n",
      "686:\tlearn: 0.0000006\ttotal: 9.41s\tremaining: 2.49s\n",
      "687:\tlearn: 0.0000006\ttotal: 9.42s\tremaining: 2.48s\n",
      "688:\tlearn: 0.0000006\ttotal: 9.43s\tremaining: 2.46s\n",
      "689:\tlearn: 0.0000006\ttotal: 9.45s\tremaining: 2.45s\n",
      "690:\tlearn: 0.0000006\ttotal: 9.46s\tremaining: 2.44s\n",
      "691:\tlearn: 0.0000006\ttotal: 9.47s\tremaining: 2.42s\n",
      "692:\tlearn: 0.0000005\ttotal: 9.49s\tremaining: 2.41s\n",
      "693:\tlearn: 0.0000005\ttotal: 9.5s\tremaining: 2.4s\n",
      "694:\tlearn: 0.0000005\ttotal: 9.51s\tremaining: 2.38s\n",
      "695:\tlearn: 0.0000005\ttotal: 9.53s\tremaining: 2.37s\n",
      "696:\tlearn: 0.0000005\ttotal: 9.54s\tremaining: 2.35s\n",
      "697:\tlearn: 0.0000005\ttotal: 9.55s\tremaining: 2.34s\n",
      "698:\tlearn: 0.0000005\ttotal: 9.56s\tremaining: 2.33s\n",
      "699:\tlearn: 0.0000005\ttotal: 9.58s\tremaining: 2.31s\n",
      "700:\tlearn: 0.0000005\ttotal: 9.59s\tremaining: 2.3s\n",
      "701:\tlearn: 0.0000005\ttotal: 9.6s\tremaining: 2.28s\n",
      "702:\tlearn: 0.0000004\ttotal: 9.62s\tremaining: 2.27s\n",
      "703:\tlearn: 0.0000004\ttotal: 9.63s\tremaining: 2.26s\n",
      "704:\tlearn: 0.0000004\ttotal: 9.64s\tremaining: 2.24s\n",
      "705:\tlearn: 0.0000004\ttotal: 9.66s\tremaining: 2.23s\n",
      "706:\tlearn: 0.0000004\ttotal: 9.67s\tremaining: 2.21s\n",
      "707:\tlearn: 0.0000004\ttotal: 9.68s\tremaining: 2.2s\n",
      "708:\tlearn: 0.0000004\ttotal: 9.7s\tremaining: 2.19s\n",
      "709:\tlearn: 0.0000004\ttotal: 9.71s\tremaining: 2.17s\n",
      "710:\tlearn: 0.0000004\ttotal: 9.72s\tremaining: 2.16s\n",
      "711:\tlearn: 0.0000004\ttotal: 9.74s\tremaining: 2.15s\n",
      "712:\tlearn: 0.0000003\ttotal: 9.75s\tremaining: 2.13s\n",
      "713:\tlearn: 0.0000003\ttotal: 9.76s\tremaining: 2.12s\n",
      "714:\tlearn: 0.0000003\ttotal: 9.78s\tremaining: 2.11s\n",
      "715:\tlearn: 0.0000003\ttotal: 9.79s\tremaining: 2.09s\n",
      "716:\tlearn: 0.0000003\ttotal: 9.8s\tremaining: 2.08s\n",
      "717:\tlearn: 0.0000003\ttotal: 9.82s\tremaining: 2.06s\n",
      "718:\tlearn: 0.0000003\ttotal: 9.83s\tremaining: 2.05s\n",
      "719:\tlearn: 0.0000003\ttotal: 9.85s\tremaining: 2.04s\n",
      "720:\tlearn: 0.0000003\ttotal: 9.86s\tremaining: 2.02s\n",
      "721:\tlearn: 0.0000003\ttotal: 9.87s\tremaining: 2.01s\n",
      "722:\tlearn: 0.0000003\ttotal: 9.88s\tremaining: 2s\n",
      "723:\tlearn: 0.0000003\ttotal: 9.9s\tremaining: 1.98s\n",
      "724:\tlearn: 0.0000002\ttotal: 9.91s\tremaining: 1.97s\n",
      "725:\tlearn: 0.0000002\ttotal: 9.92s\tremaining: 1.95s\n",
      "726:\tlearn: 0.0000002\ttotal: 9.94s\tremaining: 1.94s\n",
      "727:\tlearn: 0.0000002\ttotal: 9.95s\tremaining: 1.93s\n",
      "728:\tlearn: 0.0000002\ttotal: 9.96s\tremaining: 1.91s\n",
      "729:\tlearn: 0.0000002\ttotal: 9.98s\tremaining: 1.9s\n",
      "730:\tlearn: 0.0000002\ttotal: 9.99s\tremaining: 1.89s\n",
      "731:\tlearn: 0.0000002\ttotal: 10s\tremaining: 1.87s\n",
      "732:\tlearn: 0.0000002\ttotal: 10s\tremaining: 1.86s\n",
      "733:\tlearn: 0.0000002\ttotal: 10s\tremaining: 1.84s\n",
      "734:\tlearn: 0.0000002\ttotal: 10s\tremaining: 1.83s\n",
      "735:\tlearn: 0.0000002\ttotal: 10.1s\tremaining: 1.82s\n",
      "736:\tlearn: 0.0000002\ttotal: 10.1s\tremaining: 1.8s\n",
      "737:\tlearn: 0.0000002\ttotal: 10.1s\tremaining: 1.79s\n",
      "738:\tlearn: 0.0000002\ttotal: 10.1s\tremaining: 1.78s\n",
      "739:\tlearn: 0.0000002\ttotal: 10.1s\tremaining: 1.76s\n",
      "740:\tlearn: 0.0000002\ttotal: 10.1s\tremaining: 1.75s\n",
      "741:\tlearn: 0.0000002\ttotal: 10.1s\tremaining: 1.73s\n",
      "742:\tlearn: 0.0000002\ttotal: 10.1s\tremaining: 1.72s\n",
      "743:\tlearn: 0.0000002\ttotal: 10.2s\tremaining: 1.71s\n",
      "744:\tlearn: 0.0000001\ttotal: 10.2s\tremaining: 1.69s\n",
      "745:\tlearn: 0.0000001\ttotal: 10.2s\tremaining: 1.68s\n",
      "746:\tlearn: 0.0000001\ttotal: 10.2s\tremaining: 1.67s\n",
      "747:\tlearn: 0.0000001\ttotal: 10.2s\tremaining: 1.65s\n",
      "748:\tlearn: 0.0000001\ttotal: 10.2s\tremaining: 1.64s\n",
      "749:\tlearn: 0.0000001\ttotal: 10.2s\tremaining: 1.63s\n",
      "750:\tlearn: 0.0000001\ttotal: 10.3s\tremaining: 1.61s\n",
      "751:\tlearn: 0.0000001\ttotal: 10.3s\tremaining: 1.6s\n",
      "752:\tlearn: 0.0000001\ttotal: 10.3s\tremaining: 1.58s\n",
      "753:\tlearn: 0.0000001\ttotal: 10.3s\tremaining: 1.57s\n",
      "754:\tlearn: 0.0000001\ttotal: 10.3s\tremaining: 1.56s\n",
      "755:\tlearn: 0.0000001\ttotal: 10.3s\tremaining: 1.54s\n",
      "756:\tlearn: 0.0000001\ttotal: 10.3s\tremaining: 1.53s\n",
      "757:\tlearn: 0.0000001\ttotal: 10.3s\tremaining: 1.51s\n",
      "758:\tlearn: 0.0000001\ttotal: 10.4s\tremaining: 1.5s\n",
      "759:\tlearn: 0.0000001\ttotal: 10.4s\tremaining: 1.49s\n",
      "760:\tlearn: 0.0000001\ttotal: 10.4s\tremaining: 1.47s\n",
      "761:\tlearn: 0.0000001\ttotal: 10.4s\tremaining: 1.46s\n",
      "762:\tlearn: 0.0000001\ttotal: 10.4s\tremaining: 1.45s\n",
      "763:\tlearn: 0.0000001\ttotal: 10.4s\tremaining: 1.43s\n",
      "764:\tlearn: 0.0000001\ttotal: 10.4s\tremaining: 1.42s\n",
      "765:\tlearn: 0.0000001\ttotal: 10.5s\tremaining: 1.41s\n",
      "766:\tlearn: 0.0000001\ttotal: 10.5s\tremaining: 1.39s\n",
      "767:\tlearn: 0.0000001\ttotal: 10.5s\tremaining: 1.38s\n",
      "768:\tlearn: 0.0000001\ttotal: 10.5s\tremaining: 1.36s\n",
      "769:\tlearn: 0.0000001\ttotal: 10.5s\tremaining: 1.35s\n",
      "770:\tlearn: 0.0000001\ttotal: 10.5s\tremaining: 1.34s\n",
      "771:\tlearn: 0.0000001\ttotal: 10.5s\tremaining: 1.32s\n",
      "772:\tlearn: 0.0000001\ttotal: 10.6s\tremaining: 1.31s\n",
      "773:\tlearn: 0.0000001\ttotal: 10.6s\tremaining: 1.3s\n",
      "774:\tlearn: 0.0000001\ttotal: 10.6s\tremaining: 1.28s\n",
      "775:\tlearn: 0.0000001\ttotal: 10.6s\tremaining: 1.27s\n",
      "776:\tlearn: 0.0000001\ttotal: 10.6s\tremaining: 1.26s\n",
      "777:\tlearn: 0.0000001\ttotal: 10.6s\tremaining: 1.24s\n",
      "778:\tlearn: 0.0000001\ttotal: 10.6s\tremaining: 1.23s\n",
      "779:\tlearn: 0.0000001\ttotal: 10.7s\tremaining: 1.22s\n",
      "780:\tlearn: 0.0000001\ttotal: 10.7s\tremaining: 1.2s\n",
      "781:\tlearn: 0.0000001\ttotal: 10.7s\tremaining: 1.19s\n",
      "782:\tlearn: 0.0000001\ttotal: 10.7s\tremaining: 1.17s\n",
      "783:\tlearn: 0.0000001\ttotal: 10.7s\tremaining: 1.16s\n",
      "784:\tlearn: 0.0000001\ttotal: 10.7s\tremaining: 1.15s\n",
      "785:\tlearn: 0.0000001\ttotal: 10.7s\tremaining: 1.13s\n",
      "786:\tlearn: 0.0000001\ttotal: 10.7s\tremaining: 1.12s\n",
      "787:\tlearn: 0.0000001\ttotal: 10.8s\tremaining: 1.11s\n",
      "788:\tlearn: 0.0000001\ttotal: 10.8s\tremaining: 1.09s\n",
      "789:\tlearn: 0.0000000\ttotal: 10.8s\tremaining: 1.08s\n",
      "790:\tlearn: 0.0000000\ttotal: 10.8s\tremaining: 1.06s\n",
      "791:\tlearn: 0.0000000\ttotal: 10.8s\tremaining: 1.05s\n",
      "792:\tlearn: 0.0000000\ttotal: 10.8s\tremaining: 1.04s\n",
      "793:\tlearn: 0.0000000\ttotal: 10.8s\tremaining: 1.02s\n",
      "794:\tlearn: 0.0000000\ttotal: 10.9s\tremaining: 1.01s\n",
      "795:\tlearn: 0.0000000\ttotal: 10.9s\tremaining: 997ms\n",
      "796:\tlearn: 0.0000000\ttotal: 10.9s\tremaining: 983ms\n",
      "797:\tlearn: 0.0000000\ttotal: 10.9s\tremaining: 969ms\n",
      "798:\tlearn: 0.0000000\ttotal: 10.9s\tremaining: 955ms\n",
      "799:\tlearn: 0.0000000\ttotal: 10.9s\tremaining: 942ms\n",
      "800:\tlearn: 0.0000000\ttotal: 10.9s\tremaining: 928ms\n",
      "801:\tlearn: 0.0000000\ttotal: 10.9s\tremaining: 914ms\n",
      "802:\tlearn: 0.0000000\ttotal: 11s\tremaining: 901ms\n",
      "803:\tlearn: 0.0000000\ttotal: 11s\tremaining: 887ms\n",
      "804:\tlearn: 0.0000000\ttotal: 11s\tremaining: 873ms\n",
      "805:\tlearn: 0.0000000\ttotal: 11s\tremaining: 860ms\n",
      "806:\tlearn: 0.0000000\ttotal: 11s\tremaining: 846ms\n",
      "807:\tlearn: 0.0000000\ttotal: 11s\tremaining: 832ms\n",
      "808:\tlearn: 0.0000000\ttotal: 11s\tremaining: 819ms\n",
      "809:\tlearn: 0.0000000\ttotal: 11.1s\tremaining: 805ms\n",
      "810:\tlearn: 0.0000000\ttotal: 11.1s\tremaining: 791ms\n",
      "811:\tlearn: 0.0000000\ttotal: 11.1s\tremaining: 778ms\n",
      "812:\tlearn: 0.0000000\ttotal: 11.1s\tremaining: 764ms\n",
      "813:\tlearn: 0.0000000\ttotal: 11.1s\tremaining: 750ms\n",
      "814:\tlearn: 0.0000000\ttotal: 11.1s\tremaining: 737ms\n",
      "815:\tlearn: 0.0000000\ttotal: 11.1s\tremaining: 723ms\n",
      "816:\tlearn: 0.0000000\ttotal: 11.1s\tremaining: 709ms\n",
      "817:\tlearn: 0.0000000\ttotal: 11.2s\tremaining: 696ms\n",
      "818:\tlearn: 0.0000000\ttotal: 11.2s\tremaining: 682ms\n",
      "819:\tlearn: 0.0000000\ttotal: 11.2s\tremaining: 668ms\n",
      "820:\tlearn: 0.0000000\ttotal: 11.2s\tremaining: 655ms\n",
      "821:\tlearn: 0.0000000\ttotal: 11.2s\tremaining: 641ms\n",
      "822:\tlearn: 0.0000000\ttotal: 11.2s\tremaining: 627ms\n",
      "823:\tlearn: 0.0000000\ttotal: 11.2s\tremaining: 614ms\n",
      "824:\tlearn: 0.0000000\ttotal: 11.3s\tremaining: 600ms\n",
      "825:\tlearn: 0.0000000\ttotal: 11.3s\tremaining: 586ms\n",
      "826:\tlearn: 0.0000000\ttotal: 11.3s\tremaining: 573ms\n",
      "827:\tlearn: 0.0000000\ttotal: 11.3s\tremaining: 559ms\n",
      "828:\tlearn: 0.0000000\ttotal: 11.3s\tremaining: 545ms\n",
      "829:\tlearn: 0.0000000\ttotal: 11.3s\tremaining: 532ms\n",
      "830:\tlearn: 0.0000000\ttotal: 11.3s\tremaining: 518ms\n",
      "831:\tlearn: 0.0000000\ttotal: 11.3s\tremaining: 505ms\n",
      "832:\tlearn: 0.0000000\ttotal: 11.4s\tremaining: 491ms\n",
      "833:\tlearn: 0.0000000\ttotal: 11.4s\tremaining: 477ms\n",
      "834:\tlearn: 0.0000000\ttotal: 11.4s\tremaining: 464ms\n",
      "835:\tlearn: 0.0000000\ttotal: 11.4s\tremaining: 450ms\n",
      "836:\tlearn: 0.0000000\ttotal: 11.4s\tremaining: 436ms\n",
      "837:\tlearn: 0.0000000\ttotal: 11.4s\tremaining: 423ms\n",
      "838:\tlearn: 0.0000000\ttotal: 11.4s\tremaining: 409ms\n",
      "839:\tlearn: 0.0000000\ttotal: 11.4s\tremaining: 395ms\n",
      "840:\tlearn: 0.0000000\ttotal: 11.5s\tremaining: 382ms\n",
      "841:\tlearn: 0.0000000\ttotal: 11.5s\tremaining: 368ms\n",
      "842:\tlearn: 0.0000000\ttotal: 11.5s\tremaining: 354ms\n",
      "843:\tlearn: 0.0000000\ttotal: 11.5s\tremaining: 341ms\n",
      "844:\tlearn: 0.0000000\ttotal: 11.5s\tremaining: 327ms\n",
      "845:\tlearn: 0.0000000\ttotal: 11.5s\tremaining: 314ms\n",
      "846:\tlearn: 0.0000000\ttotal: 11.5s\tremaining: 300ms\n",
      "847:\tlearn: 0.0000000\ttotal: 11.6s\tremaining: 286ms\n",
      "848:\tlearn: 0.0000000\ttotal: 11.6s\tremaining: 273ms\n",
      "849:\tlearn: 0.0000000\ttotal: 11.6s\tremaining: 259ms\n",
      "850:\tlearn: 0.0000000\ttotal: 11.6s\tremaining: 245ms\n",
      "851:\tlearn: 0.0000000\ttotal: 11.6s\tremaining: 232ms\n",
      "852:\tlearn: 0.0000000\ttotal: 11.6s\tremaining: 218ms\n",
      "853:\tlearn: 0.0000000\ttotal: 11.6s\tremaining: 204ms\n",
      "854:\tlearn: 0.0000000\ttotal: 11.7s\tremaining: 191ms\n",
      "855:\tlearn: 0.0000000\ttotal: 11.7s\tremaining: 177ms\n",
      "856:\tlearn: 0.0000000\ttotal: 11.7s\tremaining: 164ms\n",
      "857:\tlearn: 0.0000000\ttotal: 11.7s\tremaining: 150ms\n",
      "858:\tlearn: 0.0000000\ttotal: 11.7s\tremaining: 136ms\n",
      "859:\tlearn: 0.0000000\ttotal: 11.7s\tremaining: 123ms\n",
      "860:\tlearn: 0.0000000\ttotal: 11.7s\tremaining: 109ms\n",
      "861:\tlearn: 0.0000000\ttotal: 11.7s\tremaining: 95.4ms\n",
      "862:\tlearn: 0.0000000\ttotal: 11.8s\tremaining: 81.8ms\n",
      "863:\tlearn: 0.0000000\ttotal: 11.8s\tremaining: 68.1ms\n",
      "864:\tlearn: 0.0000000\ttotal: 11.8s\tremaining: 54.5ms\n",
      "865:\tlearn: 0.0000000\ttotal: 11.8s\tremaining: 40.9ms\n",
      "866:\tlearn: 0.0000000\ttotal: 11.8s\tremaining: 27.3ms\n",
      "867:\tlearn: 0.0000000\ttotal: 11.8s\tremaining: 13.6ms\n",
      "868:\tlearn: 0.0000000\ttotal: 11.8s\tremaining: 0us\n"
     ]
    },
    {
     "data": {
      "text/plain": [
       "<catboost.core.CatBoostRegressor at 0x7efc77b406a0>"
      ]
     },
     "execution_count": 61,
     "metadata": {},
     "output_type": "execute_result"
    }
   ],
   "source": [
    "model = CatBoostRegressor(**best_params)\n",
    "model.fit(X_train, y_train, verbose=True)"
   ]
  },
  {
   "cell_type": "code",
   "execution_count": 62,
   "id": "15f41294-bb01-41a7-8a56-ab4fe7cb36aa",
   "metadata": {
    "execution": {
     "iopub.execute_input": "2024-04-10T12:06:40.913706Z",
     "iopub.status.busy": "2024-04-10T12:06:40.912779Z",
     "iopub.status.idle": "2024-04-10T12:06:40.983005Z",
     "shell.execute_reply": "2024-04-10T12:06:40.981744Z",
     "shell.execute_reply.started": "2024-04-10T12:06:40.913667Z"
    },
    "tags": []
   },
   "outputs": [
    {
     "name": "stdout",
     "output_type": "stream",
     "text": [
      "------Train-----\n",
      "MAPE: 2.09938370258227e-06\n",
      "MAE: 6.274472504178732e-05\n",
      "------Valid-----\n",
      "MAPE: 1.8995376452594341\n",
      "MAE: 41.284329173283695\n",
      "------Test-----\n",
      "MAPE: 0.9014567217784052\n",
      "MAE: 28.603956017384668\n"
     ]
    }
   ],
   "source": [
    "y_pred = model.predict(X_train)\n",
    "print(\"------Train-----\")\n",
    "print(\"MAPE:\", mape(y_train, y_pred))\n",
    "print(\"MAE:\", mean_absolute_error(y_train, y_pred))\n",
    "\n",
    "y_pred = model.predict(X_valid)\n",
    "print(\"------Valid-----\")\n",
    "print(\"MAPE:\", mape(y_valid, y_pred))\n",
    "print(\"MAE:\", mean_absolute_error(y_valid, y_pred))\n",
    "\n",
    "y_pred = model.predict(X_test)\n",
    "print(\"------Test-----\")\n",
    "print(\"MAPE:\", mape(y_test, y_pred))\n",
    "print(\"MAE:\", mean_absolute_error(y_test, y_pred))"
   ]
  },
  {
   "cell_type": "code",
   "execution_count": 63,
   "id": "494ef603-df22-4d13-9f90-f81d1635f9b8",
   "metadata": {
    "execution": {
     "iopub.execute_input": "2024-04-10T12:06:52.841012Z",
     "iopub.status.busy": "2024-04-10T12:06:52.840106Z",
     "iopub.status.idle": "2024-04-10T12:06:54.349794Z",
     "shell.execute_reply": "2024-04-10T12:06:54.348598Z",
     "shell.execute_reply.started": "2024-04-10T12:06:52.840958Z"
    },
    "tags": []
   },
   "outputs": [
    {
     "name": "stdout",
     "output_type": "stream",
     "text": [
      "VALID\n"
     ]
    },
    {
     "data": {
      "image/png": "[encoded data removed]",
      "text/plain": [
       "<Figure size 432x288 with 1 Axes>"
      ]
     },
     "metadata": {
      "needs_background": "light"
     },
     "output_type": "display_data"
    }
   ],
   "source": [
    "print(\"VALID\")\n",
    "plt.plot(valid_df['date'], model.predict(X_valid), label='Predict', color='red')\n",
    "plt.plot(valid_df['date'], y_valid, label='Truth', color='blue')\n",
    "plt.legend()\n",
    "plt.show()"
   ]
  },
  {
   "cell_type": "code",
   "execution_count": 64,
   "id": "c7841f48-3ff0-4ae2-8d79-ed2f8c72aecd",
   "metadata": {
    "execution": {
     "iopub.execute_input": "2024-04-10T12:06:54.917587Z",
     "iopub.status.busy": "2024-04-10T12:06:54.916548Z",
     "iopub.status.idle": "2024-04-10T12:06:56.923543Z",
     "shell.execute_reply": "2024-04-10T12:06:56.922189Z",
     "shell.execute_reply.started": "2024-04-10T12:06:54.917534Z"
    },
    "tags": []
   },
   "outputs": [
    {
     "data": {
      "image/png": "[encoded data removed]",
      "text/plain": [
       "<Figure size 1080x432 with 3 Axes>"
      ]
     },
     "metadata": {
      "needs_background": "light"
     },
     "output_type": "display_data"
    }
   ],
   "source": [
    "build_charts()"
   ]
  },
  {
   "cell_type": "code",
   "execution_count": 65,
   "id": "1f16c817-7794-42be-81da-09e657034265",
   "metadata": {
    "execution": {
     "iopub.execute_input": "2024-04-10T12:07:10.148751Z",
     "iopub.status.busy": "2024-04-10T12:07:10.148066Z",
     "iopub.status.idle": "2024-04-10T12:07:10.223002Z",
     "shell.execute_reply": "2024-04-10T12:07:10.221737Z",
     "shell.execute_reply.started": "2024-04-10T12:07:10.148716Z"
    },
    "scrolled": true,
    "tags": []
   },
   "outputs": [
    {
     "name": "stdout",
     "output_type": "stream",
     "text": [
      "exponential_smoothing: 15.704025233120147\n",
      "double_exponential_smoothing: 12.151999167661634\n",
      "min: 11.493293552896244\n",
      "average: 8.910669909481756\n",
      "close: 7.592877502892455\n",
      "double_exponential_smoothing_window7: 6.531527623380729\n",
      "median: 6.315141450151949\n",
      "max: 6.298528456872287\n",
      "double_exponential_smoothing_window5: 2.8057817736517525\n",
      "open: 2.275262281748796\n",
      "median_window5: 2.154324906061802\n",
      "median_window3: 1.5966091255166814\n",
      "double_exponential_smoothing_window3: 1.0999356599812375\n",
      "exponential_smoothing_window3: 0.9371751075960125\n",
      "median_window2: 0.8955107529978957\n",
      "max_window2: 0.8686971484609044\n",
      "standard_deviation: 0.6229900106998096\n",
      "embed_9: 0.5565338103461384\n",
      "min_window7: 0.5513873037510317\n",
      "average_window3: 0.4660825424779404\n",
      "price_range_average: 0.4637784491848794\n",
      "median_window7: 0.4245115951777689\n",
      "embed_16: 0.3857337697890185\n",
      "embed_20: 0.36788396973313203\n",
      "price_range_average_window5: 0.3250744378085023\n",
      "embed_24: 0.29679855608180683\n",
      "price_range_average_window3: 0.2833061264885754\n",
      "embed_33: 0.27549582721812427\n",
      "max_window5: 0.2615432052028085\n",
      "standard_deviation_window5: 0.24806836453857825\n",
      "standard_deviation_window7: 0.2266849776944389\n",
      "embed_10: 0.22539745612252904\n",
      "average_window2: 0.22401496282946878\n",
      "embed_39: 0.22000100029588376\n",
      "embed_5: 0.21709702678704898\n",
      "embed_44: 0.2154564792037614\n",
      "embed_15: 0.19287449726846947\n",
      "embed_41: 0.19279093247125587\n",
      "embed_22: 0.19224983915968324\n",
      "embed_29: 0.18089054791214382\n",
      "embed_35: 0.177148954116956\n",
      "price_range_average_window7: 0.173934735414645\n",
      "embed_25: 0.16840655890437847\n",
      "embed_11: 0.16633493735725344\n",
      "embed_28: 0.16556516041861224\n",
      "embed_48: 0.1573721522545651\n",
      "embed_42: 0.15431227314463838\n",
      "embed_38: 0.15367637286039193\n",
      "standard_deviation_window2: 0.15257106266675374\n",
      "embed_46: 0.1500123257020899\n",
      "embed_2: 0.14828427610598477\n",
      "embed_7: 0.14001587045901565\n",
      "embed_34: 0.13497176210756778\n",
      "embed_18: 0.13392117324249864\n",
      "embed_26: 0.13144789983177235\n",
      "exponential_smoothing_window5: 0.128481079696439\n",
      "double_exponential_smoothing_window2: 0.12739507187560578\n",
      "embed_49: 0.12457650512101413\n",
      "max_window3: 0.1245280641453525\n",
      "embed_43: 0.12329252971089098\n",
      "embed_0: 0.12133149158713301\n",
      "embed_40: 0.11544727633492662\n",
      "embed_32: 0.11105927098517915\n",
      "embed_21: 0.11032911964586349\n",
      "embed_36: 0.10790253333577564\n",
      "embed_37: 0.0966306673711218\n",
      "embed_47: 0.09503484788026696\n",
      "embed_27: 0.09477597546988564\n",
      "embed_1: 0.086321279963207\n",
      "embed_17: 0.08163688770637297\n",
      "embed_31: 0.07695426983090921\n",
      "min_window3: 0.07427556925996068\n",
      "embed_13: 0.07118357685768835\n",
      "embed_8: 0.06622571865854956\n",
      "price_range_average_window2: 0.06312124367251425\n",
      "embed_6: 0.06214542178270102\n",
      "embed_4: 0.05190908912587776\n",
      "embed_23: 0.05012479578869414\n",
      "embed_12: 0.04973106502554185\n",
      "embed_19: 0.046792677718086664\n",
      "embed_45: 0.03471455984739272\n",
      "embed_30: 0.03459137263614851\n",
      "standard_deviation_window3: 0.030203902481371853\n",
      "max_window7: 0.02328100650792831\n",
      "embed_14: 0.018869785294619086\n",
      "embed_3: 0.018319119923789907\n",
      "min_window5: 0.013308321721818535\n",
      "average_window5: 0.00908662731214115\n",
      "average_window7: 0.00043576578284577845\n",
      "min_window2: 2.6493897864501425e-06\n",
      "exponential_smoothing_window2: 5.250441870214481e-09\n",
      "exponential_smoothing_window7: 0.0\n"
     ]
    }
   ],
   "source": [
    "feature_importances = model.get_feature_importance(type='FeatureImportance')\n",
    "feature_names = X_train.columns\n",
    "importance_dict = dict(zip(feature_names, feature_importances))\n",
    "sorted_importance_dict = dict(sorted(importance_dict.items(), key=lambda item: item[1], reverse=True))\n",
    "for feature, importance in sorted_importance_dict.items():\n",
    "    print(f\"{feature}: {importance}\")"
   ]
  },
  {
   "cell_type": "code",
   "execution_count": 47,
   "id": "4b992543-e66a-4add-93a3-42829eb7e5d2",
   "metadata": {
    "execution": {
     "iopub.execute_input": "2024-04-10T12:02:10.369234Z",
     "iopub.status.busy": "2024-04-10T12:02:10.368337Z",
     "iopub.status.idle": "2024-04-10T12:02:14.379909Z",
     "shell.execute_reply": "2024-04-10T12:02:14.378741Z",
     "shell.execute_reply.started": "2024-04-10T12:02:10.369200Z"
    },
    "tags": []
   },
   "outputs": [],
   "source": [
    "mlflow.start_run()\n",
    "\n",
    "params = model.get_params()\n",
    "for key, value in params.items():\n",
    "    mlflow.log_param(key, value)\n",
    "    \n",
    "mlflow.log_metric(\"mape_train\", mape(y_train, model.predict(X_train)))\n",
    "mlflow.log_metric(\"mape_valid\", mape(y_valid, model.predict(X_valid)))\n",
    "mlflow.log_metric(\"mape_test\", mape(y_test, model.predict(X_test)))\n",
    "\n",
    "mlflow.catboost.log_model(model, \"catboost_dataset_v3\")\n",
    "\n",
    "mlflow.end_run()"
   ]
  },
  {
   "cell_type": "markdown",
   "id": "7975382c-1e28-4b33-851a-06a249c785f0",
   "metadata": {},
   "source": [
    "## Drop by importance"
   ]
  },
  {
   "cell_type": "code",
   "execution_count": 66,
   "id": "2515a7ce-5153-4e1d-8934-ef3324e74360",
   "metadata": {
    "execution": {
     "iopub.execute_input": "2024-04-10T12:08:09.713482Z",
     "iopub.status.busy": "2024-04-10T12:08:09.712472Z",
     "iopub.status.idle": "2024-04-10T12:08:09.732061Z",
     "shell.execute_reply": "2024-04-10T12:08:09.731070Z",
     "shell.execute_reply.started": "2024-04-10T12:08:09.713438Z"
    },
    "tags": []
   },
   "outputs": [
    {
     "name": "stdout",
     "output_type": "stream",
     "text": [
      "['max_window2', 'standard_deviation', 'embed_9', 'min_window7', 'average_window3', 'price_range_average', 'median_window7', 'embed_16', 'embed_20', 'price_range_average_window5', 'embed_24', 'price_range_average_window3', 'embed_33', 'max_window5', 'standard_deviation_window5', 'standard_deviation_window7', 'embed_10', 'average_window2', 'embed_39', 'embed_5', 'embed_44', 'embed_15', 'embed_41', 'embed_22', 'embed_29', 'embed_35', 'price_range_average_window7', 'embed_25', 'embed_11', 'embed_28', 'embed_48', 'embed_42', 'embed_38', 'standard_deviation_window2', 'embed_46', 'embed_2', 'embed_7', 'embed_34', 'embed_18', 'embed_26', 'exponential_smoothing_window5', 'double_exponential_smoothing_window2', 'embed_49', 'max_window3', 'embed_43', 'embed_0', 'embed_40', 'embed_32', 'embed_21', 'embed_36', 'embed_37', 'embed_47', 'embed_27', 'embed_1', 'embed_17', 'embed_31', 'min_window3', 'embed_13', 'embed_8', 'price_range_average_window2', 'embed_6', 'embed_4', 'embed_23', 'embed_12', 'embed_19', 'embed_45', 'embed_30', 'standard_deviation_window3', 'max_window7', 'embed_14', 'embed_3', 'min_window5', 'average_window5', 'average_window7', 'min_window2', 'exponential_smoothing_window2', 'exponential_smoothing_window7']\n"
     ]
    }
   ],
   "source": [
    "rubish = []\n",
    "for feature, importance in sorted_importance_dict.items():\n",
    "    if importance < 0.89:\n",
    "        rubish.append(feature)\n",
    "print(rubish)"
   ]
  },
  {
   "cell_type": "code",
   "execution_count": 67,
   "id": "46b0a244-13ac-4919-a904-f0f3e6c7a1e3",
   "metadata": {
    "execution": {
     "iopub.execute_input": "2024-04-10T12:08:16.217812Z",
     "iopub.status.busy": "2024-04-10T12:08:16.217018Z",
     "iopub.status.idle": "2024-04-10T12:08:16.241064Z",
     "shell.execute_reply": "2024-04-10T12:08:16.239964Z",
     "shell.execute_reply.started": "2024-04-10T12:08:16.217779Z"
    },
    "tags": []
   },
   "outputs": [
    {
     "data": {
      "text/plain": [
       "((847, 17), (182, 17), (182, 17))"
      ]
     },
     "execution_count": 67,
     "metadata": {},
     "output_type": "execute_result"
    }
   ],
   "source": [
    "train_df = train_df.drop(columns=rubish)\n",
    "valid_df = valid_df.drop(columns=rubish)\n",
    "test_df = test_df.drop(columns=rubish)\n",
    "train_df.shape, valid_df.shape, test_df.shape"
   ]
  },
  {
   "cell_type": "code",
   "execution_count": 68,
   "id": "4321a6d0-7fc9-4774-8dd4-ced05c143606",
   "metadata": {
    "execution": {
     "iopub.execute_input": "2024-04-10T12:08:18.600652Z",
     "iopub.status.busy": "2024-04-10T12:08:18.599591Z",
     "iopub.status.idle": "2024-04-10T12:08:18.629727Z",
     "shell.execute_reply": "2024-04-10T12:08:18.628236Z",
     "shell.execute_reply.started": "2024-04-10T12:08:18.600600Z"
    },
    "tags": []
   },
   "outputs": [],
   "source": [
    "X_train, y_train = train_df.drop(columns=['date', 'target']), train_df['target']\n",
    "X_valid, y_valid = valid_df.drop(columns=['date', 'target']), valid_df['target']\n",
    "X_test, y_test = test_df.drop(columns=['date', 'target']), test_df['target']"
   ]
  },
  {
   "cell_type": "code",
   "execution_count": 70,
   "id": "89837161-2d67-4ec8-8036-5115e44c68c2",
   "metadata": {
    "execution": {
     "iopub.execute_input": "2024-04-10T12:08:28.471182Z",
     "iopub.status.busy": "2024-04-10T12:08:28.470332Z",
     "iopub.status.idle": "2024-04-10T12:08:30.914353Z",
     "shell.execute_reply": "2024-04-10T12:08:30.913060Z",
     "shell.execute_reply.started": "2024-04-10T12:08:28.471128Z"
    },
    "tags": []
   },
   "outputs": [
    {
     "data": {
      "text/plain": [
       "<catboost.core.CatBoostRegressor at 0x7efc7b762890>"
      ]
     },
     "execution_count": 70,
     "metadata": {},
     "output_type": "execute_result"
    }
   ],
   "source": [
    "model = CatBoostRegressor(**best_params)\n",
    "model.fit(X_train, y_train, verbose=False)"
   ]
  },
  {
   "cell_type": "code",
   "execution_count": 71,
   "id": "ab153ae4-63f8-4e7f-9fcc-b2653f3ed434",
   "metadata": {
    "execution": {
     "iopub.execute_input": "2024-04-10T12:08:36.011802Z",
     "iopub.status.busy": "2024-04-10T12:08:36.010757Z",
     "iopub.status.idle": "2024-04-10T12:08:37.638050Z",
     "shell.execute_reply": "2024-04-10T12:08:37.636830Z",
     "shell.execute_reply.started": "2024-04-10T12:08:36.011752Z"
    },
    "tags": []
   },
   "outputs": [
    {
     "name": "stdout",
     "output_type": "stream",
     "text": [
      "VALID\n"
     ]
    },
    {
     "data": {
      "image/png": "[encoded data removed]",
      "text/plain": [
       "<Figure size 432x288 with 1 Axes>"
      ]
     },
     "metadata": {
      "needs_background": "light"
     },
     "output_type": "display_data"
    }
   ],
   "source": [
    "print(\"VALID\")\n",
    "plt.plot(valid_df['date'], model.predict(X_valid), label='Predict', color='red')\n",
    "plt.plot(valid_df['date'], y_valid, label='Truth', color='blue')\n",
    "plt.legend()\n",
    "plt.show()"
   ]
  },
  {
   "cell_type": "code",
   "execution_count": 72,
   "id": "f3c1e34d-6ad9-4bd2-8b25-eebc352f075d",
   "metadata": {
    "execution": {
     "iopub.execute_input": "2024-04-10T12:08:41.849034Z",
     "iopub.status.busy": "2024-04-10T12:08:41.848087Z",
     "iopub.status.idle": "2024-04-10T12:08:43.710299Z",
     "shell.execute_reply": "2024-04-10T12:08:43.708717Z",
     "shell.execute_reply.started": "2024-04-10T12:08:41.848998Z"
    },
    "tags": []
   },
   "outputs": [
    {
     "ename": "KeyError",
     "evalue": "'exponential_smoothing_window7'",
     "output_type": "error",
     "traceback": [
      "\u001b[0;31m---------------------------------------------------------------------------\u001b[0m",
      "\u001b[0;31mKeyError\u001b[0m                                  Traceback (most recent call last)",
      "\u001b[0;32m~/.local/lib/python3.10/site-packages/pandas/core/indexes/base.py\u001b[0m in \u001b[0;36mget_loc\u001b[0;34m(self, key)\u001b[0m\n\u001b[1;32m   3804\u001b[0m         \u001b[0;32mtry\u001b[0m\u001b[0;34m:\u001b[0m\u001b[0;34m\u001b[0m\u001b[0;34m\u001b[0m\u001b[0m\n\u001b[0;32m-> 3805\u001b[0;31m             \u001b[0;32mreturn\u001b[0m \u001b[0mself\u001b[0m\u001b[0;34m.\u001b[0m\u001b[0m_engine\u001b[0m\u001b[0;34m.\u001b[0m\u001b[0mget_loc\u001b[0m\u001b[0;34m(\u001b[0m\u001b[0mcasted_key\u001b[0m\u001b[0;34m)\u001b[0m\u001b[0;34m\u001b[0m\u001b[0;34m\u001b[0m\u001b[0m\n\u001b[0m\u001b[1;32m   3806\u001b[0m         \u001b[0;32mexcept\u001b[0m \u001b[0mKeyError\u001b[0m \u001b[0;32mas\u001b[0m \u001b[0merr\u001b[0m\u001b[0;34m:\u001b[0m\u001b[0;34m\u001b[0m\u001b[0;34m\u001b[0m\u001b[0m\n",
      "\u001b[0;32mindex.pyx\u001b[0m in \u001b[0;36mpandas._libs.index.IndexEngine.get_loc\u001b[0;34m()\u001b[0m\n",
      "\u001b[0;32mindex.pyx\u001b[0m in \u001b[0;36mpandas._libs.index.IndexEngine.get_loc\u001b[0;34m()\u001b[0m\n",
      "\u001b[0;32mpandas/_libs/hashtable_class_helper.pxi\u001b[0m in \u001b[0;36mpandas._libs.hashtable.PyObjectHashTable.get_item\u001b[0;34m()\u001b[0m\n",
      "\u001b[0;32mpandas/_libs/hashtable_class_helper.pxi\u001b[0m in \u001b[0;36mpandas._libs.hashtable.PyObjectHashTable.get_item\u001b[0;34m()\u001b[0m\n",
      "\u001b[0;31mKeyError\u001b[0m: 'exponential_smoothing_window7'",
      "\nThe above exception was the direct cause of the following exception:\n",
      "\u001b[0;31mKeyError\u001b[0m                                  Traceback (most recent call last)",
      "\u001b[0;32m<ipython-input-72-81f805ba89a3>\u001b[0m in \u001b[0;36m<module>\u001b[0;34m\u001b[0m\n\u001b[0;32m----> 1\u001b[0;31m \u001b[0mbuild_charts\u001b[0m\u001b[0;34m(\u001b[0m\u001b[0;34m)\u001b[0m\u001b[0;34m\u001b[0m\u001b[0;34m\u001b[0m\u001b[0m\n\u001b[0m",
      "\u001b[0;32m<ipython-input-36-7b66017dff35>\u001b[0m in \u001b[0;36mbuild_charts\u001b[0;34m()\u001b[0m\n\u001b[1;32m      7\u001b[0m     \u001b[0maxs\u001b[0m\u001b[0;34m[\u001b[0m\u001b[0;36m0\u001b[0m\u001b[0;34m]\u001b[0m\u001b[0;34m.\u001b[0m\u001b[0mlegend\u001b[0m\u001b[0;34m(\u001b[0m\u001b[0;34m)\u001b[0m\u001b[0;34m\u001b[0m\u001b[0;34m\u001b[0m\u001b[0m\n\u001b[1;32m      8\u001b[0m \u001b[0;34m\u001b[0m\u001b[0m\n\u001b[0;32m----> 9\u001b[0;31m     \u001b[0maxs\u001b[0m\u001b[0;34m[\u001b[0m\u001b[0;36m1\u001b[0m\u001b[0;34m]\u001b[0m\u001b[0;34m.\u001b[0m\u001b[0mplot\u001b[0m\u001b[0;34m(\u001b[0m\u001b[0mtest_df\u001b[0m\u001b[0;34m[\u001b[0m\u001b[0;34m'date'\u001b[0m\u001b[0;34m]\u001b[0m\u001b[0;34m,\u001b[0m \u001b[0mtest_df\u001b[0m\u001b[0;34m[\u001b[0m\u001b[0;34m'exponential_smoothing_window7'\u001b[0m\u001b[0;34m]\u001b[0m\u001b[0;34m,\u001b[0m \u001b[0mlabel\u001b[0m\u001b[0;34m=\u001b[0m\u001b[0;34m'Exp smoothing'\u001b[0m\u001b[0;34m,\u001b[0m \u001b[0mcolor\u001b[0m\u001b[0;34m=\u001b[0m\u001b[0;34m'red'\u001b[0m\u001b[0;34m)\u001b[0m\u001b[0;34m\u001b[0m\u001b[0;34m\u001b[0m\u001b[0m\n\u001b[0m\u001b[1;32m     10\u001b[0m     \u001b[0maxs\u001b[0m\u001b[0;34m[\u001b[0m\u001b[0;36m1\u001b[0m\u001b[0;34m]\u001b[0m\u001b[0;34m.\u001b[0m\u001b[0mplot\u001b[0m\u001b[0;34m(\u001b[0m\u001b[0mtest_df\u001b[0m\u001b[0;34m[\u001b[0m\u001b[0;34m'date'\u001b[0m\u001b[0;34m]\u001b[0m\u001b[0;34m,\u001b[0m \u001b[0my_test\u001b[0m\u001b[0;34m,\u001b[0m \u001b[0mlabel\u001b[0m\u001b[0;34m=\u001b[0m\u001b[0;34m'Truth'\u001b[0m\u001b[0;34m,\u001b[0m \u001b[0mcolor\u001b[0m\u001b[0;34m=\u001b[0m\u001b[0;34m'blue'\u001b[0m\u001b[0;34m)\u001b[0m\u001b[0;34m\u001b[0m\u001b[0;34m\u001b[0m\u001b[0m\n\u001b[1;32m     11\u001b[0m     \u001b[0maxs\u001b[0m\u001b[0;34m[\u001b[0m\u001b[0;36m1\u001b[0m\u001b[0;34m]\u001b[0m\u001b[0;34m.\u001b[0m\u001b[0mset_title\u001b[0m\u001b[0;34m(\u001b[0m\u001b[0;34m'Exponential Smoothing vs. Truth'\u001b[0m\u001b[0;34m)\u001b[0m\u001b[0;34m\u001b[0m\u001b[0;34m\u001b[0m\u001b[0m\n",
      "\u001b[0;32m~/.local/lib/python3.10/site-packages/pandas/core/frame.py\u001b[0m in \u001b[0;36m__getitem__\u001b[0;34m(self, key)\u001b[0m\n\u001b[1;32m   4088\u001b[0m             \u001b[0;32mif\u001b[0m \u001b[0mself\u001b[0m\u001b[0;34m.\u001b[0m\u001b[0mcolumns\u001b[0m\u001b[0;34m.\u001b[0m\u001b[0mnlevels\u001b[0m \u001b[0;34m>\u001b[0m \u001b[0;36m1\u001b[0m\u001b[0;34m:\u001b[0m\u001b[0;34m\u001b[0m\u001b[0;34m\u001b[0m\u001b[0m\n\u001b[1;32m   4089\u001b[0m                 \u001b[0;32mreturn\u001b[0m \u001b[0mself\u001b[0m\u001b[0;34m.\u001b[0m\u001b[0m_getitem_multilevel\u001b[0m\u001b[0;34m(\u001b[0m\u001b[0mkey\u001b[0m\u001b[0;34m)\u001b[0m\u001b[0;34m\u001b[0m\u001b[0;34m\u001b[0m\u001b[0m\n\u001b[0;32m-> 4090\u001b[0;31m             \u001b[0mindexer\u001b[0m \u001b[0;34m=\u001b[0m \u001b[0mself\u001b[0m\u001b[0;34m.\u001b[0m\u001b[0mcolumns\u001b[0m\u001b[0;34m.\u001b[0m\u001b[0mget_loc\u001b[0m\u001b[0;34m(\u001b[0m\u001b[0mkey\u001b[0m\u001b[0;34m)\u001b[0m\u001b[0;34m\u001b[0m\u001b[0;34m\u001b[0m\u001b[0m\n\u001b[0m\u001b[1;32m   4091\u001b[0m             \u001b[0;32mif\u001b[0m \u001b[0mis_integer\u001b[0m\u001b[0;34m(\u001b[0m\u001b[0mindexer\u001b[0m\u001b[0;34m)\u001b[0m\u001b[0;34m:\u001b[0m\u001b[0;34m\u001b[0m\u001b[0;34m\u001b[0m\u001b[0m\n\u001b[1;32m   4092\u001b[0m                 \u001b[0mindexer\u001b[0m \u001b[0;34m=\u001b[0m \u001b[0;34m[\u001b[0m\u001b[0mindexer\u001b[0m\u001b[0;34m]\u001b[0m\u001b[0;34m\u001b[0m\u001b[0;34m\u001b[0m\u001b[0m\n",
      "\u001b[0;32m~/.local/lib/python3.10/site-packages/pandas/core/indexes/base.py\u001b[0m in \u001b[0;36mget_loc\u001b[0;34m(self, key)\u001b[0m\n\u001b[1;32m   3810\u001b[0m             ):\n\u001b[1;32m   3811\u001b[0m                 \u001b[0;32mraise\u001b[0m \u001b[0mInvalidIndexError\u001b[0m\u001b[0;34m(\u001b[0m\u001b[0mkey\u001b[0m\u001b[0;34m)\u001b[0m\u001b[0;34m\u001b[0m\u001b[0;34m\u001b[0m\u001b[0m\n\u001b[0;32m-> 3812\u001b[0;31m             \u001b[0;32mraise\u001b[0m \u001b[0mKeyError\u001b[0m\u001b[0;34m(\u001b[0m\u001b[0mkey\u001b[0m\u001b[0;34m)\u001b[0m \u001b[0;32mfrom\u001b[0m \u001b[0merr\u001b[0m\u001b[0;34m\u001b[0m\u001b[0;34m\u001b[0m\u001b[0m\n\u001b[0m\u001b[1;32m   3813\u001b[0m         \u001b[0;32mexcept\u001b[0m \u001b[0mTypeError\u001b[0m\u001b[0;34m:\u001b[0m\u001b[0;34m\u001b[0m\u001b[0;34m\u001b[0m\u001b[0m\n\u001b[1;32m   3814\u001b[0m             \u001b[0;31m# If we have a listlike key, _check_indexing_error will raise\u001b[0m\u001b[0;34m\u001b[0m\u001b[0;34m\u001b[0m\u001b[0m\n",
      "\u001b[0;31mKeyError\u001b[0m: 'exponential_smoothing_window7'"
     ]
    },
    {
     "data": {
      "image/png": "[encoded data removed]",
      "text/plain": [
       "<Figure size 1080x432 with 3 Axes>"
      ]
     },
     "metadata": {
      "needs_background": "light"
     },
     "output_type": "display_data"
    }
   ],
   "source": [
    "build_charts()"
   ]
  },
  {
   "cell_type": "code",
   "execution_count": 54,
   "id": "039b59b4-4d37-43c4-85af-9c9bb0484ad4",
   "metadata": {
    "execution": {
     "iopub.execute_input": "2024-04-10T12:03:57.973958Z",
     "iopub.status.busy": "2024-04-10T12:03:57.972808Z",
     "iopub.status.idle": "2024-04-10T12:03:58.012980Z",
     "shell.execute_reply": "2024-04-10T12:03:58.011860Z",
     "shell.execute_reply.started": "2024-04-10T12:03:57.973921Z"
    },
    "tags": []
   },
   "outputs": [
    {
     "name": "stdout",
     "output_type": "stream",
     "text": [
      "------Train-----\n",
      "MAPE: 0.3561429612431574\n",
      "MAE: 10.63451623212687\n",
      "------Valid-----\n",
      "MAPE: 1.7560319427176527\n",
      "MAE: 37.79619635184353\n",
      "------Test-----\n",
      "MAPE: 0.8292086432459862\n",
      "MAE: 26.226014360005966\n"
     ]
    }
   ],
   "source": [
    "y_pred = model.predict(X_train)\n",
    "print(\"------Train-----\")\n",
    "print(\"MAPE:\", mape(y_train, y_pred))\n",
    "print(\"MAE:\", mean_absolute_error(y_train, y_pred))\n",
    "\n",
    "y_pred = model.predict(X_valid)\n",
    "print(\"------Valid-----\")\n",
    "print(\"MAPE:\", mape(y_valid, y_pred))\n",
    "print(\"MAE:\", mean_absolute_error(y_valid, y_pred))\n",
    "\n",
    "y_pred = model.predict(X_test)\n",
    "print(\"------Test-----\")\n",
    "print(\"MAPE:\", mape(y_test, y_pred))\n",
    "print(\"MAE:\", mean_absolute_error(y_test, y_pred))"
   ]
  },
  {
   "cell_type": "code",
   "execution_count": 73,
   "id": "f1ad6198-2951-4aa3-9bc7-fdd3348923c7",
   "metadata": {
    "execution": {
     "iopub.execute_input": "2024-04-10T12:09:38.962385Z",
     "iopub.status.busy": "2024-04-10T12:09:38.961326Z",
     "iopub.status.idle": "2024-04-10T12:09:42.843517Z",
     "shell.execute_reply": "2024-04-10T12:09:42.842273Z",
     "shell.execute_reply.started": "2024-04-10T12:09:38.962350Z"
    },
    "tags": []
   },
   "outputs": [],
   "source": [
    "mlflow.start_run()\n",
    "\n",
    "params = model.get_params()\n",
    "for key, value in params.items():\n",
    "    mlflow.log_param(key, value)\n",
    "    \n",
    "mlflow.log_metric(\"mape_train\", mape(y_train, model.predict(X_train)))\n",
    "mlflow.log_metric(\"mape_valid\", mape(y_valid, model.predict(X_valid)))\n",
    "mlflow.log_metric(\"mape_test\", mape(y_test, model.predict(X_test)))\n",
    "\n",
    "mlflow.catboost.log_model(model, \"catboost_dataset_v3_17_fea\")\n",
    "\n",
    "mlflow.end_run()"
   ]
  },
  {
   "cell_type": "code",
   "execution_count": null,
   "id": "d0378425-8a7a-4e7e-a58f-2e742b5e32a0",
   "metadata": {},
   "outputs": [],
   "source": []
  }
 ],
 "metadata": {
  "kernelspec": {
   "display_name": "DataSphere Kernel",
   "language": "python",
   "name": "python3"
  },
  "language_info": {
   "codemirror_mode": {
    "name": "ipython",
    "version": 3
   },
   "file_extension": ".py",
   "mimetype": "text/x-python",
   "name": "python",
   "nbconvert_exporter": "python",
   "pygments_lexer": "ipython3",
   "version": "3.10.12"
  }
 },
 "nbformat": 4,
 "nbformat_minor": 5
}
