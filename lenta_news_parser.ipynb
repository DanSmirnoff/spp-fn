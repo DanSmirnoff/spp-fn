{
 "cells": [
  {
   "cell_type": "code",
   "execution_count": 11,
   "id": "initial_id",
   "metadata": {
    "collapsed": true,
    "ExecuteTime": {
     "end_time": "2024-04-04T18:01:54.181187Z",
     "start_time": "2024-04-04T18:01:50.381472Z"
    }
   },
   "outputs": [
    {
     "name": "stdout",
     "output_type": "stream",
     "text": [
      "Requirement already satisfied: bs4 in /Library/Frameworks/Python.framework/Versions/3.12/lib/python3.12/site-packages (0.0.2)\r\n",
      "Requirement already satisfied: beautifulsoup4 in /Library/Frameworks/Python.framework/Versions/3.12/lib/python3.12/site-packages (from bs4) (4.12.3)\r\n",
      "Requirement already satisfied: soupsieve>1.2 in /Library/Frameworks/Python.framework/Versions/3.12/lib/python3.12/site-packages (from beautifulsoup4->bs4) (2.5)\r\n",
      "Requirement already satisfied: openpyxl in /Library/Frameworks/Python.framework/Versions/3.12/lib/python3.12/site-packages (3.1.2)\r\n",
      "Requirement already satisfied: et-xmlfile in /Library/Frameworks/Python.framework/Versions/3.12/lib/python3.12/site-packages (from openpyxl) (1.1.0)\r\n",
      "Collecting fake_useragent\r\n",
      "  Downloading fake_useragent-1.5.1-py3-none-any.whl.metadata (15 kB)\r\n",
      "Downloading fake_useragent-1.5.1-py3-none-any.whl (17 kB)\r\n",
      "Installing collected packages: fake_useragent\r\n",
      "Successfully installed fake_useragent-1.5.1\r\n"
     ]
    }
   ],
   "source": [
    "!pip install bs4\n",
    "!pip install openpyxl\n",
    "!pip install fake_useragent"
   ]
  },
  {
   "cell_type": "code",
   "outputs": [],
   "source": [
    "import requests as rq\n",
    "from bs4 import BeautifulSoup\n",
    "import pandas as pd\n",
    "import numpy as np\n",
    "from datetime import datetime, timedelta\n",
    "from IPython import display"
   ],
   "metadata": {
    "collapsed": false,
    "ExecuteTime": {
     "end_time": "2024-04-07T06:46:44.788286Z",
     "start_time": "2024-04-07T06:46:43.847048Z"
    }
   },
   "id": "1f1ceed129638b3a",
   "execution_count": 3
  },
  {
   "cell_type": "code",
   "outputs": [
    {
     "data": {
      "text/plain": "'Mozilla/5.0 (Windows NT 10.0; Win64; x64) AppleWebKit/537.36 (KHTML, like Gecko) Chrome/122.0.0.0 Safari/537.36 Config/92.2.2788.20'"
     },
     "execution_count": 4,
     "metadata": {},
     "output_type": "execute_result"
    }
   ],
   "source": [
    "from fake_useragent import UserAgent\n",
    "UserAgent().chrome"
   ],
   "metadata": {
    "collapsed": false,
    "ExecuteTime": {
     "end_time": "2024-04-07T06:46:45.253782Z",
     "start_time": "2024-04-07T06:46:45.229584Z"
    }
   },
   "id": "b2b9453b2587c3d5",
   "execution_count": 4
  },
  {
   "cell_type": "code",
   "outputs": [],
   "source": [
    "class lentaRu_parser:\n",
    "    def __init__(self):\n",
    "        pass\n",
    "\n",
    "    def _get_url(self, param_dict: dict) -> str:\n",
    "\n",
    "        hasType = int(param_dict['type']) != 0\n",
    "        hasBloc = int(param_dict['bloc']) != 0\n",
    "\n",
    "        url = 'https://lenta.ru/search/v2/process?' \\\n",
    "              + 'from={}&'.format(param_dict['from']) \\\n",
    "              + 'size={}&'.format(param_dict['size']) \\\n",
    "              + 'sort={}&'.format(param_dict['sort']) \\\n",
    "              + 'title_only={}&'.format(param_dict['title_only']) \\\n",
    "              + 'domain={}&'.format(param_dict['domain']) \\\n",
    "              + 'modified%2Cformat=yyyy-MM-dd&' \\\n",
    "              + 'type={}&'.format(param_dict['type']) * hasType \\\n",
    "              + 'bloc={}&'.format(param_dict['bloc']) * hasBloc \\\n",
    "              + 'modified%2Cfrom={}&'.format(param_dict['dateFrom']) \\\n",
    "              + 'modified%2Cto={}&'.format(param_dict['dateTo']) \\\n",
    "              + 'query={}'.format(param_dict['query'])\n",
    "\n",
    "        return url\n",
    "\n",
    "    def _get_search_table(self, param_dict: dict) -> pd.DataFrame:\n",
    "        \"\"\"\n",
    "        Возвращает pd.DataFrame со списком статей\n",
    "        \"\"\"\n",
    "        url = self._get_url(param_dict)\n",
    "        r = rq.get(url)\n",
    "        search_table = pd.DataFrame(r.json()['matches'])\n",
    "\n",
    "        return search_table\n",
    "\n",
    "    def get_articles(self,\n",
    "                     param_dict,\n",
    "                     time_step=37,\n",
    "                     save_every=5,\n",
    "                     save_excel=True) -> pd.DataFrame:\n",
    "        \"\"\"\n",
    "        Функция для скачивания статей интервалами через каждые time_step дней\n",
    "        Делает сохранение таблицы через каждые save_every * time_step дней\n",
    "\n",
    "        param_dict: dict\n",
    "        ### Параметры запроса\n",
    "        ###### project - раздел поиска, например, rbcnews\n",
    "        ###### category - категория поиска, например, TopRbcRu_economics\n",
    "        ###### dateFrom - с даты\n",
    "        ###### dateTo - по дату\n",
    "        ###### offset - смещение поисковой выдачи\n",
    "        ###### limit - лимит статей, максимум 100\n",
    "        ###### query - поисковой запрос (ключевое слово), например, РБК\n",
    "\n",
    "        \"\"\"\n",
    "        param_copy = param_dict.copy()\n",
    "        time_step = timedelta(days=time_step)\n",
    "        dateFrom = datetime.strptime(param_copy['dateFrom'], '%Y-%m-%d')\n",
    "        dateTo = datetime.strptime(param_copy['dateTo'], '%Y-%m-%d')\n",
    "        if dateFrom > dateTo:\n",
    "            raise ValueError('dateFrom should be less than dateTo')\n",
    "\n",
    "        out = pd.DataFrame()\n",
    "        save_counter = 0\n",
    "\n",
    "        while dateFrom <= dateTo:\n",
    "            param_copy['dateTo'] = (dateFrom + time_step).strftime('%Y-%m-%d')\n",
    "            if dateFrom + time_step > dateTo:\n",
    "                param_copy['dateTo'] = dateTo.strftime('%Y-%m-%d')\n",
    "            print('Parsing articles from ' \\\n",
    "                  + param_copy['dateFrom'] + ' to ' + param_copy['dateTo'])\n",
    "            out = pd.concat([out, self._get_search_table(param_copy)], ignore_index=True)\n",
    "            dateFrom += time_step + timedelta(days=1)\n",
    "            param_copy['dateFrom'] = dateFrom.strftime('%Y-%m-%d')\n",
    "            save_counter += 1\n",
    "            if save_counter == save_every:\n",
    "                display.clear_output(wait=True)\n",
    "                out.to_excel(\"checkpoint_table.xlsx\")\n",
    "                print('Checkpoint saved!')\n",
    "                save_counter = 0\n",
    "\n",
    "        if save_excel:\n",
    "            out.to_excel(\"lenta_{}_{}.xlsx\".format(\n",
    "                param_dict['dateFrom'],\n",
    "                param_dict['dateTo']))\n",
    "        print('Finish')\n",
    "\n",
    "        return out"
   ],
   "metadata": {
    "collapsed": false,
    "ExecuteTime": {
     "end_time": "2024-04-07T07:25:34.019666Z",
     "start_time": "2024-04-07T07:25:33.993919Z"
    }
   },
   "id": "a8b69d7b62ec5279",
   "execution_count": 9
  },
  {
   "cell_type": "code",
   "outputs": [
    {
     "name": "stdout",
     "output_type": "stream",
     "text": [
      "LentaRu - param_dict: {'query': '', 'from': '0', 'size': '1000', 'dateFrom': '2021-04-01', 'dateTo': '2022-04-04', 'sort': '3', 'title_only': '0', 'type': '0', 'bloc': '4', 'domain': '1'}\n"
     ]
    }
   ],
   "source": [
    "use_parser = \"LentaRu\"\n",
    "\n",
    "query = ''\n",
    "offset = 0\n",
    "size = 1000\n",
    "sort = \"3\"\n",
    "title_only = \"0\"\n",
    "domain = \"1\"\n",
    "material = \"0\"\n",
    "bloc = \"4\" # экономика\n",
    "dateFrom = '2021-04-01'\n",
    "dateTo = \"2022-04-04\"\n",
    "\n",
    "if use_parser == \"LentaRu\":\n",
    "    param_dict = {'query'     : query, \n",
    "                  'from'      : str(offset),\n",
    "                  'size'      : str(size),\n",
    "                  'dateFrom'  : dateFrom,\n",
    "                  'dateTo'    : dateTo,\n",
    "                  'sort'      : sort,\n",
    "                  'title_only': title_only,\n",
    "                  'type'      : material, \n",
    "                  'bloc'      : bloc,\n",
    "                  'domain'    : domain}\n",
    "\n",
    "print(use_parser, \"- param_dict:\", param_dict)"
   ],
   "metadata": {
    "collapsed": false,
    "ExecuteTime": {
     "end_time": "2024-04-07T07:34:18.331264Z",
     "start_time": "2024-04-07T07:34:18.323532Z"
    }
   },
   "id": "f405fb9a7a31f622",
   "execution_count": 15
  },
  {
   "cell_type": "code",
   "outputs": [
    {
     "name": "stdout",
     "output_type": "stream",
     "text": [
      "Checkpoint saved!\n",
      "Parsing articles from 2022-02-25 to 2022-03-07\n",
      "Parsing articles from 2022-03-08 to 2022-03-18\n",
      "Parsing articles from 2022-03-19 to 2022-03-29\n",
      "Parsing articles from 2022-03-30 to 2022-04-04\n",
      "Finish\n",
      "14044\n"
     ]
    },
    {
     "data": {
      "text/plain": "     docid                                          url  \\\n0  1067960      https://lenta.ru/news/2021/04/01/sahar/   \n1  1067977   https://lenta.ru/news/2021/04/01/trillion/   \n2  1067979   https://lenta.ru/news/2021/04/01/business/   \n3  1067984     https://lenta.ru/news/2021/04/01/kredit/   \n4  1067989  https://lenta.ru/news/2021/04/01/finansist/   \n\n                                               title    modified  lastmodtime  \\\n0   В российские магазины перестали поставлять сахар  1617236100   1617279786   \n1  Байден представил план по спасению экономики н...  1617246403   1617246403   \n2                   Бизнес в России увеличил прибыль  1617248460   1617252223   \n3  Россиянам назвали способ исправить плохую кред...  1617253029   1617253029   \n4  Финансист предостерег россиян от покупки подде...  1617255774   1617255775   \n\n   type  domain  status  part  bloc      tags  \\\n0     1       1       0     0     4     [198]   \n1     1       1       0     0     4       [7]   \n2     1       1       0     0     4       [9]   \n3     1       1       0     0     4  [10, 11]   \n4     1       1       0     0     4        []   \n\n                                           image_url     pubdate  \\\n0  https://icdn.lenta.ru/images/2021/04/01/03/202...  1617236100   \n1  https://icdn.lenta.ru/images/2021/04/01/06/202...  1617246403   \n2  https://icdn.lenta.ru/images/2021/04/01/06/202...  1617248460   \n3  https://icdn.lenta.ru/images/2021/04/01/07/202...  1617253029   \n4  https://icdn.lenta.ru/images/2021/04/01/08/202...  1617255774   \n\n                                                text  \\\n0  Фото: Виталий Аньков / РИА Новости Илья Соболе...   \n1  Фото: Reuters Милана Микаилова Президент США Д...   \n2  Фото: Евгений Биятов / РИА Новости Милана Мика...   \n3  Фото: Владимир Трефилов / РИА Новости Илья Соб...   \n4  Фото: Globallookpress.com Лика Миргородская Фи...   \n\n                                            rightcol  \\\n0  Заводы приостановили продажи продукта торговым...   \n1  Президент США отметил, что это крупнейшее влож...   \n2  В январе 2021 года обороты российских предприя...   \n3    Для этого следует завести новую кредитную карту   \n4  Он призвал конвертировать валюту безналичным с...   \n\n                                             snippet  \n0  Фото: Виталий Аньков / РИА Новости Илья ... им...  \n1  Фото: Reuters Милана Микаилова Президент ... э...  \n2  Фото: Евгений Биятов / РИА Новости ... больше,...  \n3  Фото: Владимир Трефилов / РИА Новости ... испр...  \n4  Фото: Globallookpress.com Лика ... россиян от ...  ",
      "text/html": "<div>\n<style scoped>\n    .dataframe tbody tr th:only-of-type {\n        vertical-align: middle;\n    }\n\n    .dataframe tbody tr th {\n        vertical-align: top;\n    }\n\n    .dataframe thead th {\n        text-align: right;\n    }\n</style>\n<table border=\"1\" class=\"dataframe\">\n  <thead>\n    <tr style=\"text-align: right;\">\n      <th></th>\n      <th>docid</th>\n      <th>url</th>\n      <th>title</th>\n      <th>modified</th>\n      <th>lastmodtime</th>\n      <th>type</th>\n      <th>domain</th>\n      <th>status</th>\n      <th>part</th>\n      <th>bloc</th>\n      <th>tags</th>\n      <th>image_url</th>\n      <th>pubdate</th>\n      <th>text</th>\n      <th>rightcol</th>\n      <th>snippet</th>\n    </tr>\n  </thead>\n  <tbody>\n    <tr>\n      <th>0</th>\n      <td>1067960</td>\n      <td>https://lenta.ru/news/2021/04/01/sahar/</td>\n      <td>В российские магазины перестали поставлять сахар</td>\n      <td>1617236100</td>\n      <td>1617279786</td>\n      <td>1</td>\n      <td>1</td>\n      <td>0</td>\n      <td>0</td>\n      <td>4</td>\n      <td>[198]</td>\n      <td>https://icdn.lenta.ru/images/2021/04/01/03/202...</td>\n      <td>1617236100</td>\n      <td>Фото: Виталий Аньков / РИА Новости Илья Соболе...</td>\n      <td>Заводы приостановили продажи продукта торговым...</td>\n      <td>Фото: Виталий Аньков / РИА Новости Илья ... им...</td>\n    </tr>\n    <tr>\n      <th>1</th>\n      <td>1067977</td>\n      <td>https://lenta.ru/news/2021/04/01/trillion/</td>\n      <td>Байден представил план по спасению экономики н...</td>\n      <td>1617246403</td>\n      <td>1617246403</td>\n      <td>1</td>\n      <td>1</td>\n      <td>0</td>\n      <td>0</td>\n      <td>4</td>\n      <td>[7]</td>\n      <td>https://icdn.lenta.ru/images/2021/04/01/06/202...</td>\n      <td>1617246403</td>\n      <td>Фото: Reuters Милана Микаилова Президент США Д...</td>\n      <td>Президент США отметил, что это крупнейшее влож...</td>\n      <td>Фото: Reuters Милана Микаилова Президент ... э...</td>\n    </tr>\n    <tr>\n      <th>2</th>\n      <td>1067979</td>\n      <td>https://lenta.ru/news/2021/04/01/business/</td>\n      <td>Бизнес в России увеличил прибыль</td>\n      <td>1617248460</td>\n      <td>1617252223</td>\n      <td>1</td>\n      <td>1</td>\n      <td>0</td>\n      <td>0</td>\n      <td>4</td>\n      <td>[9]</td>\n      <td>https://icdn.lenta.ru/images/2021/04/01/06/202...</td>\n      <td>1617248460</td>\n      <td>Фото: Евгений Биятов / РИА Новости Милана Мика...</td>\n      <td>В январе 2021 года обороты российских предприя...</td>\n      <td>Фото: Евгений Биятов / РИА Новости ... больше,...</td>\n    </tr>\n    <tr>\n      <th>3</th>\n      <td>1067984</td>\n      <td>https://lenta.ru/news/2021/04/01/kredit/</td>\n      <td>Россиянам назвали способ исправить плохую кред...</td>\n      <td>1617253029</td>\n      <td>1617253029</td>\n      <td>1</td>\n      <td>1</td>\n      <td>0</td>\n      <td>0</td>\n      <td>4</td>\n      <td>[10, 11]</td>\n      <td>https://icdn.lenta.ru/images/2021/04/01/07/202...</td>\n      <td>1617253029</td>\n      <td>Фото: Владимир Трефилов / РИА Новости Илья Соб...</td>\n      <td>Для этого следует завести новую кредитную карту</td>\n      <td>Фото: Владимир Трефилов / РИА Новости ... испр...</td>\n    </tr>\n    <tr>\n      <th>4</th>\n      <td>1067989</td>\n      <td>https://lenta.ru/news/2021/04/01/finansist/</td>\n      <td>Финансист предостерег россиян от покупки подде...</td>\n      <td>1617255774</td>\n      <td>1617255775</td>\n      <td>1</td>\n      <td>1</td>\n      <td>0</td>\n      <td>0</td>\n      <td>4</td>\n      <td>[]</td>\n      <td>https://icdn.lenta.ru/images/2021/04/01/08/202...</td>\n      <td>1617255774</td>\n      <td>Фото: Globallookpress.com Лика Миргородская Фи...</td>\n      <td>Он призвал конвертировать валюту безналичным с...</td>\n      <td>Фото: Globallookpress.com Лика ... россиян от ...</td>\n    </tr>\n  </tbody>\n</table>\n</div>"
     },
     "execution_count": 16,
     "metadata": {},
     "output_type": "execute_result"
    }
   ],
   "source": [
    "parser = lentaRu_parser()\n",
    "tbl = parser.get_articles(param_dict=param_dict,\n",
    "                         time_step = 10,\n",
    "                         save_every = 5, \n",
    "                         save_excel = True)\n",
    "print(len(tbl.index))\n",
    "tbl.head()"
   ],
   "metadata": {
    "collapsed": false
   },
   "id": "49c7687b1a452ff0",
   "execution_count": 16
  },
  {
   "cell_type": "code",
   "outputs": [
    {
     "data": {
      "text/plain": "   Unnamed: 0    docid                                          url  \\\n0           0  1067960      https://lenta.ru/news/2021/04/01/sahar/   \n1           1  1067977   https://lenta.ru/news/2021/04/01/trillion/   \n2           2  1067979   https://lenta.ru/news/2021/04/01/business/   \n3           3  1067984     https://lenta.ru/news/2021/04/01/kredit/   \n4           4  1067989  https://lenta.ru/news/2021/04/01/finansist/   \n\n                                               title    modified  lastmodtime  \\\n0   В российские магазины перестали поставлять сахар  1617236100   1617279786   \n1  Байден представил план по спасению экономики н...  1617246403   1617246403   \n2                   Бизнес в России увеличил прибыль  1617248460   1617252223   \n3  Россиянам назвали способ исправить плохую кред...  1617253029   1617253029   \n4  Финансист предостерег россиян от покупки подде...  1617255774   1617255775   \n\n   type  domain  status  part  bloc      tags  \\\n0     1       1       0     0     4     [198]   \n1     1       1       0     0     4       [7]   \n2     1       1       0     0     4       [9]   \n3     1       1       0     0     4  [10, 11]   \n4     1       1       0     0     4        []   \n\n                                           image_url     pubdate  \\\n0  https://icdn.lenta.ru/images/2021/04/01/03/202...  1617236100   \n1  https://icdn.lenta.ru/images/2021/04/01/06/202...  1617246403   \n2  https://icdn.lenta.ru/images/2021/04/01/06/202...  1617248460   \n3  https://icdn.lenta.ru/images/2021/04/01/07/202...  1617253029   \n4  https://icdn.lenta.ru/images/2021/04/01/08/202...  1617255774   \n\n                                                text  \\\n0  Фото: Виталий Аньков / РИА Новости Илья Соболе...   \n1  Фото: Reuters Милана Микаилова Президент США Д...   \n2  Фото: Евгений Биятов / РИА Новости Милана Мика...   \n3  Фото: Владимир Трефилов / РИА Новости Илья Соб...   \n4  Фото: Globallookpress.com Лика Миргородская Фи...   \n\n                                            rightcol  \\\n0  Заводы приостановили продажи продукта торговым...   \n1  Президент США отметил, что это крупнейшее влож...   \n2  В январе 2021 года обороты российских предприя...   \n3    Для этого следует завести новую кредитную карту   \n4  Он призвал конвертировать валюту безналичным с...   \n\n                                             snippet  \n0  Фото: Виталий Аньков / РИА Новости Илья ... им...  \n1  Фото: Reuters Милана Микаилова Президент ... э...  \n2  Фото: Евгений Биятов / РИА Новости ... больше,...  \n3  Фото: Владимир Трефилов / РИА Новости ... испр...  \n4  Фото: Globallookpress.com Лика ... россиян от ...  ",
      "text/html": "<div>\n<style scoped>\n    .dataframe tbody tr th:only-of-type {\n        vertical-align: middle;\n    }\n\n    .dataframe tbody tr th {\n        vertical-align: top;\n    }\n\n    .dataframe thead th {\n        text-align: right;\n    }\n</style>\n<table border=\"1\" class=\"dataframe\">\n  <thead>\n    <tr style=\"text-align: right;\">\n      <th></th>\n      <th>Unnamed: 0</th>\n      <th>docid</th>\n      <th>url</th>\n      <th>title</th>\n      <th>modified</th>\n      <th>lastmodtime</th>\n      <th>type</th>\n      <th>domain</th>\n      <th>status</th>\n      <th>part</th>\n      <th>bloc</th>\n      <th>tags</th>\n      <th>image_url</th>\n      <th>pubdate</th>\n      <th>text</th>\n      <th>rightcol</th>\n      <th>snippet</th>\n    </tr>\n  </thead>\n  <tbody>\n    <tr>\n      <th>0</th>\n      <td>0</td>\n      <td>1067960</td>\n      <td>https://lenta.ru/news/2021/04/01/sahar/</td>\n      <td>В российские магазины перестали поставлять сахар</td>\n      <td>1617236100</td>\n      <td>1617279786</td>\n      <td>1</td>\n      <td>1</td>\n      <td>0</td>\n      <td>0</td>\n      <td>4</td>\n      <td>[198]</td>\n      <td>https://icdn.lenta.ru/images/2021/04/01/03/202...</td>\n      <td>1617236100</td>\n      <td>Фото: Виталий Аньков / РИА Новости Илья Соболе...</td>\n      <td>Заводы приостановили продажи продукта торговым...</td>\n      <td>Фото: Виталий Аньков / РИА Новости Илья ... им...</td>\n    </tr>\n    <tr>\n      <th>1</th>\n      <td>1</td>\n      <td>1067977</td>\n      <td>https://lenta.ru/news/2021/04/01/trillion/</td>\n      <td>Байден представил план по спасению экономики н...</td>\n      <td>1617246403</td>\n      <td>1617246403</td>\n      <td>1</td>\n      <td>1</td>\n      <td>0</td>\n      <td>0</td>\n      <td>4</td>\n      <td>[7]</td>\n      <td>https://icdn.lenta.ru/images/2021/04/01/06/202...</td>\n      <td>1617246403</td>\n      <td>Фото: Reuters Милана Микаилова Президент США Д...</td>\n      <td>Президент США отметил, что это крупнейшее влож...</td>\n      <td>Фото: Reuters Милана Микаилова Президент ... э...</td>\n    </tr>\n    <tr>\n      <th>2</th>\n      <td>2</td>\n      <td>1067979</td>\n      <td>https://lenta.ru/news/2021/04/01/business/</td>\n      <td>Бизнес в России увеличил прибыль</td>\n      <td>1617248460</td>\n      <td>1617252223</td>\n      <td>1</td>\n      <td>1</td>\n      <td>0</td>\n      <td>0</td>\n      <td>4</td>\n      <td>[9]</td>\n      <td>https://icdn.lenta.ru/images/2021/04/01/06/202...</td>\n      <td>1617248460</td>\n      <td>Фото: Евгений Биятов / РИА Новости Милана Мика...</td>\n      <td>В январе 2021 года обороты российских предприя...</td>\n      <td>Фото: Евгений Биятов / РИА Новости ... больше,...</td>\n    </tr>\n    <tr>\n      <th>3</th>\n      <td>3</td>\n      <td>1067984</td>\n      <td>https://lenta.ru/news/2021/04/01/kredit/</td>\n      <td>Россиянам назвали способ исправить плохую кред...</td>\n      <td>1617253029</td>\n      <td>1617253029</td>\n      <td>1</td>\n      <td>1</td>\n      <td>0</td>\n      <td>0</td>\n      <td>4</td>\n      <td>[10, 11]</td>\n      <td>https://icdn.lenta.ru/images/2021/04/01/07/202...</td>\n      <td>1617253029</td>\n      <td>Фото: Владимир Трефилов / РИА Новости Илья Соб...</td>\n      <td>Для этого следует завести новую кредитную карту</td>\n      <td>Фото: Владимир Трефилов / РИА Новости ... испр...</td>\n    </tr>\n    <tr>\n      <th>4</th>\n      <td>4</td>\n      <td>1067989</td>\n      <td>https://lenta.ru/news/2021/04/01/finansist/</td>\n      <td>Финансист предостерег россиян от покупки подде...</td>\n      <td>1617255774</td>\n      <td>1617255775</td>\n      <td>1</td>\n      <td>1</td>\n      <td>0</td>\n      <td>0</td>\n      <td>4</td>\n      <td>[]</td>\n      <td>https://icdn.lenta.ru/images/2021/04/01/08/202...</td>\n      <td>1617255774</td>\n      <td>Фото: Globallookpress.com Лика Миргородская Фи...</td>\n      <td>Он призвал конвертировать валюту безналичным с...</td>\n      <td>Фото: Globallookpress.com Лика ... россиян от ...</td>\n    </tr>\n  </tbody>\n</table>\n</div>"
     },
     "execution_count": 18,
     "metadata": {},
     "output_type": "execute_result"
    }
   ],
   "source": [
    "df = pd.concat([\n",
    "    pd.read_excel('lenta2021_2022.xlsx'),\n",
    "    pd.read_excel('lenta2022_2023.xlsx'),\n",
    "    pd.read_excel('lenta2023_2024.xlsx')\n",
    "], ignore_index=True)\n",
    "df.head()"
   ],
   "metadata": {
    "collapsed": false,
    "ExecuteTime": {
     "end_time": "2024-04-07T07:38:14.640614Z",
     "start_time": "2024-04-07T07:38:08.177146Z"
    }
   },
   "id": "10557530b6929bbf",
   "execution_count": 18
  },
  {
   "cell_type": "code",
   "outputs": [
    {
     "name": "stdout",
     "output_type": "stream",
     "text": [
      "<class 'pandas.core.frame.DataFrame'>\n",
      "RangeIndex: 39948 entries, 0 to 39947\n",
      "Data columns (total 17 columns):\n",
      " #   Column       Non-Null Count  Dtype \n",
      "---  ------       --------------  ----- \n",
      " 0   Unnamed: 0   39948 non-null  int64 \n",
      " 1   docid        39948 non-null  int64 \n",
      " 2   url          39948 non-null  object\n",
      " 3   title        39948 non-null  object\n",
      " 4   modified     39948 non-null  int64 \n",
      " 5   lastmodtime  39948 non-null  int64 \n",
      " 6   type         39948 non-null  int64 \n",
      " 7   domain       39948 non-null  int64 \n",
      " 8   status       39948 non-null  int64 \n",
      " 9   part         39948 non-null  int64 \n",
      " 10  bloc         39948 non-null  int64 \n",
      " 11  tags         39948 non-null  object\n",
      " 12  image_url    39878 non-null  object\n",
      " 13  pubdate      39948 non-null  int64 \n",
      " 14  text         39889 non-null  object\n",
      " 15  rightcol     39948 non-null  object\n",
      " 16  snippet      39874 non-null  object\n",
      "dtypes: int64(10), object(7)\n",
      "memory usage: 5.2+ MB\n"
     ]
    }
   ],
   "source": [
    "df.info()"
   ],
   "metadata": {
    "collapsed": false,
    "ExecuteTime": {
     "end_time": "2024-04-07T07:38:17.487402Z",
     "start_time": "2024-04-07T07:38:17.439450Z"
    }
   },
   "id": "8a7410160ba13319",
   "execution_count": 19
  },
  {
   "cell_type": "code",
   "outputs": [],
   "source": [
    "df.to_csv('lenta_2021_2024.csv')"
   ],
   "metadata": {
    "collapsed": false,
    "ExecuteTime": {
     "end_time": "2024-04-07T07:38:52.592427Z",
     "start_time": "2024-04-07T07:38:51.050038Z"
    }
   },
   "id": "73804c2e607eef08",
   "execution_count": 20
  },
  {
   "cell_type": "code",
   "outputs": [],
   "source": [],
   "metadata": {
    "collapsed": false
   },
   "id": "98d8023f678d082f"
  }
 ],
 "metadata": {
  "kernelspec": {
   "display_name": "Python 3",
   "language": "python",
   "name": "python3"
  },
  "language_info": {
   "codemirror_mode": {
    "name": "ipython",
    "version": 2
   },
   "file_extension": ".py",
   "mimetype": "text/x-python",
   "name": "python",
   "nbconvert_exporter": "python",
   "pygments_lexer": "ipython2",
   "version": "2.7.6"
  }
 },
 "nbformat": 4,
 "nbformat_minor": 5
}
